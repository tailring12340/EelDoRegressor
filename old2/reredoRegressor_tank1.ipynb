{
 "cells": [
  {
   "attachments": {},
   "cell_type": "markdown",
   "metadata": {},
   "source": [
    "라이브러리"
   ]
  },
  {
   "cell_type": "code",
   "execution_count": 1,
   "metadata": {},
   "outputs": [],
   "source": [
    "import pandas as pd\n",
    "import numpy as np\n",
    "from keras.utils import *\n",
    "from sklearn.preprocessing import *\n",
    "from keras import backend as K\n",
    "from keras.models import load_model\n",
    "from keras.layers import LSTM, Dense\n",
    "from keras.models import Sequential\n",
    "import matplotlib.pyplot as plt\n",
    "from keras.metrics import mean_squared_error\n",
    "from sklearn.metrics import r2_score\n",
    "import matplotlib.font_manager as fm\n",
    "from matplotlib.dates import DateFormatter\n",
    "from keras.callbacks import ModelCheckpoint, EarlyStopping, ReduceLROnPlateau\n",
    "\n",
    "# 모델명(= 파일명) 설정\n",
    "model_name = 'reredoRegressor_tank1'"
   ]
  },
  {
   "cell_type": "code",
   "execution_count": 2,
   "metadata": {},
   "outputs": [],
   "source": [
    "# r_squared 평가 함수\n",
    "def r_squared(y_true, y_pred):\n",
    "    ss_res = K.sum(K.square(y_true - y_pred))\n",
    "    ss_tot = K.sum(K.square(y_true - K.mean(y_true)))\n",
    "    return (1 - ss_res/(ss_tot + K.epsilon()))\n",
    "    "
   ]
  },
  {
   "attachments": {},
   "cell_type": "markdown",
   "metadata": {},
   "source": [
    "데이터셋 설정"
   ]
  },
  {
   "cell_type": "code",
   "execution_count": 3,
   "metadata": {},
   "outputs": [],
   "source": [
    "#자포니카 훈련 데이터\n",
    "japonica_training_food_supply_tb = pd.read_csv(\"E:/kimwoojae/Research/DO Regressor/dataset\\japonica_training_food_supply_tb.csv\")\n",
    "japonica_training_sensor_val_tb = pd.read_csv(\"E:/kimwoojae/Research/DO Regressor/dataset/japonica_training_sensor_val_tb.csv\")\n",
    "\n",
    "#자포니카 검증 데이터\n",
    "japonica_validation_food_supply_tb = pd.read_csv(\"E:/kimwoojae/Research/DO Regressor/dataset/japonica_validation_food_supply_tb.csv\")\n",
    "japonica_validation_sensor_val_tb = pd.read_csv(\"E:/kimwoojae/Research/DO Regressor/dataset/japonica_validation_sensor_val_tb.csv\")\n",
    "\n",
    "#자포니카 사료 공급 데이터 null제거\n",
    "japonica_training_food_supply_tb = japonica_training_food_supply_tb[japonica_training_food_supply_tb['feed_quantity'].notnull()]\n",
    "japonica_validation_food_supply_tb = japonica_validation_food_supply_tb[japonica_validation_food_supply_tb['feed_quantity'].notnull()]\n",
    "\n",
    "#자포니카 훈련 데이터 시계열 변환\n",
    "japonica_training_sensor_val_tb[\"mea_dt\"] = japonica_training_sensor_val_tb[\"mea_dt\"].apply(str)\n",
    "japonica_training_sensor_val_tb[\"mea_dt\"] = japonica_training_sensor_val_tb[\"mea_dt\"].str.slice(start=0, stop=16)\n",
    "japonica_training_food_supply_tb['feed_dt'] = pd.to_datetime(japonica_training_food_supply_tb['feed_dt'], format='%Y%m%d%H%M', errors='raise')\n",
    "japonica_training_food_supply_tb[\"feed_dt\"] = japonica_training_food_supply_tb[\"feed_dt\"].apply(str)\n",
    "japonica_training_food_supply_tb[\"feed_dt\"] = japonica_training_food_supply_tb[\"feed_dt\"].str.slice(start=0, stop=16)\n",
    "\n",
    "#자포니카 검증 데이터 시계열 변환\n",
    "japonica_validation_sensor_val_tb[\"mea_dt\"] = japonica_validation_sensor_val_tb[\"mea_dt\"].apply(str)\n",
    "japonica_validation_sensor_val_tb[\"mea_dt\"] = japonica_validation_sensor_val_tb[\"mea_dt\"].str.slice(start=0, stop=16)\n",
    "japonica_validation_food_supply_tb['feed_dt'] = pd.to_datetime(japonica_validation_food_supply_tb['feed_dt'], format='%Y%m%d%H%M', errors='raise')\n",
    "japonica_validation_food_supply_tb[\"feed_dt\"] = japonica_validation_food_supply_tb[\"feed_dt\"].apply(str)\n",
    "japonica_validation_food_supply_tb[\"feed_dt\"] = japonica_validation_food_supply_tb[\"feed_dt\"].str.slice(start=0, stop=16)\n",
    "\n",
    "# 자포니카 훈련 데이터 및 시계열 데이터 병합\n",
    "japonica_training = pd.merge(left = japonica_training_sensor_val_tb, right = japonica_training_food_supply_tb, how = \"left\", left_on = [\"farm_id\",\"tank_id\", \"mea_dt\"], right_on = [\"farm_id\",\"tank_id\", \"feed_dt\"])\n",
    "japonica_validation = pd.merge(left = japonica_validation_sensor_val_tb, right = japonica_validation_food_supply_tb, how = \"left\", left_on = [\"farm_id\",\"tank_id\", \"mea_dt\"], right_on = [\"farm_id\",\"tank_id\", \"feed_dt\"])\n",
    "\n",
    "#자포니카 훈련 및 검증 데이터 시계열 변환\n",
    "japonica_training['mea_dt'] = pd.to_datetime(japonica_training['mea_dt'], format='%Y-%m-%d %H:%M', errors='raise')\n",
    "japonica_validation['mea_dt'] = pd.to_datetime(japonica_validation['mea_dt'], format='%Y-%m-%d %H:%M', errors='raise')"
   ]
  },
  {
   "cell_type": "code",
   "execution_count": 6,
   "metadata": {},
   "outputs": [],
   "source": [
    "# 자포니카 검증 데이터의 한 개 탱크\n",
    "tank = 1\n",
    "japonica_training_tank = japonica_training[japonica_training['tank_id']==tank]\n",
    "japonica_validation_tank = japonica_validation[japonica_validation['tank_id']==tank]"
   ]
  },
  {
   "cell_type": "code",
   "execution_count": 7,
   "metadata": {},
   "outputs": [],
   "source": [
    "# 사용할 features 선택\n",
    "feature_origin = ['tank_id','mea_dt', 'do_mg','do_temp', 'ph', 'orp', 'co2_mg', 'air_oxy', 'light_ma', 'feed_quantity', 'water_quantity']\n",
    "japonica_training_features = japonica_training_tank[feature_origin]\n",
    "japonica_validation_features = japonica_validation_tank[feature_origin]\n",
    "\n",
    "# nan 값 처리 (먹이를 주지 않았을 경우는 급여량이 0이니까)\n",
    "japonica_training_features = japonica_training_features.fillna(0)\n",
    "japonica_validation_features = japonica_validation_features.fillna(0)"
   ]
  },
  {
   "cell_type": "code",
   "execution_count": 8,
   "metadata": {},
   "outputs": [],
   "source": [
    "# 시계열 데이터의 개수 확인\n",
    "training_counts = japonica_training_features.groupby(japonica_training_features['mea_dt'].dt.date).size()\n",
    "#validation_counts = japonica_validation_features.groupby(japonica_validation_features.index.mea_dt).size()\n",
    "\n",
    "# 개수가 1440이 아닌 시계열 삭제\n",
    "to_delete = training_counts[training_counts != 1440].index\n",
    "japonica_training_data = japonica_training_features[~japonica_training_features['mea_dt'].dt.date.isin(to_delete)]\n",
    "\n",
    "#to_delete = validation_counts[validation_counts != 1440].index\n",
    "#japonica_validation_data = japonica_validation_features[~japonica_validation_features.index.floor('D').isin(to_delete)]"
   ]
  },
  {
   "cell_type": "code",
   "execution_count": 9,
   "metadata": {},
   "outputs": [],
   "source": [
    "japonica_validation_data = japonica_validation_features"
   ]
  },
  {
   "cell_type": "code",
   "execution_count": 10,
   "metadata": {},
   "outputs": [],
   "source": [
    "# 날짜 데이터를 인덱스로 전환\n",
    "japonica_training_data.set_index('mea_dt', inplace=True)\n",
    "japonica_validation_data.set_index('mea_dt', inplace=True)\n",
    "\n",
    "# 인덱스 순으로 데이터를 정렬\n",
    "japonica_training_data = japonica_training_data.sort_index()\n",
    "japonica_validation_data = japonica_validation_data.sort_index()\n",
    "\n",
    "# 8월 1달간 데이터만 추출\n",
    "japonica_training_data = japonica_training_data.loc['2021-07-21 00:00':'2021-09-10 23:59']\n",
    "japonica_validation_data = japonica_validation_data.loc['2021-07-21 00:00':'2021-09-10 23:59']"
   ]
  },
  {
   "cell_type": "code",
   "execution_count": 11,
   "metadata": {},
   "outputs": [],
   "source": [
    "japonica_training_features_X = japonica_training_data[['do_mg', 'do_temp', 'ph', 'orp', 'co2_mg', 'air_oxy', 'light_ma', 'feed_quantity', 'water_quantity']]\n",
    "japonica_training_features_y = japonica_training_data[['do_mg']]\n",
    "\n",
    "japonica_validation_features_X = japonica_validation_data[['do_mg', 'do_temp', 'ph', 'orp', 'co2_mg', 'air_oxy', 'light_ma', 'feed_quantity', 'water_quantity']]\n",
    "japonica_validation_features_y = japonica_validation_data[['do_mg']]"
   ]
  },
  {
   "cell_type": "code",
   "execution_count": 12,
   "metadata": {},
   "outputs": [],
   "source": [
    "japonica_training_features_X_chunks = []\n",
    "japonica_training_features_y_chunks = []\n",
    "\n",
    "for i in range(0, len(japonica_training_features_X) - 179):\n",
    "    japonica_training_features_X_chunks.append(np.array(japonica_training_features_X.iloc[i:i+180].values, dtype=np.float64))\n",
    "japonica_training_features_X_chunks = np.array(japonica_training_features_X_chunks, dtype=np.float64)\n",
    "\n",
    "for i in range(0, len(japonica_training_features_y) - 179):\n",
    "    japonica_training_features_y_chunks.append(np.array(japonica_training_features_y.iloc[i:i+180].values, dtype=np.float64))\n",
    "japonica_training_features_y_chunks = np.array(japonica_training_features_y_chunks, dtype=np.float64)\n"
   ]
  },
  {
   "cell_type": "code",
   "execution_count": 13,
   "metadata": {},
   "outputs": [],
   "source": [
    "japonica_validation_features_X_chunks = []\n",
    "japonica_validation_features_y_chunks = []\n",
    "\n",
    "\n",
    "for i in range(0, len(japonica_validation_features_X) - 179):\n",
    "    japonica_validation_features_X_chunks.append(np.array(japonica_validation_features_X.iloc[i:i+180].values, dtype=np.float64))\n",
    "japonica_validation_features_X_chunks = np.array(japonica_validation_features_X_chunks, dtype=np.float64)\n",
    "\n",
    "for i in range(0, len(japonica_validation_features_y) - 179):\n",
    "    japonica_validation_features_y_chunks.append(np.array(japonica_validation_features_y.iloc[i:i+180].values, dtype=np.float64))\n",
    "japonica_validation_features_y_chunks = np.array(japonica_validation_features_y_chunks, dtype=np.float64)"
   ]
  },
  {
   "cell_type": "code",
   "execution_count": 14,
   "metadata": {},
   "outputs": [
    {
     "name": "stdout",
     "output_type": "stream",
     "text": [
      "nCar: 64621 nVar: 9\n",
      "nCar: 64621 nVar: 180\n",
      "nCar: 74120 nVar: 9\n",
      "nCar: 74120 nVar: 180\n"
     ]
    }
   ],
   "source": [
    "# shape확인\n",
    "nCar = japonica_training_features_X_chunks.shape[0] # 데이터 개수\n",
    "nVar = japonica_training_features_X_chunks.shape[2] # 변수 개수\n",
    "print('nCar: %d' % nCar, 'nVar: %d' % nVar )\n",
    "\n",
    "nCar = japonica_training_features_y_chunks.shape[0] # 데이터 개수\n",
    "nVar = japonica_training_features_y_chunks.shape[1] # 변수 개수\n",
    "print('nCar: %d' % nCar, 'nVar: %d' % nVar )\n",
    "\n",
    "nCar = japonica_validation_features_X_chunks.shape[0] # 데이터 개수\n",
    "nVar = japonica_validation_features_X_chunks.shape[2] # 변수 개수\n",
    "print('nCar: %d' % nCar, 'nVar: %d' % nVar )\n",
    "\n",
    "nCar = japonica_validation_features_y_chunks.shape[0] # 데이터 개수\n",
    "nVar = japonica_validation_features_y_chunks.shape[1] # 변수 개수\n",
    "print('nCar: %d' % nCar, 'nVar: %d' % nVar )"
   ]
  },
  {
   "cell_type": "code",
   "execution_count": 15,
   "metadata": {},
   "outputs": [],
   "source": [
    "japonica_training_features_X_chunks_crop = japonica_training_features_X_chunks[:-180]\n",
    "japonica_training_features_y_chunks_crop = japonica_training_features_y_chunks[180:]\n",
    "\n",
    "japonica_validation_features_X_chunks_crop = japonica_validation_features_X_chunks[:-180]\n",
    "japonica_validation_features_y_chunks_crop = japonica_validation_features_y_chunks[180:]"
   ]
  },
  {
   "cell_type": "code",
   "execution_count": 16,
   "metadata": {},
   "outputs": [
    {
     "name": "stdout",
     "output_type": "stream",
     "text": [
      "nCar: 64441 nVar: 9\n",
      "nCar: 64441 nVar: 180\n",
      "nCar: 73940 nVar: 9\n",
      "nCar: 73940 nVar: 180\n"
     ]
    }
   ],
   "source": [
    "nCar = japonica_training_features_X_chunks_crop.shape[0] # 데이터 개수\n",
    "nVar = japonica_training_features_X_chunks_crop.shape[2] # 변수 개수\n",
    "print('nCar: %d' % nCar, 'nVar: %d' % nVar )\n",
    "\n",
    "nCar = japonica_training_features_y_chunks_crop.shape[0] # 데이터 개수\n",
    "nVar = japonica_training_features_y_chunks_crop.shape[1] # 변수 개수\n",
    "print('nCar: %d' % nCar, 'nVar: %d' % nVar )\n",
    "\n",
    "nCar = japonica_validation_features_X_chunks_crop.shape[0] # 데이터 개수\n",
    "nVar = japonica_validation_features_X_chunks_crop.shape[2] # 변수 개수\n",
    "print('nCar: %d' % nCar, 'nVar: %d' % nVar )\n",
    "\n",
    "nCar = japonica_validation_features_y_chunks_crop.shape[0] # 데이터 개수\n",
    "nVar = japonica_validation_features_y_chunks_crop.shape[1] # 변수 개수\n",
    "print('nCar: %d' % nCar, 'nVar: %d' % nVar )"
   ]
  },
  {
   "attachments": {},
   "cell_type": "markdown",
   "metadata": {},
   "source": [
    "LSTM 모델 학습 (학습시에만 사용, 그외에는 불필요)"
   ]
  },
  {
   "cell_type": "code",
   "execution_count": null,
   "metadata": {},
   "outputs": [],
   "source": [
    "# LSTM 모델 생성\n",
    "model = Sequential()\n",
    "# 결과값이 128개 -> 64개 -> 32개 -> 1개(회귀)\n",
    "# input_shape=(timesteps, input_dim)\n",
    "# timesteps : 시계열 데이터의 시간 스텝 수.\n",
    "#       예를 들어, 1분 단위로 측정한 센서 데이터가 있다면 timesteps는 60.\n",
    "# input_dim : 특성(feature)의 수.\n",
    "model.add(LSTM(128, input_shape=(180, 9), return_sequences=True))\n",
    "model.add(LSTM(64, return_sequences=True))\n",
    "model.add(LSTM(32))\n",
    "model.add(Dense(180, activation='linear'))\n",
    " \n",
    "model.summary()\n",
    "\n",
    "# mae와 r_squared 평가함수 추가.\n",
    "model.compile(optimizer='adam', loss='mse', metrics=['mae', r_squared])\n",
    "\n",
    "\n",
    "checkpoint = ModelCheckpoint(model_name + '_best.h5', monitor='val_loss', save_best_only=True)\n",
    "early_stop = EarlyStopping(monitor='val_loss', patience=5, verbose=1)\n",
    "reduce_lr = ReduceLROnPlateau(monitor='val_loss', factor=0.1, patience=3, verbose=1)\n",
    "\n",
    "# ModelCheckpoint : 검증 손실이 낮아진 경우에 최적의 모델을 저장\n",
    "# EarlyStopping : 검증 손실이 일정 기간동안 향상되지 않으면 학습을 조기 종료\n",
    "# ReduceLROnPlateau : 검증 손실이 개선되지 않으면 학습률을 조정하는 등의 동작 수행.\n",
    "\n",
    "\n",
    "hist = model.fit(japonica_training_features_X_chunks_crop, japonica_training_features_y_chunks_crop, epochs = 200, batch_size = 32, validation_data=(japonica_validation_features_X_chunks_crop, japonica_validation_features_y_chunks_crop), callbacks=[checkpoint, early_stop, reduce_lr])\n",
    "model.save(model_name+'.h5')"
   ]
  },
  {
   "attachments": {},
   "cell_type": "markdown",
   "metadata": {},
   "source": [
    "모델 평가"
   ]
  },
  {
   "cell_type": "code",
   "execution_count": null,
   "metadata": {},
   "outputs": [],
   "source": [
    "import pandas as pd\n",
    "import numpy as np\n",
    "from keras.utils import *\n",
    "from sklearn.preprocessing import *\n",
    "from keras import backend as K\n",
    "from keras.models import load_model\n",
    "from keras.layers import LSTM, Dense\n",
    "from keras.models import Sequential\n",
    "import matplotlib.pyplot as plt\n",
    "from keras.metrics import mean_squared_error\n",
    "from sklearn.metrics import r2_score\n",
    "import matplotlib.font_manager as fm\n",
    "from matplotlib.dates import DateFormatter\n",
    "from keras.callbacks import ModelCheckpoint, EarlyStopping, ReduceLROnPlateau\n",
    "\n",
    "# 모델명(= 파일명) 설정\n",
    "model_name = 'doRegressor_tank1'"
   ]
  },
  {
   "cell_type": "code",
   "execution_count": null,
   "metadata": {},
   "outputs": [],
   "source": [
    "# r_squared 평가 함수\n",
    "def r_squared(y_true, y_pred):\n",
    "    ss_res = K.sum(K.square(y_true - y_pred))\n",
    "    ss_tot = K.sum(K.square(y_true - K.mean(y_true)))\n",
    "    return (1 - ss_res/(ss_tot + K.epsilon()))\n",
    "\n",
    "# 모델 평가 함수\n",
    "def grapeNEva(model, X_test_shape, y_test, y_test_shape):\n",
    "    X_pred = model.predict(X_test_shape)\n",
    "    X_pred = np.asarray(X_pred, dtype=np.float64)\n",
    "    X_pred = X_pred.reshape((-1))\n",
    "    print(len(X_pred))\n",
    "\n",
    "    # 그래프 생성\n",
    "    plt.figure(figsize=(15, 7))\n",
    "    plt.plot(y_test.index, y_test, label='actual')  # x축에 년월일, y축에 값\n",
    "    plt.plot(y_test.index, X_pred, color='red', label='prediction')  # x축에 년월일, y축에 시분\n",
    "    plt.xlabel('Day')\n",
    "    plt.ylabel('DO')\n",
    "    plt.title('day time')\n",
    "    plt.legend(['y_test','X_pred'])\n",
    "    plt.show()\n",
    "    \n",
    "    # 평가 생성\n",
    "    result = model.evaluate(X_test_shape, y_test_shape)\n",
    "    print(\"MSE // MAE // R-squared \", result)"
   ]
  },
  {
   "cell_type": "code",
   "execution_count": null,
   "metadata": {},
   "outputs": [],
   "source": [
    "# r_squared가 따로 만들어서 추가해준 함수기 때문에 불러올 때도 추가해서 불러야한다.\n",
    "model = load_model(model_name+'.h5', custom_objects={'r_squared': r_squared})"
   ]
  },
  {
   "cell_type": "code",
   "execution_count": null,
   "metadata": {},
   "outputs": [],
   "source": [
    "# 가중치를 통해 변수 중요도 획득\n",
    "weights = model.layers[0].get_weights()[0]\n",
    "print(weights)\n",
    "\n",
    "\n",
    "# 변수 중요도 시각화\n",
    "fig, ax = plt.subplots(figsize=(8, 4))\n",
    "ax.bar(range(9), weights[:, 0])\n",
    "ax.set_xticks(range(9))\n",
    "ax.set_xticklabels(['do_mg', 'do_temp', 'ph', 'orp', 'co2_mg', 'air_oxy', 'light_ma', 'feed_quantity', 'water_quantity'])\n",
    "ax.set_ylabel('Weight')\n",
    "ax.set_title('Variable Importance')\n",
    "plt.show()"
   ]
  },
  {
   "cell_type": "code",
   "execution_count": null,
   "metadata": {},
   "outputs": [],
   "source": [
    "tank = 1\n",
    "\n",
    "#자포니카 검증 데이터\n",
    "japonica_validation_food_supply_tb = pd.read_csv(\"E:/kimwoojae/Research/DO Regressor/dataset/japonica_validation_food_supply_tb.csv\")\n",
    "japonica_validation_sensor_val_tb = pd.read_csv(\"E:/kimwoojae/Research/DO Regressor/dataset/japonica_validation_sensor_val_tb.csv\")\n",
    "\n",
    "#자포니카 검증 데이터 시계열 변환\n",
    "japonica_validation_sensor_val_tb[\"mea_dt\"] = japonica_validation_sensor_val_tb[\"mea_dt\"].apply(str)\n",
    "japonica_validation_sensor_val_tb[\"mea_dt\"] = japonica_validation_sensor_val_tb[\"mea_dt\"].str.slice(start=0, stop=16)\n",
    "japonica_validation_food_supply_tb['feed_dt'] = pd.to_datetime(japonica_validation_food_supply_tb['feed_dt'], format='%Y%m%d%H%M', errors='raise')\n",
    "japonica_validation_food_supply_tb[\"feed_dt\"] = japonica_validation_food_supply_tb[\"feed_dt\"].apply(str)\n",
    "japonica_validation_food_supply_tb[\"feed_dt\"] = japonica_validation_food_supply_tb[\"feed_dt\"].str.slice(start=0, stop=16)\n",
    "\n",
    "japonica_validation = pd.merge(left = japonica_validation_sensor_val_tb, right = japonica_validation_food_supply_tb, how = \"left\", left_on = [\"farm_id\",\"tank_id\", \"mea_dt\"], right_on = [\"farm_id\",\"tank_id\", \"feed_dt\"])\n",
    "japonica_validation['mea_dt'] = pd.to_datetime(japonica_validation['mea_dt'], format='%Y-%m-%d %H:%M', errors='raise')\n",
    "japonica_validation_tank = japonica_validation[japonica_validation['tank_id']==tank]\n",
    "\n",
    "# 사용할 features 선택\n",
    "feature_origin = ['tank_id','mea_dt', 'do_mg','do_temp', 'ph', 'orp', 'co2_mg', 'air_oxy', 'light_ma', 'feed_quantity', 'water_quantity']\n",
    "japonica_validation_features = japonica_validation_tank[feature_origin]\n",
    "\n",
    "# nan 값 처리 (먹이를 주지 않았을 경우는 급여량이 0이니까)\n",
    "japonica_validation_features = japonica_validation_features.fillna(0)\n",
    "\n",
    "# 시계열 데이터의 개수 확인\n",
    "validation_counts = japonica_validation_features.groupby(japonica_validation_features['mea_dt'].dt.date).size()\n",
    "\n",
    "# 개수가 1440이 아닌 시계열 삭제\n",
    "to_delete = validation_counts[validation_counts != 1440].index\n",
    "japonica_validation_data = japonica_validation_features[~japonica_validation_features['mea_dt'].dt.date.isin(to_delete)]\n",
    "\n",
    "# 날짜 데이터를 인덱스로 전환\n",
    "japonica_validation_data.set_index('mea_dt', inplace=True)\n",
    "\n",
    "# 인덱스 순으로 데이터를 정렬\n",
    "japonica_validation_data = japonica_validation_data.sort_index()"
   ]
  },
  {
   "cell_type": "code",
   "execution_count": null,
   "metadata": {},
   "outputs": [],
   "source": [
    "# 한 동안의 데이터 추출\n",
    "one_day_data = japonica_validation_data.loc['2021-09-01 00:00':'2021-09-30 23:59']\n",
    "oneday_X_test = one_day_data[['do_mg', 'do_temp', 'ph', 'orp', 'co2_mg', 'air_oxy', 'light_ma', 'feed_quantity', 'water_quantity']]\n",
    "one_day_data = japonica_validation_data.loc['2021-09-01 03:00':'2021-10-01 02:59']\n",
    "oneday_y_test = one_day_data[['do_mg']]\n",
    "\n",
    "oneday_X_test_reshape = np.asarray(oneday_X_test, dtype=np.float64)\n",
    "oneday_X_test_reshape = oneday_X_test_reshape.reshape((-1, 180, 9))\n",
    "oneday_y_test_reshape = np.asarray(oneday_y_test, dtype=np.float64)\n",
    "oneday_y_test_reshape = oneday_y_test_reshape.reshape((-1, 180, 1))\n",
    "\n",
    "# shape확인\n",
    "nCar = oneday_X_test_reshape.shape[0] # 데이터 개수\n",
    "nVar = oneday_X_test_reshape.shape[2] # 변수 개수\n",
    "print('nCar: %d' % nCar, 'nVar: %d' % nVar )\n",
    "\n",
    "nCar = oneday_y_test.shape[0] # 데이터 개수\n",
    "nVar = oneday_y_test.shape[1] # 변수 개수\n",
    "print('nCar: %d' % nCar, 'nVar: %d' % nVar )\n",
    "\n",
    "nCar = oneday_y_test_reshape.shape[0] # 데이터 개수\n",
    "nVar = oneday_y_test_reshape.shape[1] # 변수 개수\n",
    "print('nCar: %d' % nCar, 'nVar: %d' % nVar )"
   ]
  },
  {
   "cell_type": "code",
   "execution_count": null,
   "metadata": {},
   "outputs": [],
   "source": [
    "grapeNEva(model, oneday_X_test_reshape, oneday_y_test, oneday_y_test_reshape)"
   ]
  },
  {
   "cell_type": "code",
   "execution_count": null,
   "metadata": {},
   "outputs": [],
   "source": [
    "# 한 동안의 데이터 추출\n",
    "one_day_data = japonica_validation_data.loc['2021-09-16 00:00':'2021-09-23 23:59']\n",
    "oneday_X_test = one_day_data[['do_mg', 'do_temp', 'ph', 'orp', 'co2_mg', 'air_oxy', 'light_ma', 'feed_quantity', 'water_quantity']]\n",
    "one_day_data = japonica_validation_data.loc['2021-09-16 03:00':'2021-09-24 02:59']\n",
    "oneday_y_test = one_day_data[['do_mg']]\n",
    "\n",
    "oneday_X_test_reshape = np.asarray(oneday_X_test, dtype=np.float64)\n",
    "oneday_X_test_reshape = oneday_X_test_reshape.reshape((-1, 180, 9))\n",
    "oneday_y_test_reshape = np.asarray(oneday_y_test, dtype=np.float64)\n",
    "oneday_y_test_reshape = oneday_y_test_reshape.reshape((-1, 180, 1))\n",
    "\n",
    "# shape확인\n",
    "nCar = oneday_X_test_reshape.shape[0] # 데이터 개수\n",
    "nVar = oneday_X_test_reshape.shape[2] # 변수 개수\n",
    "print('nCar: %d' % nCar, 'nVar: %d' % nVar )\n",
    "\n",
    "nCar = oneday_y_test.shape[0] # 데이터 개수\n",
    "nVar = oneday_y_test.shape[1] # 변수 개수\n",
    "print('nCar: %d' % nCar, 'nVar: %d' % nVar )\n",
    "\n",
    "nCar = oneday_y_test_reshape.shape[0] # 데이터 개수\n",
    "nVar = oneday_y_test_reshape.shape[1] # 변수 개수\n",
    "print('nCar: %d' % nCar, 'nVar: %d' % nVar )"
   ]
  },
  {
   "cell_type": "code",
   "execution_count": null,
   "metadata": {},
   "outputs": [],
   "source": [
    "grapeNEva(model, oneday_X_test_reshape, oneday_y_test, oneday_y_test_reshape)"
   ]
  },
  {
   "cell_type": "code",
   "execution_count": null,
   "metadata": {},
   "outputs": [],
   "source": [
    "# 한 동안의 데이터 추출\n",
    "one_day_data = japonica_validation_data.loc['2021-09-23 00:00':'2021-09-23 23:59']\n",
    "oneday_X_test = one_day_data[['do_mg', 'do_temp', 'ph', 'orp', 'co2_mg', 'air_oxy', 'light_ma', 'feed_quantity', 'water_quantity']]\n",
    "one_day_data = japonica_validation_data.loc['2021-09-23 03:00':'2021-09-24 02:59']\n",
    "oneday_y_test = one_day_data[['do_mg']]\n",
    "\n",
    "oneday_X_test_reshape = np.asarray(oneday_X_test, dtype=np.float64)\n",
    "oneday_X_test_reshape = oneday_X_test_reshape.reshape((-1, 180, 9))\n",
    "oneday_y_test_reshape = np.asarray(oneday_y_test, dtype=np.float64)\n",
    "oneday_y_test_reshape = oneday_y_test_reshape.reshape((-1, 180, 1))\n",
    "\n",
    "# shape확인\n",
    "nCar = oneday_X_test_reshape.shape[0] # 데이터 개수\n",
    "nVar = oneday_X_test_reshape.shape[2] # 변수 개수\n",
    "print('nCar: %d' % nCar, 'nVar: %d' % nVar )\n",
    "\n",
    "nCar = oneday_y_test.shape[0] # 데이터 개수\n",
    "nVar = oneday_y_test.shape[1] # 변수 개수\n",
    "print('nCar: %d' % nCar, 'nVar: %d' % nVar )\n",
    "\n",
    "nCar = oneday_y_test_reshape.shape[0] # 데이터 개수\n",
    "nVar = oneday_y_test_reshape.shape[1] # 변수 개수\n",
    "print('nCar: %d' % nCar, 'nVar: %d' % nVar )"
   ]
  },
  {
   "cell_type": "code",
   "execution_count": null,
   "metadata": {},
   "outputs": [],
   "source": [
    "grapeNEva(model, oneday_X_test_reshape, oneday_y_test, oneday_y_test_reshape)"
   ]
  },
  {
   "cell_type": "code",
   "execution_count": null,
   "metadata": {},
   "outputs": [],
   "source": [
    "import pandas as pd\n",
    "\n",
    "pd.set_option('display.max_rows', None)  # 모든 행 표시\n",
    "pd.set_option('display.max_columns', None)  # 모든 열 표시\n"
   ]
  },
  {
   "cell_type": "code",
   "execution_count": null,
   "metadata": {},
   "outputs": [],
   "source": [
    "one_day_data = japonica_validation_data.loc['2021-09-23 00:00':'2021-09-23 23:59']\n",
    "oneday_X_test = one_day_data[['do_mg', 'do_temp', 'ph', 'orp', 'co2_mg', 'air_oxy', 'light_ma', 'feed_quantity', 'water_quantity']]\n",
    "oneday_X_test"
   ]
  },
  {
   "cell_type": "code",
   "execution_count": null,
   "metadata": {},
   "outputs": [],
   "source": [
    "# 한 동안의 데이터 추출\n",
    "one_day_data = japonica_validation_data.loc['2021-09-23 09:00':'2021-09-23 11:59']\n",
    "oneday_X_test = one_day_data[['do_mg', 'do_temp', 'ph', 'orp', 'co2_mg', 'air_oxy', 'light_ma', 'feed_quantity', 'water_quantity']]\n",
    "one_day_data = japonica_validation_data.loc['2021-09-23 12:00':'2021-09-23 14:59']\n",
    "oneday_y_test = one_day_data[['do_mg']]\n",
    "\n",
    "oneday_X_test_reshape = np.asarray(oneday_X_test, dtype=np.float64)\n",
    "oneday_X_test_reshape = oneday_X_test_reshape.reshape((-1, 180, 9))\n",
    "oneday_y_test_reshape = np.asarray(oneday_y_test, dtype=np.float64)\n",
    "oneday_y_test_reshape = oneday_y_test_reshape.reshape((-1, 180, 1))\n",
    "\n",
    "# shape확인\n",
    "nCar = oneday_X_test_reshape.shape[0] # 데이터 개수\n",
    "nVar = oneday_X_test_reshape.shape[2] # 변수 개수\n",
    "print('nCar: %d' % nCar, 'nVar: %d' % nVar )\n",
    "\n",
    "nCar = oneday_y_test.shape[0] # 데이터 개수\n",
    "nVar = oneday_y_test.shape[1] # 변수 개수\n",
    "print('nCar: %d' % nCar, 'nVar: %d' % nVar )\n",
    "\n",
    "nCar = oneday_y_test_reshape.shape[0] # 데이터 개수\n",
    "nVar = oneday_y_test_reshape.shape[1] # 변수 개수\n",
    "print('nCar: %d' % nCar, 'nVar: %d' % nVar )"
   ]
  },
  {
   "cell_type": "code",
   "execution_count": null,
   "metadata": {},
   "outputs": [],
   "source": [
    "grapeNEva(model, oneday_X_test_reshape, oneday_y_test, oneday_y_test_reshape)"
   ]
  },
  {
   "cell_type": "code",
   "execution_count": null,
   "metadata": {},
   "outputs": [],
   "source": [
    "oneday_X_test"
   ]
  },
  {
   "cell_type": "code",
   "execution_count": null,
   "metadata": {},
   "outputs": [],
   "source": []
  }
 ],
 "metadata": {
  "kernelspec": {
   "display_name": "doRegressor",
   "language": "python",
   "name": "python3"
  },
  "language_info": {
   "codemirror_mode": {
    "name": "ipython",
    "version": 3
   },
   "file_extension": ".py",
   "mimetype": "text/x-python",
   "name": "python",
   "nbconvert_exporter": "python",
   "pygments_lexer": "ipython3",
   "version": "3.11.2"
  }
 },
 "nbformat": 4,
 "nbformat_minor": 2
}
