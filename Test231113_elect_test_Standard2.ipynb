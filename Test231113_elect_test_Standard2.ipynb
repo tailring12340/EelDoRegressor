{
 "cells": [
  {
   "cell_type": "markdown",
   "metadata": {},
   "source": [
    "라이브러리"
   ]
  },
  {
   "cell_type": "code",
   "execution_count": 129,
   "metadata": {},
   "outputs": [],
   "source": [
    "import pandas as pd\n",
    "import numpy as np\n",
    "from keras.utils import *\n",
    "from sklearn.preprocessing import *\n",
    "from keras import backend as K\n",
    "from keras.models import load_model\n",
    "from keras.layers import LSTM, Dense, concatenate, Input\n",
    "from sklearn.ensemble import GradientBoostingRegressor\n",
    "from keras.models import Model\n",
    "from keras.models import Sequential\n",
    "import matplotlib.pyplot as plt\n",
    "from scipy.spatial.distance import euclidean, cosine, correlation\n",
    "from sklearn.metrics import mean_squared_error, mean_absolute_error, pairwise_distances\n",
    "from sklearn.metrics import r2_score\n",
    "from sklearn.preprocessing import StandardScaler, MinMaxScaler\n",
    "import matplotlib.font_manager as fm\n",
    "from matplotlib.dates import DateFormatter\n",
    "from keras.callbacks import ModelCheckpoint, EarlyStopping, ReduceLROnPlateau\n",
    "\n",
    "model_name = 'powerTest_standard2'"
   ]
  },
  {
   "cell_type": "markdown",
   "metadata": {},
   "source": [
    "데이터셋 설정"
   ]
  },
  {
   "cell_type": "code",
   "execution_count": 130,
   "metadata": {},
   "outputs": [],
   "source": [
    "power = pd.read_csv(\"E:/kimwoojae/Research/DO Regressor/dataset/powerconsumption.csv\")\n",
    "power['Datetime'] = pd.to_datetime(power['Datetime'], format='%m/%d/%Y %H:%M', errors='raise')\n",
    "power.describe()\n",
    "power.set_index('Datetime', inplace=True)\n"
   ]
  },
  {
   "cell_type": "code",
   "execution_count": 131,
   "metadata": {},
   "outputs": [],
   "source": [
    "start_date = '2017-01-01'\n",
    "end_date = '2017-11-30'\n",
    "power_test = power.loc[start_date:end_date]"
   ]
  },
  {
   "cell_type": "code",
   "execution_count": 132,
   "metadata": {},
   "outputs": [],
   "source": [
    "start_date = '2017-12-01'\n",
    "end_date = '2017-12-30'\n",
    "power_validation= power.loc[start_date:end_date]"
   ]
  },
  {
   "cell_type": "code",
   "execution_count": 133,
   "metadata": {},
   "outputs": [
    {
     "data": {
      "text/html": [
       "<div>\n",
       "<style scoped>\n",
       "    .dataframe tbody tr th:only-of-type {\n",
       "        vertical-align: middle;\n",
       "    }\n",
       "\n",
       "    .dataframe tbody tr th {\n",
       "        vertical-align: top;\n",
       "    }\n",
       "\n",
       "    .dataframe thead th {\n",
       "        text-align: right;\n",
       "    }\n",
       "</style>\n",
       "<table border=\"1\" class=\"dataframe\">\n",
       "  <thead>\n",
       "    <tr style=\"text-align: right;\">\n",
       "      <th></th>\n",
       "      <th>Temperature</th>\n",
       "      <th>Humidity</th>\n",
       "      <th>WindSpeed</th>\n",
       "      <th>GeneralDiffuseFlows</th>\n",
       "      <th>DiffuseFlows</th>\n",
       "      <th>PowerConsumption_Zone1</th>\n",
       "    </tr>\n",
       "    <tr>\n",
       "      <th>Datetime</th>\n",
       "      <th></th>\n",
       "      <th></th>\n",
       "      <th></th>\n",
       "      <th></th>\n",
       "      <th></th>\n",
       "      <th></th>\n",
       "    </tr>\n",
       "  </thead>\n",
       "  <tbody>\n",
       "    <tr>\n",
       "      <th>2017-01-01 00:00:00</th>\n",
       "      <td>-2.223696</td>\n",
       "      <td>0.358399</td>\n",
       "      <td>-0.853479</td>\n",
       "      <td>-0.702883</td>\n",
       "      <td>-0.614205</td>\n",
       "      <td>0.197966</td>\n",
       "    </tr>\n",
       "    <tr>\n",
       "      <th>2017-01-01 00:10:00</th>\n",
       "      <td>-2.248990</td>\n",
       "      <td>0.402972</td>\n",
       "      <td>-0.853479</td>\n",
       "      <td>-0.702812</td>\n",
       "      <td>-0.614471</td>\n",
       "      <td>-0.396445</td>\n",
       "    </tr>\n",
       "    <tr>\n",
       "      <th>2017-01-01 00:20:00</th>\n",
       "      <td>-2.266608</td>\n",
       "      <td>0.402972</td>\n",
       "      <td>-0.854741</td>\n",
       "      <td>-0.702842</td>\n",
       "      <td>-0.614354</td>\n",
       "      <td>-0.492675</td>\n",
       "    </tr>\n",
       "    <tr>\n",
       "      <th>2017-01-01 00:30:00</th>\n",
       "      <td>-2.300101</td>\n",
       "      <td>0.434809</td>\n",
       "      <td>-0.853479</td>\n",
       "      <td>-0.702735</td>\n",
       "      <td>-0.614385</td>\n",
       "      <td>-0.618710</td>\n",
       "    </tr>\n",
       "    <tr>\n",
       "      <th>2017-01-01 00:40:00</th>\n",
       "      <td>-2.334989</td>\n",
       "      <td>0.479382</td>\n",
       "      <td>-0.854320</td>\n",
       "      <td>-0.702894</td>\n",
       "      <td>-0.614471</td>\n",
       "      <td>-0.743894</td>\n",
       "    </tr>\n",
       "    <tr>\n",
       "      <th>...</th>\n",
       "      <td>...</td>\n",
       "      <td>...</td>\n",
       "      <td>...</td>\n",
       "      <td>...</td>\n",
       "      <td>...</td>\n",
       "      <td>...</td>\n",
       "    </tr>\n",
       "    <tr>\n",
       "      <th>2017-11-30 23:10:00</th>\n",
       "      <td>-1.161176</td>\n",
       "      <td>1.128871</td>\n",
       "      <td>-0.857263</td>\n",
       "      <td>-0.702883</td>\n",
       "      <td>-0.614385</td>\n",
       "      <td>-0.181582</td>\n",
       "    </tr>\n",
       "    <tr>\n",
       "      <th>2017-11-30 23:20:00</th>\n",
       "      <td>-1.166409</td>\n",
       "      <td>1.141606</td>\n",
       "      <td>-0.858525</td>\n",
       "      <td>-0.702816</td>\n",
       "      <td>-0.614729</td>\n",
       "      <td>-0.285946</td>\n",
       "    </tr>\n",
       "    <tr>\n",
       "      <th>2017-11-30 23:30:00</th>\n",
       "      <td>-1.164665</td>\n",
       "      <td>1.147973</td>\n",
       "      <td>-0.858525</td>\n",
       "      <td>-0.702827</td>\n",
       "      <td>-0.614323</td>\n",
       "      <td>-0.385997</td>\n",
       "    </tr>\n",
       "    <tr>\n",
       "      <th>2017-11-30 23:40:00</th>\n",
       "      <td>-1.176876</td>\n",
       "      <td>1.141606</td>\n",
       "      <td>-0.858525</td>\n",
       "      <td>-0.702827</td>\n",
       "      <td>-0.614526</td>\n",
       "      <td>-0.475698</td>\n",
       "    </tr>\n",
       "    <tr>\n",
       "      <th>2017-11-30 23:50:00</th>\n",
       "      <td>-1.237930</td>\n",
       "      <td>1.128871</td>\n",
       "      <td>-0.857684</td>\n",
       "      <td>-0.702964</td>\n",
       "      <td>-0.614119</td>\n",
       "      <td>-0.568849</td>\n",
       "    </tr>\n",
       "  </tbody>\n",
       "</table>\n",
       "<p>48096 rows × 6 columns</p>\n",
       "</div>"
      ],
      "text/plain": [
       "                     Temperature  Humidity  WindSpeed  GeneralDiffuseFlows   \n",
       "Datetime                                                                     \n",
       "2017-01-01 00:00:00    -2.223696  0.358399  -0.853479            -0.702883  \\\n",
       "2017-01-01 00:10:00    -2.248990  0.402972  -0.853479            -0.702812   \n",
       "2017-01-01 00:20:00    -2.266608  0.402972  -0.854741            -0.702842   \n",
       "2017-01-01 00:30:00    -2.300101  0.434809  -0.853479            -0.702735   \n",
       "2017-01-01 00:40:00    -2.334989  0.479382  -0.854320            -0.702894   \n",
       "...                          ...       ...        ...                  ...   \n",
       "2017-11-30 23:10:00    -1.161176  1.128871  -0.857263            -0.702883   \n",
       "2017-11-30 23:20:00    -1.166409  1.141606  -0.858525            -0.702816   \n",
       "2017-11-30 23:30:00    -1.164665  1.147973  -0.858525            -0.702827   \n",
       "2017-11-30 23:40:00    -1.176876  1.141606  -0.858525            -0.702827   \n",
       "2017-11-30 23:50:00    -1.237930  1.128871  -0.857684            -0.702964   \n",
       "\n",
       "                     DiffuseFlows  PowerConsumption_Zone1  \n",
       "Datetime                                                   \n",
       "2017-01-01 00:00:00     -0.614205                0.197966  \n",
       "2017-01-01 00:10:00     -0.614471               -0.396445  \n",
       "2017-01-01 00:20:00     -0.614354               -0.492675  \n",
       "2017-01-01 00:30:00     -0.614385               -0.618710  \n",
       "2017-01-01 00:40:00     -0.614471               -0.743894  \n",
       "...                           ...                     ...  \n",
       "2017-11-30 23:10:00     -0.614385               -0.181582  \n",
       "2017-11-30 23:20:00     -0.614729               -0.285946  \n",
       "2017-11-30 23:30:00     -0.614323               -0.385997  \n",
       "2017-11-30 23:40:00     -0.614526               -0.475698  \n",
       "2017-11-30 23:50:00     -0.614119               -0.568849  \n",
       "\n",
       "[48096 rows x 6 columns]"
      ]
     },
     "execution_count": 133,
     "metadata": {},
     "output_type": "execute_result"
    }
   ],
   "source": [
    "power_np = power_test[['Temperature','Humidity','WindSpeed','GeneralDiffuseFlows','DiffuseFlows','PowerConsumption_Zone1']].values\n",
    "\n",
    "scaler = StandardScaler()\n",
    "X_standardized = scaler.fit_transform(power_np)\n",
    "\n",
    "power_test = pd.DataFrame({'Datetime': power_test.index, 'Temperature': X_standardized[:, 0],'Humidity': X_standardized[:, 1],'WindSpeed': X_standardized[:, 2],'GeneralDiffuseFlows': X_standardized[:, 3],'DiffuseFlows': X_standardized[:, 4],'PowerConsumption_Zone1': X_standardized[:, 5]})\n",
    "power_test.set_index('Datetime', inplace=True)\n",
    "\n",
    "power_test"
   ]
  },
  {
   "cell_type": "code",
   "execution_count": 134,
   "metadata": {},
   "outputs": [],
   "source": [
    "power_test_X = power_test[['Temperature','Humidity','WindSpeed','GeneralDiffuseFlows','DiffuseFlows','PowerConsumption_Zone1']]\n",
    "power_test_y = power_test[['Temperature','Humidity','WindSpeed','GeneralDiffuseFlows','DiffuseFlows','PowerConsumption_Zone1']]"
   ]
  },
  {
   "cell_type": "code",
   "execution_count": 135,
   "metadata": {},
   "outputs": [],
   "source": [
    "power_validation_X = power_validation[['Temperature','Humidity','WindSpeed','GeneralDiffuseFlows','DiffuseFlows','PowerConsumption_Zone1']]\n",
    "power_validation_y = power_validation[['Temperature','Humidity','WindSpeed','GeneralDiffuseFlows','DiffuseFlows','PowerConsumption_Zone1']]"
   ]
  },
  {
   "cell_type": "code",
   "execution_count": 136,
   "metadata": {},
   "outputs": [],
   "source": [
    "power_test_X_chunks = []\n",
    "power_test_y_chunks = []\n",
    "\n",
    "for i in range(0, len(power_test_X) - 35):\n",
    "    power_test_X_chunks.append(np.array(power_test_X.iloc[i:i+36].values, dtype=np.float64))\n",
    "power_test_X_chunks = np.array(power_test_X_chunks, dtype=np.float64)\n",
    "\n",
    "for i in range(0, len(power_test_y) - 35):\n",
    "    power_test_y_chunks.append(np.array(power_test_y.iloc[i:i+36].values, dtype=np.float64))\n",
    "power_test_y_chunks = np.array(power_test_y_chunks, dtype=np.float64)"
   ]
  },
  {
   "cell_type": "code",
   "execution_count": 137,
   "metadata": {},
   "outputs": [],
   "source": [
    "power_validation_X_chunks = []\n",
    "power_validation_y_chunks = []\n",
    "\n",
    "for i in range(0, len(power_validation_X) - 35):\n",
    "    power_validation_X_chunks.append(np.array(power_validation_X.iloc[i:i+36].values, dtype=np.float64))\n",
    "power_validation_X_chunks = np.array(power_validation_X_chunks, dtype=np.float64)\n",
    "\n",
    "for i in range(0, len(power_validation_y) - 35):\n",
    "    power_validation_y_chunks.append(np.array(power_validation_y.iloc[i:i+36].values, dtype=np.float64))\n",
    "power_validation_y_chunks = np.array(power_validation_y_chunks, dtype=np.float64)"
   ]
  },
  {
   "cell_type": "code",
   "execution_count": 138,
   "metadata": {},
   "outputs": [
    {
     "name": "stdout",
     "output_type": "stream",
     "text": [
      "nCar: 48061 nVar: 6\n",
      "nCar: 48061 nVar: 36\n",
      "nCar: 4285 nVar: 6\n",
      "nCar: 4285 nVar: 36\n"
     ]
    }
   ],
   "source": [
    "# shape확인\n",
    "nCar = power_test_X_chunks.shape[0] # 데이터 개수\n",
    "nVar = power_test_X_chunks.shape[2] # 변수 개수\n",
    "print('nCar: %d' % nCar, 'nVar: %d' % nVar )\n",
    "\n",
    "nCar = power_test_y_chunks.shape[0] # 데이터 개수\n",
    "nVar = power_test_y_chunks.shape[1] # 변수 개수\n",
    "print('nCar: %d' % nCar, 'nVar: %d' % nVar )\n",
    "\n",
    "nCar = power_validation_X_chunks.shape[0] # 데이터 개수\n",
    "nVar = power_validation_X_chunks.shape[2] # 변수 개수\n",
    "print('nCar: %d' % nCar, 'nVar: %d' % nVar )\n",
    "\n",
    "nCar = power_validation_y_chunks.shape[0] # 데이터 개수\n",
    "nVar = power_validation_y_chunks.shape[1] # 변수 개수\n",
    "print('nCar: %d' % nCar, 'nVar: %d' % nVar )"
   ]
  },
  {
   "cell_type": "code",
   "execution_count": 139,
   "metadata": {},
   "outputs": [],
   "source": [
    "power_test_X_chunks_crop = power_test_X_chunks[:-36]\n",
    "power_test_y_chunks_crop = power_test_y_chunks[36:]\n",
    "\n",
    "power_validation_X_chunks_crop = power_validation_X_chunks[:-36]\n",
    "power_validation_y_chunks_crop = power_validation_y_chunks[36:]"
   ]
  },
  {
   "cell_type": "code",
   "execution_count": 140,
   "metadata": {},
   "outputs": [
    {
     "name": "stdout",
     "output_type": "stream",
     "text": [
      "nCar: 48025 nVar: 6\n",
      "nCar: 48025 nVar: 36\n",
      "nCar: 4249 nVar: 6\n",
      "nCar: 4249 nVar: 36\n"
     ]
    },
    {
     "data": {
      "text/plain": [
       "(48025, 36, 6)"
      ]
     },
     "execution_count": 140,
     "metadata": {},
     "output_type": "execute_result"
    }
   ],
   "source": [
    "# shape확인\n",
    "nCar = power_test_X_chunks_crop.shape[0] # 데이터 개수\n",
    "nVar = power_test_X_chunks_crop.shape[2] # 변수 개수\n",
    "print('nCar: %d' % nCar, 'nVar: %d' % nVar )\n",
    "\n",
    "nCar = power_test_y_chunks_crop.shape[0] # 데이터 개수\n",
    "nVar = power_test_y_chunks_crop.shape[1] # 변수 개수\n",
    "print('nCar: %d' % nCar, 'nVar: %d' % nVar )\n",
    "\n",
    "nCar = power_validation_X_chunks_crop.shape[0] # 데이터 개수\n",
    "nVar = power_validation_X_chunks_crop.shape[2] # 변수 개수\n",
    "print('nCar: %d' % nCar, 'nVar: %d' % nVar )\n",
    "\n",
    "nCar = power_validation_y_chunks_crop.shape[0] # 데이터 개수\n",
    "nVar = power_validation_y_chunks_crop.shape[1] # 변수 개수\n",
    "print('nCar: %d' % nCar, 'nVar: %d' % nVar )\n",
    "\n",
    "power_test_y_chunks_crop.shape"
   ]
  },
  {
   "cell_type": "code",
   "execution_count": 141,
   "metadata": {},
   "outputs": [],
   "source": [
    "# r_squared 평가 함수\n",
    "def r_squared(y_true, y_pred):\n",
    "    ss_res = K.sum(K.square(y_true - y_pred))\n",
    "    ss_tot = K.sum(K.square(y_true - K.mean(y_true)))\n",
    "    return (1 - ss_res/(ss_tot + K.epsilon()))"
   ]
  },
  {
   "cell_type": "code",
   "execution_count": 142,
   "metadata": {},
   "outputs": [
    {
     "name": "stdout",
     "output_type": "stream",
     "text": [
      "Model: \"sequential_13\"\n",
      "_________________________________________________________________\n",
      " Layer (type)                Output Shape              Param #   \n",
      "=================================================================\n",
      " lstm_39 (LSTM)              (None, 36, 128)           69120     \n",
      "                                                                 \n",
      " lstm_40 (LSTM)              (None, 36, 64)            49408     \n",
      "                                                                 \n",
      " lstm_41 (LSTM)              (None, 32)                12416     \n",
      "                                                                 \n",
      " dense_13 (Dense)            (None, 6)                 198       \n",
      "                                                                 \n",
      "=================================================================\n",
      "Total params: 131,142\n",
      "Trainable params: 131,142\n",
      "Non-trainable params: 0\n",
      "_________________________________________________________________\n",
      "Epoch 1/1000\n",
      "1335/1335 [==============================] - 71s 49ms/step - loss: 0.9995 - mae: 0.8308 - r_squared: -0.0053 - val_loss: 147377360.0000 - val_mae: 4884.6484 - val_r_squared: -0.1988 - lr: 0.0010\n",
      "Epoch 2/1000\n",
      "1335/1335 [==============================] - 59s 44ms/step - loss: 0.9992 - mae: 0.8308 - r_squared: -0.0048 - val_loss: 147377520.0000 - val_mae: 4884.6396 - val_r_squared: -0.1988 - lr: 0.0010\n",
      "Epoch 3/1000\n",
      "1335/1335 [==============================] - 56s 42ms/step - loss: 0.9992 - mae: 0.8309 - r_squared: -0.0055 - val_loss: 147377296.0000 - val_mae: 4884.6411 - val_r_squared: -0.1988 - lr: 0.0010\n",
      "Epoch 4/1000\n",
      "1335/1335 [==============================] - 56s 42ms/step - loss: 0.9991 - mae: 0.8310 - r_squared: -0.0049 - val_loss: 147377584.0000 - val_mae: 4884.6284 - val_r_squared: -0.1988 - lr: 0.0010\n",
      "Epoch 5/1000\n",
      "1335/1335 [==============================] - 58s 44ms/step - loss: 0.9991 - mae: 0.8310 - r_squared: -0.0048 - val_loss: 147377360.0000 - val_mae: 4884.6196 - val_r_squared: -0.1988 - lr: 0.0010\n",
      "Epoch 6/1000\n",
      "1335/1335 [==============================] - ETA: 0s - loss: 0.9991 - mae: 0.8308 - r_squared: -0.0049\n",
      "Epoch 6: ReduceLROnPlateau reducing learning rate to 0.00010000000474974513.\n",
      "1335/1335 [==============================] - 57s 42ms/step - loss: 0.9991 - mae: 0.8308 - r_squared: -0.0049 - val_loss: 147377536.0000 - val_mae: 4884.6284 - val_r_squared: -0.1988 - lr: 0.0010\n",
      "Epoch 7/1000\n",
      "1335/1335 [==============================] - 58s 43ms/step - loss: 0.9990 - mae: 0.8303 - r_squared: -0.0047 - val_loss: 147377376.0000 - val_mae: 4884.6182 - val_r_squared: -0.1988 - lr: 1.0000e-04\n",
      "Epoch 8/1000\n",
      "1335/1335 [==============================] - 62s 46ms/step - loss: 0.9989 - mae: 0.8305 - r_squared: -0.0044 - val_loss: 147377360.0000 - val_mae: 4884.6187 - val_r_squared: -0.1988 - lr: 1.0000e-04\n",
      "Epoch 8: early stopping\n"
     ]
    }
   ],
   "source": [
    "# LSTM 모델 생성\n",
    "model = Sequential()\n",
    "model.add(LSTM(128, input_shape=(36, 6), return_sequences=True))\n",
    "model.add(LSTM(64, return_sequences=True))\n",
    "model.add(LSTM(32))\n",
    "model.add(Dense(6, activation='linear'))\n",
    " \n",
    "model.summary()\n",
    "\n",
    "model.compile(optimizer='adam', loss='mse', metrics=['mae', r_squared])\n",
    "\n",
    "checkpoint = ModelCheckpoint(model_name+'.h5', monitor='val_loss', save_best_only=True)\n",
    "early_stop = EarlyStopping(monitor='val_loss', patience=5, verbose=1)\n",
    "reduce_lr = ReduceLROnPlateau(monitor='val_loss', factor=0.1, patience=3, verbose=1)\n",
    "\n",
    "hist = model.fit(power_test_X_chunks_crop, power_test_y_chunks_crop, epochs = 1000, batch_size = 36, validation_data=(power_validation_X_chunks_crop, power_validation_y_chunks_crop), callbacks=[checkpoint, early_stop, reduce_lr])"
   ]
  },
  {
   "cell_type": "code",
   "execution_count": 143,
   "metadata": {},
   "outputs": [],
   "source": [
    "model = load_model(model_name+'.h5', custom_objects={'r_squared': r_squared})"
   ]
  },
  {
   "cell_type": "code",
   "execution_count": 144,
   "metadata": {},
   "outputs": [
    {
     "name": "stdout",
     "output_type": "stream",
     "text": [
      "[[-0.0512257  -0.01214607 -0.04528997 ... -0.02539056  0.00722689\n",
      "   0.07362917]\n",
      " [ 0.07109436  0.0723139   0.01985119 ... -0.10460906 -0.02651905\n",
      "  -0.07758354]\n",
      " [-0.02553927 -0.06422719 -0.06090388 ...  0.01195111 -0.08640015\n",
      "   0.08861689]\n",
      " [ 0.0048585   0.024811   -0.0880193  ...  0.05454156 -0.08285961\n",
      "   0.03275066]\n",
      " [ 0.00275295 -0.04481521  0.08021015 ...  0.04309199 -0.0114438\n",
      "   0.02750548]\n",
      " [-0.00949779 -0.04113292 -0.00540411 ...  0.01306295  0.05969338\n",
      "  -0.02586738]]\n"
     ]
    },
    {
     "data": {
      "image/png": "[encoded data removed]",
      "text/plain": [
       "<Figure size 800x400 with 1 Axes>"
      ]
     },
     "metadata": {},
     "output_type": "display_data"
    }
   ],
   "source": [
    "# 가중치를 통해 변수 중요도 획득\n",
    "weights = model.layers[0].get_weights()[0]\n",
    "print(weights)\n",
    "\n",
    "\n",
    "# 변수 중요도 시각화\n",
    "fig, ax = plt.subplots(figsize=(8, 4))\n",
    "ax.bar(range(6), weights[:, 0])\n",
    "ax.set_xticks(range(6))\n",
    "ax.set_xticklabels(['Temperature','Humidity','WindSpeed','GeneralDiffuseFlows','DiffuseFlows','PowerConsumption_Zone1'])\n",
    "ax.set_ylabel('Weight')\n",
    "ax.set_title('Tank5 Variable Importance')\n",
    "plt.show()"
   ]
  },
  {
   "cell_type": "code",
   "execution_count": 165,
   "metadata": {},
   "outputs": [],
   "source": [
    "# 모델 평가 함수\n",
    "def grapeNEva(X_test_shape, y_test, y_test_shape):\n",
    "    X_pred = model.predict(X_test_shape)\n",
    "    print(X_pred.shape)\n",
    "    X_pred = scaler.inverse_transform(X_pred)\n",
    "    X_pred = np.asarray(X_pred, dtype=np.float64)\n",
    "    X_pred = X_pred.T\n",
    "\n",
    "    # 그래프 생성\n",
    "    plt.figure(figsize=(15, 7))\n",
    "    #plt.plot(y_test.index, y_test['PowerConsumption_Zone1'], label='power')  # x축에 년월일, y축에 값\n",
    "    plt.plot(y_test.index, X_pred[0], label='prediction')  # x축에 년월일, y축에 시분\n",
    "    plt.xlabel('date')\n",
    "    plt.ylabel('power')\n",
    "    plt.title('test')\n",
    "    plt.legend(['power','prediction'])\n",
    "    plt.show()\n",
    "    \n",
    "    # 평가 생성\n",
    "    result = model.evaluate(X_test_shape, y_test_shape)\n",
    "    print(\"MSE // MAE // R-squared \", result)"
   ]
  },
  {
   "cell_type": "code",
   "execution_count": 166,
   "metadata": {},
   "outputs": [
    {
     "name": "stdout",
     "output_type": "stream",
     "text": [
      "(119, 36, 6)\n"
     ]
    }
   ],
   "source": [
    "X_test = power_validation_X.loc['2017-12-01 00:00':'2017-12-30 17:50']\n",
    "\n",
    "X_test_reshape = np.asarray(X_test, dtype=np.float64)\n",
    "X_test_reshape = X_test_reshape.reshape((-1, 36, 6))\n",
    "print(X_test_reshape.shape)"
   ]
  },
  {
   "cell_type": "code",
   "execution_count": 167,
   "metadata": {},
   "outputs": [
    {
     "name": "stdout",
     "output_type": "stream",
     "text": [
      "(4284, 6)\n",
      "(119, 36, 6)\n"
     ]
    }
   ],
   "source": [
    "y_test = power_validation_y.loc['2017-12-01 06:00':'2017-12-30 23:50']\n",
    "\n",
    "y_test_reshape = np.asarray(y_test, dtype=np.float64)\n",
    "y_test_reshape = y_test_reshape.reshape((-1, 36, 6))\n",
    "\n",
    "print(y_test.shape)\n",
    "print(y_test_reshape.shape)"
   ]
  },
  {
   "cell_type": "code",
   "execution_count": 168,
   "metadata": {},
   "outputs": [
    {
     "data": {
      "text/plain": [
       "DatetimeIndex(['2017-12-01 06:00:00', '2017-12-01 06:10:00',\n",
       "               '2017-12-01 06:20:00', '2017-12-01 06:30:00',\n",
       "               '2017-12-01 06:40:00', '2017-12-01 06:50:00',\n",
       "               '2017-12-01 07:00:00', '2017-12-01 07:10:00',\n",
       "               '2017-12-01 07:20:00', '2017-12-01 07:30:00',\n",
       "               ...\n",
       "               '2017-12-30 22:20:00', '2017-12-30 22:30:00',\n",
       "               '2017-12-30 22:40:00', '2017-12-30 22:50:00',\n",
       "               '2017-12-30 23:00:00', '2017-12-30 23:10:00',\n",
       "               '2017-12-30 23:20:00', '2017-12-30 23:30:00',\n",
       "               '2017-12-30 23:40:00', '2017-12-30 23:50:00'],\n",
       "              dtype='datetime64[ns]', name='Datetime', length=4284, freq=None)"
      ]
     },
     "execution_count": 168,
     "metadata": {},
     "output_type": "execute_result"
    }
   ],
   "source": [
    "y_test.index"
   ]
  },
  {
   "cell_type": "code",
   "execution_count": 169,
   "metadata": {},
   "outputs": [
    {
     "name": "stdout",
     "output_type": "stream",
     "text": [
      "4/4 [==============================] - 0s 21ms/step\n",
      "(119, 6)\n"
     ]
    },
    {
     "ename": "ValueError",
     "evalue": "x and y must have same first dimension, but have shapes (4284,) and (119,)",
     "output_type": "error",
     "traceback": [
      "\u001b[1;31m---------------------------------------------------------------------------\u001b[0m",
      "\u001b[1;31mValueError\u001b[0m                                Traceback (most recent call last)",
      "\u001b[1;32me:\\kimwoojae\\Research\\DO Regressor\\Test231113_elect_test_Standard2.ipynb Cell 23\u001b[0m line \u001b[0;36m1\n\u001b[1;32m----> <a href='vscode-notebook-cell:/e%3A/kimwoojae/Research/DO%20Regressor/Test231113_elect_test_Standard2.ipynb#X30sZmlsZQ%3D%3D?line=0'>1</a>\u001b[0m grapeNEva(X_test_reshape, y_test, y_test_reshape)\n",
      "\u001b[1;32me:\\kimwoojae\\Research\\DO Regressor\\Test231113_elect_test_Standard2.ipynb Cell 23\u001b[0m line \u001b[0;36m1\n\u001b[0;32m     <a href='vscode-notebook-cell:/e%3A/kimwoojae/Research/DO%20Regressor/Test231113_elect_test_Standard2.ipynb#X30sZmlsZQ%3D%3D?line=9'>10</a>\u001b[0m plt\u001b[39m.\u001b[39mfigure(figsize\u001b[39m=\u001b[39m(\u001b[39m15\u001b[39m, \u001b[39m7\u001b[39m))\n\u001b[0;32m     <a href='vscode-notebook-cell:/e%3A/kimwoojae/Research/DO%20Regressor/Test231113_elect_test_Standard2.ipynb#X30sZmlsZQ%3D%3D?line=10'>11</a>\u001b[0m \u001b[39m#plt.plot(y_test.index, y_test['PowerConsumption_Zone1'], label='power')  # x축에 년월일, y축에 값\u001b[39;00m\n\u001b[1;32m---> <a href='vscode-notebook-cell:/e%3A/kimwoojae/Research/DO%20Regressor/Test231113_elect_test_Standard2.ipynb#X30sZmlsZQ%3D%3D?line=11'>12</a>\u001b[0m plt\u001b[39m.\u001b[39;49mplot(y_test\u001b[39m.\u001b[39;49mindex, X_pred[\u001b[39m0\u001b[39;49m], label\u001b[39m=\u001b[39;49m\u001b[39m'\u001b[39;49m\u001b[39mprediction\u001b[39;49m\u001b[39m'\u001b[39;49m)  \u001b[39m# x축에 년월일, y축에 시분\u001b[39;00m\n\u001b[0;32m     <a href='vscode-notebook-cell:/e%3A/kimwoojae/Research/DO%20Regressor/Test231113_elect_test_Standard2.ipynb#X30sZmlsZQ%3D%3D?line=12'>13</a>\u001b[0m plt\u001b[39m.\u001b[39mxlabel(\u001b[39m'\u001b[39m\u001b[39mdate\u001b[39m\u001b[39m'\u001b[39m)\n\u001b[0;32m     <a href='vscode-notebook-cell:/e%3A/kimwoojae/Research/DO%20Regressor/Test231113_elect_test_Standard2.ipynb#X30sZmlsZQ%3D%3D?line=13'>14</a>\u001b[0m plt\u001b[39m.\u001b[39mylabel(\u001b[39m'\u001b[39m\u001b[39mpower\u001b[39m\u001b[39m'\u001b[39m)\n",
      "File \u001b[1;32mc:\\Users\\rladn\\anaconda3\\envs\\doRegressor\\Lib\\site-packages\\matplotlib\\pyplot.py:2812\u001b[0m, in \u001b[0;36mplot\u001b[1;34m(scalex, scaley, data, *args, **kwargs)\u001b[0m\n\u001b[0;32m   2810\u001b[0m \u001b[39m@_copy_docstring_and_deprecators\u001b[39m(Axes\u001b[39m.\u001b[39mplot)\n\u001b[0;32m   2811\u001b[0m \u001b[39mdef\u001b[39;00m \u001b[39mplot\u001b[39m(\u001b[39m*\u001b[39margs, scalex\u001b[39m=\u001b[39m\u001b[39mTrue\u001b[39;00m, scaley\u001b[39m=\u001b[39m\u001b[39mTrue\u001b[39;00m, data\u001b[39m=\u001b[39m\u001b[39mNone\u001b[39;00m, \u001b[39m*\u001b[39m\u001b[39m*\u001b[39mkwargs):\n\u001b[1;32m-> 2812\u001b[0m     \u001b[39mreturn\u001b[39;00m gca()\u001b[39m.\u001b[39;49mplot(\n\u001b[0;32m   2813\u001b[0m         \u001b[39m*\u001b[39;49margs, scalex\u001b[39m=\u001b[39;49mscalex, scaley\u001b[39m=\u001b[39;49mscaley,\n\u001b[0;32m   2814\u001b[0m         \u001b[39m*\u001b[39;49m\u001b[39m*\u001b[39;49m({\u001b[39m\"\u001b[39;49m\u001b[39mdata\u001b[39;49m\u001b[39m\"\u001b[39;49m: data} \u001b[39mif\u001b[39;49;00m data \u001b[39mis\u001b[39;49;00m \u001b[39mnot\u001b[39;49;00m \u001b[39mNone\u001b[39;49;00m \u001b[39melse\u001b[39;49;00m {}), \u001b[39m*\u001b[39;49m\u001b[39m*\u001b[39;49mkwargs)\n",
      "File \u001b[1;32mc:\\Users\\rladn\\anaconda3\\envs\\doRegressor\\Lib\\site-packages\\matplotlib\\axes\\_axes.py:1688\u001b[0m, in \u001b[0;36mAxes.plot\u001b[1;34m(self, scalex, scaley, data, *args, **kwargs)\u001b[0m\n\u001b[0;32m   1445\u001b[0m \u001b[39m\u001b[39m\u001b[39m\"\"\"\u001b[39;00m\n\u001b[0;32m   1446\u001b[0m \u001b[39mPlot y versus x as lines and/or markers.\u001b[39;00m\n\u001b[0;32m   1447\u001b[0m \n\u001b[1;32m   (...)\u001b[0m\n\u001b[0;32m   1685\u001b[0m \u001b[39m(``'green'``) or hex strings (``'#008000'``).\u001b[39;00m\n\u001b[0;32m   1686\u001b[0m \u001b[39m\"\"\"\u001b[39;00m\n\u001b[0;32m   1687\u001b[0m kwargs \u001b[39m=\u001b[39m cbook\u001b[39m.\u001b[39mnormalize_kwargs(kwargs, mlines\u001b[39m.\u001b[39mLine2D)\n\u001b[1;32m-> 1688\u001b[0m lines \u001b[39m=\u001b[39m [\u001b[39m*\u001b[39m\u001b[39mself\u001b[39m\u001b[39m.\u001b[39m_get_lines(\u001b[39m*\u001b[39margs, data\u001b[39m=\u001b[39mdata, \u001b[39m*\u001b[39m\u001b[39m*\u001b[39mkwargs)]\n\u001b[0;32m   1689\u001b[0m \u001b[39mfor\u001b[39;00m line \u001b[39min\u001b[39;00m lines:\n\u001b[0;32m   1690\u001b[0m     \u001b[39mself\u001b[39m\u001b[39m.\u001b[39madd_line(line)\n",
      "File \u001b[1;32mc:\\Users\\rladn\\anaconda3\\envs\\doRegressor\\Lib\\site-packages\\matplotlib\\axes\\_base.py:311\u001b[0m, in \u001b[0;36m_process_plot_var_args.__call__\u001b[1;34m(self, data, *args, **kwargs)\u001b[0m\n\u001b[0;32m    309\u001b[0m     this \u001b[39m+\u001b[39m\u001b[39m=\u001b[39m args[\u001b[39m0\u001b[39m],\n\u001b[0;32m    310\u001b[0m     args \u001b[39m=\u001b[39m args[\u001b[39m1\u001b[39m:]\n\u001b[1;32m--> 311\u001b[0m \u001b[39myield from\u001b[39;00m \u001b[39mself\u001b[39;49m\u001b[39m.\u001b[39;49m_plot_args(\n\u001b[0;32m    312\u001b[0m     this, kwargs, ambiguous_fmt_datakey\u001b[39m=\u001b[39;49mambiguous_fmt_datakey)\n",
      "File \u001b[1;32mc:\\Users\\rladn\\anaconda3\\envs\\doRegressor\\Lib\\site-packages\\matplotlib\\axes\\_base.py:504\u001b[0m, in \u001b[0;36m_process_plot_var_args._plot_args\u001b[1;34m(self, tup, kwargs, return_kwargs, ambiguous_fmt_datakey)\u001b[0m\n\u001b[0;32m    501\u001b[0m     \u001b[39mself\u001b[39m\u001b[39m.\u001b[39maxes\u001b[39m.\u001b[39myaxis\u001b[39m.\u001b[39mupdate_units(y)\n\u001b[0;32m    503\u001b[0m \u001b[39mif\u001b[39;00m x\u001b[39m.\u001b[39mshape[\u001b[39m0\u001b[39m] \u001b[39m!=\u001b[39m y\u001b[39m.\u001b[39mshape[\u001b[39m0\u001b[39m]:\n\u001b[1;32m--> 504\u001b[0m     \u001b[39mraise\u001b[39;00m \u001b[39mValueError\u001b[39;00m(\u001b[39mf\u001b[39m\u001b[39m\"\u001b[39m\u001b[39mx and y must have same first dimension, but \u001b[39m\u001b[39m\"\u001b[39m\n\u001b[0;32m    505\u001b[0m                      \u001b[39mf\u001b[39m\u001b[39m\"\u001b[39m\u001b[39mhave shapes \u001b[39m\u001b[39m{\u001b[39;00mx\u001b[39m.\u001b[39mshape\u001b[39m}\u001b[39;00m\u001b[39m and \u001b[39m\u001b[39m{\u001b[39;00my\u001b[39m.\u001b[39mshape\u001b[39m}\u001b[39;00m\u001b[39m\"\u001b[39m)\n\u001b[0;32m    506\u001b[0m \u001b[39mif\u001b[39;00m x\u001b[39m.\u001b[39mndim \u001b[39m>\u001b[39m \u001b[39m2\u001b[39m \u001b[39mor\u001b[39;00m y\u001b[39m.\u001b[39mndim \u001b[39m>\u001b[39m \u001b[39m2\u001b[39m:\n\u001b[0;32m    507\u001b[0m     \u001b[39mraise\u001b[39;00m \u001b[39mValueError\u001b[39;00m(\u001b[39mf\u001b[39m\u001b[39m\"\u001b[39m\u001b[39mx and y can be no greater than 2D, but have \u001b[39m\u001b[39m\"\u001b[39m\n\u001b[0;32m    508\u001b[0m                      \u001b[39mf\u001b[39m\u001b[39m\"\u001b[39m\u001b[39mshapes \u001b[39m\u001b[39m{\u001b[39;00mx\u001b[39m.\u001b[39mshape\u001b[39m}\u001b[39;00m\u001b[39m and \u001b[39m\u001b[39m{\u001b[39;00my\u001b[39m.\u001b[39mshape\u001b[39m}\u001b[39;00m\u001b[39m\"\u001b[39m)\n",
      "\u001b[1;31mValueError\u001b[0m: x and y must have same first dimension, but have shapes (4284,) and (119,)"
     ]
    },
    {
     "data": {
      "image/png": "[encoded data removed]",
      "text/plain": [
       "<Figure size 1500x700 with 1 Axes>"
      ]
     },
     "metadata": {},
     "output_type": "display_data"
    }
   ],
   "source": [
    "grapeNEva(X_test_reshape, y_test, y_test_reshape)"
   ]
  },
  {
   "cell_type": "code",
   "execution_count": 30,
   "metadata": {},
   "outputs": [
    {
     "name": "stdout",
     "output_type": "stream",
     "text": [
      "nCar: 7 nVar: 36\n",
      "nCar: 252 nVar: 1\n",
      "nCar: 7 nVar: 36\n",
      "1/1 [==============================] - 0s 31ms/step\n",
      "252\n"
     ]
    },
    {
     "data": {
      "image/png": "[encoded data removed]",
      "text/plain": [
       "<Figure size 1500x700 with 1 Axes>"
      ]
     },
     "metadata": {},
     "output_type": "display_data"
    },
    {
     "name": "stdout",
     "output_type": "stream",
     "text": [
      "1/1 [==============================] - 0s 32ms/step - loss: 813984640.0000 - mae: 27984.0215 - r_squared: -25.3611\n",
      "MSE // MAE // R-squared  [813984640.0, 27984.021484375, -25.361059188842773]\n"
     ]
    }
   ],
   "source": [
    "X_test = power_validation_X.loc['2017-12-01 00:00':'2017-12-02 17:50']\n",
    "\n",
    "X_test_reshape = np.asarray(X_test, dtype=np.float64)\n",
    "X_test_reshape = X_test_reshape.reshape((-1, 36, 6))\n",
    "\n",
    "# shape확인\n",
    "nCar = X_test_reshape.shape[0] # 데이터 개수\n",
    "nVar = X_test_reshape.shape[1] # 변수 개수\n",
    "print('nCar: %d' % nCar, 'nVar: %d' % nVar )\n",
    "\n",
    "y_test = power_validation_y.loc['2017-12-01 06:00':'2017-12-02 23:50']\n",
    "\n",
    "y_test_reshape = np.asarray(y_test, dtype=np.float64)\n",
    "y_test_reshape = y_test_reshape.reshape((-1, 36, 1))\n",
    "\n",
    "nCar = y_test.shape[0] # 데이터 개수\n",
    "nVar = y_test.shape[1] # 변수 개수\n",
    "print('nCar: %d' % nCar, 'nVar: %d' % nVar )\n",
    "\n",
    "nCar = y_test_reshape.shape[0] # 데이터 개수\n",
    "nVar = y_test_reshape.shape[1] # 변수 개수\n",
    "print('nCar: %d' % nCar, 'nVar: %d' % nVar )\n",
    "\n",
    "grapeNEva(X_test_reshape, y_test, y_test_reshape)"
   ]
  },
  {
   "cell_type": "code",
   "execution_count": null,
   "metadata": {},
   "outputs": [],
   "source": []
  }
 ],
 "metadata": {
  "kernelspec": {
   "display_name": "doRegressor",
   "language": "python",
   "name": "python3"
  },
  "language_info": {
   "codemirror_mode": {
    "name": "ipython",
    "version": 3
   },
   "file_extension": ".py",
   "mimetype": "text/x-python",
   "name": "python",
   "nbconvert_exporter": "python",
   "pygments_lexer": "ipython3",
   "version": "3.11.2"
  }
 },
 "nbformat": 4,
 "nbformat_minor": 2
}
