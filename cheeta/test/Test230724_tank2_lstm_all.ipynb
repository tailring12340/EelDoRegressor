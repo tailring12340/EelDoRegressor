{
 "cells": [
  {
   "cell_type": "markdown",
   "metadata": {},
   "source": [
    "라이브러리"
   ]
  },
  {
   "cell_type": "code",
   "execution_count": 8,
   "metadata": {},
   "outputs": [],
   "source": [
    "import pandas as pd\n",
    "import numpy as np\n",
    "from keras.utils import *\n",
    "from sklearn.preprocessing import *\n",
    "from keras import backend as K\n",
    "from keras.models import load_model\n",
    "from keras.layers import LSTM, Dense, concatenate, Input\n",
    "from sklearn.ensemble import GradientBoostingRegressor\n",
    "from keras.models import Model\n",
    "from keras.models import Sequential\n",
    "import matplotlib.pyplot as plt\n",
    "from keras.metrics import mean_squared_error\n",
    "from sklearn.metrics import r2_score\n",
    "import matplotlib.font_manager as fm\n",
    "from matplotlib.dates import DateFormatter\n",
    "from keras.callbacks import ModelCheckpoint, EarlyStopping, ReduceLROnPlateau\n",
    "\n",
    "# 모델명(= 파일명) 설정\n",
    "tank = 2\n",
    "model_name = 'E:/kimwoojae/Research/DO Regressor/tank2_lstm_all'"
   ]
  },
  {
   "cell_type": "code",
   "execution_count": 9,
   "metadata": {},
   "outputs": [],
   "source": [
    "# r_squared 평가 함수\n",
    "def r_squared(y_true, y_pred):\n",
    "    ss_res = K.sum(K.square(y_true - y_pred))\n",
    "    ss_tot = K.sum(K.square(y_true - K.mean(y_true)))\n",
    "    return (1 - ss_res/(ss_tot + K.epsilon()))"
   ]
  },
  {
   "cell_type": "markdown",
   "metadata": {},
   "source": [
    "데이터셋 설정"
   ]
  },
  {
   "cell_type": "code",
   "execution_count": 3,
   "metadata": {},
   "outputs": [],
   "source": [
    "#자포니카 훈련 데이터\n",
    "japonica_training_food_supply_tb = pd.read_csv(\"eeldata/data/Training/Origin/Management/Japonica/food_supply_tb.csv\")\n",
    "japonica_training_sensor_val_tb = pd.read_csv(\"eeldata/data/Training/Origin/Sensor/Japonica/sensor_val_tb.csv\")\n",
    "\n",
    "#자포니카 검증 데이터\n",
    "japonica_validation_food_supply_tb = pd.read_csv(\"eeldata/data/Validation/Origin/Management/Japonica/food_supply_tb.csv\")\n",
    "japonica_validation_sensor_val_tb = pd.read_csv(\"eeldata/data/Validation/Origin/Sensor/Japonica/sensor_val_tb.csv\")\n"
   ]
  },
  {
   "cell_type": "code",
   "execution_count": 4,
   "metadata": {},
   "outputs": [],
   "source": [
    "# 자포니카 사료 공급 데이터 정제\n",
    "# null제거\n",
    "japonica_training_food_supply_tb = japonica_training_food_supply_tb[japonica_training_food_supply_tb['feed_quantity'].notnull()]\n",
    "japonica_validation_food_supply_tb = japonica_validation_food_supply_tb[japonica_validation_food_supply_tb['feed_quantity'].notnull()]\n",
    "\n",
    "# 시계열 데이터 변환\n",
    "japonica_training_food_supply_tb['feed_dt'] = pd.to_datetime(japonica_training_food_supply_tb['feed_dt'], format='%Y%m%d%H%M', errors='raise')\n",
    "japonica_training_food_supply_tb[\"feed_dt\"] = japonica_training_food_supply_tb[\"feed_dt\"].apply(str)\n",
    "japonica_training_food_supply_tb[\"feed_dt\"] = japonica_training_food_supply_tb[\"feed_dt\"].str.slice(start=0, stop=16)\n",
    "japonica_validation_food_supply_tb['feed_dt'] = pd.to_datetime(japonica_validation_food_supply_tb['feed_dt'], format='%Y%m%d%H%M', errors='raise')\n",
    "japonica_validation_food_supply_tb[\"feed_dt\"] = japonica_validation_food_supply_tb[\"feed_dt\"].apply(str)\n",
    "japonica_validation_food_supply_tb[\"feed_dt\"] = japonica_validation_food_supply_tb[\"feed_dt\"].str.slice(start=0, stop=16)"
   ]
  },
  {
   "cell_type": "code",
   "execution_count": 5,
   "metadata": {},
   "outputs": [],
   "source": [
    "# 자포니카 센서 데이터 정제\n",
    "\n",
    "# 한 개 탱크\n",
    "japonica_training_sensor_val_tb = japonica_training_sensor_val_tb[japonica_training_sensor_val_tb['tank_id']==tank]\n",
    "japonica_validation_sensor_val_tb = japonica_validation_sensor_val_tb[japonica_validation_sensor_val_tb['tank_id']==tank]\n",
    "\n",
    "#시계열 변환\n",
    "japonica_training_sensor_val_tb[\"mea_dt\"] = japonica_training_sensor_val_tb[\"mea_dt\"].apply(str)\n",
    "japonica_training_sensor_val_tb[\"mea_dt\"] = japonica_training_sensor_val_tb[\"mea_dt\"].str.slice(start=0, stop=16)\n",
    "japonica_training_sensor_val_tb['mea_dt'] = pd.to_datetime(japonica_training_sensor_val_tb['mea_dt'], format='%Y-%m-%d %H:%M', errors='raise')\n",
    "japonica_validation_sensor_val_tb[\"mea_dt\"] = japonica_validation_sensor_val_tb[\"mea_dt\"].apply(str)\n",
    "japonica_validation_sensor_val_tb[\"mea_dt\"] = japonica_validation_sensor_val_tb[\"mea_dt\"].str.slice(start=0, stop=16)\n",
    "japonica_validation_sensor_val_tb['mea_dt'] = pd.to_datetime(japonica_validation_sensor_val_tb['mea_dt'], format='%Y-%m-%d %H:%M', errors='raise')\n",
    "\n",
    "# 시계열 데이터의 개수 확인\n",
    "training_counts = japonica_training_sensor_val_tb.groupby(japonica_training_sensor_val_tb['mea_dt'].dt.date).size()\n",
    "validation_counts = japonica_validation_sensor_val_tb.groupby(japonica_validation_sensor_val_tb['mea_dt'].dt.date).size()\n",
    "\n",
    "# 개수가 1440이 아닌 시계열 삭제\n",
    "to_delete = training_counts[training_counts != 1440].index\n",
    "japonica_training_sensor_val_tb = japonica_training_sensor_val_tb[~japonica_training_sensor_val_tb['mea_dt'].dt.date.isin(to_delete)]\n",
    "to_delete = validation_counts[validation_counts != 1440].index\n",
    "japonica_validation_sensor_val_tb = japonica_validation_sensor_val_tb[~japonica_validation_sensor_val_tb['mea_dt'].dt.date.isin(to_delete)]\n",
    "\n",
    "#시계열 데이터 문자 타입으로 변경\n",
    "japonica_training_sensor_val_tb[\"mea_dt\"] = japonica_training_sensor_val_tb[\"mea_dt\"].dt.strftime('%Y-%m-%d %H:%M')\n",
    "japonica_training_sensor_val_tb[\"mea_dt\"] = japonica_training_sensor_val_tb[\"mea_dt\"].str.slice(start=0, stop=16)\n",
    "japonica_validation_sensor_val_tb[\"mea_dt\"] = japonica_validation_sensor_val_tb[\"mea_dt\"].dt.strftime('%Y-%m-%d %H:%M')\n",
    "japonica_validation_sensor_val_tb[\"mea_dt\"] = japonica_validation_sensor_val_tb[\"mea_dt\"].str.slice(start=0, stop=16)\n"
   ]
  },
  {
   "cell_type": "code",
   "execution_count": 6,
   "metadata": {},
   "outputs": [],
   "source": [
    "# 자포니카 훈련 데이터 및 시계열 데이터 병합\n",
    "japonica_training = pd.merge(left = japonica_training_sensor_val_tb, right = japonica_training_food_supply_tb, how = \"left\", left_on = [\"farm_id\",\"tank_id\", \"mea_dt\"], right_on = [\"farm_id\",\"tank_id\", \"feed_dt\"])\n",
    "japonica_validation = pd.merge(left = japonica_validation_sensor_val_tb, right = japonica_validation_food_supply_tb, how = \"left\", left_on = [\"farm_id\",\"tank_id\", \"mea_dt\"], right_on = [\"farm_id\",\"tank_id\", \"feed_dt\"])\n",
    "\n",
    "japonica_training['mea_dt'] = pd.to_datetime(japonica_training['mea_dt'], format='%Y-%m-%d %H:%M', errors='raise')\n",
    "japonica_validation['mea_dt'] = pd.to_datetime(japonica_validation['mea_dt'], format='%Y-%m-%d %H:%M', errors='raise')\n",
    "\n",
    "# 사용할 features 선택\n",
    "feature_origin = ['tank_id','mea_dt', 'do_mg','do_temp', 'ph', 'orp', 'co2_mg', 'air_oxy', 'light_ma', 'feed_quantity', 'water_quantity']\n",
    "japonica_training_features = japonica_training[feature_origin]\n",
    "japonica_validation_features = japonica_validation[feature_origin]\n",
    "\n",
    "# nan 값 처리 (먹이를 주지 않았을 경우는 급여량이 0이니까)\n",
    "japonica_training_features = japonica_training_features.fillna(0)\n",
    "japonica_validation_features = japonica_validation_features.fillna(0)\n",
    "\n",
    "# 날짜 데이터를 인덱스로 전환\n",
    "japonica_training_features.set_index('mea_dt', inplace=True)\n",
    "japonica_validation_features.set_index('mea_dt', inplace=True)\n",
    "\n",
    "# 인덱스 순으로 데이터를 정렬\n",
    "japonica_training_data = japonica_training_features.sort_index()\n",
    "japonica_validation_data = japonica_validation_features.sort_index()\n",
    "\n",
    "# 8월 1달간 데이터만 추출\n",
    "japonica_training_data = japonica_training_data.loc['2021-07-21 00:00':'2021-09-10 23:59']\n",
    "japonica_validation_data = japonica_validation_data.loc['2021-07-21 00:00':'2021-09-10 23:59']"
   ]
  },
  {
   "cell_type": "code",
   "execution_count": 7,
   "metadata": {},
   "outputs": [],
   "source": [
    "japonica_training_features_X = japonica_training_data[['do_mg','do_temp', 'ph', 'orp', 'co2_mg', 'air_oxy', 'light_ma', 'feed_quantity', 'water_quantity']]\n",
    "japonica_training_features_y = japonica_training_data[['do_mg']]\n",
    "\n",
    "japonica_validation_features_X = japonica_validation_data[['do_mg','do_temp', 'ph', 'orp', 'co2_mg', 'air_oxy', 'light_ma', 'feed_quantity', 'water_quantity']]\n",
    "japonica_validation_features_y = japonica_validation_data[['do_mg']]"
   ]
  },
  {
   "cell_type": "code",
   "execution_count": 8,
   "metadata": {},
   "outputs": [],
   "source": [
    "japonica_training_features_X_chunks = []\n",
    "japonica_training_features_y_chunks = []\n",
    "\n",
    "for i in range(0, len(japonica_training_features_X) - 179):\n",
    "    japonica_training_features_X_chunks.append(np.array(japonica_training_features_X.iloc[i:i+180].values, dtype=np.float64))\n",
    "japonica_training_features_X_chunks = np.array(japonica_training_features_X_chunks, dtype=np.float64)\n",
    "\n",
    "for i in range(0, len(japonica_training_features_y) - 179):\n",
    "    japonica_training_features_y_chunks.append(np.array(japonica_training_features_y.iloc[i:i+180].values, dtype=np.float64))\n",
    "japonica_training_features_y_chunks = np.array(japonica_training_features_y_chunks, dtype=np.float64)"
   ]
  },
  {
   "cell_type": "code",
   "execution_count": 9,
   "metadata": {},
   "outputs": [],
   "source": [
    "japonica_validation_features_X_chunks = []\n",
    "japonica_validation_features_y_chunks = []\n",
    "\n",
    "\n",
    "for i in range(0, len(japonica_validation_features_X) - 179):\n",
    "    japonica_validation_features_X_chunks.append(np.array(japonica_validation_features_X.iloc[i:i+180].values, dtype=np.float64))\n",
    "japonica_validation_features_X_chunks = np.array(japonica_validation_features_X_chunks, dtype=np.float64)\n",
    "\n",
    "for i in range(0, len(japonica_validation_features_y) - 179):\n",
    "    japonica_validation_features_y_chunks.append(np.array(japonica_validation_features_y.iloc[i:i+180].values, dtype=np.float64))\n",
    "japonica_validation_features_y_chunks = np.array(japonica_validation_features_y_chunks, dtype=np.float64)"
   ]
  },
  {
   "cell_type": "code",
   "execution_count": 10,
   "metadata": {},
   "outputs": [
    {
     "name": "stdout",
     "output_type": "stream",
     "text": [
      "nCar: 64621 nVar: 9\n",
      "nCar: 64621 nVar: 180\n",
      "nCar: 64621 nVar: 9\n",
      "nCar: 64621 nVar: 180\n"
     ]
    }
   ],
   "source": [
    "# shape확인\n",
    "nCar = japonica_training_features_X_chunks.shape[0] # 데이터 개수\n",
    "nVar = japonica_training_features_X_chunks.shape[2] # 변수 개수\n",
    "print('nCar: %d' % nCar, 'nVar: %d' % nVar )\n",
    "\n",
    "nCar = japonica_training_features_y_chunks.shape[0] # 데이터 개수\n",
    "nVar = japonica_training_features_y_chunks.shape[1] # 변수 개수\n",
    "print('nCar: %d' % nCar, 'nVar: %d' % nVar )\n",
    "\n",
    "nCar = japonica_validation_features_X_chunks.shape[0] # 데이터 개수\n",
    "nVar = japonica_validation_features_X_chunks.shape[2] # 변수 개수\n",
    "print('nCar: %d' % nCar, 'nVar: %d' % nVar )\n",
    "\n",
    "nCar = japonica_validation_features_y_chunks.shape[0] # 데이터 개수\n",
    "nVar = japonica_validation_features_y_chunks.shape[1] # 변수 개수\n",
    "print('nCar: %d' % nCar, 'nVar: %d' % nVar )"
   ]
  },
  {
   "cell_type": "code",
   "execution_count": 11,
   "metadata": {},
   "outputs": [],
   "source": [
    "japonica_training_features_X_chunks_crop = japonica_training_features_X_chunks[:-180]\n",
    "japonica_training_features_y_chunks_crop = japonica_training_features_y_chunks[180:]\n",
    "\n",
    "japonica_validation_features_X_chunks_crop = japonica_validation_features_X_chunks[:-180]\n",
    "japonica_validation_features_y_chunks_crop = japonica_validation_features_y_chunks[180:]"
   ]
  },
  {
   "cell_type": "code",
   "execution_count": 12,
   "metadata": {},
   "outputs": [
    {
     "name": "stdout",
     "output_type": "stream",
     "text": [
      "nCar: 64441 nVar: 9\n",
      "nCar: 64441 nVar: 180\n",
      "nCar: 64441 nVar: 9\n",
      "nCar: 64441 nVar: 180\n"
     ]
    }
   ],
   "source": [
    "nCar = japonica_training_features_X_chunks_crop.shape[0] # 데이터 개수\n",
    "nVar = japonica_training_features_X_chunks_crop.shape[2] # 변수 개수\n",
    "print('nCar: %d' % nCar, 'nVar: %d' % nVar )\n",
    "\n",
    "nCar = japonica_training_features_y_chunks_crop.shape[0] # 데이터 개수\n",
    "nVar = japonica_training_features_y_chunks_crop.shape[1] # 변수 개수\n",
    "print('nCar: %d' % nCar, 'nVar: %d' % nVar )\n",
    "\n",
    "nCar = japonica_validation_features_X_chunks_crop.shape[0] # 데이터 개수\n",
    "nVar = japonica_validation_features_X_chunks_crop.shape[2] # 변수 개수\n",
    "print('nCar: %d' % nCar, 'nVar: %d' % nVar )\n",
    "\n",
    "nCar = japonica_validation_features_y_chunks_crop.shape[0] # 데이터 개수\n",
    "nVar = japonica_validation_features_y_chunks_crop.shape[1] # 변수 개수\n",
    "print('nCar: %d' % nCar, 'nVar: %d' % nVar )"
   ]
  },
  {
   "cell_type": "markdown",
   "metadata": {},
   "source": [
    "LSTM 모델 학습 (학습시에만 사용, 그외에는 불필요)"
   ]
  },
  {
   "cell_type": "code",
   "execution_count": null,
   "metadata": {
    "scrolled": false
   },
   "outputs": [
    {
     "name": "stderr",
     "output_type": "stream",
     "text": [
      "2023-07-25 00:05:23.516009: I tensorflow/core/platform/cpu_feature_guard.cc:142] This TensorFlow binary is optimized with oneAPI Deep Neural Network Library (oneDNN) to use the following CPU instructions in performance-critical operations:  AVX2 AVX512F FMA\n",
      "To enable them in other operations, rebuild TensorFlow with the appropriate compiler flags.\n",
      "2023-07-25 00:05:24.426515: I tensorflow/core/common_runtime/gpu/gpu_device.cc:1510] Created device /job:localhost/replica:0/task:0/device:GPU:0 with 7951 MB memory:  -> device: 0, name: NVIDIA A100 80GB PCIe MIG 1g.10gb, pci bus id: 0000:52:00.0, compute capability: 8.0\n"
     ]
    },
    {
     "name": "stdout",
     "output_type": "stream",
     "text": [
      "Model: \"sequential\"\n",
      "_________________________________________________________________\n",
      "Layer (type)                 Output Shape              Param #   \n",
      "=================================================================\n",
      "lstm (LSTM)                  (None, 180, 128)          70656     \n",
      "_________________________________________________________________\n",
      "lstm_1 (LSTM)                (None, 180, 64)           49408     \n",
      "_________________________________________________________________\n",
      "lstm_2 (LSTM)                (None, 32)                12416     \n",
      "_________________________________________________________________\n",
      "dense (Dense)                (None, 180)               5940      \n",
      "=================================================================\n",
      "Total params: 138,420\n",
      "Trainable params: 138,420\n",
      "Non-trainable params: 0\n",
      "_________________________________________________________________\n"
     ]
    },
    {
     "name": "stderr",
     "output_type": "stream",
     "text": [
      "2023-07-25 00:05:26.663793: I tensorflow/compiler/mlir/mlir_graph_optimization_pass.cc:185] None of the MLIR Optimization Passes are enabled (registered 2)\n"
     ]
    },
    {
     "name": "stdout",
     "output_type": "stream",
     "text": [
      "Epoch 1/200\n"
     ]
    },
    {
     "name": "stderr",
     "output_type": "stream",
     "text": [
      "2023-07-25 00:05:30.587440: I tensorflow/stream_executor/cuda/cuda_dnn.cc:369] Loaded cuDNN version 8200\n",
      "2023-07-25 00:05:31.575268: I tensorflow/stream_executor/cuda/cuda_blas.cc:1760] TensorFloat-32 will be used for the matrix multiplication. This will only be logged once.\n"
     ]
    },
    {
     "name": "stdout",
     "output_type": "stream",
     "text": [
      "2014/2014 [==============================] - 97s 46ms/step - loss: 6.4034 - mae: 1.7278 - r_squared: -1.4146 - val_loss: 2.7581 - val_mae: 1.2561 - val_r_squared: -63.2442\n",
      "Epoch 2/200\n",
      "2014/2014 [==============================] - 96s 48ms/step - loss: 1.2641 - mae: 0.7665 - r_squared: 0.5224 - val_loss: 0.5307 - val_mae: 0.5059 - val_r_squared: -4.9539\n",
      "Epoch 3/200\n",
      "2014/2014 [==============================] - 92s 46ms/step - loss: 0.4416 - mae: 0.4510 - r_squared: 0.8254 - val_loss: 0.3994 - val_mae: 0.4222 - val_r_squared: -2.5281\n",
      "Epoch 4/200\n",
      "2014/2014 [==============================] - 94s 47ms/step - loss: 0.4109 - mae: 0.4364 - r_squared: 0.8358 - val_loss: 0.4376 - val_mae: 0.4831 - val_r_squared: -4.6499\n",
      "Epoch 5/200\n",
      "2014/2014 [==============================] - 93s 46ms/step - loss: 0.4027 - mae: 0.4312 - r_squared: 0.8393 - val_loss: 0.3804 - val_mae: 0.4178 - val_r_squared: -2.7819\n",
      "Epoch 6/200\n",
      "2014/2014 [==============================] - 93s 46ms/step - loss: 0.3901 - mae: 0.4227 - r_squared: 0.8445 - val_loss: 0.3769 - val_mae: 0.4109 - val_r_squared: -2.6810\n",
      "Epoch 7/200\n",
      "2014/2014 [==============================] - 95s 47ms/step - loss: 0.3879 - mae: 0.4202 - r_squared: 0.8459 - val_loss: 0.3911 - val_mae: 0.4265 - val_r_squared: -3.1629\n",
      "Epoch 8/200\n",
      "2014/2014 [==============================] - 91s 45ms/step - loss: 0.3730 - mae: 0.4115 - r_squared: 0.8512 - val_loss: 0.3698 - val_mae: 0.4077 - val_r_squared: -2.4122\n",
      "Epoch 9/200\n",
      "2014/2014 [==============================] - 97s 48ms/step - loss: 0.3630 - mae: 0.4038 - r_squared: 0.8563 - val_loss: 0.3881 - val_mae: 0.4255 - val_r_squared: -3.0819\n",
      "Epoch 10/200\n",
      "1705/2014 [========================>.....] - ETA: 10s - loss: 0.3548 - mae: 0.3976 - r_squared: 0.8588"
     ]
    },
    {
     "name": "stderr",
     "output_type": "stream",
     "text": [
      "IOPub message rate exceeded.\n",
      "The Jupyter server will temporarily stop sending output\n",
      "to the client in order to avoid crashing it.\n",
      "To change this limit, set the config variable\n",
      "`--ServerApp.iopub_msg_rate_limit`.\n",
      "\n",
      "Current values:\n",
      "ServerApp.iopub_msg_rate_limit=1000.0 (msgs/sec)\n",
      "ServerApp.rate_limit_window=3.0 (secs)\n",
      "\n"
     ]
    },
    {
     "name": "stdout",
     "output_type": "stream",
     "text": [
      "2014/2014 [==============================] - 89s 44ms/step - loss: 0.2336 - mae: 0.3168 - r_squared: 0.9069 - val_loss: 0.2142 - val_mae: 0.3022 - val_r_squared: -1.3001\n",
      "Epoch 18/200\n",
      "2014/2014 [==============================] - 91s 45ms/step - loss: 0.2259 - mae: 0.3122 - r_squared: 0.9105 - val_loss: 0.2083 - val_mae: 0.3037 - val_r_squared: -1.6572\n",
      "Epoch 19/200\n",
      "2014/2014 [==============================] - 88s 44ms/step - loss: 0.2273 - mae: 0.3119 - r_squared: 0.9099 - val_loss: 0.2389 - val_mae: 0.3124 - val_r_squared: -2.4124\n",
      "Epoch 20/200\n",
      "2014/2014 [==============================] - 93s 46ms/step - loss: 0.2116 - mae: 0.3006 - r_squared: 0.9158 - val_loss: 0.1975 - val_mae: 0.2840 - val_r_squared: -1.2513\n",
      "Epoch 21/200\n",
      "2014/2014 [==============================] - 88s 44ms/step - loss: 0.2072 - mae: 0.2979 - r_squared: 0.9176 - val_loss: 0.2047 - val_mae: 0.2933 - val_r_squared: -1.2956\n",
      "Epoch 22/200\n",
      "2014/2014 [==============================] - 93s 46ms/step - loss: 0.1984 - mae: 0.2904 - r_squared: 0.9208 - val_loss: 0.2685 - val_mae: 0.3276 - val_r_squared: -1.6225\n",
      "Epoch 23/200\n",
      "2014/2014 [==============================] - 89s 44ms/step - loss: 0.2027 - mae: 0.2936 - r_squared: 0.9194 - val_loss: 0.1837 - val_mae: 0.2848 - val_r_squared: -1.1346\n",
      "Epoch 24/200\n",
      "2014/2014 [==============================] - 92s 46ms/step - loss: 0.2117 - mae: 0.2985 - r_squared: 0.9158 - val_loss: 0.2023 - val_mae: 0.3089 - val_r_squared: -1.9225\n",
      "Epoch 25/200\n",
      "2014/2014 [==============================] - 89s 44ms/step - loss: 0.1894 - mae: 0.2832 - r_squared: 0.9249 - val_loss: 0.2096 - val_mae: 0.2979 - val_r_squared: -2.0304\n",
      "Epoch 26/200\n",
      "2014/2014 [==============================] - 91s 45ms/step - loss: 0.2033 - mae: 0.2911 - r_squared: 0.9185 - val_loss: 0.3203 - val_mae: 0.3877 - val_r_squared: -3.6311\n",
      "\n",
      "Epoch 00026: ReduceLROnPlateau reducing learning rate to 0.00010000000474974513.\n",
      "Epoch 27/200\n",
      "2014/2014 [==============================] - 89s 44ms/step - loss: 0.1763 - mae: 0.2642 - r_squared: 0.9294 - val_loss: 0.1658 - val_mae: 0.2565 - val_r_squared: -0.7433\n",
      "Epoch 28/200\n",
      "2014/2014 [==============================] - 92s 46ms/step - loss: 0.1635 - mae: 0.2579 - r_squared: 0.9350 - val_loss: 0.1634 - val_mae: 0.2610 - val_r_squared: -0.9381\n",
      "Epoch 29/200\n",
      "1274/2014 [=================>............] - ETA: 23s - loss: 0.1577 - mae: 0.2554 - r_squared: 0.9369"
     ]
    },
    {
     "name": "stderr",
     "output_type": "stream",
     "text": [
      "IOPub message rate exceeded.\n",
      "The Jupyter server will temporarily stop sending output\n",
      "to the client in order to avoid crashing it.\n",
      "To change this limit, set the config variable\n",
      "`--ServerApp.iopub_msg_rate_limit`.\n",
      "\n",
      "Current values:\n",
      "ServerApp.iopub_msg_rate_limit=1000.0 (msgs/sec)\n",
      "ServerApp.rate_limit_window=3.0 (secs)\n",
      "\n"
     ]
    },
    {
     "name": "stdout",
     "output_type": "stream",
     "text": [
      "2014/2014 [==============================] - 91s 45ms/step - loss: 0.1386 - mae: 0.2403 - r_squared: 0.9442 - val_loss: 0.1369 - val_mae: 0.2403 - val_r_squared: -0.5815\n",
      "Epoch 37/200\n",
      "2014/2014 [==============================] - 87s 43ms/step - loss: 0.1467 - mae: 0.2406 - r_squared: 0.9424 - val_loss: 0.1335 - val_mae: 0.2361 - val_r_squared: -0.5326\n",
      "Epoch 38/200\n",
      "2014/2014 [==============================] - 91s 45ms/step - loss: 0.1363 - mae: 0.2386 - r_squared: 0.9458 - val_loss: 0.1375 - val_mae: 0.2395 - val_r_squared: -0.6260\n",
      "Epoch 39/200\n",
      "1047/2014 [==============>...............] - ETA: 29s - loss: 0.1362 - mae: 0.2382 - r_squared: 0.9456"
     ]
    },
    {
     "name": "stderr",
     "output_type": "stream",
     "text": [
      "IOPub message rate exceeded.\n",
      "The Jupyter server will temporarily stop sending output\n",
      "to the client in order to avoid crashing it.\n",
      "To change this limit, set the config variable\n",
      "`--ServerApp.iopub_msg_rate_limit`.\n",
      "\n",
      "Current values:\n",
      "ServerApp.iopub_msg_rate_limit=1000.0 (msgs/sec)\n",
      "ServerApp.rate_limit_window=3.0 (secs)\n",
      "\n"
     ]
    },
    {
     "name": "stdout",
     "output_type": "stream",
     "text": [
      "2014/2014 [==============================] - 86s 42ms/step - loss: 0.1282 - mae: 0.2314 - r_squared: 0.9490 - val_loss: 0.1278 - val_mae: 0.2312 - val_r_squared: -0.4914\n",
      "Epoch 46/200\n",
      "2014/2014 [==============================] - 96s 48ms/step - loss: 0.1280 - mae: 0.2313 - r_squared: 0.9489 - val_loss: 0.1277 - val_mae: 0.2309 - val_r_squared: -0.4859\n",
      "Epoch 47/200\n",
      "2014/2014 [==============================] - 86s 43ms/step - loss: 0.1278 - mae: 0.2311 - r_squared: 0.9490 - val_loss: 0.1278 - val_mae: 0.2311 - val_r_squared: -0.4910\n",
      "Epoch 48/200\n",
      "1068/2014 [==============>...............] - ETA: 31s - loss: 0.1279 - mae: 0.2314 - r_squared: 0.9490"
     ]
    },
    {
     "name": "stderr",
     "output_type": "stream",
     "text": [
      "IOPub message rate exceeded.\n",
      "The Jupyter server will temporarily stop sending output\n",
      "to the client in order to avoid crashing it.\n",
      "To change this limit, set the config variable\n",
      "`--ServerApp.iopub_msg_rate_limit`.\n",
      "\n",
      "Current values:\n",
      "ServerApp.iopub_msg_rate_limit=1000.0 (msgs/sec)\n",
      "ServerApp.rate_limit_window=3.0 (secs)\n",
      "\n"
     ]
    },
    {
     "name": "stdout",
     "output_type": "stream",
     "text": [
      "2014/2014 [==============================] - 87s 43ms/step - loss: 0.1265 - mae: 0.2302 - r_squared: 0.9496 - val_loss: 0.1262 - val_mae: 0.2299 - val_r_squared: -0.4774\n",
      "Epoch 56/200\n",
      "2014/2014 [==============================] - 91s 45ms/step - loss: 0.1263 - mae: 0.2301 - r_squared: 0.9499 - val_loss: 0.1263 - val_mae: 0.2299 - val_r_squared: -0.4777\n",
      "Epoch 57/200\n",
      "2014/2014 [==============================] - 88s 44ms/step - loss: 0.1261 - mae: 0.2299 - r_squared: 0.9496 - val_loss: 0.1259 - val_mae: 0.2296 - val_r_squared: -0.4729\n",
      "Epoch 58/200\n",
      " 563/2014 [=======>......................] - ETA: 51s - loss: 0.1272 - mae: 0.2304 - r_squared: 0.9497"
     ]
    },
    {
     "name": "stderr",
     "output_type": "stream",
     "text": [
      "IOPub message rate exceeded.\n",
      "The Jupyter server will temporarily stop sending output\n",
      "to the client in order to avoid crashing it.\n",
      "To change this limit, set the config variable\n",
      "`--ServerApp.iopub_msg_rate_limit`.\n",
      "\n",
      "Current values:\n",
      "ServerApp.iopub_msg_rate_limit=1000.0 (msgs/sec)\n",
      "ServerApp.rate_limit_window=3.0 (secs)\n",
      "\n"
     ]
    },
    {
     "name": "stdout",
     "output_type": "stream",
     "text": [
      "2014/2014 [==============================] - 91s 45ms/step - loss: 0.1250 - mae: 0.2290 - r_squared: 0.9501 - val_loss: 0.1249 - val_mae: 0.2289 - val_r_squared: -0.4706\n",
      "Epoch 65/200\n",
      "2014/2014 [==============================] - 95s 47ms/step - loss: 0.1250 - mae: 0.2290 - r_squared: 0.9501 - val_loss: 0.1248 - val_mae: 0.2287 - val_r_squared: -0.4682\n",
      "Epoch 66/200\n",
      "2014/2014 [==============================] - 87s 43ms/step - loss: 0.1248 - mae: 0.2288 - r_squared: 0.9504 - val_loss: 0.1249 - val_mae: 0.2289 - val_r_squared: -0.4716\n",
      "Epoch 67/200\n",
      "2014/2014 [==============================] - 92s 46ms/step - loss: 0.1247 - mae: 0.2287 - r_squared: 0.9498 - val_loss: 0.1245 - val_mae: 0.2285 - val_r_squared: -0.4712\n",
      "Epoch 68/200\n",
      "2014/2014 [==============================] - 85s 42ms/step - loss: 0.1246 - mae: 0.2286 - r_squared: 0.9502 - val_loss: 0.1243 - val_mae: 0.2284 - val_r_squared: -0.4703\n",
      "Epoch 69/200\n",
      "2014/2014 [==============================] - 90s 45ms/step - loss: 0.1244 - mae: 0.2285 - r_squared: 0.9506 - val_loss: 0.1244 - val_mae: 0.2288 - val_r_squared: -0.4701\n",
      "Epoch 70/200\n",
      "2014/2014 [==============================] - 88s 44ms/step - loss: 0.1243 - mae: 0.2283 - r_squared: 0.9504 - val_loss: 0.1239 - val_mae: 0.2280 - val_r_squared: -0.4652\n",
      "Epoch 71/200\n",
      "2014/2014 [==============================] - 89s 44ms/step - loss: 0.1241 - mae: 0.2282 - r_squared: 0.9505 - val_loss: 0.1239 - val_mae: 0.2279 - val_r_squared: -0.4618\n",
      "Epoch 72/200\n",
      "2014/2014 [==============================] - 88s 44ms/step - loss: 0.1240 - mae: 0.2281 - r_squared: 0.9506 - val_loss: 0.1238 - val_mae: 0.2279 - val_r_squared: -0.4605\n",
      "Epoch 73/200\n",
      "2014/2014 [==============================] - 88s 44ms/step - loss: 0.1238 - mae: 0.2280 - r_squared: 0.9508 - val_loss: 0.1237 - val_mae: 0.2279 - val_r_squared: -0.4632\n",
      "Epoch 74/200\n",
      "1964/2014 [============================>.] - ETA: 1s - loss: 0.1234 - mae: 0.2278 - r_squared: 0.9510"
     ]
    },
    {
     "name": "stderr",
     "output_type": "stream",
     "text": [
      "IOPub message rate exceeded.\n",
      "The Jupyter server will temporarily stop sending output\n",
      "to the client in order to avoid crashing it.\n",
      "To change this limit, set the config variable\n",
      "`--ServerApp.iopub_msg_rate_limit`.\n",
      "\n",
      "Current values:\n",
      "ServerApp.iopub_msg_rate_limit=1000.0 (msgs/sec)\n",
      "ServerApp.rate_limit_window=3.0 (secs)\n",
      "\n"
     ]
    },
    {
     "name": "stdout",
     "output_type": "stream",
     "text": [
      "2014/2014 [==============================] - 87s 43ms/step - loss: 0.1228 - mae: 0.2271 - r_squared: 0.9511 - val_loss: 0.1225 - val_mae: 0.2268 - val_r_squared: -0.4529\n",
      "Epoch 82/200\n",
      "2014/2014 [==============================] - 91s 45ms/step - loss: 0.1226 - mae: 0.2270 - r_squared: 0.9511 - val_loss: 0.1225 - val_mae: 0.2269 - val_r_squared: -0.4565\n",
      "Epoch 83/200\n",
      "2014/2014 [==============================] - 87s 43ms/step - loss: 0.1225 - mae: 0.2269 - r_squared: 0.9513 - val_loss: 0.1221 - val_mae: 0.2264 - val_r_squared: -0.4457\n",
      "Epoch 84/200\n",
      "2014/2014 [==============================] - 93s 46ms/step - loss: 0.1223 - mae: 0.2268 - r_squared: 0.9513 - val_loss: 0.1221 - val_mae: 0.2266 - val_r_squared: -0.4480\n",
      "Epoch 85/200\n",
      "2014/2014 [==============================] - 86s 42ms/step - loss: 0.1222 - mae: 0.2267 - r_squared: 0.9516 - val_loss: 0.1219 - val_mae: 0.2264 - val_r_squared: -0.4476\n",
      "Epoch 86/200\n",
      "2014/2014 [==============================] - 90s 45ms/step - loss: 0.1220 - mae: 0.2266 - r_squared: 0.9514 - val_loss: 0.1218 - val_mae: 0.2263 - val_r_squared: -0.4455\n",
      "Epoch 87/200\n",
      "2014/2014 [==============================] - 85s 42ms/step - loss: 0.1219 - mae: 0.2264 - r_squared: 0.9513 - val_loss: 0.1215 - val_mae: 0.2262 - val_r_squared: -0.4487\n",
      "Epoch 88/200\n",
      "2014/2014 [==============================] - 91s 45ms/step - loss: 0.1217 - mae: 0.2263 - r_squared: 0.9513 - val_loss: 0.1215 - val_mae: 0.2260 - val_r_squared: -0.4472\n",
      "Epoch 89/200\n",
      "2014/2014 [==============================] - 85s 42ms/step - loss: 0.1216 - mae: 0.2263 - r_squared: 0.9514 - val_loss: 0.1216 - val_mae: 0.2261 - val_r_squared: -0.4433\n",
      "Epoch 90/200\n",
      "2014/2014 [==============================] - 89s 44ms/step - loss: 0.1214 - mae: 0.2261 - r_squared: 0.9517 - val_loss: 0.1213 - val_mae: 0.2261 - val_r_squared: -0.4466\n",
      "Epoch 91/200\n",
      "2014/2014 [==============================] - 89s 44ms/step - loss: 0.1213 - mae: 0.2260 - r_squared: 0.9515 - val_loss: 0.1211 - val_mae: 0.2259 - val_r_squared: -0.4500\n",
      "Epoch 92/200\n",
      " 784/2014 [==========>...................] - ETA: 38s - loss: 0.1226 - mae: 0.2265 - r_squared: 0.9518"
     ]
    },
    {
     "name": "stderr",
     "output_type": "stream",
     "text": [
      "IOPub message rate exceeded.\n",
      "The Jupyter server will temporarily stop sending output\n",
      "to the client in order to avoid crashing it.\n",
      "To change this limit, set the config variable\n",
      "`--ServerApp.iopub_msg_rate_limit`.\n",
      "\n",
      "Current values:\n",
      "ServerApp.iopub_msg_rate_limit=1000.0 (msgs/sec)\n",
      "ServerApp.rate_limit_window=3.0 (secs)\n",
      "\n"
     ]
    },
    {
     "name": "stdout",
     "output_type": "stream",
     "text": [
      "2014/2014 [==============================] - 87s 43ms/step - loss: 0.1200 - mae: 0.2252 - r_squared: 0.9522 - val_loss: 0.1197 - val_mae: 0.2248 - val_r_squared: -0.4391\n",
      "Epoch 100/200\n",
      "2014/2014 [==============================] - 90s 45ms/step - loss: 0.1199 - mae: 0.2251 - r_squared: 0.9522 - val_loss: 0.1197 - val_mae: 0.2250 - val_r_squared: -0.4426\n",
      "Epoch 101/200\n",
      "2014/2014 [==============================] - 88s 44ms/step - loss: 0.1197 - mae: 0.2249 - r_squared: 0.9525 - val_loss: 0.1202 - val_mae: 0.2261 - val_r_squared: -0.4735\n",
      "Epoch 102/200\n",
      " 909/2014 [============>.................] - ETA: 35s - loss: 0.1201 - mae: 0.2256 - r_squared: 0.9517"
     ]
    },
    {
     "name": "stderr",
     "output_type": "stream",
     "text": [
      "IOPub message rate exceeded.\n",
      "The Jupyter server will temporarily stop sending output\n",
      "to the client in order to avoid crashing it.\n",
      "To change this limit, set the config variable\n",
      "`--ServerApp.iopub_msg_rate_limit`.\n",
      "\n",
      "Current values:\n",
      "ServerApp.iopub_msg_rate_limit=1000.0 (msgs/sec)\n",
      "ServerApp.rate_limit_window=3.0 (secs)\n",
      "\n"
     ]
    },
    {
     "name": "stdout",
     "output_type": "stream",
     "text": [
      "2014/2014 [==============================] - 87s 43ms/step - loss: 0.1182 - mae: 0.2242 - r_squared: 0.9532 - val_loss: 0.1181 - val_mae: 0.2240 - val_r_squared: -0.4365\n",
      "Epoch 110/200\n",
      "1620/2014 [=======================>......] - ETA: 12s - loss: 0.1174 - mae: 0.2237 - r_squared: 0.9529"
     ]
    },
    {
     "name": "stderr",
     "output_type": "stream",
     "text": [
      "IOPub message rate exceeded.\n",
      "The Jupyter server will temporarily stop sending output\n",
      "to the client in order to avoid crashing it.\n",
      "To change this limit, set the config variable\n",
      "`--ServerApp.iopub_msg_rate_limit`.\n",
      "\n",
      "Current values:\n",
      "ServerApp.iopub_msg_rate_limit=1000.0 (msgs/sec)\n",
      "ServerApp.rate_limit_window=3.0 (secs)\n",
      "\n"
     ]
    },
    {
     "name": "stdout",
     "output_type": "stream",
     "text": [
      "2014/2014 [==============================] - 98s 49ms/step - loss: 0.1176 - mae: 0.2237 - r_squared: 0.9533 - val_loss: 0.1172 - val_mae: 0.2234 - val_r_squared: -0.4303\n",
      "Epoch 113/200\n",
      "1355/2014 [===================>..........] - ETA: 22s - loss: 0.1164 - mae: 0.2237 - r_squared: 0.9535"
     ]
    },
    {
     "name": "stderr",
     "output_type": "stream",
     "text": [
      "IOPub message rate exceeded.\n",
      "The Jupyter server will temporarily stop sending output\n",
      "to the client in order to avoid crashing it.\n",
      "To change this limit, set the config variable\n",
      "`--ServerApp.iopub_msg_rate_limit`.\n",
      "\n",
      "Current values:\n",
      "ServerApp.iopub_msg_rate_limit=1000.0 (msgs/sec)\n",
      "ServerApp.rate_limit_window=3.0 (secs)\n",
      "\n"
     ]
    },
    {
     "name": "stdout",
     "output_type": "stream",
     "text": [
      "2014/2014 [==============================] - 89s 44ms/step - loss: 0.1170 - mae: 0.2233 - r_squared: 0.9530 - val_loss: 0.1166 - val_mae: 0.2229 - val_r_squared: -0.4260\n",
      "Epoch 116/200\n",
      "2014/2014 [==============================] - 90s 45ms/step - loss: 0.1180 - mae: 0.2233 - r_squared: 0.9529 - val_loss: 0.1507 - val_mae: 0.2282 - val_r_squared: -0.6135\n",
      "Epoch 117/200\n",
      "2014/2014 [==============================] - 86s 43ms/step - loss: 0.1174 - mae: 0.2234 - r_squared: 0.9534 - val_loss: 0.1163 - val_mae: 0.2231 - val_r_squared: -0.4367\n",
      "Epoch 118/200\n",
      "2014/2014 [==============================] - 89s 44ms/step - loss: 0.1164 - mae: 0.2230 - r_squared: 0.9534 - val_loss: 0.1162 - val_mae: 0.2228 - val_r_squared: -0.4259\n",
      "Epoch 119/200\n",
      "2014/2014 [==============================] - 87s 43ms/step - loss: 0.1162 - mae: 0.2228 - r_squared: 0.9539 - val_loss: 0.1161 - val_mae: 0.2226 - val_r_squared: -0.4146\n",
      "Epoch 120/200\n",
      "2014/2014 [==============================] - 92s 45ms/step - loss: 0.1160 - mae: 0.2226 - r_squared: 0.9541 - val_loss: 0.1158 - val_mae: 0.2226 - val_r_squared: -0.4198\n",
      "Epoch 121/200\n",
      "2014/2014 [==============================] - 85s 42ms/step - loss: 0.1158 - mae: 0.2225 - r_squared: 0.9535 - val_loss: 0.1162 - val_mae: 0.2229 - val_r_squared: -0.4385\n",
      "Epoch 122/200\n",
      "2014/2014 [==============================] - 93s 46ms/step - loss: 0.1155 - mae: 0.2222 - r_squared: 0.9541 - val_loss: 0.1153 - val_mae: 0.2219 - val_r_squared: -0.4045\n",
      "Epoch 123/200\n",
      "2014/2014 [==============================] - 85s 42ms/step - loss: 0.1154 - mae: 0.2222 - r_squared: 0.9543 - val_loss: 0.1150 - val_mae: 0.2216 - val_r_squared: -0.4033\n",
      "Epoch 124/200\n",
      "2014/2014 [==============================] - 93s 46ms/step - loss: 0.1152 - mae: 0.2219 - r_squared: 0.9542 - val_loss: 0.1150 - val_mae: 0.2214 - val_r_squared: -0.4050\n",
      "Epoch 125/200\n",
      "1461/2014 [====================>.........] - ETA: 17s - loss: 0.1153 - mae: 0.2222 - r_squared: 0.9542"
     ]
    },
    {
     "name": "stderr",
     "output_type": "stream",
     "text": [
      "IOPub message rate exceeded.\n",
      "The Jupyter server will temporarily stop sending output\n",
      "to the client in order to avoid crashing it.\n",
      "To change this limit, set the config variable\n",
      "`--ServerApp.iopub_msg_rate_limit`.\n",
      "\n",
      "Current values:\n",
      "ServerApp.iopub_msg_rate_limit=1000.0 (msgs/sec)\n",
      "ServerApp.rate_limit_window=3.0 (secs)\n",
      "\n"
     ]
    },
    {
     "name": "stdout",
     "output_type": "stream",
     "text": [
      "2014/2014 [==============================] - 91s 45ms/step - loss: 0.1136 - mae: 0.2205 - r_squared: 0.9550 - val_loss: 0.1149 - val_mae: 0.2209 - val_r_squared: -0.4323\n",
      "Epoch 133/200\n",
      "2014/2014 [==============================] - 86s 43ms/step - loss: 0.1136 - mae: 0.2204 - r_squared: 0.9547 - val_loss: 0.1133 - val_mae: 0.2202 - val_r_squared: -0.3896\n",
      "Epoch 134/200\n",
      " 735/2014 [=========>....................] - ETA: 42s - loss: 0.1121 - mae: 0.2200 - r_squared: 0.9558"
     ]
    },
    {
     "name": "stderr",
     "output_type": "stream",
     "text": [
      "IOPub message rate exceeded.\n",
      "The Jupyter server will temporarily stop sending output\n",
      "to the client in order to avoid crashing it.\n",
      "To change this limit, set the config variable\n",
      "`--ServerApp.iopub_msg_rate_limit`.\n",
      "\n",
      "Current values:\n",
      "ServerApp.iopub_msg_rate_limit=1000.0 (msgs/sec)\n",
      "ServerApp.rate_limit_window=3.0 (secs)\n",
      "\n"
     ]
    },
    {
     "name": "stdout",
     "output_type": "stream",
     "text": [
      "2014/2014 [==============================] - 97s 48ms/step - loss: 0.1132 - mae: 0.2200 - r_squared: 0.9548 - val_loss: 0.1129 - val_mae: 0.2198 - val_r_squared: -0.3747\n",
      "Epoch 136/200\n",
      " 996/2014 [=============>................] - ETA: 33s - loss: 0.1117 - mae: 0.2192 - r_squared: 0.9557"
     ]
    },
    {
     "name": "stderr",
     "output_type": "stream",
     "text": [
      "IOPub message rate exceeded.\n",
      "The Jupyter server will temporarily stop sending output\n",
      "to the client in order to avoid crashing it.\n",
      "To change this limit, set the config variable\n",
      "`--ServerApp.iopub_msg_rate_limit`.\n",
      "\n",
      "Current values:\n",
      "ServerApp.iopub_msg_rate_limit=1000.0 (msgs/sec)\n",
      "ServerApp.rate_limit_window=3.0 (secs)\n",
      "\n"
     ]
    },
    {
     "name": "stdout",
     "output_type": "stream",
     "text": [
      "2014/2014 [==============================] - 86s 43ms/step - loss: 0.1117 - mae: 0.2186 - r_squared: 0.9554 - val_loss: 0.1114 - val_mae: 0.2182 - val_r_squared: -0.3613\n",
      "Epoch 146/200\n",
      "2014/2014 [==============================] - 90s 45ms/step - loss: 0.1117 - mae: 0.2186 - r_squared: 0.9556 - val_loss: 0.1129 - val_mae: 0.2204 - val_r_squared: -0.3959\n",
      "Epoch 147/200\n",
      "2014/2014 [==============================] - 85s 42ms/step - loss: 0.1116 - mae: 0.2186 - r_squared: 0.9556 - val_loss: 0.1112 - val_mae: 0.2182 - val_r_squared: -0.3689\n",
      "Epoch 148/200\n",
      "2014/2014 [==============================] - 93s 46ms/step - loss: 0.1112 - mae: 0.2183 - r_squared: 0.9558 - val_loss: 0.1112 - val_mae: 0.2182 - val_r_squared: -0.3588\n",
      "Epoch 149/200\n",
      "   1/2014 [..............................] - ETA: 1:10 - loss: 0.1083 - mae: 0.2284 - r_squared: 0.9499"
     ]
    },
    {
     "name": "stderr",
     "output_type": "stream",
     "text": [
      "IOPub message rate exceeded.\n",
      "The Jupyter server will temporarily stop sending output\n",
      "to the client in order to avoid crashing it.\n",
      "To change this limit, set the config variable\n",
      "`--ServerApp.iopub_msg_rate_limit`.\n",
      "\n",
      "Current values:\n",
      "ServerApp.iopub_msg_rate_limit=1000.0 (msgs/sec)\n",
      "ServerApp.rate_limit_window=3.0 (secs)\n",
      "\n"
     ]
    },
    {
     "name": "stdout",
     "output_type": "stream",
     "text": [
      "2014/2014 [==============================] - 88s 44ms/step - loss: 0.1099 - mae: 0.2170 - r_squared: 0.9564 - val_loss: 0.1095 - val_mae: 0.2166 - val_r_squared: -0.3466\n",
      "Epoch 160/200\n",
      "2014/2014 [==============================] - 91s 45ms/step - loss: 0.1108 - mae: 0.2174 - r_squared: 0.9559 - val_loss: 0.1096 - val_mae: 0.2167 - val_r_squared: -0.3462\n",
      "Epoch 161/200\n",
      "2014/2014 [==============================] - 88s 44ms/step - loss: 0.1096 - mae: 0.2167 - r_squared: 0.9563 - val_loss: 0.1095 - val_mae: 0.2168 - val_r_squared: -0.3515\n",
      "Epoch 162/200\n",
      " 633/2014 [========>.....................] - ETA: 48s - loss: 0.1136 - mae: 0.2188 - r_squared: 0.9550"
     ]
    },
    {
     "name": "stderr",
     "output_type": "stream",
     "text": [
      "IOPub message rate exceeded.\n",
      "The Jupyter server will temporarily stop sending output\n",
      "to the client in order to avoid crashing it.\n",
      "To change this limit, set the config variable\n",
      "`--ServerApp.iopub_msg_rate_limit`.\n",
      "\n",
      "Current values:\n",
      "ServerApp.iopub_msg_rate_limit=1000.0 (msgs/sec)\n",
      "ServerApp.rate_limit_window=3.0 (secs)\n",
      "\n"
     ]
    },
    {
     "name": "stdout",
     "output_type": "stream",
     "text": [
      "2014/2014 [==============================] - 88s 44ms/step - loss: 0.1090 - mae: 0.2161 - r_squared: 0.9563 - val_loss: 0.1090 - val_mae: 0.2161 - val_r_squared: -0.3396\n",
      "Epoch 171/200\n",
      "2014/2014 [==============================] - 95s 47ms/step - loss: 0.1090 - mae: 0.2161 - r_squared: 0.9566 - val_loss: 0.1090 - val_mae: 0.2161 - val_r_squared: -0.3396\n",
      "Epoch 172/200\n",
      "2014/2014 [==============================] - 92s 46ms/step - loss: 0.1090 - mae: 0.2161 - r_squared: 0.9564 - val_loss: 0.1090 - val_mae: 0.2161 - val_r_squared: -0.3396\n",
      "\n",
      "Epoch 00172: ReduceLROnPlateau reducing learning rate to 1.000000082740371e-09.\n",
      "Epoch 173/200\n",
      "2014/2014 [==============================] - 88s 44ms/step - loss: 0.1090 - mae: 0.2161 - r_squared: 0.9562 - val_loss: 0.1090 - val_mae: 0.2161 - val_r_squared: -0.3396\n",
      "Epoch 174/200\n",
      "2014/2014 [==============================] - 89s 44ms/step - loss: 0.1090 - mae: 0.2161 - r_squared: 0.9565 - val_loss: 0.1090 - val_mae: 0.2161 - val_r_squared: -0.3396\n",
      "Epoch 175/200\n",
      "2014/2014 [==============================] - 85s 42ms/step - loss: 0.1090 - mae: 0.2161 - r_squared: 0.9566 - val_loss: 0.1090 - val_mae: 0.2161 - val_r_squared: -0.3396\n",
      "\n",
      "Epoch 00175: ReduceLROnPlateau reducing learning rate to 1.000000082740371e-10.\n",
      "Epoch 176/200\n",
      "2014/2014 [==============================] - 91s 45ms/step - loss: 0.1090 - mae: 0.2161 - r_squared: 0.9569 - val_loss: 0.1090 - val_mae: 0.2161 - val_r_squared: -0.3396\n",
      "Epoch 177/200\n",
      "2013/2014 [============================>.] - ETA: 0s - loss: 0.1090 - mae: 0.2161 - r_squared: 0.9568"
     ]
    }
   ],
   "source": [
    "# LSTM 모델 생성\n",
    "model = Sequential()\n",
    "model.add(LSTM(128, input_shape=(180, 9), return_sequences=True))\n",
    "model.add(LSTM(64, return_sequences=True))\n",
    "model.add(LSTM(32))\n",
    "model.add(Dense(180, activation='linear'))\n",
    " \n",
    "model.summary()\n",
    "\n",
    "# mae와 r_squared 평가함수 추가.\n",
    "model.compile(optimizer='adam', loss='mse', metrics=['mae', r_squared])\n",
    "\n",
    "\n",
    "checkpoint = ModelCheckpoint(model_name + '_best.h5', monitor='val_loss', save_best_only=True)\n",
    "early_stop = EarlyStopping(monitor='val_loss', patience=5, verbose=1)\n",
    "reduce_lr = ReduceLROnPlateau(monitor='val_loss', factor=0.1, patience=3, verbose=1)\n",
    "\n",
    "# ModelCheckpoint : 검증 손실이 낮아진 경우에 최적의 모델을 저장\n",
    "# EarlyStopping : 검증 손실이 일정 기간동안 향상되지 않으면 학습을 조기 종료\n",
    "# ReduceLROnPlateau : 검증 손실이 개선되지 않으면 학습률을 조정하는 등의 동작 수행.\n",
    "\n",
    "\n",
    "hist = model.fit(japonica_training_features_X_chunks_crop, japonica_training_features_y_chunks_crop, epochs = 200, batch_size = 32, validation_data=(japonica_validation_features_X_chunks_crop, japonica_validation_features_y_chunks_crop), callbacks=[checkpoint, early_stop, reduce_lr])\n",
    "model.save(model_name+'.h5')"
   ]
  },
  {
   "cell_type": "markdown",
   "metadata": {},
   "source": [
    "모델 평가"
   ]
  },
  {
   "cell_type": "code",
   "execution_count": 3,
   "metadata": {},
   "outputs": [],
   "source": [
    "# 모델 평가 함수\n",
    "def grapeNEva(model, X_test_shape, y_test, feed, y_test_shape):\n",
    "    X_pred = model.predict(X_test_shape)\n",
    "    X_pred = np.asarray(X_pred, dtype=np.float64)\n",
    "    X_pred = X_pred.reshape((-1))\n",
    "    print(len(X_pred))\n",
    "\n",
    "    # 그래프 생성\n",
    "    plt.figure(figsize=(15, 7))\n",
    "    plt.plot(y_test.index, y_test, label='sensor do')  # x축에 년월일, y축에 값\n",
    "    plt.plot(y_test.index, X_pred, color='red', label='prediction do')  # x축에 년월일, y축에 시분\n",
    "    plt.plot(y_test.index, feed, color='green', marker='o', linestyle='None', label='feed_quantity')  # x축에 년월일, y축에 시분\n",
    "    plt.xlabel('date')\n",
    "    plt.ylabel('do')\n",
    "    plt.title(model_name)\n",
    "    plt.legend(['sensor do','prediction do','feed_quantity'])\n",
    "    plt.show()\n",
    "    \n",
    "    # 평가 생성\n",
    "    result = model.evaluate(X_test_shape, y_test_shape)\n",
    "    print(\"MSE // MAE // R-squared \", result)"
   ]
  },
  {
   "cell_type": "code",
   "execution_count": 10,
   "metadata": {},
   "outputs": [],
   "source": [
    "# r_squared가 따로 만들어서 추가해준 함수기 때문에 불러올 때도 추가해서 불러야한다.\n",
    "model = load_model(model_name+'.h5', custom_objects={'r_squared': r_squared})"
   ]
  },
  {
   "cell_type": "code",
   "execution_count": 13,
   "metadata": {},
   "outputs": [
    {
     "name": "stdout",
     "output_type": "stream",
     "text": [
      "[[ 0.48388854 -0.12518547  0.06621651 ...  0.30606124 -0.09999141\n",
      "   0.20855112]\n",
      " [ 0.07255199 -0.06284057  0.03228271 ...  0.17331795 -0.14425209\n",
      "   0.26886535]\n",
      " [ 0.21805228 -0.04681878  0.12370742 ...  0.19356044 -0.09351148\n",
      "   0.03974315]\n",
      " ...\n",
      " [ 0.19772628  0.0238565   0.18770531 ...  0.06817456 -0.06855595\n",
      "   0.07131793]\n",
      " [-0.11194344  0.11724737  0.01095341 ... -0.02101344 -0.02288074\n",
      "   0.07114752]\n",
      " [-0.08914548  0.05519955 -0.03235903 ... -0.09940235 -0.04187299\n",
      "   0.04747939]]\n"
     ]
    },
    {
     "data": {
      "image/png": "[encoded data removed]",
      "text/plain": [
       "<Figure size 800x400 with 1 Axes>"
      ]
     },
     "metadata": {},
     "output_type": "display_data"
    }
   ],
   "source": [
    "# 가중치를 통해 변수 중요도 획득\n",
    "weights = model.layers[0].get_weights()[0]\n",
    "print(weights)\n",
    "\n",
    "\n",
    "# 변수 중요도 시각화\n",
    "fig, ax = plt.subplots(figsize=(8, 4))\n",
    "ax.bar(range(9), weights[:, 0])\n",
    "ax.set_xticks(range(9))\n",
    "ax.set_xticklabels(['do_mg','do_temp', 'ph', 'orp', 'co2_mg', 'air_oxy', 'light_ma', 'feed', 'water'])\n",
    "ax.set_ylabel('Weight')\n",
    "ax.set_title('Tank2 Variable Importance')\n",
    "plt.show()"
   ]
  },
  {
   "cell_type": "code",
   "execution_count": null,
   "metadata": {},
   "outputs": [],
   "source": [
    "japonica_validation_features_X"
   ]
  },
  {
   "cell_type": "code",
   "execution_count": null,
   "metadata": {},
   "outputs": [],
   "source": [
    "X_test = japonica_validation_features_X.loc['2021-07-21 00:00':'2021-09-10 20:59']\n",
    "\n",
    "X_test_reshape = np.asarray(X_test, dtype=np.float64)\n",
    "X_test_reshape = X_test_reshape.reshape((-1, 180, 9))\n",
    "\n",
    "# shape확인\n",
    "nCar = X_test_reshape.shape[0] # 데이터 개수\n",
    "nVar = X_test_reshape.shape[1] # 변수 개수\n",
    "print('nCar: %d' % nCar, 'nVar: %d' % nVar )"
   ]
  },
  {
   "cell_type": "code",
   "execution_count": null,
   "metadata": {},
   "outputs": [],
   "source": [
    "y_date = japonica_validation_features_X.loc['2021-07-21 00:00':'2021-09-10 20:59']\n",
    "\n",
    "y_test = y_date[['do_mg']]\n",
    "\n",
    "y_test_reshape = np.asarray(y_test, dtype=np.float64)\n",
    "y_test_reshape = y_test_reshape.reshape((-1, 180, 1))\n",
    "\n",
    "nCar = y_test.shape[0] # 데이터 개수\n",
    "nVar = y_test.shape[1] # 변수 개수\n",
    "print('nCar: %d' % nCar, 'nVar: %d' % nVar )\n",
    "\n",
    "nCar = y_test_reshape.shape[0] # 데이터 개수\n",
    "nVar = y_test_reshape.shape[1] # 변수 개수\n",
    "print('nCar: %d' % nCar, 'nVar: %d' % nVar )"
   ]
  },
  {
   "cell_type": "code",
   "execution_count": null,
   "metadata": {},
   "outputs": [],
   "source": [
    "grapeNEva(model,X_test_reshape, y_test, y_date[['feed_quantity']], y_test_reshape)"
   ]
  },
  {
   "cell_type": "code",
   "execution_count": null,
   "metadata": {},
   "outputs": [],
   "source": [
    "X_test = japonica_validation_features_X.loc['2021-07-21 00:00':'2021-07-31 20:59']\n",
    "\n",
    "X_test_reshape = np.asarray(X_test, dtype=np.float64)\n",
    "\n",
    "# shape확인\n",
    "nCar = X_test_reshape.shape[0] # 데이터 개수\n",
    "nVar = X_test_reshape.shape[1] # 변수 개수\n",
    "print('nCar: %d' % nCar, 'nVar: %d' % nVar )"
   ]
  },
  {
   "cell_type": "code",
   "execution_count": null,
   "metadata": {},
   "outputs": [],
   "source": [
    "y_date = japonica_validation_features_X.loc['2021-07-21 03:00':'2021-07-31 23:59']\n",
    "\n",
    "y_test = y_date[['do_mg']]\n",
    "\n",
    "y_test_reshape = np.asarray(y_test, dtype=np.float64)\n",
    "\n",
    "nCar = y_test.shape[0] # 데이터 개수\n",
    "nVar = y_test.shape[1] # 변수 개수\n",
    "print('nCar: %d' % nCar, 'nVar: %d' % nVar )\n",
    "\n",
    "nCar = y_test_reshape.shape[0] # 데이터 개수\n",
    "nVar = y_test_reshape.shape[1] # 변수 개수\n",
    "print('nCar: %d' % nCar, 'nVar: %d' % nVar )"
   ]
  },
  {
   "cell_type": "code",
   "execution_count": null,
   "metadata": {},
   "outputs": [],
   "source": [
    "grapeNEva(model,X_test_reshape, y_test, y_date[['feed_quantity']], y_test_reshape)"
   ]
  },
  {
   "cell_type": "code",
   "execution_count": null,
   "metadata": {},
   "outputs": [],
   "source": [
    "X_test = japonica_validation_features_X.loc['2021-07-21 00:00':'2021-07-21 20:59']\n",
    "\n",
    "X_test_reshape = np.asarray(X_test, dtype=np.float64)\n",
    "\n",
    "# shape확인\n",
    "nCar = X_test_reshape.shape[0] # 데이터 개수\n",
    "nVar = X_test_reshape.shape[1] # 변수 개수\n",
    "print('nCar: %d' % nCar, 'nVar: %d' % nVar )"
   ]
  },
  {
   "cell_type": "code",
   "execution_count": null,
   "metadata": {
    "scrolled": true
   },
   "outputs": [],
   "source": [
    "y_date = japonica_validation_features_X.loc['2021-07-21 03:00':'2021-07-21 23:59']\n",
    "\n",
    "y_test = y_date[['do_mg']]\n",
    "\n",
    "y_test_reshape = np.asarray(y_test, dtype=np.float64)\n",
    "\n",
    "nCar = y_test.shape[0] # 데이터 개수\n",
    "nVar = y_test.shape[1] # 변수 개수\n",
    "print('nCar: %d' % nCar, 'nVar: %d' % nVar )\n",
    "\n",
    "nCar = y_test_reshape.shape[0] # 데이터 개수\n",
    "nVar = y_test_reshape.shape[1] # 변수 개수\n",
    "print('nCar: %d' % nCar, 'nVar: %d' % nVar )"
   ]
  },
  {
   "cell_type": "code",
   "execution_count": null,
   "metadata": {
    "scrolled": true
   },
   "outputs": [],
   "source": [
    "grapeNEva(model,X_test_reshape, y_test, y_date[['feed_quantity']], y_test_reshape)"
   ]
  },
  {
   "cell_type": "code",
   "execution_count": null,
   "metadata": {},
   "outputs": [],
   "source": [
    "X_test = japonica_validation_features_X.loc['2021-07-21 00:00':'2021-07-21 11:59']\n",
    "\n",
    "X_test_reshape = np.asarray(X_test, dtype=np.float64)\n",
    "\n",
    "# shape확인\n",
    "nCar = X_test_reshape.shape[0] # 데이터 개수\n",
    "nVar = X_test_reshape.shape[1] # 변수 개수\n",
    "print('nCar: %d' % nCar, 'nVar: %d' % nVar )"
   ]
  },
  {
   "cell_type": "code",
   "execution_count": null,
   "metadata": {
    "scrolled": true
   },
   "outputs": [],
   "source": [
    "y_date = japonica_validation_features_X.loc['2021-07-21 03:00':'2021-07-21 14:59']\n",
    "\n",
    "y_test = y_date[['do_mg']]\n",
    "\n",
    "y_test_reshape = np.asarray(y_test, dtype=np.float64)\n",
    "\n",
    "nCar = y_test.shape[0] # 데이터 개수\n",
    "nVar = y_test.shape[1] # 변수 개수\n",
    "print('nCar: %d' % nCar, 'nVar: %d' % nVar )\n",
    "\n",
    "nCar = y_test_reshape.shape[0] # 데이터 개수\n",
    "nVar = y_test_reshape.shape[1] # 변수 개수\n",
    "print('nCar: %d' % nCar, 'nVar: %d' % nVar )"
   ]
  },
  {
   "cell_type": "code",
   "execution_count": null,
   "metadata": {},
   "outputs": [],
   "source": [
    "grapeNEva(model,X_test_reshape, y_test, y_date[['feed_quantity']], y_test_reshape)"
   ]
  },
  {
   "cell_type": "code",
   "execution_count": null,
   "metadata": {},
   "outputs": [],
   "source": [
    "japonica_validation_features_X.at['2021-07-21 08:00', 'feed_quantity'] = 6\n",
    "\n",
    "X_test = japonica_validation_features_X.loc['2021-07-21 00:00':'2021-07-21 11:59']\n",
    "\n",
    "X_test_reshape = np.asarray(X_test, dtype=np.float64)\n",
    "\n",
    "# shape확인\n",
    "nCar = X_test_reshape.shape[0] # 데이터 개수\n",
    "nVar = X_test_reshape.shape[1] # 변수 개수\n",
    "print('nCar: %d' % nCar, 'nVar: %d' % nVar )"
   ]
  },
  {
   "cell_type": "code",
   "execution_count": null,
   "metadata": {},
   "outputs": [],
   "source": [
    "y_date = japonica_validation_features_X.loc['2021-07-21 03:00':'2021-07-21 14:59']\n",
    "\n",
    "y_test = y_date[['do_mg']]\n",
    "\n",
    "y_test_reshape = np.asarray(y_test, dtype=np.float64)\n",
    "\n",
    "nCar = y_test.shape[0] # 데이터 개수\n",
    "nVar = y_test.shape[1] # 변수 개수\n",
    "print('nCar: %d' % nCar, 'nVar: %d' % nVar )\n",
    "\n",
    "nCar = y_test_reshape.shape[0] # 데이터 개수\n",
    "nVar = y_test_reshape.shape[1] # 변수 개수\n",
    "print('nCar: %d' % nCar, 'nVar: %d' % nVar )"
   ]
  },
  {
   "cell_type": "code",
   "execution_count": null,
   "metadata": {},
   "outputs": [],
   "source": [
    "grapeNEva(model,X_test_reshape, y_test, y_date[['feed_quantity']], y_test_reshape)"
   ]
  },
  {
   "cell_type": "code",
   "execution_count": null,
   "metadata": {},
   "outputs": [],
   "source": []
  },
  {
   "cell_type": "code",
   "execution_count": null,
   "metadata": {},
   "outputs": [],
   "source": []
  }
 ],
 "metadata": {
  "kernelspec": {
   "display_name": "doRegressor",
   "language": "python",
   "name": "python3"
  },
  "language_info": {
   "codemirror_mode": {
    "name": "ipython",
    "version": 3
   },
   "file_extension": ".py",
   "mimetype": "text/x-python",
   "name": "python",
   "nbconvert_exporter": "python",
   "pygments_lexer": "ipython3",
   "version": "3.11.2"
  }
 },
 "nbformat": 4,
 "nbformat_minor": 2
}
