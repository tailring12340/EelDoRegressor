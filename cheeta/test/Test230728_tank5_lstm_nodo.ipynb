{
 "cells": [
  {
   "cell_type": "markdown",
   "metadata": {},
   "source": [
    "라이브러리"
   ]
  },
  {
   "cell_type": "code",
   "execution_count": 1,
   "metadata": {},
   "outputs": [],
   "source": [
    "import pandas as pd\n",
    "import numpy as np\n",
    "from keras.utils import *\n",
    "from sklearn.preprocessing import *\n",
    "from keras import backend as K\n",
    "from keras.models import load_model\n",
    "from keras.layers import LSTM, Dense, concatenate, Input\n",
    "from sklearn.ensemble import GradientBoostingRegressor\n",
    "from keras.models import Model\n",
    "from keras.models import Sequential\n",
    "import matplotlib.pyplot as plt\n",
    "from keras.metrics import mean_squared_error\n",
    "from sklearn.metrics import r2_score\n",
    "import matplotlib.font_manager as fm\n",
    "from matplotlib.dates import DateFormatter\n",
    "from keras.callbacks import ModelCheckpoint, EarlyStopping, ReduceLROnPlateau\n",
    "\n",
    "# 모델명(= 파일명) 설정\n",
    "tank = 5\n",
    "model_name = 'Test230728_tank5_lstm_nodo'"
   ]
  },
  {
   "cell_type": "code",
   "execution_count": 2,
   "metadata": {},
   "outputs": [],
   "source": [
    "# r_squared 평가 함수\n",
    "def r_squared(y_true, y_pred):\n",
    "    ss_res = K.sum(K.square(y_true - y_pred))\n",
    "    ss_tot = K.sum(K.square(y_true - K.mean(y_true)))\n",
    "    return (1 - ss_res/(ss_tot + K.epsilon()))"
   ]
  },
  {
   "cell_type": "markdown",
   "metadata": {},
   "source": [
    "데이터셋 설정"
   ]
  },
  {
   "cell_type": "code",
   "execution_count": 3,
   "metadata": {},
   "outputs": [],
   "source": [
    "#자포니카 훈련 데이터\n",
    "japonica_training_food_supply_tb = pd.read_csv(\"eeldata/data/Training/Origin/Management/Japonica/food_supply_tb.csv\")\n",
    "japonica_training_sensor_val_tb = pd.read_csv(\"eeldata/data/Training/Origin/Sensor/Japonica/sensor_val_tb.csv\")\n",
    "\n",
    "#자포니카 검증 데이터\n",
    "japonica_validation_food_supply_tb = pd.read_csv(\"eeldata/data/Validation/Origin/Management/Japonica/food_supply_tb.csv\")\n",
    "japonica_validation_sensor_val_tb = pd.read_csv(\"eeldata/data/Validation/Origin/Sensor/Japonica/sensor_val_tb.csv\")\n"
   ]
  },
  {
   "cell_type": "code",
   "execution_count": 4,
   "metadata": {},
   "outputs": [],
   "source": [
    "# 자포니카 사료 공급 데이터 정제\n",
    "# null제거\n",
    "japonica_training_food_supply_tb = japonica_training_food_supply_tb[japonica_training_food_supply_tb['feed_quantity'].notnull()]\n",
    "japonica_validation_food_supply_tb = japonica_validation_food_supply_tb[japonica_validation_food_supply_tb['feed_quantity'].notnull()]\n",
    "\n",
    "# 시계열 데이터 변환\n",
    "japonica_training_food_supply_tb['feed_dt'] = pd.to_datetime(japonica_training_food_supply_tb['feed_dt'], format='%Y%m%d%H%M', errors='raise')\n",
    "japonica_training_food_supply_tb[\"feed_dt\"] = japonica_training_food_supply_tb[\"feed_dt\"].apply(str)\n",
    "japonica_training_food_supply_tb[\"feed_dt\"] = japonica_training_food_supply_tb[\"feed_dt\"].str.slice(start=0, stop=16)\n",
    "japonica_validation_food_supply_tb['feed_dt'] = pd.to_datetime(japonica_validation_food_supply_tb['feed_dt'], format='%Y%m%d%H%M', errors='raise')\n",
    "japonica_validation_food_supply_tb[\"feed_dt\"] = japonica_validation_food_supply_tb[\"feed_dt\"].apply(str)\n",
    "japonica_validation_food_supply_tb[\"feed_dt\"] = japonica_validation_food_supply_tb[\"feed_dt\"].str.slice(start=0, stop=16)"
   ]
  },
  {
   "cell_type": "code",
   "execution_count": 5,
   "metadata": {},
   "outputs": [],
   "source": [
    "# 자포니카 센서 데이터 정제\n",
    "\n",
    "# 한 개 탱크\n",
    "japonica_training_sensor_val_tb = japonica_training_sensor_val_tb[japonica_training_sensor_val_tb['tank_id']==tank]\n",
    "japonica_validation_sensor_val_tb = japonica_validation_sensor_val_tb[japonica_validation_sensor_val_tb['tank_id']==tank]\n",
    "\n",
    "#시계열 변환\n",
    "japonica_training_sensor_val_tb[\"mea_dt\"] = japonica_training_sensor_val_tb[\"mea_dt\"].apply(str)\n",
    "japonica_training_sensor_val_tb[\"mea_dt\"] = japonica_training_sensor_val_tb[\"mea_dt\"].str.slice(start=0, stop=16)\n",
    "japonica_training_sensor_val_tb['mea_dt'] = pd.to_datetime(japonica_training_sensor_val_tb['mea_dt'], format='%Y-%m-%d %H:%M', errors='raise')\n",
    "japonica_validation_sensor_val_tb[\"mea_dt\"] = japonica_validation_sensor_val_tb[\"mea_dt\"].apply(str)\n",
    "japonica_validation_sensor_val_tb[\"mea_dt\"] = japonica_validation_sensor_val_tb[\"mea_dt\"].str.slice(start=0, stop=16)\n",
    "japonica_validation_sensor_val_tb['mea_dt'] = pd.to_datetime(japonica_validation_sensor_val_tb['mea_dt'], format='%Y-%m-%d %H:%M', errors='raise')\n",
    "\n",
    "# 시계열 데이터의 개수 확인\n",
    "training_counts = japonica_training_sensor_val_tb.groupby(japonica_training_sensor_val_tb['mea_dt'].dt.date).size()\n",
    "validation_counts = japonica_validation_sensor_val_tb.groupby(japonica_validation_sensor_val_tb['mea_dt'].dt.date).size()\n",
    "\n",
    "# 개수가 1440이 아닌 시계열 삭제\n",
    "to_delete = training_counts[training_counts != 1440].index\n",
    "japonica_training_sensor_val_tb = japonica_training_sensor_val_tb[~japonica_training_sensor_val_tb['mea_dt'].dt.date.isin(to_delete)]\n",
    "to_delete = validation_counts[validation_counts != 1440].index\n",
    "japonica_validation_sensor_val_tb = japonica_validation_sensor_val_tb[~japonica_validation_sensor_val_tb['mea_dt'].dt.date.isin(to_delete)]\n",
    "\n",
    "#시계열 데이터 문자 타입으로 변경\n",
    "japonica_training_sensor_val_tb[\"mea_dt\"] = japonica_training_sensor_val_tb[\"mea_dt\"].dt.strftime('%Y-%m-%d %H:%M')\n",
    "japonica_training_sensor_val_tb[\"mea_dt\"] = japonica_training_sensor_val_tb[\"mea_dt\"].str.slice(start=0, stop=16)\n",
    "japonica_validation_sensor_val_tb[\"mea_dt\"] = japonica_validation_sensor_val_tb[\"mea_dt\"].dt.strftime('%Y-%m-%d %H:%M')\n",
    "japonica_validation_sensor_val_tb[\"mea_dt\"] = japonica_validation_sensor_val_tb[\"mea_dt\"].str.slice(start=0, stop=16)\n"
   ]
  },
  {
   "cell_type": "code",
   "execution_count": 6,
   "metadata": {},
   "outputs": [],
   "source": [
    "# 자포니카 훈련 데이터 및 시계열 데이터 병합\n",
    "japonica_training = pd.merge(left = japonica_training_sensor_val_tb, right = japonica_training_food_supply_tb, how = \"left\", left_on = [\"farm_id\",\"tank_id\", \"mea_dt\"], right_on = [\"farm_id\",\"tank_id\", \"feed_dt\"])\n",
    "japonica_validation = pd.merge(left = japonica_validation_sensor_val_tb, right = japonica_validation_food_supply_tb, how = \"left\", left_on = [\"farm_id\",\"tank_id\", \"mea_dt\"], right_on = [\"farm_id\",\"tank_id\", \"feed_dt\"])\n",
    "\n",
    "japonica_training['mea_dt'] = pd.to_datetime(japonica_training['mea_dt'], format='%Y-%m-%d %H:%M', errors='raise')\n",
    "japonica_validation['mea_dt'] = pd.to_datetime(japonica_validation['mea_dt'], format='%Y-%m-%d %H:%M', errors='raise')\n",
    "\n",
    "# 사용할 features 선택\n",
    "feature_origin = ['tank_id','mea_dt', 'do_mg','do_temp', 'ph', 'orp', 'co2_mg', 'air_oxy', 'light_ma', 'feed_quantity', 'water_quantity']\n",
    "japonica_training_features = japonica_training[feature_origin]\n",
    "japonica_validation_features = japonica_validation[feature_origin]\n",
    "\n",
    "# nan 값 처리 (먹이를 주지 않았을 경우는 급여량이 0이니까)\n",
    "japonica_training_features = japonica_training_features.fillna(0)\n",
    "japonica_validation_features = japonica_validation_features.fillna(0)\n",
    "\n",
    "# 날짜 데이터를 인덱스로 전환\n",
    "japonica_training_features.set_index('mea_dt', inplace=True)\n",
    "japonica_validation_features.set_index('mea_dt', inplace=True)\n",
    "\n",
    "# 인덱스 순으로 데이터를 정렬\n",
    "japonica_training_data = japonica_training_features.sort_index()\n",
    "japonica_validation_data = japonica_validation_features.sort_index()\n",
    "\n",
    "# 8월 1달간 데이터만 추출\n",
    "japonica_training_data = japonica_training_data.loc['2021-07-21 00:00':'2021-09-10 23:59']\n",
    "japonica_validation_data = japonica_validation_data.loc['2021-07-21 00:00':'2021-09-10 23:59']"
   ]
  },
  {
   "cell_type": "code",
   "execution_count": 7,
   "metadata": {},
   "outputs": [],
   "source": [
    "japonica_training_features_X = japonica_training_data[['do_temp', 'ph', 'orp', 'co2_mg', 'air_oxy', 'light_ma', 'feed_quantity', 'water_quantity']]\n",
    "japonica_training_features_y = japonica_training_data[['do_mg']]\n",
    "\n",
    "japonica_validation_features_X = japonica_validation_data[['do_temp', 'ph', 'orp', 'co2_mg', 'air_oxy', 'light_ma', 'feed_quantity', 'water_quantity']]\n",
    "japonica_validation_features_y = japonica_validation_data[['do_mg']]"
   ]
  },
  {
   "cell_type": "code",
   "execution_count": 8,
   "metadata": {},
   "outputs": [],
   "source": [
    "japonica_training_features_X_chunks = []\n",
    "japonica_training_features_y_chunks = []\n",
    "\n",
    "for i in range(0, len(japonica_training_features_X) - 179):\n",
    "    japonica_training_features_X_chunks.append(np.array(japonica_training_features_X.iloc[i:i+180].values, dtype=np.float64))\n",
    "japonica_training_features_X_chunks = np.array(japonica_training_features_X_chunks, dtype=np.float64)\n",
    "\n",
    "for i in range(0, len(japonica_training_features_y) - 179):\n",
    "    japonica_training_features_y_chunks.append(np.array(japonica_training_features_y.iloc[i:i+180].values, dtype=np.float64))\n",
    "japonica_training_features_y_chunks = np.array(japonica_training_features_y_chunks, dtype=np.float64)"
   ]
  },
  {
   "cell_type": "code",
   "execution_count": 9,
   "metadata": {},
   "outputs": [],
   "source": [
    "japonica_validation_features_X_chunks = []\n",
    "japonica_validation_features_y_chunks = []\n",
    "\n",
    "\n",
    "for i in range(0, len(japonica_validation_features_X) - 179):\n",
    "    japonica_validation_features_X_chunks.append(np.array(japonica_validation_features_X.iloc[i:i+180].values, dtype=np.float64))\n",
    "japonica_validation_features_X_chunks = np.array(japonica_validation_features_X_chunks, dtype=np.float64)\n",
    "\n",
    "for i in range(0, len(japonica_validation_features_y) - 179):\n",
    "    japonica_validation_features_y_chunks.append(np.array(japonica_validation_features_y.iloc[i:i+180].values, dtype=np.float64))\n",
    "japonica_validation_features_y_chunks = np.array(japonica_validation_features_y_chunks, dtype=np.float64)"
   ]
  },
  {
   "cell_type": "code",
   "execution_count": 10,
   "metadata": {},
   "outputs": [
    {
     "name": "stdout",
     "output_type": "stream",
     "text": [
      "nCar: 64621 nVar: 8\n",
      "nCar: 64621 nVar: 180\n",
      "nCar: 64621 nVar: 8\n",
      "nCar: 64621 nVar: 180\n"
     ]
    }
   ],
   "source": [
    "# shape확인\n",
    "nCar = japonica_training_features_X_chunks.shape[0] # 데이터 개수\n",
    "nVar = japonica_training_features_X_chunks.shape[2] # 변수 개수\n",
    "print('nCar: %d' % nCar, 'nVar: %d' % nVar )\n",
    "\n",
    "nCar = japonica_training_features_y_chunks.shape[0] # 데이터 개수\n",
    "nVar = japonica_training_features_y_chunks.shape[1] # 변수 개수\n",
    "print('nCar: %d' % nCar, 'nVar: %d' % nVar )\n",
    "\n",
    "nCar = japonica_validation_features_X_chunks.shape[0] # 데이터 개수\n",
    "nVar = japonica_validation_features_X_chunks.shape[2] # 변수 개수\n",
    "print('nCar: %d' % nCar, 'nVar: %d' % nVar )\n",
    "\n",
    "nCar = japonica_validation_features_y_chunks.shape[0] # 데이터 개수\n",
    "nVar = japonica_validation_features_y_chunks.shape[1] # 변수 개수\n",
    "print('nCar: %d' % nCar, 'nVar: %d' % nVar )"
   ]
  },
  {
   "cell_type": "code",
   "execution_count": 11,
   "metadata": {},
   "outputs": [],
   "source": [
    "japonica_training_features_X_chunks_crop = japonica_training_features_X_chunks[:-180]\n",
    "japonica_training_features_y_chunks_crop = japonica_training_features_y_chunks[180:]\n",
    "\n",
    "japonica_validation_features_X_chunks_crop = japonica_validation_features_X_chunks[:-180]\n",
    "japonica_validation_features_y_chunks_crop = japonica_validation_features_y_chunks[180:]"
   ]
  },
  {
   "cell_type": "code",
   "execution_count": 12,
   "metadata": {},
   "outputs": [
    {
     "name": "stdout",
     "output_type": "stream",
     "text": [
      "nCar: 64441 nVar: 8\n",
      "nCar: 64441 nVar: 180\n",
      "nCar: 64441 nVar: 8\n",
      "nCar: 64441 nVar: 180\n"
     ]
    }
   ],
   "source": [
    "nCar = japonica_training_features_X_chunks_crop.shape[0] # 데이터 개수\n",
    "nVar = japonica_training_features_X_chunks_crop.shape[2] # 변수 개수\n",
    "print('nCar: %d' % nCar, 'nVar: %d' % nVar )\n",
    "\n",
    "nCar = japonica_training_features_y_chunks_crop.shape[0] # 데이터 개수\n",
    "nVar = japonica_training_features_y_chunks_crop.shape[1] # 변수 개수\n",
    "print('nCar: %d' % nCar, 'nVar: %d' % nVar )\n",
    "\n",
    "nCar = japonica_validation_features_X_chunks_crop.shape[0] # 데이터 개수\n",
    "nVar = japonica_validation_features_X_chunks_crop.shape[2] # 변수 개수\n",
    "print('nCar: %d' % nCar, 'nVar: %d' % nVar )\n",
    "\n",
    "nCar = japonica_validation_features_y_chunks_crop.shape[0] # 데이터 개수\n",
    "nVar = japonica_validation_features_y_chunks_crop.shape[1] # 변수 개수\n",
    "print('nCar: %d' % nCar, 'nVar: %d' % nVar )"
   ]
  },
  {
   "cell_type": "markdown",
   "metadata": {},
   "source": [
    "LSTM 모델 학습 (학습시에만 사용, 그외에는 불필요)"
   ]
  },
  {
   "cell_type": "code",
   "execution_count": 13,
   "metadata": {
    "scrolled": true
   },
   "outputs": [
    {
     "name": "stderr",
     "output_type": "stream",
     "text": [
      "2023-07-28 04:35:25.008754: I tensorflow/core/platform/cpu_feature_guard.cc:142] This TensorFlow binary is optimized with oneAPI Deep Neural Network Library (oneDNN) to use the following CPU instructions in performance-critical operations:  AVX2 AVX512F FMA\n",
      "To enable them in other operations, rebuild TensorFlow with the appropriate compiler flags.\n",
      "2023-07-28 04:35:25.570810: I tensorflow/core/common_runtime/gpu/gpu_device.cc:1510] Created device /job:localhost/replica:0/task:0/device:GPU:0 with 7951 MB memory:  -> device: 0, name: NVIDIA A100 80GB PCIe MIG 1g.10gb, pci bus id: 0000:52:00.0, compute capability: 8.0\n"
     ]
    },
    {
     "name": "stdout",
     "output_type": "stream",
     "text": [
      "Model: \"sequential\"\n",
      "_________________________________________________________________\n",
      "Layer (type)                 Output Shape              Param #   \n",
      "=================================================================\n",
      "lstm (LSTM)                  (None, 180, 128)          70144     \n",
      "_________________________________________________________________\n",
      "lstm_1 (LSTM)                (None, 180, 64)           49408     \n",
      "_________________________________________________________________\n",
      "lstm_2 (LSTM)                (None, 32)                12416     \n",
      "_________________________________________________________________\n",
      "dense (Dense)                (None, 180)               5940      \n",
      "=================================================================\n",
      "Total params: 137,908\n",
      "Trainable params: 137,908\n",
      "Non-trainable params: 0\n",
      "_________________________________________________________________\n"
     ]
    },
    {
     "name": "stderr",
     "output_type": "stream",
     "text": [
      "2023-07-28 04:35:27.623912: I tensorflow/compiler/mlir/mlir_graph_optimization_pass.cc:185] None of the MLIR Optimization Passes are enabled (registered 2)\n"
     ]
    },
    {
     "name": "stdout",
     "output_type": "stream",
     "text": [
      "Epoch 1/200\n"
     ]
    },
    {
     "name": "stderr",
     "output_type": "stream",
     "text": [
      "2023-07-28 04:35:31.634116: I tensorflow/stream_executor/cuda/cuda_dnn.cc:369] Loaded cuDNN version 8200\n",
      "2023-07-28 04:35:32.907346: I tensorflow/stream_executor/cuda/cuda_blas.cc:1760] TensorFloat-32 will be used for the matrix multiplication. This will only be logged once.\n"
     ]
    },
    {
     "name": "stdout",
     "output_type": "stream",
     "text": [
      "2014/2014 [==============================] - 113s 54ms/step - loss: 9.4681 - mae: 2.0257 - r_squared: -1.7926 - val_loss: 3.6060 - val_mae: 1.3358 - val_r_squared: -115.7653\n",
      "Epoch 2/200\n",
      "2014/2014 [==============================] - 105s 52ms/step - loss: 3.6081 - mae: 1.3394 - r_squared: -0.0324 - val_loss: 3.6055 - val_mae: 1.3393 - val_r_squared: -117.2003\n",
      "Epoch 3/200\n",
      "2014/2014 [==============================] - 105s 52ms/step - loss: 3.6096 - mae: 1.3398 - r_squared: -0.0320 - val_loss: 3.6061 - val_mae: 1.3398 - val_r_squared: -117.2274\n",
      "Epoch 4/200\n",
      "2014/2014 [==============================] - 105s 52ms/step - loss: 2.6364 - mae: 1.1198 - r_squared: 0.2311 - val_loss: 2.0042 - val_mae: 0.9767 - val_r_squared: -54.1590\n",
      "Epoch 5/200\n",
      "2014/2014 [==============================] - 105s 52ms/step - loss: 1.9694 - mae: 0.9603 - r_squared: 0.4020 - val_loss: 1.8896 - val_mae: 0.9374 - val_r_squared: -52.7128\n",
      "Epoch 6/200\n",
      "2014/2014 [==============================] - 105s 52ms/step - loss: 1.8961 - mae: 0.9341 - r_squared: 0.4240 - val_loss: 1.9304 - val_mae: 0.9584 - val_r_squared: -33.3514\n",
      "Epoch 7/200\n",
      "2014/2014 [==============================] - 105s 52ms/step - loss: 1.8602 - mae: 0.9239 - r_squared: 0.4338 - val_loss: 1.8316 - val_mae: 0.9088 - val_r_squared: -33.4346\n",
      "Epoch 8/200\n",
      "2014/2014 [==============================] - 105s 52ms/step - loss: 1.7610 - mae: 0.9008 - r_squared: 0.4642 - val_loss: 1.8065 - val_mae: 0.8988 - val_r_squared: -62.2364\n",
      "Epoch 9/200\n",
      "2014/2014 [==============================] - 105s 52ms/step - loss: 1.6386 - mae: 0.8602 - r_squared: 0.5007 - val_loss: 1.5778 - val_mae: 0.8363 - val_r_squared: -34.8083\n",
      "Epoch 10/200\n",
      "2014/2014 [==============================] - 105s 52ms/step - loss: 1.6016 - mae: 0.8445 - r_squared: 0.5105 - val_loss: 1.5750 - val_mae: 0.8382 - val_r_squared: -26.1925\n",
      "Epoch 11/200\n",
      "2014/2014 [==============================] - 106s 52ms/step - loss: 1.5970 - mae: 0.8432 - r_squared: 0.5137 - val_loss: 1.5698 - val_mae: 0.8459 - val_r_squared: -26.1900\n",
      "Epoch 12/200\n",
      "2014/2014 [==============================] - 105s 52ms/step - loss: 1.5900 - mae: 0.8413 - r_squared: 0.5150 - val_loss: 1.6729 - val_mae: 0.8661 - val_r_squared: -33.8822\n",
      "Epoch 13/200\n",
      "2014/2014 [==============================] - 105s 52ms/step - loss: 1.5736 - mae: 0.8328 - r_squared: 0.5221 - val_loss: 1.5341 - val_mae: 0.8150 - val_r_squared: -25.5969\n",
      "Epoch 14/200\n",
      " 915/2014 [============>.................] - ETA: 40s - loss: 1.5647 - mae: 0.8343 - r_squared: 0.5194"
     ]
    },
    {
     "name": "stderr",
     "output_type": "stream",
     "text": [
      "IOPub message rate exceeded.\n",
      "The Jupyter server will temporarily stop sending output\n",
      "to the client in order to avoid crashing it.\n",
      "To change this limit, set the config variable\n",
      "`--ServerApp.iopub_msg_rate_limit`.\n",
      "\n",
      "Current values:\n",
      "ServerApp.iopub_msg_rate_limit=1000.0 (msgs/sec)\n",
      "ServerApp.rate_limit_window=3.0 (secs)\n",
      "\n"
     ]
    },
    {
     "name": "stdout",
     "output_type": "stream",
     "text": [
      "2014/2014 [==============================] - 105s 52ms/step - loss: 1.4433 - mae: 0.7741 - r_squared: 0.5605 - val_loss: 1.3967 - val_mae: 0.7712 - val_r_squared: -13.5132\n",
      "Epoch 21/200\n",
      "2014/2014 [==============================] - 105s 52ms/step - loss: 1.4183 - mae: 0.7668 - r_squared: 0.5685 - val_loss: 1.3747 - val_mae: 0.7416 - val_r_squared: -15.1565\n",
      "Epoch 22/200\n",
      "2014/2014 [==============================] - 104s 52ms/step - loss: 1.4375 - mae: 0.7768 - r_squared: 0.5610 - val_loss: 1.4124 - val_mae: 0.7524 - val_r_squared: -16.2181\n",
      "Epoch 23/200\n",
      "2014/2014 [==============================] - 105s 52ms/step - loss: 1.3768 - mae: 0.7457 - r_squared: 0.5811 - val_loss: 1.3827 - val_mae: 0.7600 - val_r_squared: -12.7701\n",
      "Epoch 24/200\n",
      "2014/2014 [==============================] - 104s 52ms/step - loss: 1.4591 - mae: 0.7869 - r_squared: 0.5555 - val_loss: 1.4934 - val_mae: 0.8322 - val_r_squared: -22.0010\n",
      "\n",
      "Epoch 00024: ReduceLROnPlateau reducing learning rate to 0.00010000000474974513.\n",
      "Epoch 25/200\n",
      "2014/2014 [==============================] - 105s 52ms/step - loss: 1.3570 - mae: 0.7560 - r_squared: 0.5851 - val_loss: 1.3375 - val_mae: 0.7508 - val_r_squared: -20.6869\n",
      "Epoch 26/200\n",
      "2014/2014 [==============================] - 104s 52ms/step - loss: 1.3354 - mae: 0.7440 - r_squared: 0.5907 - val_loss: 1.3438 - val_mae: 0.7423 - val_r_squared: -21.2027\n",
      "Epoch 27/200\n",
      "2014/2014 [==============================] - 105s 52ms/step - loss: 1.3255 - mae: 0.7390 - r_squared: 0.5944 - val_loss: 1.3180 - val_mae: 0.7389 - val_r_squared: -18.5994\n",
      "Epoch 28/200\n",
      "2014/2014 [==============================] - 105s 52ms/step - loss: 1.3094 - mae: 0.7355 - r_squared: 0.6009 - val_loss: 1.2982 - val_mae: 0.7288 - val_r_squared: -17.2516\n",
      "Epoch 29/200\n",
      "2014/2014 [==============================] - 104s 52ms/step - loss: 1.2859 - mae: 0.7269 - r_squared: 0.6069 - val_loss: 1.2722 - val_mae: 0.7135 - val_r_squared: -16.7497\n",
      "Epoch 30/200\n",
      "2014/2014 [==============================] - 104s 52ms/step - loss: 1.2601 - mae: 0.7108 - r_squared: 0.6164 - val_loss: 1.2444 - val_mae: 0.6952 - val_r_squared: -13.5585\n",
      "Epoch 31/200\n",
      "2014/2014 [==============================] - 104s 52ms/step - loss: 1.2416 - mae: 0.7001 - r_squared: 0.6206 - val_loss: 1.2254 - val_mae: 0.6992 - val_r_squared: -13.1334\n",
      "Epoch 32/200\n",
      " 175/2014 [=>............................] - ETA: 1:06 - loss: 1.2426 - mae: 0.7052 - r_squared: 0.6184"
     ]
    },
    {
     "name": "stderr",
     "output_type": "stream",
     "text": [
      "IOPub message rate exceeded.\n",
      "The Jupyter server will temporarily stop sending output\n",
      "to the client in order to avoid crashing it.\n",
      "To change this limit, set the config variable\n",
      "`--ServerApp.iopub_msg_rate_limit`.\n",
      "\n",
      "Current values:\n",
      "ServerApp.iopub_msg_rate_limit=1000.0 (msgs/sec)\n",
      "ServerApp.rate_limit_window=3.0 (secs)\n",
      "\n"
     ]
    },
    {
     "name": "stdout",
     "output_type": "stream",
     "text": [
      "2014/2014 [==============================] - 104s 52ms/step - loss: 1.1612 - mae: 0.6618 - r_squared: 0.6480 - val_loss: 1.1446 - val_mae: 0.6586 - val_r_squared: -8.1080\n",
      "Epoch 40/200\n",
      "2014/2014 [==============================] - 105s 52ms/step - loss: 1.1551 - mae: 0.6578 - r_squared: 0.6477 - val_loss: 1.1617 - val_mae: 0.6727 - val_r_squared: -7.7245\n",
      "Epoch 41/200\n",
      "1279/2014 [==================>...........] - ETA: 26s - loss: 1.1524 - mae: 0.6568 - r_squared: 0.6501"
     ]
    },
    {
     "name": "stderr",
     "output_type": "stream",
     "text": [
      "IOPub message rate exceeded.\n",
      "The Jupyter server will temporarily stop sending output\n",
      "to the client in order to avoid crashing it.\n",
      "To change this limit, set the config variable\n",
      "`--ServerApp.iopub_msg_rate_limit`.\n",
      "\n",
      "Current values:\n",
      "ServerApp.iopub_msg_rate_limit=1000.0 (msgs/sec)\n",
      "ServerApp.rate_limit_window=3.0 (secs)\n",
      "\n"
     ]
    },
    {
     "name": "stdout",
     "output_type": "stream",
     "text": [
      "2014/2014 [==============================] - 105s 52ms/step - loss: 1.1434 - mae: 0.6520 - r_squared: 0.6530 - val_loss: 1.1382 - val_mae: 0.6590 - val_r_squared: -7.7889\n",
      "Epoch 43/200\n",
      "1925/2014 [===========================>..] - ETA: 3s - loss: 1.1298 - mae: 0.6471 - r_squared: 0.6563"
     ]
    },
    {
     "name": "stderr",
     "output_type": "stream",
     "text": [
      "IOPub message rate exceeded.\n",
      "The Jupyter server will temporarily stop sending output\n",
      "to the client in order to avoid crashing it.\n",
      "To change this limit, set the config variable\n",
      "`--ServerApp.iopub_msg_rate_limit`.\n",
      "\n",
      "Current values:\n",
      "ServerApp.iopub_msg_rate_limit=1000.0 (msgs/sec)\n",
      "ServerApp.rate_limit_window=3.0 (secs)\n",
      "\n"
     ]
    },
    {
     "name": "stdout",
     "output_type": "stream",
     "text": [
      "2014/2014 [==============================] - 104s 52ms/step - loss: 1.0665 - mae: 0.6236 - r_squared: 0.6768 - val_loss: 1.0653 - val_mae: 0.6216 - val_r_squared: -5.5547\n",
      "Epoch 55/200\n",
      "2014/2014 [==============================] - 104s 52ms/step - loss: 1.0632 - mae: 0.6231 - r_squared: 0.6773 - val_loss: 1.0610 - val_mae: 0.6209 - val_r_squared: -5.5499\n",
      "Epoch 56/200\n",
      " 503/2014 [======>.......................] - ETA: 54s - loss: 1.0839 - mae: 0.6271 - r_squared: 0.6724"
     ]
    },
    {
     "name": "stderr",
     "output_type": "stream",
     "text": [
      "IOPub message rate exceeded.\n",
      "The Jupyter server will temporarily stop sending output\n",
      "to the client in order to avoid crashing it.\n",
      "To change this limit, set the config variable\n",
      "`--ServerApp.iopub_msg_rate_limit`.\n",
      "\n",
      "Current values:\n",
      "ServerApp.iopub_msg_rate_limit=1000.0 (msgs/sec)\n",
      "ServerApp.rate_limit_window=3.0 (secs)\n",
      "\n"
     ]
    },
    {
     "name": "stdout",
     "output_type": "stream",
     "text": [
      "2014/2014 [==============================] - 104s 52ms/step - loss: 1.0576 - mae: 0.6215 - r_squared: 0.6784 - val_loss: 1.0612 - val_mae: 0.6187 - val_r_squared: -5.6520\n",
      "Epoch 59/200\n",
      " 544/2014 [=======>......................] - ETA: 53s - loss: 1.0677 - mae: 0.6273 - r_squared: 0.6770"
     ]
    },
    {
     "name": "stderr",
     "output_type": "stream",
     "text": [
      "IOPub message rate exceeded.\n",
      "The Jupyter server will temporarily stop sending output\n",
      "to the client in order to avoid crashing it.\n",
      "To change this limit, set the config variable\n",
      "`--ServerApp.iopub_msg_rate_limit`.\n",
      "\n",
      "Current values:\n",
      "ServerApp.iopub_msg_rate_limit=1000.0 (msgs/sec)\n",
      "ServerApp.rate_limit_window=3.0 (secs)\n",
      "\n"
     ]
    },
    {
     "name": "stdout",
     "output_type": "stream",
     "text": [
      "2014/2014 [==============================] - 105s 52ms/step - loss: 1.0395 - mae: 0.6171 - r_squared: 0.6856 - val_loss: 1.0350 - val_mae: 0.6172 - val_r_squared: -5.5038\n",
      "Epoch 67/200\n",
      "2014/2014 [==============================] - 104s 52ms/step - loss: 1.0370 - mae: 0.6169 - r_squared: 0.6855 - val_loss: 1.0444 - val_mae: 0.6242 - val_r_squared: -5.5678\n",
      "Epoch 68/200\n",
      "2014/2014 [==============================] - 104s 52ms/step - loss: 1.0348 - mae: 0.6164 - r_squared: 0.6861 - val_loss: 1.0350 - val_mae: 0.6206 - val_r_squared: -5.4635\n",
      "Epoch 69/200\n",
      " 929/2014 [============>.................] - ETA: 39s - loss: 1.0226 - mae: 0.6128 - r_squared: 0.6848"
     ]
    },
    {
     "name": "stderr",
     "output_type": "stream",
     "text": [
      "IOPub message rate exceeded.\n",
      "The Jupyter server will temporarily stop sending output\n",
      "to the client in order to avoid crashing it.\n",
      "To change this limit, set the config variable\n",
      "`--ServerApp.iopub_msg_rate_limit`.\n",
      "\n",
      "Current values:\n",
      "ServerApp.iopub_msg_rate_limit=1000.0 (msgs/sec)\n",
      "ServerApp.rate_limit_window=3.0 (secs)\n",
      "\n"
     ]
    },
    {
     "name": "stdout",
     "output_type": "stream",
     "text": [
      "2014/2014 [==============================] - 104s 52ms/step - loss: 1.0118 - mae: 0.6130 - r_squared: 0.6934 - val_loss: 1.0060 - val_mae: 0.6126 - val_r_squared: -5.3088\n",
      "Epoch 80/200\n",
      "2014/2014 [==============================] - 104s 52ms/step - loss: 1.0102 - mae: 0.6131 - r_squared: 0.6915 - val_loss: 1.0082 - val_mae: 0.6118 - val_r_squared: -5.2896\n",
      "Epoch 81/200\n",
      " 243/2014 [==>...........................] - ETA: 1:03 - loss: 1.0324 - mae: 0.6172 - r_squared: 0.6991"
     ]
    },
    {
     "name": "stderr",
     "output_type": "stream",
     "text": [
      "IOPub message rate exceeded.\n",
      "The Jupyter server will temporarily stop sending output\n",
      "to the client in order to avoid crashing it.\n",
      "To change this limit, set the config variable\n",
      "`--ServerApp.iopub_msg_rate_limit`.\n",
      "\n",
      "Current values:\n",
      "ServerApp.iopub_msg_rate_limit=1000.0 (msgs/sec)\n",
      "ServerApp.rate_limit_window=3.0 (secs)\n",
      "\n"
     ]
    },
    {
     "name": "stdout",
     "output_type": "stream",
     "text": [
      "2014/2014 [==============================] - 104s 52ms/step - loss: 1.0065 - mae: 0.6125 - r_squared: 0.6944 - val_loss: 1.0058 - val_mae: 0.6134 - val_r_squared: -5.3310\n",
      "Epoch 83/200\n",
      " 577/2014 [=======>......................] - ETA: 51s - loss: 0.9925 - mae: 0.6066 - r_squared: 0.7025"
     ]
    },
    {
     "name": "stderr",
     "output_type": "stream",
     "text": [
      "IOPub message rate exceeded.\n",
      "The Jupyter server will temporarily stop sending output\n",
      "to the client in order to avoid crashing it.\n",
      "To change this limit, set the config variable\n",
      "`--ServerApp.iopub_msg_rate_limit`.\n",
      "\n",
      "Current values:\n",
      "ServerApp.iopub_msg_rate_limit=1000.0 (msgs/sec)\n",
      "ServerApp.rate_limit_window=3.0 (secs)\n",
      "\n"
     ]
    },
    {
     "name": "stdout",
     "output_type": "stream",
     "text": [
      "2014/2014 [==============================] - 104s 52ms/step - loss: 0.9883 - mae: 0.6070 - r_squared: 0.7009 - val_loss: 0.9871 - val_mae: 0.6067 - val_r_squared: -5.1571\n",
      "Epoch 93/200\n",
      "2014/2014 [==============================] - 105s 52ms/step - loss: 0.9875 - mae: 0.6070 - r_squared: 0.6995 - val_loss: 0.9877 - val_mae: 0.6056 - val_r_squared: -5.1436\n",
      "Epoch 94/200\n",
      "2014/2014 [==============================] - 105s 52ms/step - loss: 0.9873 - mae: 0.6068 - r_squared: 0.7014 - val_loss: 0.9867 - val_mae: 0.6060 - val_r_squared: -5.1532\n",
      "Epoch 95/200\n",
      "1051/2014 [==============>...............] - ETA: 34s - loss: 0.9775 - mae: 0.6031 - r_squared: 0.7039"
     ]
    },
    {
     "name": "stderr",
     "output_type": "stream",
     "text": [
      "IOPub message rate exceeded.\n",
      "The Jupyter server will temporarily stop sending output\n",
      "to the client in order to avoid crashing it.\n",
      "To change this limit, set the config variable\n",
      "`--ServerApp.iopub_msg_rate_limit`.\n",
      "\n",
      "Current values:\n",
      "ServerApp.iopub_msg_rate_limit=1000.0 (msgs/sec)\n",
      "ServerApp.rate_limit_window=3.0 (secs)\n",
      "\n"
     ]
    },
    {
     "name": "stdout",
     "output_type": "stream",
     "text": [
      "2014/2014 [==============================] - 103s 51ms/step - loss: 0.9848 - mae: 0.6065 - r_squared: 0.6995 - val_loss: 0.9842 - val_mae: 0.6061 - val_r_squared: -5.1472\n",
      "Epoch 105/200\n",
      "1105/2014 [===============>..............] - ETA: 32s - loss: 0.9913 - mae: 0.6074 - r_squared: 0.7040"
     ]
    },
    {
     "name": "stderr",
     "output_type": "stream",
     "text": [
      "IOPub message rate exceeded.\n",
      "The Jupyter server will temporarily stop sending output\n",
      "to the client in order to avoid crashing it.\n",
      "To change this limit, set the config variable\n",
      "`--ServerApp.iopub_msg_rate_limit`.\n",
      "\n",
      "Current values:\n",
      "ServerApp.iopub_msg_rate_limit=1000.0 (msgs/sec)\n",
      "ServerApp.rate_limit_window=3.0 (secs)\n",
      "\n"
     ]
    },
    {
     "name": "stdout",
     "output_type": "stream",
     "text": [
      "2014/2014 [==============================] - 104s 52ms/step - loss: 0.9841 - mae: 0.6061 - r_squared: 0.7002 - val_loss: 0.9839 - val_mae: 0.6054 - val_r_squared: -5.1246\n",
      "Epoch 107/200\n",
      "2014/2014 [==============================] - 104s 52ms/step - loss: 0.9842 - mae: 0.6059 - r_squared: 0.7022 - val_loss: 0.9833 - val_mae: 0.6056 - val_r_squared: -5.1459\n",
      "Epoch 108/200\n",
      " 421/2014 [=====>........................] - ETA: 57s - loss: 0.9602 - mae: 0.5995 - r_squared: 0.7024"
     ]
    },
    {
     "name": "stderr",
     "output_type": "stream",
     "text": [
      "IOPub message rate exceeded.\n",
      "The Jupyter server will temporarily stop sending output\n",
      "to the client in order to avoid crashing it.\n",
      "To change this limit, set the config variable\n",
      "`--ServerApp.iopub_msg_rate_limit`.\n",
      "\n",
      "Current values:\n",
      "ServerApp.iopub_msg_rate_limit=1000.0 (msgs/sec)\n",
      "ServerApp.rate_limit_window=3.0 (secs)\n",
      "\n"
     ]
    },
    {
     "name": "stdout",
     "output_type": "stream",
     "text": [
      "2014/2014 [==============================] - 104s 52ms/step - loss: 0.9820 - mae: 0.6056 - r_squared: 0.7006 - val_loss: 0.9822 - val_mae: 0.6048 - val_r_squared: -5.1352\n",
      "\n",
      "Epoch 00117: ReduceLROnPlateau reducing learning rate to 1.0000001111620805e-07.\n",
      "Epoch 118/200\n",
      "1391/2014 [===================>..........] - ETA: 22s - loss: 0.9754 - mae: 0.6042 - r_squared: 0.7053"
     ]
    },
    {
     "name": "stderr",
     "output_type": "stream",
     "text": [
      "IOPub message rate exceeded.\n",
      "The Jupyter server will temporarily stop sending output\n",
      "to the client in order to avoid crashing it.\n",
      "To change this limit, set the config variable\n",
      "`--ServerApp.iopub_msg_rate_limit`.\n",
      "\n",
      "Current values:\n",
      "ServerApp.iopub_msg_rate_limit=1000.0 (msgs/sec)\n",
      "ServerApp.rate_limit_window=3.0 (secs)\n",
      "\n"
     ]
    },
    {
     "name": "stdout",
     "output_type": "stream",
     "text": [
      "2014/2014 [==============================] - 104s 52ms/step - loss: 0.9811 - mae: 0.6053 - r_squared: 0.7021 - val_loss: 0.9810 - val_mae: 0.6054 - val_r_squared: -5.1403\n",
      "Epoch 121/200\n",
      " 985/2014 [=============>................] - ETA: 37s - loss: 1.0062 - mae: 0.6100 - r_squared: 0.6970"
     ]
    },
    {
     "name": "stderr",
     "output_type": "stream",
     "text": [
      "IOPub message rate exceeded.\n",
      "The Jupyter server will temporarily stop sending output\n",
      "to the client in order to avoid crashing it.\n",
      "To change this limit, set the config variable\n",
      "`--ServerApp.iopub_msg_rate_limit`.\n",
      "\n",
      "Current values:\n",
      "ServerApp.iopub_msg_rate_limit=1000.0 (msgs/sec)\n",
      "ServerApp.rate_limit_window=3.0 (secs)\n",
      "\n"
     ]
    },
    {
     "name": "stdout",
     "output_type": "stream",
     "text": [
      "2014/2014 [==============================] - 103s 51ms/step - loss: 0.9809 - mae: 0.6052 - r_squared: 0.7015 - val_loss: 0.9809 - val_mae: 0.6052 - val_r_squared: -5.1361\n",
      "Epoch 130/200\n",
      "2014/2014 [==============================] - 103s 51ms/step - loss: 0.9809 - mae: 0.6052 - r_squared: 0.7015 - val_loss: 0.9809 - val_mae: 0.6052 - val_r_squared: -5.1361\n",
      "\n",
      "Epoch 00130: ReduceLROnPlateau reducing learning rate to 1.000000082740371e-11.\n",
      "Epoch 131/200\n",
      "2014/2014 [==============================] - 104s 52ms/step - loss: 0.9810 - mae: 0.6052 - r_squared: 0.7021 - val_loss: 0.9809 - val_mae: 0.6052 - val_r_squared: -5.1361\n",
      "Epoch 132/200\n",
      "2014/2014 [==============================] - 105s 52ms/step - loss: 0.9809 - mae: 0.6052 - r_squared: 0.7006 - val_loss: 0.9809 - val_mae: 0.6052 - val_r_squared: -5.1361\n",
      "Epoch 133/200\n",
      "2014/2014 [==============================] - 104s 52ms/step - loss: 0.9809 - mae: 0.6052 - r_squared: 0.6989 - val_loss: 0.9809 - val_mae: 0.6052 - val_r_squared: -5.1361\n",
      "\n",
      "Epoch 00133: ReduceLROnPlateau reducing learning rate to 1.000000082740371e-12.\n",
      "Epoch 00133: early stopping\n"
     ]
    }
   ],
   "source": [
    "# LSTM 모델 생성\n",
    "model = Sequential()\n",
    "model.add(LSTM(128, input_shape=(180, 8), return_sequences=True))\n",
    "model.add(LSTM(64, return_sequences=True))\n",
    "model.add(LSTM(32))\n",
    "model.add(Dense(180, activation='linear'))\n",
    " \n",
    "model.summary()\n",
    "\n",
    "# mae와 r_squared 평가함수 추가.\n",
    "model.compile(optimizer='adam', loss='mse', metrics=['mae', r_squared])\n",
    "\n",
    "\n",
    "checkpoint = ModelCheckpoint(model_name + '_best.h5', monitor='val_loss', save_best_only=True)\n",
    "early_stop = EarlyStopping(monitor='val_loss', patience=5, verbose=1)\n",
    "reduce_lr = ReduceLROnPlateau(monitor='val_loss', factor=0.1, patience=3, verbose=1)\n",
    "\n",
    "# ModelCheckpoint : 검증 손실이 낮아진 경우에 최적의 모델을 저장\n",
    "# EarlyStopping : 검증 손실이 일정 기간동안 향상되지 않으면 학습을 조기 종료\n",
    "# ReduceLROnPlateau : 검증 손실이 개선되지 않으면 학습률을 조정하는 등의 동작 수행.\n",
    "\n",
    "\n",
    "hist = model.fit(japonica_training_features_X_chunks_crop, japonica_training_features_y_chunks_crop, epochs = 200, batch_size = 32, validation_data=(japonica_validation_features_X_chunks_crop, japonica_validation_features_y_chunks_crop), callbacks=[checkpoint, early_stop, reduce_lr])\n",
    "model.save(model_name+'.h5')"
   ]
  },
  {
   "cell_type": "markdown",
   "metadata": {},
   "source": [
    "모델 평가"
   ]
  },
  {
   "cell_type": "code",
   "execution_count": 14,
   "metadata": {},
   "outputs": [],
   "source": [
    "# 모델 평가 함수\n",
    "def grapeNEva(model, X_test_shape, y_test, feed, y_test_shape):\n",
    "    X_pred = model.predict(X_test_shape)\n",
    "    X_pred = np.asarray(X_pred, dtype=np.float64)\n",
    "    X_pred = X_pred.reshape((-1))\n",
    "    print(len(X_pred))\n",
    "\n",
    "    # 그래프 생성\n",
    "    plt.figure(figsize=(15, 7))\n",
    "    plt.plot(y_test.index, y_test, label='sensor do')  # x축에 년월일, y축에 값\n",
    "    plt.plot(y_test.index, X_pred, color='red', label='prediction do')  # x축에 년월일, y축에 시분\n",
    "    plt.plot(y_test.index, feed, color='green', marker='o', linestyle='None', label='feed_quantity')  # x축에 년월일, y축에 시분\n",
    "    plt.xlabel('date')\n",
    "    plt.ylabel('do')\n",
    "    plt.title(model_name)\n",
    "    plt.legend(['sensor do','prediction do','feed_quantity'])\n",
    "    plt.show()\n",
    "    \n",
    "    # 평가 생성\n",
    "    result = model.evaluate(X_test_shape, y_test_shape)\n",
    "    print(\"MSE // MAE // R-squared \", result)"
   ]
  },
  {
   "cell_type": "code",
   "execution_count": 15,
   "metadata": {},
   "outputs": [],
   "source": [
    "# r_squared가 따로 만들어서 추가해준 함수기 때문에 불러올 때도 추가해서 불러야한다.\n",
    "model = load_model(model_name+'.h5', custom_objects={'r_squared': r_squared})"
   ]
  },
  {
   "cell_type": "code",
   "execution_count": 16,
   "metadata": {},
   "outputs": [
    {
     "name": "stdout",
     "output_type": "stream",
     "text": [
      "[[-0.05930109 -0.07837668 -0.00359154 ...  0.09638946  0.10234614\n",
      "  -0.01972547]\n",
      " [ 0.10121093  0.19766922  0.0725908  ... -0.08871789 -0.03059849\n",
      "  -0.08653516]\n",
      " [ 0.05185344  0.2028608  -0.04394058 ... -0.06569847  0.00613848\n",
      "   0.07072564]\n",
      " ...\n",
      " [-0.05374147  0.16876207  0.01406147 ...  0.09688842  0.09002747\n",
      "   0.04646759]\n",
      " [ 0.0367952   0.6057819  -0.027623   ...  0.02060887 -0.00314299\n",
      "  -0.10279341]\n",
      " [ 0.02877334  0.71153563 -0.03701312 ... -0.03801233 -0.11742238\n",
      "  -0.01362342]]\n"
     ]
    },
    {
     "data": {
      "image/png": "[encoded data removed]",
      "text/plain": [
       "<Figure size 576x288 with 1 Axes>"
      ]
     },
     "metadata": {
      "needs_background": "light"
     },
     "output_type": "display_data"
    }
   ],
   "source": [
    "# 가중치를 통해 변수 중요도 획득\n",
    "weights = model.layers[0].get_weights()[0]\n",
    "print(weights)\n",
    "\n",
    "\n",
    "# 변수 중요도 시각화\n",
    "fig, ax = plt.subplots(figsize=(8, 4))\n",
    "ax.bar(range(9), weights[:, 0])\n",
    "ax.set_xticks(range(9))\n",
    "ax.set_xticklabels(['do_mg','do_temp', 'ph', 'orp', 'co2_mg', 'air_oxy', 'light_ma', 'feed_quantity', 'water_quantity'])\n",
    "ax.set_ylabel('Weight')\n",
    "ax.set_title('Variable Importance')\n",
    "plt.show()"
   ]
  },
  {
   "cell_type": "code",
   "execution_count": 17,
   "metadata": {},
   "outputs": [
    {
     "data": {
      "text/html": [
       "<div>\n",
       "<style scoped>\n",
       "    .dataframe tbody tr th:only-of-type {\n",
       "        vertical-align: middle;\n",
       "    }\n",
       "\n",
       "    .dataframe tbody tr th {\n",
       "        vertical-align: top;\n",
       "    }\n",
       "\n",
       "    .dataframe thead th {\n",
       "        text-align: right;\n",
       "    }\n",
       "</style>\n",
       "<table border=\"1\" class=\"dataframe\">\n",
       "  <thead>\n",
       "    <tr style=\"text-align: right;\">\n",
       "      <th></th>\n",
       "      <th>do_mg</th>\n",
       "      <th>do_temp</th>\n",
       "      <th>ph</th>\n",
       "      <th>orp</th>\n",
       "      <th>co2_mg</th>\n",
       "      <th>air_oxy</th>\n",
       "      <th>light_ma</th>\n",
       "      <th>feed_quantity</th>\n",
       "      <th>water_quantity</th>\n",
       "    </tr>\n",
       "    <tr>\n",
       "      <th>mea_dt</th>\n",
       "      <th></th>\n",
       "      <th></th>\n",
       "      <th></th>\n",
       "      <th></th>\n",
       "      <th></th>\n",
       "      <th></th>\n",
       "      <th></th>\n",
       "      <th></th>\n",
       "      <th></th>\n",
       "    </tr>\n",
       "  </thead>\n",
       "  <tbody>\n",
       "    <tr>\n",
       "      <th>2021-07-21 00:00:00</th>\n",
       "      <td>7.7</td>\n",
       "      <td>30.2</td>\n",
       "      <td>5.57</td>\n",
       "      <td>195.6</td>\n",
       "      <td>13.7</td>\n",
       "      <td>0.0</td>\n",
       "      <td>3.9</td>\n",
       "      <td>0.0</td>\n",
       "      <td>0.0</td>\n",
       "    </tr>\n",
       "    <tr>\n",
       "      <th>2021-07-21 00:01:00</th>\n",
       "      <td>7.8</td>\n",
       "      <td>30.2</td>\n",
       "      <td>5.57</td>\n",
       "      <td>195.9</td>\n",
       "      <td>13.7</td>\n",
       "      <td>0.0</td>\n",
       "      <td>4.0</td>\n",
       "      <td>0.0</td>\n",
       "      <td>0.0</td>\n",
       "    </tr>\n",
       "    <tr>\n",
       "      <th>2021-07-21 00:02:00</th>\n",
       "      <td>7.8</td>\n",
       "      <td>30.2</td>\n",
       "      <td>5.57</td>\n",
       "      <td>196.1</td>\n",
       "      <td>13.7</td>\n",
       "      <td>0.0</td>\n",
       "      <td>4.0</td>\n",
       "      <td>0.0</td>\n",
       "      <td>0.0</td>\n",
       "    </tr>\n",
       "    <tr>\n",
       "      <th>2021-07-21 00:03:00</th>\n",
       "      <td>7.8</td>\n",
       "      <td>30.2</td>\n",
       "      <td>5.57</td>\n",
       "      <td>196.4</td>\n",
       "      <td>13.7</td>\n",
       "      <td>0.0</td>\n",
       "      <td>3.9</td>\n",
       "      <td>0.0</td>\n",
       "      <td>0.0</td>\n",
       "    </tr>\n",
       "    <tr>\n",
       "      <th>2021-07-21 00:04:00</th>\n",
       "      <td>7.9</td>\n",
       "      <td>30.2</td>\n",
       "      <td>5.57</td>\n",
       "      <td>196.6</td>\n",
       "      <td>13.8</td>\n",
       "      <td>0.0</td>\n",
       "      <td>4.0</td>\n",
       "      <td>0.0</td>\n",
       "      <td>0.0</td>\n",
       "    </tr>\n",
       "    <tr>\n",
       "      <th>...</th>\n",
       "      <td>...</td>\n",
       "      <td>...</td>\n",
       "      <td>...</td>\n",
       "      <td>...</td>\n",
       "      <td>...</td>\n",
       "      <td>...</td>\n",
       "      <td>...</td>\n",
       "      <td>...</td>\n",
       "      <td>...</td>\n",
       "    </tr>\n",
       "    <tr>\n",
       "      <th>2021-09-08 23:55:00</th>\n",
       "      <td>8.7</td>\n",
       "      <td>29.0</td>\n",
       "      <td>5.25</td>\n",
       "      <td>149.3</td>\n",
       "      <td>22.3</td>\n",
       "      <td>0.0</td>\n",
       "      <td>3.9</td>\n",
       "      <td>0.0</td>\n",
       "      <td>0.0</td>\n",
       "    </tr>\n",
       "    <tr>\n",
       "      <th>2021-09-08 23:56:00</th>\n",
       "      <td>8.7</td>\n",
       "      <td>29.0</td>\n",
       "      <td>5.25</td>\n",
       "      <td>149.8</td>\n",
       "      <td>22.3</td>\n",
       "      <td>0.0</td>\n",
       "      <td>3.9</td>\n",
       "      <td>0.0</td>\n",
       "      <td>0.0</td>\n",
       "    </tr>\n",
       "    <tr>\n",
       "      <th>2021-09-08 23:57:00</th>\n",
       "      <td>8.7</td>\n",
       "      <td>29.0</td>\n",
       "      <td>5.25</td>\n",
       "      <td>149.9</td>\n",
       "      <td>22.3</td>\n",
       "      <td>0.0</td>\n",
       "      <td>4.0</td>\n",
       "      <td>0.0</td>\n",
       "      <td>0.0</td>\n",
       "    </tr>\n",
       "    <tr>\n",
       "      <th>2021-09-08 23:58:00</th>\n",
       "      <td>8.7</td>\n",
       "      <td>29.0</td>\n",
       "      <td>5.25</td>\n",
       "      <td>150.3</td>\n",
       "      <td>22.3</td>\n",
       "      <td>0.0</td>\n",
       "      <td>4.0</td>\n",
       "      <td>0.0</td>\n",
       "      <td>0.0</td>\n",
       "    </tr>\n",
       "    <tr>\n",
       "      <th>2021-09-08 23:59:00</th>\n",
       "      <td>8.7</td>\n",
       "      <td>29.0</td>\n",
       "      <td>5.25</td>\n",
       "      <td>150.5</td>\n",
       "      <td>22.1</td>\n",
       "      <td>0.0</td>\n",
       "      <td>4.0</td>\n",
       "      <td>0.0</td>\n",
       "      <td>0.0</td>\n",
       "    </tr>\n",
       "  </tbody>\n",
       "</table>\n",
       "<p>64800 rows × 9 columns</p>\n",
       "</div>"
      ],
      "text/plain": [
       "                     do_mg  do_temp    ph    orp  co2_mg  air_oxy  light_ma  \\\n",
       "mea_dt                                                                        \n",
       "2021-07-21 00:00:00    7.7     30.2  5.57  195.6    13.7      0.0       3.9   \n",
       "2021-07-21 00:01:00    7.8     30.2  5.57  195.9    13.7      0.0       4.0   \n",
       "2021-07-21 00:02:00    7.8     30.2  5.57  196.1    13.7      0.0       4.0   \n",
       "2021-07-21 00:03:00    7.8     30.2  5.57  196.4    13.7      0.0       3.9   \n",
       "2021-07-21 00:04:00    7.9     30.2  5.57  196.6    13.8      0.0       4.0   \n",
       "...                    ...      ...   ...    ...     ...      ...       ...   \n",
       "2021-09-08 23:55:00    8.7     29.0  5.25  149.3    22.3      0.0       3.9   \n",
       "2021-09-08 23:56:00    8.7     29.0  5.25  149.8    22.3      0.0       3.9   \n",
       "2021-09-08 23:57:00    8.7     29.0  5.25  149.9    22.3      0.0       4.0   \n",
       "2021-09-08 23:58:00    8.7     29.0  5.25  150.3    22.3      0.0       4.0   \n",
       "2021-09-08 23:59:00    8.7     29.0  5.25  150.5    22.1      0.0       4.0   \n",
       "\n",
       "                     feed_quantity  water_quantity  \n",
       "mea_dt                                              \n",
       "2021-07-21 00:00:00            0.0             0.0  \n",
       "2021-07-21 00:01:00            0.0             0.0  \n",
       "2021-07-21 00:02:00            0.0             0.0  \n",
       "2021-07-21 00:03:00            0.0             0.0  \n",
       "2021-07-21 00:04:00            0.0             0.0  \n",
       "...                            ...             ...  \n",
       "2021-09-08 23:55:00            0.0             0.0  \n",
       "2021-09-08 23:56:00            0.0             0.0  \n",
       "2021-09-08 23:57:00            0.0             0.0  \n",
       "2021-09-08 23:58:00            0.0             0.0  \n",
       "2021-09-08 23:59:00            0.0             0.0  \n",
       "\n",
       "[64800 rows x 9 columns]"
      ]
     },
     "execution_count": 17,
     "metadata": {},
     "output_type": "execute_result"
    }
   ],
   "source": [
    "japonica_validation_features_X"
   ]
  },
  {
   "cell_type": "code",
   "execution_count": 18,
   "metadata": {},
   "outputs": [
    {
     "name": "stdout",
     "output_type": "stream",
     "text": [
      "nCar: 360 nVar: 180\n"
     ]
    }
   ],
   "source": [
    "X_test = japonica_validation_features_X.loc['2021-07-21 00:00':'2021-09-10 20:59']\n",
    "\n",
    "X_test_reshape = np.asarray(X_test, dtype=np.float64)\n",
    "X_test_reshape = X_test_reshape.reshape((-1, 180, 8))\n",
    "\n",
    "# shape확인\n",
    "nCar = X_test_reshape.shape[0] # 데이터 개수\n",
    "nVar = X_test_reshape.shape[1] # 변수 개수\n",
    "print('nCar: %d' % nCar, 'nVar: %d' % nVar )"
   ]
  },
  {
   "cell_type": "code",
   "execution_count": 19,
   "metadata": {},
   "outputs": [
    {
     "name": "stdout",
     "output_type": "stream",
     "text": [
      "nCar: 64800 nVar: 1\n",
      "nCar: 360 nVar: 180\n"
     ]
    }
   ],
   "source": [
    "y_date = japonica_validation_features_X.loc['2021-07-21 00:00':'2021-09-10 20:59']\n",
    "\n",
    "y_test = y_date[['do_mg']]\n",
    "\n",
    "y_test_reshape = np.asarray(y_test, dtype=np.float64)\n",
    "y_test_reshape = y_test_reshape.reshape((-1, 180, 1))\n",
    "\n",
    "nCar = y_test.shape[0] # 데이터 개수\n",
    "nVar = y_test.shape[1] # 변수 개수\n",
    "print('nCar: %d' % nCar, 'nVar: %d' % nVar )\n",
    "\n",
    "nCar = y_test_reshape.shape[0] # 데이터 개수\n",
    "nVar = y_test_reshape.shape[1] # 변수 개수\n",
    "print('nCar: %d' % nCar, 'nVar: %d' % nVar )"
   ]
  },
  {
   "cell_type": "code",
   "execution_count": 20,
   "metadata": {},
   "outputs": [
    {
     "name": "stdout",
     "output_type": "stream",
     "text": [
      "64800\n"
     ]
    },
    {
     "data": {
      "image/png": "[encoded data removed]",
      "text/plain": [
       "<Figure size 1080x504 with 1 Axes>"
      ]
     },
     "metadata": {
      "needs_background": "light"
     },
     "output_type": "display_data"
    },
    {
     "name": "stdout",
     "output_type": "stream",
     "text": [
      "12/12 [==============================] - 1s 16ms/step - loss: 0.3962 - mae: 0.3717 - r_squared: 0.3822\n",
      "MSE // MAE // R-squared  [0.39620441198349, 0.37169981002807617, 0.3821938931941986]\n"
     ]
    }
   ],
   "source": [
    "grapeNEva(model,X_test_reshape, y_test, y_date[['feed_quantity']], y_test_reshape)"
   ]
  },
  {
   "cell_type": "code",
   "execution_count": 21,
   "metadata": {},
   "outputs": [
    {
     "name": "stdout",
     "output_type": "stream",
     "text": [
      "nCar: 14220 nVar: 9\n"
     ]
    }
   ],
   "source": [
    "X_test = japonica_validation_features_X.loc['2021-07-21 00:00':'2021-07-31 20:59']\n",
    "\n",
    "X_test_reshape = np.asarray(X_test, dtype=np.float64)\n",
    "\n",
    "# shape확인\n",
    "nCar = X_test_reshape.shape[0] # 데이터 개수\n",
    "nVar = X_test_reshape.shape[1] # 변수 개수\n",
    "print('nCar: %d' % nCar, 'nVar: %d' % nVar )"
   ]
  },
  {
   "cell_type": "code",
   "execution_count": 22,
   "metadata": {},
   "outputs": [
    {
     "name": "stdout",
     "output_type": "stream",
     "text": [
      "nCar: 14220 nVar: 1\n",
      "nCar: 14220 nVar: 1\n"
     ]
    }
   ],
   "source": [
    "y_date = japonica_validation_features_X.loc['2021-07-21 03:00':'2021-07-31 23:59']\n",
    "\n",
    "y_test = y_date[['do_mg']]\n",
    "\n",
    "y_test_reshape = np.asarray(y_test, dtype=np.float64)\n",
    "\n",
    "nCar = y_test.shape[0] # 데이터 개수\n",
    "nVar = y_test.shape[1] # 변수 개수\n",
    "print('nCar: %d' % nCar, 'nVar: %d' % nVar )\n",
    "\n",
    "nCar = y_test_reshape.shape[0] # 데이터 개수\n",
    "nVar = y_test_reshape.shape[1] # 변수 개수\n",
    "print('nCar: %d' % nCar, 'nVar: %d' % nVar )"
   ]
  },
  {
   "cell_type": "code",
   "execution_count": 23,
   "metadata": {},
   "outputs": [
    {
     "ename": "ValueError",
     "evalue": "in user code:\n\n    /home/jovyan/.venv/tf2.6.0-keras2.6.0-py3.8-cuda11.3/lib/python3.8/site-packages/keras/engine/training.py:1586 predict_function  *\n        return step_function(self, iterator)\n    /home/jovyan/.venv/tf2.6.0-keras2.6.0-py3.8-cuda11.3/lib/python3.8/site-packages/keras/engine/training.py:1576 step_function  **\n        outputs = model.distribute_strategy.run(run_step, args=(data,))\n    /home/jovyan/.venv/tf2.6.0-keras2.6.0-py3.8-cuda11.3/lib/python3.8/site-packages/tensorflow/python/distribute/distribute_lib.py:1286 run\n        return self._extended.call_for_each_replica(fn, args=args, kwargs=kwargs)\n    /home/jovyan/.venv/tf2.6.0-keras2.6.0-py3.8-cuda11.3/lib/python3.8/site-packages/tensorflow/python/distribute/distribute_lib.py:2849 call_for_each_replica\n        return self._call_for_each_replica(fn, args, kwargs)\n    /home/jovyan/.venv/tf2.6.0-keras2.6.0-py3.8-cuda11.3/lib/python3.8/site-packages/tensorflow/python/distribute/distribute_lib.py:3632 _call_for_each_replica\n        return fn(*args, **kwargs)\n    /home/jovyan/.venv/tf2.6.0-keras2.6.0-py3.8-cuda11.3/lib/python3.8/site-packages/keras/engine/training.py:1569 run_step  **\n        outputs = model.predict_step(data)\n    /home/jovyan/.venv/tf2.6.0-keras2.6.0-py3.8-cuda11.3/lib/python3.8/site-packages/keras/engine/training.py:1537 predict_step\n        return self(x, training=False)\n    /home/jovyan/.venv/tf2.6.0-keras2.6.0-py3.8-cuda11.3/lib/python3.8/site-packages/keras/engine/base_layer.py:1020 __call__\n        input_spec.assert_input_compatibility(self.input_spec, inputs, self.name)\n    /home/jovyan/.venv/tf2.6.0-keras2.6.0-py3.8-cuda11.3/lib/python3.8/site-packages/keras/engine/input_spec.py:214 assert_input_compatibility\n        raise ValueError('Input ' + str(input_index) + ' of layer ' +\n\n    ValueError: Input 0 of layer sequential is incompatible with the layer: expected ndim=3, found ndim=2. Full shape received: (None, 9)\n",
     "output_type": "error",
     "traceback": [
      "\u001b[0;31m---------------------------------------------------------------------------\u001b[0m",
      "\u001b[0;31mValueError\u001b[0m                                Traceback (most recent call last)",
      "\u001b[0;32m/tmp/ipykernel_2436708/1324594535.py\u001b[0m in \u001b[0;36m<module>\u001b[0;34m\u001b[0m\n\u001b[0;32m----> 1\u001b[0;31m \u001b[0mgrapeNEva\u001b[0m\u001b[0;34m(\u001b[0m\u001b[0mmodel\u001b[0m\u001b[0;34m,\u001b[0m\u001b[0mX_test_reshape\u001b[0m\u001b[0;34m,\u001b[0m \u001b[0my_test\u001b[0m\u001b[0;34m,\u001b[0m \u001b[0my_date\u001b[0m\u001b[0;34m[\u001b[0m\u001b[0;34m[\u001b[0m\u001b[0;34m'feed_quantity'\u001b[0m\u001b[0;34m]\u001b[0m\u001b[0;34m]\u001b[0m\u001b[0;34m,\u001b[0m \u001b[0my_test_reshape\u001b[0m\u001b[0;34m)\u001b[0m\u001b[0;34m\u001b[0m\u001b[0;34m\u001b[0m\u001b[0m\n\u001b[0m",
      "\u001b[0;32m/tmp/ipykernel_2436708/1219501687.py\u001b[0m in \u001b[0;36mgrapeNEva\u001b[0;34m(model, X_test_shape, y_test, feed, y_test_shape)\u001b[0m\n\u001b[1;32m      1\u001b[0m \u001b[0;31m# 모델 평가 함수\u001b[0m\u001b[0;34m\u001b[0m\u001b[0;34m\u001b[0m\u001b[0;34m\u001b[0m\u001b[0m\n\u001b[1;32m      2\u001b[0m \u001b[0;32mdef\u001b[0m \u001b[0mgrapeNEva\u001b[0m\u001b[0;34m(\u001b[0m\u001b[0mmodel\u001b[0m\u001b[0;34m,\u001b[0m \u001b[0mX_test_shape\u001b[0m\u001b[0;34m,\u001b[0m \u001b[0my_test\u001b[0m\u001b[0;34m,\u001b[0m \u001b[0mfeed\u001b[0m\u001b[0;34m,\u001b[0m \u001b[0my_test_shape\u001b[0m\u001b[0;34m)\u001b[0m\u001b[0;34m:\u001b[0m\u001b[0;34m\u001b[0m\u001b[0;34m\u001b[0m\u001b[0m\n\u001b[0;32m----> 3\u001b[0;31m     \u001b[0mX_pred\u001b[0m \u001b[0;34m=\u001b[0m \u001b[0mmodel\u001b[0m\u001b[0;34m.\u001b[0m\u001b[0mpredict\u001b[0m\u001b[0;34m(\u001b[0m\u001b[0mX_test_shape\u001b[0m\u001b[0;34m)\u001b[0m\u001b[0;34m\u001b[0m\u001b[0;34m\u001b[0m\u001b[0m\n\u001b[0m\u001b[1;32m      4\u001b[0m     \u001b[0mX_pred\u001b[0m \u001b[0;34m=\u001b[0m \u001b[0mnp\u001b[0m\u001b[0;34m.\u001b[0m\u001b[0masarray\u001b[0m\u001b[0;34m(\u001b[0m\u001b[0mX_pred\u001b[0m\u001b[0;34m,\u001b[0m \u001b[0mdtype\u001b[0m\u001b[0;34m=\u001b[0m\u001b[0mnp\u001b[0m\u001b[0;34m.\u001b[0m\u001b[0mfloat64\u001b[0m\u001b[0;34m)\u001b[0m\u001b[0;34m\u001b[0m\u001b[0;34m\u001b[0m\u001b[0m\n\u001b[1;32m      5\u001b[0m     \u001b[0mX_pred\u001b[0m \u001b[0;34m=\u001b[0m \u001b[0mX_pred\u001b[0m\u001b[0;34m.\u001b[0m\u001b[0mreshape\u001b[0m\u001b[0;34m(\u001b[0m\u001b[0;34m(\u001b[0m\u001b[0;34m-\u001b[0m\u001b[0;36m1\u001b[0m\u001b[0;34m)\u001b[0m\u001b[0;34m)\u001b[0m\u001b[0;34m\u001b[0m\u001b[0;34m\u001b[0m\u001b[0m\n",
      "\u001b[0;32m~/.venv/tf2.6.0-keras2.6.0-py3.8-cuda11.3/lib/python3.8/site-packages/keras/engine/training.py\u001b[0m in \u001b[0;36mpredict\u001b[0;34m(self, x, batch_size, verbose, steps, callbacks, max_queue_size, workers, use_multiprocessing)\u001b[0m\n\u001b[1;32m   1749\u001b[0m           \u001b[0;32mfor\u001b[0m \u001b[0mstep\u001b[0m \u001b[0;32min\u001b[0m \u001b[0mdata_handler\u001b[0m\u001b[0;34m.\u001b[0m\u001b[0msteps\u001b[0m\u001b[0;34m(\u001b[0m\u001b[0;34m)\u001b[0m\u001b[0;34m:\u001b[0m\u001b[0;34m\u001b[0m\u001b[0;34m\u001b[0m\u001b[0m\n\u001b[1;32m   1750\u001b[0m             \u001b[0mcallbacks\u001b[0m\u001b[0;34m.\u001b[0m\u001b[0mon_predict_batch_begin\u001b[0m\u001b[0;34m(\u001b[0m\u001b[0mstep\u001b[0m\u001b[0;34m)\u001b[0m\u001b[0;34m\u001b[0m\u001b[0;34m\u001b[0m\u001b[0m\n\u001b[0;32m-> 1751\u001b[0;31m             \u001b[0mtmp_batch_outputs\u001b[0m \u001b[0;34m=\u001b[0m \u001b[0mself\u001b[0m\u001b[0;34m.\u001b[0m\u001b[0mpredict_function\u001b[0m\u001b[0;34m(\u001b[0m\u001b[0miterator\u001b[0m\u001b[0;34m)\u001b[0m\u001b[0;34m\u001b[0m\u001b[0;34m\u001b[0m\u001b[0m\n\u001b[0m\u001b[1;32m   1752\u001b[0m             \u001b[0;32mif\u001b[0m \u001b[0mdata_handler\u001b[0m\u001b[0;34m.\u001b[0m\u001b[0mshould_sync\u001b[0m\u001b[0;34m:\u001b[0m\u001b[0;34m\u001b[0m\u001b[0;34m\u001b[0m\u001b[0m\n\u001b[1;32m   1753\u001b[0m               \u001b[0mcontext\u001b[0m\u001b[0;34m.\u001b[0m\u001b[0masync_wait\u001b[0m\u001b[0;34m(\u001b[0m\u001b[0;34m)\u001b[0m\u001b[0;34m\u001b[0m\u001b[0;34m\u001b[0m\u001b[0m\n",
      "\u001b[0;32m~/.venv/tf2.6.0-keras2.6.0-py3.8-cuda11.3/lib/python3.8/site-packages/tensorflow/python/eager/def_function.py\u001b[0m in \u001b[0;36m__call__\u001b[0;34m(self, *args, **kwds)\u001b[0m\n\u001b[1;32m    883\u001b[0m \u001b[0;34m\u001b[0m\u001b[0m\n\u001b[1;32m    884\u001b[0m       \u001b[0;32mwith\u001b[0m \u001b[0mOptionalXlaContext\u001b[0m\u001b[0;34m(\u001b[0m\u001b[0mself\u001b[0m\u001b[0;34m.\u001b[0m\u001b[0m_jit_compile\u001b[0m\u001b[0;34m)\u001b[0m\u001b[0;34m:\u001b[0m\u001b[0;34m\u001b[0m\u001b[0;34m\u001b[0m\u001b[0m\n\u001b[0;32m--> 885\u001b[0;31m         \u001b[0mresult\u001b[0m \u001b[0;34m=\u001b[0m \u001b[0mself\u001b[0m\u001b[0;34m.\u001b[0m\u001b[0m_call\u001b[0m\u001b[0;34m(\u001b[0m\u001b[0;34m*\u001b[0m\u001b[0margs\u001b[0m\u001b[0;34m,\u001b[0m \u001b[0;34m**\u001b[0m\u001b[0mkwds\u001b[0m\u001b[0;34m)\u001b[0m\u001b[0;34m\u001b[0m\u001b[0;34m\u001b[0m\u001b[0m\n\u001b[0m\u001b[1;32m    886\u001b[0m \u001b[0;34m\u001b[0m\u001b[0m\n\u001b[1;32m    887\u001b[0m       \u001b[0mnew_tracing_count\u001b[0m \u001b[0;34m=\u001b[0m \u001b[0mself\u001b[0m\u001b[0;34m.\u001b[0m\u001b[0mexperimental_get_tracing_count\u001b[0m\u001b[0;34m(\u001b[0m\u001b[0;34m)\u001b[0m\u001b[0;34m\u001b[0m\u001b[0;34m\u001b[0m\u001b[0m\n",
      "\u001b[0;32m~/.venv/tf2.6.0-keras2.6.0-py3.8-cuda11.3/lib/python3.8/site-packages/tensorflow/python/eager/def_function.py\u001b[0m in \u001b[0;36m_call\u001b[0;34m(self, *args, **kwds)\u001b[0m\n\u001b[1;32m    922\u001b[0m       \u001b[0;31m# In this case we have not created variables on the first call. So we can\u001b[0m\u001b[0;34m\u001b[0m\u001b[0;34m\u001b[0m\u001b[0;34m\u001b[0m\u001b[0m\n\u001b[1;32m    923\u001b[0m       \u001b[0;31m# run the first trace but we should fail if variables are created.\u001b[0m\u001b[0;34m\u001b[0m\u001b[0;34m\u001b[0m\u001b[0;34m\u001b[0m\u001b[0m\n\u001b[0;32m--> 924\u001b[0;31m       \u001b[0mresults\u001b[0m \u001b[0;34m=\u001b[0m \u001b[0mself\u001b[0m\u001b[0;34m.\u001b[0m\u001b[0m_stateful_fn\u001b[0m\u001b[0;34m(\u001b[0m\u001b[0;34m*\u001b[0m\u001b[0margs\u001b[0m\u001b[0;34m,\u001b[0m \u001b[0;34m**\u001b[0m\u001b[0mkwds\u001b[0m\u001b[0;34m)\u001b[0m\u001b[0;34m\u001b[0m\u001b[0;34m\u001b[0m\u001b[0m\n\u001b[0m\u001b[1;32m    925\u001b[0m       \u001b[0;32mif\u001b[0m \u001b[0mself\u001b[0m\u001b[0;34m.\u001b[0m\u001b[0m_created_variables\u001b[0m \u001b[0;32mand\u001b[0m \u001b[0;32mnot\u001b[0m \u001b[0mALLOW_DYNAMIC_VARIABLE_CREATION\u001b[0m\u001b[0;34m:\u001b[0m\u001b[0;34m\u001b[0m\u001b[0;34m\u001b[0m\u001b[0m\n\u001b[1;32m    926\u001b[0m         raise ValueError(\"Creating variables on a non-first call to a function\"\n",
      "\u001b[0;32m~/.venv/tf2.6.0-keras2.6.0-py3.8-cuda11.3/lib/python3.8/site-packages/tensorflow/python/eager/function.py\u001b[0m in \u001b[0;36m__call__\u001b[0;34m(self, *args, **kwargs)\u001b[0m\n\u001b[1;32m   3036\u001b[0m     \u001b[0;32mwith\u001b[0m \u001b[0mself\u001b[0m\u001b[0;34m.\u001b[0m\u001b[0m_lock\u001b[0m\u001b[0;34m:\u001b[0m\u001b[0;34m\u001b[0m\u001b[0;34m\u001b[0m\u001b[0m\n\u001b[1;32m   3037\u001b[0m       (graph_function,\n\u001b[0;32m-> 3038\u001b[0;31m        filtered_flat_args) = self._maybe_define_function(args, kwargs)\n\u001b[0m\u001b[1;32m   3039\u001b[0m     return graph_function._call_flat(\n\u001b[1;32m   3040\u001b[0m         filtered_flat_args, captured_inputs=graph_function.captured_inputs)  # pylint: disable=protected-access\n",
      "\u001b[0;32m~/.venv/tf2.6.0-keras2.6.0-py3.8-cuda11.3/lib/python3.8/site-packages/tensorflow/python/eager/function.py\u001b[0m in \u001b[0;36m_maybe_define_function\u001b[0;34m(self, args, kwargs)\u001b[0m\n\u001b[1;32m   3457\u001b[0m               \u001b[0mself\u001b[0m\u001b[0;34m.\u001b[0m\u001b[0minput_signature\u001b[0m \u001b[0;32mis\u001b[0m \u001b[0;32mNone\u001b[0m \u001b[0;32mand\u001b[0m\u001b[0;34m\u001b[0m\u001b[0;34m\u001b[0m\u001b[0m\n\u001b[1;32m   3458\u001b[0m               call_context_key in self._function_cache.missed):\n\u001b[0;32m-> 3459\u001b[0;31m             return self._define_function_with_shape_relaxation(\n\u001b[0m\u001b[1;32m   3460\u001b[0m                 args, kwargs, flat_args, filtered_flat_args, cache_key_context)\n\u001b[1;32m   3461\u001b[0m \u001b[0;34m\u001b[0m\u001b[0m\n",
      "\u001b[0;32m~/.venv/tf2.6.0-keras2.6.0-py3.8-cuda11.3/lib/python3.8/site-packages/tensorflow/python/eager/function.py\u001b[0m in \u001b[0;36m_define_function_with_shape_relaxation\u001b[0;34m(self, args, kwargs, flat_args, filtered_flat_args, cache_key_context)\u001b[0m\n\u001b[1;32m   3379\u001b[0m           expand_composites=True)\n\u001b[1;32m   3380\u001b[0m \u001b[0;34m\u001b[0m\u001b[0m\n\u001b[0;32m-> 3381\u001b[0;31m     graph_function = self._create_graph_function(\n\u001b[0m\u001b[1;32m   3382\u001b[0m         args, kwargs, override_flat_arg_shapes=relaxed_arg_shapes)\n\u001b[1;32m   3383\u001b[0m     \u001b[0mself\u001b[0m\u001b[0;34m.\u001b[0m\u001b[0m_function_cache\u001b[0m\u001b[0;34m.\u001b[0m\u001b[0marg_relaxed\u001b[0m\u001b[0;34m[\u001b[0m\u001b[0mrank_only_cache_key\u001b[0m\u001b[0;34m]\u001b[0m \u001b[0;34m=\u001b[0m \u001b[0mgraph_function\u001b[0m\u001b[0;34m\u001b[0m\u001b[0;34m\u001b[0m\u001b[0m\n",
      "\u001b[0;32m~/.venv/tf2.6.0-keras2.6.0-py3.8-cuda11.3/lib/python3.8/site-packages/tensorflow/python/eager/function.py\u001b[0m in \u001b[0;36m_create_graph_function\u001b[0;34m(self, args, kwargs, override_flat_arg_shapes)\u001b[0m\n\u001b[1;32m   3296\u001b[0m     \u001b[0marg_names\u001b[0m \u001b[0;34m=\u001b[0m \u001b[0mbase_arg_names\u001b[0m \u001b[0;34m+\u001b[0m \u001b[0mmissing_arg_names\u001b[0m\u001b[0;34m\u001b[0m\u001b[0;34m\u001b[0m\u001b[0m\n\u001b[1;32m   3297\u001b[0m     graph_function = ConcreteFunction(\n\u001b[0;32m-> 3298\u001b[0;31m         func_graph_module.func_graph_from_py_func(\n\u001b[0m\u001b[1;32m   3299\u001b[0m             \u001b[0mself\u001b[0m\u001b[0;34m.\u001b[0m\u001b[0m_name\u001b[0m\u001b[0;34m,\u001b[0m\u001b[0;34m\u001b[0m\u001b[0;34m\u001b[0m\u001b[0m\n\u001b[1;32m   3300\u001b[0m             \u001b[0mself\u001b[0m\u001b[0;34m.\u001b[0m\u001b[0m_python_function\u001b[0m\u001b[0;34m,\u001b[0m\u001b[0;34m\u001b[0m\u001b[0;34m\u001b[0m\u001b[0m\n",
      "\u001b[0;32m~/.venv/tf2.6.0-keras2.6.0-py3.8-cuda11.3/lib/python3.8/site-packages/tensorflow/python/framework/func_graph.py\u001b[0m in \u001b[0;36mfunc_graph_from_py_func\u001b[0;34m(name, python_func, args, kwargs, signature, func_graph, autograph, autograph_options, add_control_dependencies, arg_names, op_return_value, collections, capture_by_value, override_flat_arg_shapes, acd_record_initial_resource_uses)\u001b[0m\n\u001b[1;32m   1005\u001b[0m         \u001b[0m_\u001b[0m\u001b[0;34m,\u001b[0m \u001b[0moriginal_func\u001b[0m \u001b[0;34m=\u001b[0m \u001b[0mtf_decorator\u001b[0m\u001b[0;34m.\u001b[0m\u001b[0munwrap\u001b[0m\u001b[0;34m(\u001b[0m\u001b[0mpython_func\u001b[0m\u001b[0;34m)\u001b[0m\u001b[0;34m\u001b[0m\u001b[0;34m\u001b[0m\u001b[0m\n\u001b[1;32m   1006\u001b[0m \u001b[0;34m\u001b[0m\u001b[0m\n\u001b[0;32m-> 1007\u001b[0;31m       \u001b[0mfunc_outputs\u001b[0m \u001b[0;34m=\u001b[0m \u001b[0mpython_func\u001b[0m\u001b[0;34m(\u001b[0m\u001b[0;34m*\u001b[0m\u001b[0mfunc_args\u001b[0m\u001b[0;34m,\u001b[0m \u001b[0;34m**\u001b[0m\u001b[0mfunc_kwargs\u001b[0m\u001b[0;34m)\u001b[0m\u001b[0;34m\u001b[0m\u001b[0;34m\u001b[0m\u001b[0m\n\u001b[0m\u001b[1;32m   1008\u001b[0m \u001b[0;34m\u001b[0m\u001b[0m\n\u001b[1;32m   1009\u001b[0m       \u001b[0;31m# invariant: `func_outputs` contains only Tensors, CompositeTensors,\u001b[0m\u001b[0;34m\u001b[0m\u001b[0;34m\u001b[0m\u001b[0;34m\u001b[0m\u001b[0m\n",
      "\u001b[0;32m~/.venv/tf2.6.0-keras2.6.0-py3.8-cuda11.3/lib/python3.8/site-packages/tensorflow/python/eager/def_function.py\u001b[0m in \u001b[0;36mwrapped_fn\u001b[0;34m(*args, **kwds)\u001b[0m\n\u001b[1;32m    666\u001b[0m         \u001b[0;31m# the function a weak reference to itself to avoid a reference cycle.\u001b[0m\u001b[0;34m\u001b[0m\u001b[0;34m\u001b[0m\u001b[0;34m\u001b[0m\u001b[0m\n\u001b[1;32m    667\u001b[0m         \u001b[0;32mwith\u001b[0m \u001b[0mOptionalXlaContext\u001b[0m\u001b[0;34m(\u001b[0m\u001b[0mcompile_with_xla\u001b[0m\u001b[0;34m)\u001b[0m\u001b[0;34m:\u001b[0m\u001b[0;34m\u001b[0m\u001b[0;34m\u001b[0m\u001b[0m\n\u001b[0;32m--> 668\u001b[0;31m           \u001b[0mout\u001b[0m \u001b[0;34m=\u001b[0m \u001b[0mweak_wrapped_fn\u001b[0m\u001b[0;34m(\u001b[0m\u001b[0;34m)\u001b[0m\u001b[0;34m.\u001b[0m\u001b[0m__wrapped__\u001b[0m\u001b[0;34m(\u001b[0m\u001b[0;34m*\u001b[0m\u001b[0margs\u001b[0m\u001b[0;34m,\u001b[0m \u001b[0;34m**\u001b[0m\u001b[0mkwds\u001b[0m\u001b[0;34m)\u001b[0m\u001b[0;34m\u001b[0m\u001b[0;34m\u001b[0m\u001b[0m\n\u001b[0m\u001b[1;32m    669\u001b[0m         \u001b[0;32mreturn\u001b[0m \u001b[0mout\u001b[0m\u001b[0;34m\u001b[0m\u001b[0;34m\u001b[0m\u001b[0m\n\u001b[1;32m    670\u001b[0m \u001b[0;34m\u001b[0m\u001b[0m\n",
      "\u001b[0;32m~/.venv/tf2.6.0-keras2.6.0-py3.8-cuda11.3/lib/python3.8/site-packages/tensorflow/python/framework/func_graph.py\u001b[0m in \u001b[0;36mwrapper\u001b[0;34m(*args, **kwargs)\u001b[0m\n\u001b[1;32m    992\u001b[0m           \u001b[0;32mexcept\u001b[0m \u001b[0mException\u001b[0m \u001b[0;32mas\u001b[0m \u001b[0me\u001b[0m\u001b[0;34m:\u001b[0m  \u001b[0;31m# pylint:disable=broad-except\u001b[0m\u001b[0;34m\u001b[0m\u001b[0;34m\u001b[0m\u001b[0m\n\u001b[1;32m    993\u001b[0m             \u001b[0;32mif\u001b[0m \u001b[0mhasattr\u001b[0m\u001b[0;34m(\u001b[0m\u001b[0me\u001b[0m\u001b[0;34m,\u001b[0m \u001b[0;34m\"ag_error_metadata\"\u001b[0m\u001b[0;34m)\u001b[0m\u001b[0;34m:\u001b[0m\u001b[0;34m\u001b[0m\u001b[0;34m\u001b[0m\u001b[0m\n\u001b[0;32m--> 994\u001b[0;31m               \u001b[0;32mraise\u001b[0m \u001b[0me\u001b[0m\u001b[0;34m.\u001b[0m\u001b[0mag_error_metadata\u001b[0m\u001b[0;34m.\u001b[0m\u001b[0mto_exception\u001b[0m\u001b[0;34m(\u001b[0m\u001b[0me\u001b[0m\u001b[0;34m)\u001b[0m\u001b[0;34m\u001b[0m\u001b[0;34m\u001b[0m\u001b[0m\n\u001b[0m\u001b[1;32m    995\u001b[0m             \u001b[0;32melse\u001b[0m\u001b[0;34m:\u001b[0m\u001b[0;34m\u001b[0m\u001b[0;34m\u001b[0m\u001b[0m\n\u001b[1;32m    996\u001b[0m               \u001b[0;32mraise\u001b[0m\u001b[0;34m\u001b[0m\u001b[0;34m\u001b[0m\u001b[0m\n",
      "\u001b[0;31mValueError\u001b[0m: in user code:\n\n    /home/jovyan/.venv/tf2.6.0-keras2.6.0-py3.8-cuda11.3/lib/python3.8/site-packages/keras/engine/training.py:1586 predict_function  *\n        return step_function(self, iterator)\n    /home/jovyan/.venv/tf2.6.0-keras2.6.0-py3.8-cuda11.3/lib/python3.8/site-packages/keras/engine/training.py:1576 step_function  **\n        outputs = model.distribute_strategy.run(run_step, args=(data,))\n    /home/jovyan/.venv/tf2.6.0-keras2.6.0-py3.8-cuda11.3/lib/python3.8/site-packages/tensorflow/python/distribute/distribute_lib.py:1286 run\n        return self._extended.call_for_each_replica(fn, args=args, kwargs=kwargs)\n    /home/jovyan/.venv/tf2.6.0-keras2.6.0-py3.8-cuda11.3/lib/python3.8/site-packages/tensorflow/python/distribute/distribute_lib.py:2849 call_for_each_replica\n        return self._call_for_each_replica(fn, args, kwargs)\n    /home/jovyan/.venv/tf2.6.0-keras2.6.0-py3.8-cuda11.3/lib/python3.8/site-packages/tensorflow/python/distribute/distribute_lib.py:3632 _call_for_each_replica\n        return fn(*args, **kwargs)\n    /home/jovyan/.venv/tf2.6.0-keras2.6.0-py3.8-cuda11.3/lib/python3.8/site-packages/keras/engine/training.py:1569 run_step  **\n        outputs = model.predict_step(data)\n    /home/jovyan/.venv/tf2.6.0-keras2.6.0-py3.8-cuda11.3/lib/python3.8/site-packages/keras/engine/training.py:1537 predict_step\n        return self(x, training=False)\n    /home/jovyan/.venv/tf2.6.0-keras2.6.0-py3.8-cuda11.3/lib/python3.8/site-packages/keras/engine/base_layer.py:1020 __call__\n        input_spec.assert_input_compatibility(self.input_spec, inputs, self.name)\n    /home/jovyan/.venv/tf2.6.0-keras2.6.0-py3.8-cuda11.3/lib/python3.8/site-packages/keras/engine/input_spec.py:214 assert_input_compatibility\n        raise ValueError('Input ' + str(input_index) + ' of layer ' +\n\n    ValueError: Input 0 of layer sequential is incompatible with the layer: expected ndim=3, found ndim=2. Full shape received: (None, 9)\n"
     ]
    }
   ],
   "source": [
    "grapeNEva(model,X_test_reshape, y_test, y_date[['feed_quantity']], y_test_reshape)"
   ]
  },
  {
   "cell_type": "code",
   "execution_count": null,
   "metadata": {},
   "outputs": [],
   "source": [
    "X_test = japonica_validation_features_X.loc['2021-07-21 00:00':'2021-07-21 20:59']\n",
    "\n",
    "X_test_reshape = np.asarray(X_test, dtype=np.float64)\n",
    "\n",
    "# shape확인\n",
    "nCar = X_test_reshape.shape[0] # 데이터 개수\n",
    "nVar = X_test_reshape.shape[1] # 변수 개수\n",
    "print('nCar: %d' % nCar, 'nVar: %d' % nVar )"
   ]
  },
  {
   "cell_type": "code",
   "execution_count": null,
   "metadata": {
    "scrolled": true
   },
   "outputs": [],
   "source": [
    "y_date = japonica_validation_features_X.loc['2021-07-21 03:00':'2021-07-21 23:59']\n",
    "\n",
    "y_test = y_date[['do_mg']]\n",
    "\n",
    "y_test_reshape = np.asarray(y_test, dtype=np.float64)\n",
    "\n",
    "nCar = y_test.shape[0] # 데이터 개수\n",
    "nVar = y_test.shape[1] # 변수 개수\n",
    "print('nCar: %d' % nCar, 'nVar: %d' % nVar )\n",
    "\n",
    "nCar = y_test_reshape.shape[0] # 데이터 개수\n",
    "nVar = y_test_reshape.shape[1] # 변수 개수\n",
    "print('nCar: %d' % nCar, 'nVar: %d' % nVar )"
   ]
  },
  {
   "cell_type": "code",
   "execution_count": null,
   "metadata": {
    "scrolled": true
   },
   "outputs": [],
   "source": [
    "grapeNEva(model,X_test_reshape, y_test, y_date[['feed_quantity']], y_test_reshape)"
   ]
  },
  {
   "cell_type": "code",
   "execution_count": null,
   "metadata": {},
   "outputs": [],
   "source": [
    "X_test = japonica_validation_features_X.loc['2021-07-21 00:00':'2021-07-21 11:59']\n",
    "\n",
    "X_test_reshape = np.asarray(X_test, dtype=np.float64)\n",
    "\n",
    "# shape확인\n",
    "nCar = X_test_reshape.shape[0] # 데이터 개수\n",
    "nVar = X_test_reshape.shape[1] # 변수 개수\n",
    "print('nCar: %d' % nCar, 'nVar: %d' % nVar )"
   ]
  },
  {
   "cell_type": "code",
   "execution_count": null,
   "metadata": {
    "scrolled": true
   },
   "outputs": [],
   "source": [
    "y_date = japonica_validation_features_X.loc['2021-07-21 03:00':'2021-07-21 14:59']\n",
    "\n",
    "y_test = y_date[['do_mg']]\n",
    "\n",
    "y_test_reshape = np.asarray(y_test, dtype=np.float64)\n",
    "\n",
    "nCar = y_test.shape[0] # 데이터 개수\n",
    "nVar = y_test.shape[1] # 변수 개수\n",
    "print('nCar: %d' % nCar, 'nVar: %d' % nVar )\n",
    "\n",
    "nCar = y_test_reshape.shape[0] # 데이터 개수\n",
    "nVar = y_test_reshape.shape[1] # 변수 개수\n",
    "print('nCar: %d' % nCar, 'nVar: %d' % nVar )"
   ]
  },
  {
   "cell_type": "code",
   "execution_count": null,
   "metadata": {},
   "outputs": [],
   "source": [
    "grapeNEva(model,X_test_reshape, y_test, y_date[['feed_quantity']], y_test_reshape)"
   ]
  },
  {
   "cell_type": "code",
   "execution_count": null,
   "metadata": {},
   "outputs": [],
   "source": [
    "japonica_validation_features_X.at['2021-07-21 08:00', 'feed_quantity'] = 6\n",
    "\n",
    "X_test = japonica_validation_features_X.loc['2021-07-21 00:00':'2021-07-21 11:59']\n",
    "\n",
    "X_test_reshape = np.asarray(X_test, dtype=np.float64)\n",
    "\n",
    "# shape확인\n",
    "nCar = X_test_reshape.shape[0] # 데이터 개수\n",
    "nVar = X_test_reshape.shape[1] # 변수 개수\n",
    "print('nCar: %d' % nCar, 'nVar: %d' % nVar )"
   ]
  },
  {
   "cell_type": "code",
   "execution_count": null,
   "metadata": {},
   "outputs": [],
   "source": [
    "y_date = japonica_validation_features_X.loc['2021-07-21 03:00':'2021-07-21 14:59']\n",
    "\n",
    "y_test = y_date[['do_mg']]\n",
    "\n",
    "y_test_reshape = np.asarray(y_test, dtype=np.float64)\n",
    "\n",
    "nCar = y_test.shape[0] # 데이터 개수\n",
    "nVar = y_test.shape[1] # 변수 개수\n",
    "print('nCar: %d' % nCar, 'nVar: %d' % nVar )\n",
    "\n",
    "nCar = y_test_reshape.shape[0] # 데이터 개수\n",
    "nVar = y_test_reshape.shape[1] # 변수 개수\n",
    "print('nCar: %d' % nCar, 'nVar: %d' % nVar )"
   ]
  },
  {
   "cell_type": "code",
   "execution_count": null,
   "metadata": {},
   "outputs": [],
   "source": [
    "grapeNEva(model,X_test_reshape, y_test, y_date[['feed_quantity']], y_test_reshape)"
   ]
  },
  {
   "cell_type": "code",
   "execution_count": null,
   "metadata": {},
   "outputs": [],
   "source": []
  },
  {
   "cell_type": "code",
   "execution_count": null,
   "metadata": {},
   "outputs": [],
   "source": []
  }
 ],
 "metadata": {
  "kernelspec": {
   "display_name": "tf2.6.0-keras2.6.0-py3.8-cuda11.3",
   "language": "python",
   "name": "tf2.6.0-keras2.6.0-py3.8-cuda11.3"
  },
  "language_info": {
   "codemirror_mode": {
    "name": "ipython",
    "version": 3
   },
   "file_extension": ".py",
   "mimetype": "text/x-python",
   "name": "python",
   "nbconvert_exporter": "python",
   "pygments_lexer": "ipython3",
   "version": "3.8.10"
  }
 },
 "nbformat": 4,
 "nbformat_minor": 2
}
