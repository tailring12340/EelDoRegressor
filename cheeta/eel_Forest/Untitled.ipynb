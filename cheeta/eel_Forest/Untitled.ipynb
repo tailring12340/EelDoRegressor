{
 "cells": [
  {
   "cell_type": "code",
   "execution_count": 13,
   "id": "b4eac036-f694-4df5-a72a-cfb91e215179",
   "metadata": {
    "execution": {
     "iopub.execute_input": "2023-03-16T07:49:38.283557Z",
     "iopub.status.busy": "2023-03-16T07:49:38.283027Z",
     "iopub.status.idle": "2023-03-16T07:49:39.868769Z",
     "shell.execute_reply": "2023-03-16T07:49:39.868065Z",
     "shell.execute_reply.started": "2023-03-16T07:49:38.283499Z"
    },
    "tags": []
   },
   "outputs": [],
   "source": [
    "from sklearn.ensemble import RandomForestRegressor\n",
    "from sklearn.ensemble import GradientBoostingRegressor\n",
    "from sklearn.tree import DecisionTreeRegressor\n",
    "from sklearn.model_selection import cross_val_score\n",
    "import pandas as pd\n",
    "import numpy as np\n",
    "from sklearn.model_selection import GridSearchCV\n",
    "from sklearn.model_selection import train_test_split\n",
    "from sklearn.metrics import mean_squared_error\n",
    "import math\n",
    "\n",
    "\n",
    "trainingSensor = pd.read_csv(\"eeldata/data/Training/Origin/Sensor/Japonica/sensor_val_tb.csv\")\n",
    "validationSensor = pd.read_csv(\"eeldata/data/Validation/Origin/Sensor/Japonica/sensor_val_tb.csv\")\n",
    "\n",
    "traingFood = pd.read_csv(\"eeldata/data/Training/Origin/Management/Japonica/food_supply_tb.csv\")\n",
    "validationFood = pd.read_csv(\"eeldata/data/Validation/Origin/Management/Japonica/food_supply_tb.csv\")"
   ]
  },
  {
   "cell_type": "code",
   "execution_count": 14,
   "id": "8fb833f8-0203-4308-b3a9-f0b09a43029c",
   "metadata": {
    "execution": {
     "iopub.execute_input": "2023-03-16T07:49:39.877988Z",
     "iopub.status.busy": "2023-03-16T07:49:39.877880Z",
     "iopub.status.idle": "2023-03-16T07:49:39.901893Z",
     "shell.execute_reply": "2023-03-16T07:49:39.901252Z",
     "shell.execute_reply.started": "2023-03-16T07:49:39.877975Z"
    }
   },
   "outputs": [],
   "source": [
    "trainingSensor[\"mea_dt\"] = trainingSensor[\"mea_dt\"].apply(str)\n",
    "trainingSensor[\"mea_dt\"]  = trainingSensor[\"mea_dt\"].str.slice(start=0, stop=15)\n",
    "traingFood['feed_dt'] = pd.to_datetime(traingFood['feed_dt'], format='%Y%m%d%H%M', errors='raise')\n",
    "traingFood[\"feed_dt\"]=traingFood[\"feed_dt\"].apply(str)\n",
    "traingFood[\"feed_dt\"]  = traingFood[\"feed_dt\"].str.slice(start=0, stop=15)\n",
    "\n",
    "validationSensor[\"mea_dt\"] = validationSensor[\"mea_dt\"].apply(str)\n",
    "validationSensor[\"mea_dt\"]  = validationSensor[\"mea_dt\"].str.slice(start=0, stop=15)\n",
    "validationFood['feed_dt'] = pd.to_datetime(validationFood['feed_dt'], format='%Y%m%d%H%M', errors='raise')\n",
    "validationFood[\"feed_dt\"] = validationFood[\"feed_dt\"].apply(str)\n",
    "validationFood[\"feed_dt\"] = validationFood[\"feed_dt\"].str.slice(start=0, stop=15)"
   ]
  },
  {
   "cell_type": "code",
   "execution_count": 15,
   "id": "2a7d9a73",
   "metadata": {},
   "outputs": [
    {
     "data": {
      "text/html": [
       "<div>\n",
       "<style scoped>\n",
       "    .dataframe tbody tr th:only-of-type {\n",
       "        vertical-align: middle;\n",
       "    }\n",
       "\n",
       "    .dataframe tbody tr th {\n",
       "        vertical-align: top;\n",
       "    }\n",
       "\n",
       "    .dataframe thead th {\n",
       "        text-align: right;\n",
       "    }\n",
       "</style>\n",
       "<table border=\"1\" class=\"dataframe\">\n",
       "  <thead>\n",
       "    <tr style=\"text-align: right;\">\n",
       "      <th></th>\n",
       "      <th>Unnamed: 0</th>\n",
       "      <th>farm_id</th>\n",
       "      <th>tank_id</th>\n",
       "      <th>mea_dt</th>\n",
       "      <th>do_mg</th>\n",
       "      <th>do_temp</th>\n",
       "      <th>ph</th>\n",
       "      <th>orp</th>\n",
       "      <th>co2_mg</th>\n",
       "      <th>air_oxy</th>\n",
       "      <th>...</th>\n",
       "      <th>add_quantity</th>\n",
       "      <th>add_code2</th>\n",
       "      <th>add_quantity2</th>\n",
       "      <th>add_code3</th>\n",
       "      <th>add_quantity3</th>\n",
       "      <th>add_code4</th>\n",
       "      <th>add_quantity4</th>\n",
       "      <th>add_code5</th>\n",
       "      <th>add_quantity5</th>\n",
       "      <th>reg_dt</th>\n",
       "    </tr>\n",
       "  </thead>\n",
       "  <tbody>\n",
       "    <tr>\n",
       "      <th>1905</th>\n",
       "      <td>173565</td>\n",
       "      <td>1</td>\n",
       "      <td>1</td>\n",
       "      <td>2021-08-09 04:3</td>\n",
       "      <td>9.2</td>\n",
       "      <td>28.3</td>\n",
       "      <td>6.15</td>\n",
       "      <td>201.2</td>\n",
       "      <td>10.2</td>\n",
       "      <td>0.0</td>\n",
       "      <td>...</td>\n",
       "      <td>1.5</td>\n",
       "      <td>c1-g</td>\n",
       "      <td>1.0</td>\n",
       "      <td>c2-g</td>\n",
       "      <td>0.5</td>\n",
       "      <td>c4-g</td>\n",
       "      <td>3.5</td>\n",
       "      <td>c5-g</td>\n",
       "      <td>1.0</td>\n",
       "      <td>2021-09-16 18:55:19</td>\n",
       "    </tr>\n",
       "    <tr>\n",
       "      <th>1906</th>\n",
       "      <td>173570</td>\n",
       "      <td>1</td>\n",
       "      <td>1</td>\n",
       "      <td>2021-08-09 04:3</td>\n",
       "      <td>9.1</td>\n",
       "      <td>28.3</td>\n",
       "      <td>6.15</td>\n",
       "      <td>201.5</td>\n",
       "      <td>10.2</td>\n",
       "      <td>0.0</td>\n",
       "      <td>...</td>\n",
       "      <td>1.5</td>\n",
       "      <td>c1-g</td>\n",
       "      <td>1.0</td>\n",
       "      <td>c2-g</td>\n",
       "      <td>0.5</td>\n",
       "      <td>c4-g</td>\n",
       "      <td>3.5</td>\n",
       "      <td>c5-g</td>\n",
       "      <td>1.0</td>\n",
       "      <td>2021-09-16 18:55:19</td>\n",
       "    </tr>\n",
       "    <tr>\n",
       "      <th>1907</th>\n",
       "      <td>173575</td>\n",
       "      <td>1</td>\n",
       "      <td>1</td>\n",
       "      <td>2021-08-09 04:3</td>\n",
       "      <td>9.0</td>\n",
       "      <td>28.3</td>\n",
       "      <td>6.15</td>\n",
       "      <td>201.0</td>\n",
       "      <td>10.2</td>\n",
       "      <td>0.0</td>\n",
       "      <td>...</td>\n",
       "      <td>1.5</td>\n",
       "      <td>c1-g</td>\n",
       "      <td>1.0</td>\n",
       "      <td>c2-g</td>\n",
       "      <td>0.5</td>\n",
       "      <td>c4-g</td>\n",
       "      <td>3.5</td>\n",
       "      <td>c5-g</td>\n",
       "      <td>1.0</td>\n",
       "      <td>2021-09-16 18:55:19</td>\n",
       "    </tr>\n",
       "    <tr>\n",
       "      <th>1908</th>\n",
       "      <td>173580</td>\n",
       "      <td>1</td>\n",
       "      <td>1</td>\n",
       "      <td>2021-08-09 04:3</td>\n",
       "      <td>8.8</td>\n",
       "      <td>28.3</td>\n",
       "      <td>6.15</td>\n",
       "      <td>200.9</td>\n",
       "      <td>10.2</td>\n",
       "      <td>0.0</td>\n",
       "      <td>...</td>\n",
       "      <td>1.5</td>\n",
       "      <td>c1-g</td>\n",
       "      <td>1.0</td>\n",
       "      <td>c2-g</td>\n",
       "      <td>0.5</td>\n",
       "      <td>c4-g</td>\n",
       "      <td>3.5</td>\n",
       "      <td>c5-g</td>\n",
       "      <td>1.0</td>\n",
       "      <td>2021-09-16 18:55:19</td>\n",
       "    </tr>\n",
       "    <tr>\n",
       "      <th>1909</th>\n",
       "      <td>173585</td>\n",
       "      <td>1</td>\n",
       "      <td>1</td>\n",
       "      <td>2021-08-09 04:3</td>\n",
       "      <td>9.1</td>\n",
       "      <td>28.3</td>\n",
       "      <td>6.15</td>\n",
       "      <td>201.0</td>\n",
       "      <td>10.2</td>\n",
       "      <td>0.0</td>\n",
       "      <td>...</td>\n",
       "      <td>1.5</td>\n",
       "      <td>c1-g</td>\n",
       "      <td>1.0</td>\n",
       "      <td>c2-g</td>\n",
       "      <td>0.5</td>\n",
       "      <td>c4-g</td>\n",
       "      <td>3.5</td>\n",
       "      <td>c5-g</td>\n",
       "      <td>1.0</td>\n",
       "      <td>2021-09-16 18:55:19</td>\n",
       "    </tr>\n",
       "  </tbody>\n",
       "</table>\n",
       "<p>5 rows × 26 columns</p>\n",
       "</div>"
      ],
      "text/plain": [
       "      Unnamed: 0  farm_id  tank_id           mea_dt  do_mg  do_temp    ph  \\\n",
       "1905      173565        1        1  2021-08-09 04:3    9.2     28.3  6.15   \n",
       "1906      173570        1        1  2021-08-09 04:3    9.1     28.3  6.15   \n",
       "1907      173575        1        1  2021-08-09 04:3    9.0     28.3  6.15   \n",
       "1908      173580        1        1  2021-08-09 04:3    8.8     28.3  6.15   \n",
       "1909      173585        1        1  2021-08-09 04:3    9.1     28.3  6.15   \n",
       "\n",
       "        orp  co2_mg  air_oxy  ...  add_quantity add_code2 add_quantity2  \\\n",
       "1905  201.2    10.2      0.0  ...           1.5      c1-g           1.0   \n",
       "1906  201.5    10.2      0.0  ...           1.5      c1-g           1.0   \n",
       "1907  201.0    10.2      0.0  ...           1.5      c1-g           1.0   \n",
       "1908  200.9    10.2      0.0  ...           1.5      c1-g           1.0   \n",
       "1909  201.0    10.2      0.0  ...           1.5      c1-g           1.0   \n",
       "\n",
       "      add_code3  add_quantity3 add_code4  add_quantity4 add_code5  \\\n",
       "1905       c2-g            0.5      c4-g            3.5      c5-g   \n",
       "1906       c2-g            0.5      c4-g            3.5      c5-g   \n",
       "1907       c2-g            0.5      c4-g            3.5      c5-g   \n",
       "1908       c2-g            0.5      c4-g            3.5      c5-g   \n",
       "1909       c2-g            0.5      c4-g            3.5      c5-g   \n",
       "\n",
       "      add_quantity5               reg_dt  \n",
       "1905            1.0  2021-09-16 18:55:19  \n",
       "1906            1.0  2021-09-16 18:55:19  \n",
       "1907            1.0  2021-09-16 18:55:19  \n",
       "1908            1.0  2021-09-16 18:55:19  \n",
       "1909            1.0  2021-09-16 18:55:19  \n",
       "\n",
       "[5 rows x 26 columns]"
      ]
     },
     "execution_count": 15,
     "metadata": {},
     "output_type": "execute_result"
    }
   ],
   "source": [
    "traing = pd.merge(left = trainingSensor, right = traingFood, how = \"inner\", left_on = [\"farm_id\",\"tank_id\", \"mea_dt\"], right_on = [\"farm_id\",\"tank_id\", \"feed_dt\"])\n",
    "traing = traing.dropna(axis=0)\n",
    "traing.head()"
   ]
  },
  {
   "cell_type": "code",
   "execution_count": 16,
   "id": "fcd149ef",
   "metadata": {},
   "outputs": [
    {
     "data": {
      "text/html": [
       "<div>\n",
       "<style scoped>\n",
       "    .dataframe tbody tr th:only-of-type {\n",
       "        vertical-align: middle;\n",
       "    }\n",
       "\n",
       "    .dataframe tbody tr th {\n",
       "        vertical-align: top;\n",
       "    }\n",
       "\n",
       "    .dataframe thead th {\n",
       "        text-align: right;\n",
       "    }\n",
       "</style>\n",
       "<table border=\"1\" class=\"dataframe\">\n",
       "  <thead>\n",
       "    <tr style=\"text-align: right;\">\n",
       "      <th></th>\n",
       "      <th>Unnamed: 0</th>\n",
       "      <th>farm_id</th>\n",
       "      <th>tank_id</th>\n",
       "      <th>mea_dt</th>\n",
       "      <th>do_mg</th>\n",
       "      <th>do_temp</th>\n",
       "      <th>ph</th>\n",
       "      <th>orp</th>\n",
       "      <th>co2_mg</th>\n",
       "      <th>air_oxy</th>\n",
       "      <th>...</th>\n",
       "      <th>add_quantity</th>\n",
       "      <th>add_code2</th>\n",
       "      <th>add_quantity2</th>\n",
       "      <th>add_code3</th>\n",
       "      <th>add_quantity3</th>\n",
       "      <th>add_code4</th>\n",
       "      <th>add_quantity4</th>\n",
       "      <th>add_code5</th>\n",
       "      <th>add_quantity5</th>\n",
       "      <th>reg_dt</th>\n",
       "    </tr>\n",
       "  </thead>\n",
       "  <tbody>\n",
       "    <tr>\n",
       "      <th>1905</th>\n",
       "      <td>173565</td>\n",
       "      <td>1</td>\n",
       "      <td>1</td>\n",
       "      <td>2021-08-09 04:3</td>\n",
       "      <td>9.2</td>\n",
       "      <td>28.3</td>\n",
       "      <td>6.15</td>\n",
       "      <td>201.2</td>\n",
       "      <td>10.2</td>\n",
       "      <td>0.0</td>\n",
       "      <td>...</td>\n",
       "      <td>1.5</td>\n",
       "      <td>c1-g</td>\n",
       "      <td>1.0</td>\n",
       "      <td>c2-g</td>\n",
       "      <td>0.5</td>\n",
       "      <td>c4-g</td>\n",
       "      <td>3.5</td>\n",
       "      <td>c5-g</td>\n",
       "      <td>1.0</td>\n",
       "      <td>2021-09-16 18:55:19</td>\n",
       "    </tr>\n",
       "    <tr>\n",
       "      <th>1906</th>\n",
       "      <td>173570</td>\n",
       "      <td>1</td>\n",
       "      <td>1</td>\n",
       "      <td>2021-08-09 04:3</td>\n",
       "      <td>9.1</td>\n",
       "      <td>28.3</td>\n",
       "      <td>6.15</td>\n",
       "      <td>201.5</td>\n",
       "      <td>10.2</td>\n",
       "      <td>0.0</td>\n",
       "      <td>...</td>\n",
       "      <td>1.5</td>\n",
       "      <td>c1-g</td>\n",
       "      <td>1.0</td>\n",
       "      <td>c2-g</td>\n",
       "      <td>0.5</td>\n",
       "      <td>c4-g</td>\n",
       "      <td>3.5</td>\n",
       "      <td>c5-g</td>\n",
       "      <td>1.0</td>\n",
       "      <td>2021-09-16 18:55:19</td>\n",
       "    </tr>\n",
       "    <tr>\n",
       "      <th>1907</th>\n",
       "      <td>173575</td>\n",
       "      <td>1</td>\n",
       "      <td>1</td>\n",
       "      <td>2021-08-09 04:3</td>\n",
       "      <td>9.0</td>\n",
       "      <td>28.3</td>\n",
       "      <td>6.15</td>\n",
       "      <td>201.0</td>\n",
       "      <td>10.2</td>\n",
       "      <td>0.0</td>\n",
       "      <td>...</td>\n",
       "      <td>1.5</td>\n",
       "      <td>c1-g</td>\n",
       "      <td>1.0</td>\n",
       "      <td>c2-g</td>\n",
       "      <td>0.5</td>\n",
       "      <td>c4-g</td>\n",
       "      <td>3.5</td>\n",
       "      <td>c5-g</td>\n",
       "      <td>1.0</td>\n",
       "      <td>2021-09-16 18:55:19</td>\n",
       "    </tr>\n",
       "    <tr>\n",
       "      <th>1908</th>\n",
       "      <td>173580</td>\n",
       "      <td>1</td>\n",
       "      <td>1</td>\n",
       "      <td>2021-08-09 04:3</td>\n",
       "      <td>8.8</td>\n",
       "      <td>28.3</td>\n",
       "      <td>6.15</td>\n",
       "      <td>200.9</td>\n",
       "      <td>10.2</td>\n",
       "      <td>0.0</td>\n",
       "      <td>...</td>\n",
       "      <td>1.5</td>\n",
       "      <td>c1-g</td>\n",
       "      <td>1.0</td>\n",
       "      <td>c2-g</td>\n",
       "      <td>0.5</td>\n",
       "      <td>c4-g</td>\n",
       "      <td>3.5</td>\n",
       "      <td>c5-g</td>\n",
       "      <td>1.0</td>\n",
       "      <td>2021-09-16 18:55:19</td>\n",
       "    </tr>\n",
       "    <tr>\n",
       "      <th>1909</th>\n",
       "      <td>173585</td>\n",
       "      <td>1</td>\n",
       "      <td>1</td>\n",
       "      <td>2021-08-09 04:3</td>\n",
       "      <td>9.1</td>\n",
       "      <td>28.3</td>\n",
       "      <td>6.15</td>\n",
       "      <td>201.0</td>\n",
       "      <td>10.2</td>\n",
       "      <td>0.0</td>\n",
       "      <td>...</td>\n",
       "      <td>1.5</td>\n",
       "      <td>c1-g</td>\n",
       "      <td>1.0</td>\n",
       "      <td>c2-g</td>\n",
       "      <td>0.5</td>\n",
       "      <td>c4-g</td>\n",
       "      <td>3.5</td>\n",
       "      <td>c5-g</td>\n",
       "      <td>1.0</td>\n",
       "      <td>2021-09-16 18:55:19</td>\n",
       "    </tr>\n",
       "  </tbody>\n",
       "</table>\n",
       "<p>5 rows × 26 columns</p>\n",
       "</div>"
      ],
      "text/plain": [
       "      Unnamed: 0  farm_id  tank_id           mea_dt  do_mg  do_temp    ph  \\\n",
       "1905      173565        1        1  2021-08-09 04:3    9.2     28.3  6.15   \n",
       "1906      173570        1        1  2021-08-09 04:3    9.1     28.3  6.15   \n",
       "1907      173575        1        1  2021-08-09 04:3    9.0     28.3  6.15   \n",
       "1908      173580        1        1  2021-08-09 04:3    8.8     28.3  6.15   \n",
       "1909      173585        1        1  2021-08-09 04:3    9.1     28.3  6.15   \n",
       "\n",
       "        orp  co2_mg  air_oxy  ...  add_quantity add_code2 add_quantity2  \\\n",
       "1905  201.2    10.2      0.0  ...           1.5      c1-g           1.0   \n",
       "1906  201.5    10.2      0.0  ...           1.5      c1-g           1.0   \n",
       "1907  201.0    10.2      0.0  ...           1.5      c1-g           1.0   \n",
       "1908  200.9    10.2      0.0  ...           1.5      c1-g           1.0   \n",
       "1909  201.0    10.2      0.0  ...           1.5      c1-g           1.0   \n",
       "\n",
       "      add_code3  add_quantity3 add_code4  add_quantity4 add_code5  \\\n",
       "1905       c2-g            0.5      c4-g            3.5      c5-g   \n",
       "1906       c2-g            0.5      c4-g            3.5      c5-g   \n",
       "1907       c2-g            0.5      c4-g            3.5      c5-g   \n",
       "1908       c2-g            0.5      c4-g            3.5      c5-g   \n",
       "1909       c2-g            0.5      c4-g            3.5      c5-g   \n",
       "\n",
       "      add_quantity5               reg_dt  \n",
       "1905            1.0  2021-09-16 18:55:19  \n",
       "1906            1.0  2021-09-16 18:55:19  \n",
       "1907            1.0  2021-09-16 18:55:19  \n",
       "1908            1.0  2021-09-16 18:55:19  \n",
       "1909            1.0  2021-09-16 18:55:19  \n",
       "\n",
       "[5 rows x 26 columns]"
      ]
     },
     "execution_count": 16,
     "metadata": {},
     "output_type": "execute_result"
    }
   ],
   "source": [
    "validation = pd.merge(left = validationSensor, right = validationFood, how = \"inner\", left_on = [\"farm_id\",\"tank_id\", \"mea_dt\"], right_on = [\"farm_id\",\"tank_id\", \"feed_dt\"])\n",
    "validation = validation.dropna(axis=0)\n",
    "validation.head()"
   ]
  },
  {
   "cell_type": "code",
   "execution_count": 17,
   "id": "293f31fa",
   "metadata": {},
   "outputs": [],
   "source": [
    "from sklearn.model_selection import train_test_split\n",
    "#x = traing[['do_temp', 'ph', 'orp', 'co2_mg', 'air_oxy', 'light_ma']]\n",
    "#y = traing[['do_mg']]\n",
    "#x_train = traing[['do_temp', 'ph', 'orp', 'co2_mg', 'air_oxy', 'light_ma']]\n",
    "#y_train = traing[['do_mg']]\n",
    "#x_test = validation[['do_temp', 'ph', 'orp', 'co2_mg', 'air_oxy', 'light_ma']]\n",
    "#y_test = validation[['do_mg']]\n",
    "x_train = traing[['ph', 'orp', 'co2_mg', 'air_oxy', 'light_ma', 'feed_quantity', 'water_quantity']]\n",
    "y_train = traing[['do_mg']]\n",
    "x_test = validation[['ph', 'orp', 'co2_mg', 'air_oxy', 'light_ma', 'feed_quantity', 'water_quantity']]\n",
    "y_test = validation[['do_mg']]\n",
    "#x_train, x_test, y_train, y_test = train_test_split(x, y, train_size=0.8, test_size=0.2)"
   ]
  },
  {
   "cell_type": "code",
   "execution_count": 18,
   "id": "26995c96",
   "metadata": {},
   "outputs": [
    {
     "data": {
      "text/plain": [
       "GradientBoostingRegressor()"
      ]
     },
     "execution_count": 18,
     "metadata": {},
     "output_type": "execute_result"
    }
   ],
   "source": [
    "gb_model = GradientBoostingRegressor()\n",
    "gb_model.fit(x_train, y_train.values.ravel())"
   ]
  },
  {
   "cell_type": "code",
   "execution_count": 20,
   "id": "c6292743-90ff-47ca-ad8a-04e2040236cf",
   "metadata": {
    "execution": {
     "iopub.execute_input": "2023-03-16T07:49:40.299494Z",
     "iopub.status.busy": "2023-03-16T07:49:40.299369Z"
    }
   },
   "outputs": [
    {
     "name": "stdout",
     "output_type": "stream",
     "text": [
      "0.8837030258221426\n"
     ]
    },
    {
     "data": {
      "image/png": "[encoded data removed]",
      "text/plain": [
       "<Figure size 432x288 with 1 Axes>"
      ]
     },
     "metadata": {
      "needs_background": "light"
     },
     "output_type": "display_data"
    }
   ],
   "source": [
    "import matplotlib.pyplot as plt\n",
    "\n",
    "print(gb_model.score(x_test, y_test))\n",
    "\n",
    "train_losses = [mean_squared_error(y_train, y_predict) for y_predict in gb_model.staged_predict(x_train)]\n",
    "test_losses = [mean_squared_error(y_test, y_predict) for y_predict in gb_model.staged_predict(x_test)]\n",
    "\n",
    "plt.plot(range(len(train_losses)), train_losses, color='blue', label='train loss (mean_squared_error)')\n",
    "plt.plot(range(len(test_losses)), test_losses, color='red', label='test loss (mean_squared_error)')\n",
    "plt.title('loss per n_estimators') \n",
    "plt.xlabel('n_estimators')\n",
    "plt.ylabel('loss')\n",
    "plt.legend() #loc='upper left')\n",
    "plt.show()"
   ]
  },
  {
   "cell_type": "code",
   "execution_count": 22,
   "id": "c6f76d21",
   "metadata": {},
   "outputs": [
    {
     "name": "stdout",
     "output_type": "stream",
     "text": [
      "99\n",
      "0.42879888361644275\n"
     ]
    },
    {
     "data": {
      "text/plain": [
       "GradientBoostingRegressor(n_estimators=99)"
      ]
     },
     "execution_count": 22,
     "metadata": {},
     "output_type": "execute_result"
    }
   ],
   "source": [
    "best_n_estimators = np.argmin(test_losses)\n",
    "print(best_n_estimators)\n",
    "print(test_losses[best_n_estimators])\n",
    "\n",
    "model = GradientBoostingRegressor(n_estimators=best_n_estimators)\n",
    "\n",
    "model.fit(x_train, y_train.values.ravel())"
   ]
  },
  {
   "cell_type": "code",
   "execution_count": 24,
   "id": "44c0b2f8-90e0-41f0-a628-c4b8cc6f03d2",
   "metadata": {},
   "outputs": [
    {
     "data": {
      "image/png": "[encoded data removed]",
      "text/plain": [
       "<Figure size 576x432 with 1 Axes>"
      ]
     },
     "metadata": {
      "needs_background": "light"
     },
     "output_type": "display_data"
    }
   ],
   "source": [
    "import seaborn as sns\n",
    "\n",
    "ftr_importances_values = gb_model.feature_importances_\n",
    "ftr_importances = pd.Series(ftr_importances_values, index=x_train.columns)\n",
    "ftr_top = ftr_importances.sort_values(ascending=False)[:20]\n",
    " \n",
    "plt.figure(figsize=(8, 6))\n",
    "sns.barplot(x=ftr_top, y=ftr_top.index)\n",
    "plt.show()"
   ]
  },
  {
   "cell_type": "code",
   "execution_count": 25,
   "id": "5ca1de1c",
   "metadata": {},
   "outputs": [
    {
     "data": {
      "image/png": "[encoded data removed]",
      "text/plain": [
       "<Figure size 576x432 with 1 Axes>"
      ]
     },
     "metadata": {
      "needs_background": "light"
     },
     "output_type": "display_data"
    }
   ],
   "source": [
    "ftr_importances_values = model.feature_importances_\n",
    "ftr_importances = pd.Series(ftr_importances_values, index=x_train.columns)\n",
    "ftr_top = ftr_importances.sort_values(ascending=False)[:20]\n",
    " \n",
    "plt.figure(figsize=(8, 6))\n",
    "sns.barplot(x=ftr_top, y=ftr_top.index)\n",
    "plt.show()"
   ]
  },
  {
   "cell_type": "code",
   "execution_count": 27,
   "id": "5e044981",
   "metadata": {},
   "outputs": [
    {
     "data": {
      "image/png": "[encoded data removed]",
      "text/plain": [
       "<Figure size 432x288 with 1 Axes>"
      ]
     },
     "metadata": {
      "needs_background": "light"
     },
     "output_type": "display_data"
    }
   ],
   "source": [
    "#import matplotlib.pyplot as plt\n",
    "\n",
    "gb_valid_predict = gb_model.predict(x_test)\n",
    "\n",
    "plt.scatter(y_test, gb_valid_predict, alpha=0.4)\n",
    "plt.xlabel(\"Actual Rent\")\n",
    "plt.ylabel(\"Predicted Rent\")\n",
    "plt.title(\"Gradient Boosting\")\n",
    "plt.show()"
   ]
  },
  {
   "cell_type": "code",
   "execution_count": 28,
   "id": "f8f3a676",
   "metadata": {},
   "outputs": [
    {
     "data": {
      "image/png": "[encoded data removed]",
      "text/plain": [
       "<Figure size 432x288 with 1 Axes>"
      ]
     },
     "metadata": {
      "needs_background": "light"
     },
     "output_type": "display_data"
    }
   ],
   "source": [
    "#import matplotlib.pyplot as plt\n",
    "\n",
    "gb_valid_predict = model.predict(x_test)\n",
    "\n",
    "plt.scatter(y_test, gb_valid_predict, alpha=0.4)\n",
    "plt.xlabel(\"Actual Rent\")\n",
    "plt.ylabel(\"Predicted Rent\")\n",
    "plt.title(\"Gradient Boosting\")\n",
    "plt.show()"
   ]
  },
  {
   "cell_type": "code",
   "execution_count": 29,
   "id": "bb7e38c1",
   "metadata": {},
   "outputs": [
    {
     "name": "stdout",
     "output_type": "stream",
     "text": [
      "0.8837030258221426\n",
      "0.8837030258221426\n"
     ]
    }
   ],
   "source": [
    "print(gb_model.score(x_train, y_train))\n",
    "\n",
    "print(gb_model.score(x_test, y_test))"
   ]
  },
  {
   "cell_type": "code",
   "execution_count": 30,
   "id": "e71fcba7",
   "metadata": {},
   "outputs": [
    {
     "name": "stdout",
     "output_type": "stream",
     "text": [
      "0.8813631215276246\n",
      "0.8813631215276246\n"
     ]
    }
   ],
   "source": [
    "print(model.score(x_train, y_train))\n",
    "\n",
    "print(model.score(x_test, y_test))"
   ]
  }
 ],
 "metadata": {
  "kernelspec": {
   "display_name": "tf2.6.0-keras2.6.0-py3.8-cuda11.3",
   "language": "python",
   "name": "tf2.6.0-keras2.6.0-py3.8-cuda11.3"
  },
  "language_info": {
   "codemirror_mode": {
    "name": "ipython",
    "version": 3
   },
   "file_extension": ".py",
   "mimetype": "text/x-python",
   "name": "python",
   "nbconvert_exporter": "python",
   "pygments_lexer": "ipython3",
   "version": "3.8.10"
  }
 },
 "nbformat": 4,
 "nbformat_minor": 5
}
