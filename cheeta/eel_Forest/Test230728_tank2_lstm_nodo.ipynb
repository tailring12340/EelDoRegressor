{
 "cells": [
  {
   "cell_type": "markdown",
   "metadata": {},
   "source": [
    "라이브러리"
   ]
  },
  {
   "cell_type": "code",
   "execution_count": 1,
   "metadata": {},
   "outputs": [],
   "source": [
    "import pandas as pd\n",
    "import numpy as np\n",
    "from keras.utils import *\n",
    "from sklearn.preprocessing import *\n",
    "from keras import backend as K\n",
    "from keras.models import load_model\n",
    "from keras.layers import LSTM, Dense, concatenate, Input\n",
    "from sklearn.ensemble import GradientBoostingRegressor\n",
    "from keras.models import Model\n",
    "from keras.models import Sequential\n",
    "import matplotlib.pyplot as plt\n",
    "from keras.metrics import mean_squared_error\n",
    "from sklearn.metrics import r2_score\n",
    "import matplotlib.font_manager as fm\n",
    "from matplotlib.dates import DateFormatter\n",
    "from keras.callbacks import ModelCheckpoint, EarlyStopping, ReduceLROnPlateau\n",
    "\n",
    "# 모델명(= 파일명) 설정\n",
    "tank = 2\n",
    "model_name = 'Test230728_tank2_lstm_nodo'"
   ]
  },
  {
   "cell_type": "code",
   "execution_count": 2,
   "metadata": {},
   "outputs": [],
   "source": [
    "# r_squared 평가 함수\n",
    "def r_squared(y_true, y_pred):\n",
    "    ss_res = K.sum(K.square(y_true - y_pred))\n",
    "    ss_tot = K.sum(K.square(y_true - K.mean(y_true)))\n",
    "    return (1 - ss_res/(ss_tot + K.epsilon()))"
   ]
  },
  {
   "cell_type": "markdown",
   "metadata": {},
   "source": [
    "데이터셋 설정"
   ]
  },
  {
   "cell_type": "code",
   "execution_count": 3,
   "metadata": {},
   "outputs": [],
   "source": [
    "#자포니카 훈련 데이터\n",
    "japonica_training_food_supply_tb = pd.read_csv(\"eeldata/data/Training/Origin/Management/Japonica/food_supply_tb.csv\")\n",
    "japonica_training_sensor_val_tb = pd.read_csv(\"eeldata/data/Training/Origin/Sensor/Japonica/sensor_val_tb.csv\")\n",
    "\n",
    "#자포니카 검증 데이터\n",
    "japonica_validation_food_supply_tb = pd.read_csv(\"eeldata/data/Validation/Origin/Management/Japonica/food_supply_tb.csv\")\n",
    "japonica_validation_sensor_val_tb = pd.read_csv(\"eeldata/data/Validation/Origin/Sensor/Japonica/sensor_val_tb.csv\")\n"
   ]
  },
  {
   "cell_type": "code",
   "execution_count": 4,
   "metadata": {},
   "outputs": [],
   "source": [
    "# 자포니카 사료 공급 데이터 정제\n",
    "# null제거\n",
    "japonica_training_food_supply_tb = japonica_training_food_supply_tb[japonica_training_food_supply_tb['feed_quantity'].notnull()]\n",
    "japonica_validation_food_supply_tb = japonica_validation_food_supply_tb[japonica_validation_food_supply_tb['feed_quantity'].notnull()]\n",
    "\n",
    "# 시계열 데이터 변환\n",
    "japonica_training_food_supply_tb['feed_dt'] = pd.to_datetime(japonica_training_food_supply_tb['feed_dt'], format='%Y%m%d%H%M', errors='raise')\n",
    "japonica_training_food_supply_tb[\"feed_dt\"] = japonica_training_food_supply_tb[\"feed_dt\"].apply(str)\n",
    "japonica_training_food_supply_tb[\"feed_dt\"] = japonica_training_food_supply_tb[\"feed_dt\"].str.slice(start=0, stop=16)\n",
    "japonica_validation_food_supply_tb['feed_dt'] = pd.to_datetime(japonica_validation_food_supply_tb['feed_dt'], format='%Y%m%d%H%M', errors='raise')\n",
    "japonica_validation_food_supply_tb[\"feed_dt\"] = japonica_validation_food_supply_tb[\"feed_dt\"].apply(str)\n",
    "japonica_validation_food_supply_tb[\"feed_dt\"] = japonica_validation_food_supply_tb[\"feed_dt\"].str.slice(start=0, stop=16)"
   ]
  },
  {
   "cell_type": "code",
   "execution_count": 5,
   "metadata": {},
   "outputs": [],
   "source": [
    "# 자포니카 센서 데이터 정제\n",
    "\n",
    "# 한 개 탱크\n",
    "japonica_training_sensor_val_tb = japonica_training_sensor_val_tb[japonica_training_sensor_val_tb['tank_id']==tank]\n",
    "japonica_validation_sensor_val_tb = japonica_validation_sensor_val_tb[japonica_validation_sensor_val_tb['tank_id']==tank]\n",
    "\n",
    "#시계열 변환\n",
    "japonica_training_sensor_val_tb[\"mea_dt\"] = japonica_training_sensor_val_tb[\"mea_dt\"].apply(str)\n",
    "japonica_training_sensor_val_tb[\"mea_dt\"] = japonica_training_sensor_val_tb[\"mea_dt\"].str.slice(start=0, stop=16)\n",
    "japonica_training_sensor_val_tb['mea_dt'] = pd.to_datetime(japonica_training_sensor_val_tb['mea_dt'], format='%Y-%m-%d %H:%M', errors='raise')\n",
    "japonica_validation_sensor_val_tb[\"mea_dt\"] = japonica_validation_sensor_val_tb[\"mea_dt\"].apply(str)\n",
    "japonica_validation_sensor_val_tb[\"mea_dt\"] = japonica_validation_sensor_val_tb[\"mea_dt\"].str.slice(start=0, stop=16)\n",
    "japonica_validation_sensor_val_tb['mea_dt'] = pd.to_datetime(japonica_validation_sensor_val_tb['mea_dt'], format='%Y-%m-%d %H:%M', errors='raise')\n",
    "\n",
    "# 시계열 데이터의 개수 확인\n",
    "training_counts = japonica_training_sensor_val_tb.groupby(japonica_training_sensor_val_tb['mea_dt'].dt.date).size()\n",
    "validation_counts = japonica_validation_sensor_val_tb.groupby(japonica_validation_sensor_val_tb['mea_dt'].dt.date).size()\n",
    "\n",
    "# 개수가 1440이 아닌 시계열 삭제\n",
    "to_delete = training_counts[training_counts != 1440].index\n",
    "japonica_training_sensor_val_tb = japonica_training_sensor_val_tb[~japonica_training_sensor_val_tb['mea_dt'].dt.date.isin(to_delete)]\n",
    "to_delete = validation_counts[validation_counts != 1440].index\n",
    "japonica_validation_sensor_val_tb = japonica_validation_sensor_val_tb[~japonica_validation_sensor_val_tb['mea_dt'].dt.date.isin(to_delete)]\n",
    "\n",
    "#시계열 데이터 문자 타입으로 변경\n",
    "japonica_training_sensor_val_tb[\"mea_dt\"] = japonica_training_sensor_val_tb[\"mea_dt\"].dt.strftime('%Y-%m-%d %H:%M')\n",
    "japonica_training_sensor_val_tb[\"mea_dt\"] = japonica_training_sensor_val_tb[\"mea_dt\"].str.slice(start=0, stop=16)\n",
    "japonica_validation_sensor_val_tb[\"mea_dt\"] = japonica_validation_sensor_val_tb[\"mea_dt\"].dt.strftime('%Y-%m-%d %H:%M')\n",
    "japonica_validation_sensor_val_tb[\"mea_dt\"] = japonica_validation_sensor_val_tb[\"mea_dt\"].str.slice(start=0, stop=16)\n"
   ]
  },
  {
   "cell_type": "code",
   "execution_count": 6,
   "metadata": {},
   "outputs": [],
   "source": [
    "# 자포니카 훈련 데이터 및 시계열 데이터 병합\n",
    "japonica_training = pd.merge(left = japonica_training_sensor_val_tb, right = japonica_training_food_supply_tb, how = \"left\", left_on = [\"farm_id\",\"tank_id\", \"mea_dt\"], right_on = [\"farm_id\",\"tank_id\", \"feed_dt\"])\n",
    "japonica_validation = pd.merge(left = japonica_validation_sensor_val_tb, right = japonica_validation_food_supply_tb, how = \"left\", left_on = [\"farm_id\",\"tank_id\", \"mea_dt\"], right_on = [\"farm_id\",\"tank_id\", \"feed_dt\"])\n",
    "\n",
    "japonica_training['mea_dt'] = pd.to_datetime(japonica_training['mea_dt'], format='%Y-%m-%d %H:%M', errors='raise')\n",
    "japonica_validation['mea_dt'] = pd.to_datetime(japonica_validation['mea_dt'], format='%Y-%m-%d %H:%M', errors='raise')\n",
    "\n",
    "# 사용할 features 선택\n",
    "feature_origin = ['tank_id','mea_dt', 'do_mg','do_temp', 'ph', 'orp', 'co2_mg', 'air_oxy', 'light_ma', 'feed_quantity', 'water_quantity']\n",
    "japonica_training_features = japonica_training[feature_origin]\n",
    "japonica_validation_features = japonica_validation[feature_origin]\n",
    "\n",
    "# nan 값 처리 (먹이를 주지 않았을 경우는 급여량이 0이니까)\n",
    "japonica_training_features = japonica_training_features.fillna(0)\n",
    "japonica_validation_features = japonica_validation_features.fillna(0)\n",
    "\n",
    "# 날짜 데이터를 인덱스로 전환\n",
    "japonica_training_features.set_index('mea_dt', inplace=True)\n",
    "japonica_validation_features.set_index('mea_dt', inplace=True)\n",
    "\n",
    "# 인덱스 순으로 데이터를 정렬\n",
    "japonica_training_data = japonica_training_features.sort_index()\n",
    "japonica_validation_data = japonica_validation_features.sort_index()\n",
    "\n",
    "# 8월 1달간 데이터만 추출\n",
    "japonica_training_data = japonica_training_data.loc['2021-07-21 00:00':'2021-09-10 23:59']\n",
    "japonica_validation_data = japonica_validation_data.loc['2021-07-21 00:00':'2021-09-10 23:59']"
   ]
  },
  {
   "cell_type": "code",
   "execution_count": 7,
   "metadata": {},
   "outputs": [],
   "source": [
    "japonica_training_features_X = japonica_training_data[['do_temp', 'ph', 'orp', 'co2_mg', 'air_oxy', 'light_ma', 'feed_quantity', 'water_quantity']]\n",
    "japonica_training_features_y = japonica_training_data[['do_mg']]\n",
    "\n",
    "japonica_validation_features_X = japonica_validation_data[['do_temp', 'ph', 'orp', 'co2_mg', 'air_oxy', 'light_ma', 'feed_quantity', 'water_quantity']]\n",
    "japonica_validation_features_y = japonica_validation_data[['do_mg']]"
   ]
  },
  {
   "cell_type": "code",
   "execution_count": 8,
   "metadata": {},
   "outputs": [],
   "source": [
    "japonica_training_features_X_chunks = []\n",
    "japonica_training_features_y_chunks = []\n",
    "\n",
    "for i in range(0, len(japonica_training_features_X) - 179):\n",
    "    japonica_training_features_X_chunks.append(np.array(japonica_training_features_X.iloc[i:i+180].values, dtype=np.float64))\n",
    "japonica_training_features_X_chunks = np.array(japonica_training_features_X_chunks, dtype=np.float64)\n",
    "\n",
    "for i in range(0, len(japonica_training_features_y) - 179):\n",
    "    japonica_training_features_y_chunks.append(np.array(japonica_training_features_y.iloc[i:i+180].values, dtype=np.float64))\n",
    "japonica_training_features_y_chunks = np.array(japonica_training_features_y_chunks, dtype=np.float64)"
   ]
  },
  {
   "cell_type": "code",
   "execution_count": 9,
   "metadata": {},
   "outputs": [],
   "source": [
    "japonica_validation_features_X_chunks = []\n",
    "japonica_validation_features_y_chunks = []\n",
    "\n",
    "\n",
    "for i in range(0, len(japonica_validation_features_X) - 179):\n",
    "    japonica_validation_features_X_chunks.append(np.array(japonica_validation_features_X.iloc[i:i+180].values, dtype=np.float64))\n",
    "japonica_validation_features_X_chunks = np.array(japonica_validation_features_X_chunks, dtype=np.float64)\n",
    "\n",
    "for i in range(0, len(japonica_validation_features_y) - 179):\n",
    "    japonica_validation_features_y_chunks.append(np.array(japonica_validation_features_y.iloc[i:i+180].values, dtype=np.float64))\n",
    "japonica_validation_features_y_chunks = np.array(japonica_validation_features_y_chunks, dtype=np.float64)"
   ]
  },
  {
   "cell_type": "code",
   "execution_count": 10,
   "metadata": {},
   "outputs": [
    {
     "name": "stdout",
     "output_type": "stream",
     "text": [
      "nCar: 64621 nVar: 8\n",
      "nCar: 64621 nVar: 180\n",
      "nCar: 64621 nVar: 8\n",
      "nCar: 64621 nVar: 180\n"
     ]
    }
   ],
   "source": [
    "# shape확인\n",
    "nCar = japonica_training_features_X_chunks.shape[0] # 데이터 개수\n",
    "nVar = japonica_training_features_X_chunks.shape[2] # 변수 개수\n",
    "print('nCar: %d' % nCar, 'nVar: %d' % nVar )\n",
    "\n",
    "nCar = japonica_training_features_y_chunks.shape[0] # 데이터 개수\n",
    "nVar = japonica_training_features_y_chunks.shape[1] # 변수 개수\n",
    "print('nCar: %d' % nCar, 'nVar: %d' % nVar )\n",
    "\n",
    "nCar = japonica_validation_features_X_chunks.shape[0] # 데이터 개수\n",
    "nVar = japonica_validation_features_X_chunks.shape[2] # 변수 개수\n",
    "print('nCar: %d' % nCar, 'nVar: %d' % nVar )\n",
    "\n",
    "nCar = japonica_validation_features_y_chunks.shape[0] # 데이터 개수\n",
    "nVar = japonica_validation_features_y_chunks.shape[1] # 변수 개수\n",
    "print('nCar: %d' % nCar, 'nVar: %d' % nVar )"
   ]
  },
  {
   "cell_type": "code",
   "execution_count": 11,
   "metadata": {},
   "outputs": [],
   "source": [
    "japonica_training_features_X_chunks_crop = japonica_training_features_X_chunks[:-180]\n",
    "japonica_training_features_y_chunks_crop = japonica_training_features_y_chunks[180:]\n",
    "\n",
    "japonica_validation_features_X_chunks_crop = japonica_validation_features_X_chunks[:-180]\n",
    "japonica_validation_features_y_chunks_crop = japonica_validation_features_y_chunks[180:]"
   ]
  },
  {
   "cell_type": "code",
   "execution_count": 12,
   "metadata": {},
   "outputs": [
    {
     "name": "stdout",
     "output_type": "stream",
     "text": [
      "nCar: 64441 nVar: 8\n",
      "nCar: 64441 nVar: 180\n",
      "nCar: 64441 nVar: 8\n",
      "nCar: 64441 nVar: 180\n"
     ]
    }
   ],
   "source": [
    "nCar = japonica_training_features_X_chunks_crop.shape[0] # 데이터 개수\n",
    "nVar = japonica_training_features_X_chunks_crop.shape[2] # 변수 개수\n",
    "print('nCar: %d' % nCar, 'nVar: %d' % nVar )\n",
    "\n",
    "nCar = japonica_training_features_y_chunks_crop.shape[0] # 데이터 개수\n",
    "nVar = japonica_training_features_y_chunks_crop.shape[1] # 변수 개수\n",
    "print('nCar: %d' % nCar, 'nVar: %d' % nVar )\n",
    "\n",
    "nCar = japonica_validation_features_X_chunks_crop.shape[0] # 데이터 개수\n",
    "nVar = japonica_validation_features_X_chunks_crop.shape[2] # 변수 개수\n",
    "print('nCar: %d' % nCar, 'nVar: %d' % nVar )\n",
    "\n",
    "nCar = japonica_validation_features_y_chunks_crop.shape[0] # 데이터 개수\n",
    "nVar = japonica_validation_features_y_chunks_crop.shape[1] # 변수 개수\n",
    "print('nCar: %d' % nCar, 'nVar: %d' % nVar )"
   ]
  },
  {
   "cell_type": "markdown",
   "metadata": {},
   "source": [
    "LSTM 모델 학습 (학습시에만 사용, 그외에는 불필요)"
   ]
  },
  {
   "cell_type": "code",
   "execution_count": 13,
   "metadata": {
    "scrolled": true
   },
   "outputs": [
    {
     "name": "stderr",
     "output_type": "stream",
     "text": [
      "2023-07-28 08:21:38.621940: I tensorflow/core/platform/cpu_feature_guard.cc:142] This TensorFlow binary is optimized with oneAPI Deep Neural Network Library (oneDNN) to use the following CPU instructions in performance-critical operations:  AVX2 AVX512F FMA\n",
      "To enable them in other operations, rebuild TensorFlow with the appropriate compiler flags.\n",
      "2023-07-28 08:21:39.324708: I tensorflow/core/common_runtime/gpu/gpu_device.cc:1510] Created device /job:localhost/replica:0/task:0/device:GPU:0 with 7951 MB memory:  -> device: 0, name: NVIDIA A100 80GB PCIe MIG 1g.10gb, pci bus id: 0000:d5:00.0, compute capability: 8.0\n"
     ]
    },
    {
     "name": "stdout",
     "output_type": "stream",
     "text": [
      "Model: \"sequential\"\n",
      "_________________________________________________________________\n",
      "Layer (type)                 Output Shape              Param #   \n",
      "=================================================================\n",
      "lstm (LSTM)                  (None, 180, 128)          70144     \n",
      "_________________________________________________________________\n",
      "lstm_1 (LSTM)                (None, 180, 64)           49408     \n",
      "_________________________________________________________________\n",
      "lstm_2 (LSTM)                (None, 32)                12416     \n",
      "_________________________________________________________________\n",
      "dense (Dense)                (None, 180)               5940      \n",
      "=================================================================\n",
      "Total params: 137,908\n",
      "Trainable params: 137,908\n",
      "Non-trainable params: 0\n",
      "_________________________________________________________________\n"
     ]
    },
    {
     "name": "stderr",
     "output_type": "stream",
     "text": [
      "2023-07-28 08:21:41.336215: I tensorflow/compiler/mlir/mlir_graph_optimization_pass.cc:185] None of the MLIR Optimization Passes are enabled (registered 2)\n"
     ]
    },
    {
     "name": "stdout",
     "output_type": "stream",
     "text": [
      "Epoch 1/200\n"
     ]
    },
    {
     "name": "stderr",
     "output_type": "stream",
     "text": [
      "2023-07-28 08:21:46.375657: I tensorflow/stream_executor/cuda/cuda_dnn.cc:369] Loaded cuDNN version 8200\n",
      "2023-07-28 08:21:47.548642: I tensorflow/stream_executor/cuda/cuda_blas.cc:1760] TensorFloat-32 will be used for the matrix multiplication. This will only be logged once.\n"
     ]
    },
    {
     "name": "stdout",
     "output_type": "stream",
     "text": [
      "2014/2014 [==============================] - 107s 50ms/step - loss: 6.3922 - mae: 1.7294 - r_squared: -1.4602 - val_loss: 2.7573 - val_mae: 1.2525 - val_r_squared: -63.5586\n",
      "Epoch 2/200\n",
      "2014/2014 [==============================] - 98s 48ms/step - loss: 2.4692 - mae: 1.1775 - r_squared: 0.0721 - val_loss: 6.2764 - val_mae: 2.1295 - val_r_squared: -136.6056\n",
      "Epoch 3/200\n",
      "2014/2014 [==============================] - 97s 48ms/step - loss: 1.5067 - mae: 0.9277 - r_squared: 0.4193 - val_loss: 1.3535 - val_mae: 0.8816 - val_r_squared: -29.4962\n",
      "Epoch 4/200\n",
      "2014/2014 [==============================] - 98s 49ms/step - loss: 1.3999 - mae: 0.8933 - r_squared: 0.4543 - val_loss: 1.3318 - val_mae: 0.8821 - val_r_squared: -29.4605\n",
      "Epoch 5/200\n",
      "2014/2014 [==============================] - 96s 47ms/step - loss: 1.3755 - mae: 0.8866 - r_squared: 0.4610 - val_loss: 1.3482 - val_mae: 0.8768 - val_r_squared: -29.0184\n",
      "Epoch 6/200\n",
      "2014/2014 [==============================] - 98s 48ms/step - loss: 1.2789 - mae: 0.8491 - r_squared: 0.4983 - val_loss: 1.2184 - val_mae: 0.8332 - val_r_squared: -28.9284\n",
      "Epoch 7/200\n",
      "2014/2014 [==============================] - 98s 49ms/step - loss: 1.2975 - mae: 0.8438 - r_squared: 0.4955 - val_loss: 1.1818 - val_mae: 0.8136 - val_r_squared: -27.2646\n",
      "Epoch 8/200\n",
      "2014/2014 [==============================] - 98s 48ms/step - loss: 1.1788 - mae: 0.7952 - r_squared: 0.5372 - val_loss: 1.1239 - val_mae: 0.7786 - val_r_squared: -27.3580\n",
      "Epoch 9/200\n",
      "2014/2014 [==============================] - 97s 48ms/step - loss: 1.1072 - mae: 0.7599 - r_squared: 0.5666 - val_loss: 1.1517 - val_mae: 0.7895 - val_r_squared: -28.4129\n",
      "Epoch 10/200\n",
      "2014/2014 [==============================] - 96s 48ms/step - loss: 1.0959 - mae: 0.7530 - r_squared: 0.5702 - val_loss: 1.0977 - val_mae: 0.7674 - val_r_squared: -26.2084\n",
      "Epoch 11/200\n",
      "2014/2014 [==============================] - 98s 49ms/step - loss: 1.2335 - mae: 0.8260 - r_squared: 0.5164 - val_loss: 1.3194 - val_mae: 0.8645 - val_r_squared: -33.8700\n",
      "Epoch 12/200\n",
      "2014/2014 [==============================] - 97s 48ms/step - loss: 1.3123 - mae: 0.8468 - r_squared: 0.4873 - val_loss: 1.1976 - val_mae: 0.8084 - val_r_squared: -28.9363\n",
      "Epoch 13/200\n",
      "2014/2014 [==============================] - 98s 49ms/step - loss: 1.1655 - mae: 0.7886 - r_squared: 0.5427 - val_loss: 1.0122 - val_mae: 0.7252 - val_r_squared: -24.3779\n",
      "Epoch 14/200\n",
      "2014/2014 [==============================] - 97s 48ms/step - loss: 1.1690 - mae: 0.7746 - r_squared: 0.5424 - val_loss: 1.1170 - val_mae: 0.7625 - val_r_squared: -27.0768\n",
      "Epoch 15/200\n",
      "2014/2014 [==============================] - 98s 48ms/step - loss: 1.1043 - mae: 0.7500 - r_squared: 0.5667 - val_loss: 1.0455 - val_mae: 0.7289 - val_r_squared: -23.8690\n",
      "Epoch 16/200\n",
      "2014/2014 [==============================] - 97s 48ms/step - loss: 1.1273 - mae: 0.7612 - r_squared: 0.5580 - val_loss: 1.0258 - val_mae: 0.7292 - val_r_squared: -23.7507\n",
      "\n",
      "Epoch 00016: ReduceLROnPlateau reducing learning rate to 0.00010000000474974513.\n",
      "Epoch 17/200\n",
      "2014/2014 [==============================] - 98s 48ms/step - loss: 0.9560 - mae: 0.6938 - r_squared: 0.6223 - val_loss: 0.9264 - val_mae: 0.6846 - val_r_squared: -21.7211\n",
      "Epoch 18/200\n",
      "2014/2014 [==============================] - 98s 49ms/step - loss: 0.9202 - mae: 0.6849 - r_squared: 0.6348 - val_loss: 0.9037 - val_mae: 0.6774 - val_r_squared: -21.5173\n",
      "Epoch 19/200\n",
      "2014/2014 [==============================] - 98s 49ms/step - loss: 0.9138 - mae: 0.6833 - r_squared: 0.6395 - val_loss: 0.8895 - val_mae: 0.6741 - val_r_squared: -21.3643\n",
      "Epoch 20/200\n",
      "2014/2014 [==============================] - 98s 49ms/step - loss: 0.8861 - mae: 0.6716 - r_squared: 0.6505 - val_loss: 0.8736 - val_mae: 0.6646 - val_r_squared: -20.5000\n",
      "Epoch 21/200\n",
      "2014/2014 [==============================] - 98s 49ms/step - loss: 0.8787 - mae: 0.6657 - r_squared: 0.6536 - val_loss: 0.8541 - val_mae: 0.6586 - val_r_squared: -20.5251\n",
      "Epoch 22/200\n",
      "2014/2014 [==============================] - 97s 48ms/step - loss: 0.8486 - mae: 0.6542 - r_squared: 0.6657 - val_loss: 0.8351 - val_mae: 0.6451 - val_r_squared: -19.4575\n",
      "Epoch 23/200\n",
      "2014/2014 [==============================] - 97s 48ms/step - loss: 0.8911 - mae: 0.6683 - r_squared: 0.6465 - val_loss: 0.8599 - val_mae: 0.6609 - val_r_squared: -20.0010\n",
      "Epoch 24/200\n",
      "2014/2014 [==============================] - 97s 48ms/step - loss: 0.8594 - mae: 0.6576 - r_squared: 0.6607 - val_loss: 0.8288 - val_mae: 0.6514 - val_r_squared: -19.1740\n",
      "Epoch 25/200\n",
      "2014/2014 [==============================] - 97s 48ms/step - loss: 0.8184 - mae: 0.6412 - r_squared: 0.6769 - val_loss: 0.7981 - val_mae: 0.6305 - val_r_squared: -18.8129\n",
      "Epoch 26/200\n",
      "2014/2014 [==============================] - 97s 48ms/step - loss: 0.8077 - mae: 0.6337 - r_squared: 0.6816 - val_loss: 0.8953 - val_mae: 0.6720 - val_r_squared: -20.8907\n",
      "Epoch 27/200\n",
      "2014/2014 [==============================] - 97s 48ms/step - loss: 0.7932 - mae: 0.6249 - r_squared: 0.6874 - val_loss: 0.7754 - val_mae: 0.6169 - val_r_squared: -17.9873\n",
      "Epoch 28/200\n",
      "2014/2014 [==============================] - 97s 48ms/step - loss: 0.8105 - mae: 0.6251 - r_squared: 0.6773 - val_loss: 0.8078 - val_mae: 0.6294 - val_r_squared: -18.9048\n",
      "Epoch 29/200\n",
      "2014/2014 [==============================] - 96s 48ms/step - loss: 0.7778 - mae: 0.6162 - r_squared: 0.6919 - val_loss: 0.7462 - val_mae: 0.6018 - val_r_squared: -17.0441\n",
      "Epoch 30/200\n",
      "2014/2014 [==============================] - 97s 48ms/step - loss: 0.7682 - mae: 0.6087 - r_squared: 0.6965 - val_loss: 0.7506 - val_mae: 0.6021 - val_r_squared: -17.3035\n",
      "Epoch 31/200\n",
      "2014/2014 [==============================] - 97s 48ms/step - loss: 0.7437 - mae: 0.5989 - r_squared: 0.7056 - val_loss: 0.7245 - val_mae: 0.5907 - val_r_squared: -16.0548\n",
      "Epoch 32/200\n",
      "2014/2014 [==============================] - 97s 48ms/step - loss: 0.7312 - mae: 0.5918 - r_squared: 0.7088 - val_loss: 0.7728 - val_mae: 0.6025 - val_r_squared: -16.5699\n",
      "Epoch 33/200\n",
      "2014/2014 [==============================] - 97s 48ms/step - loss: 0.7348 - mae: 0.5906 - r_squared: 0.7106 - val_loss: 0.7124 - val_mae: 0.5816 - val_r_squared: -15.6489\n",
      "Epoch 34/200\n",
      "2014/2014 [==============================] - 97s 48ms/step - loss: 0.7331 - mae: 0.5898 - r_squared: 0.7097 - val_loss: 0.7154 - val_mae: 0.5807 - val_r_squared: -15.8495\n",
      "Epoch 35/200\n",
      "2014/2014 [==============================] - 97s 48ms/step - loss: 0.7102 - mae: 0.5797 - r_squared: 0.7178 - val_loss: 0.7037 - val_mae: 0.5813 - val_r_squared: -15.8426\n",
      "Epoch 36/200\n",
      "2014/2014 [==============================] - 97s 48ms/step - loss: 0.7005 - mae: 0.5754 - r_squared: 0.7229 - val_loss: 0.6726 - val_mae: 0.5642 - val_r_squared: -15.0003\n",
      "Epoch 37/200\n",
      "2014/2014 [==============================] - 97s 48ms/step - loss: 0.6949 - mae: 0.5722 - r_squared: 0.7247 - val_loss: 0.6795 - val_mae: 0.5717 - val_r_squared: -15.3358\n",
      "Epoch 38/200\n",
      "2014/2014 [==============================] - 97s 48ms/step - loss: 0.6750 - mae: 0.5637 - r_squared: 0.7329 - val_loss: 0.6569 - val_mae: 0.5569 - val_r_squared: -14.5997\n",
      "Epoch 39/200\n",
      "2014/2014 [==============================] - 97s 48ms/step - loss: 0.6880 - mae: 0.5688 - r_squared: 0.7277 - val_loss: 0.6627 - val_mae: 0.5609 - val_r_squared: -14.6141\n",
      "Epoch 40/200\n",
      "2014/2014 [==============================] - 97s 48ms/step - loss: 0.6659 - mae: 0.5615 - r_squared: 0.7358 - val_loss: 0.7030 - val_mae: 0.5738 - val_r_squared: -16.3326\n",
      "Epoch 41/200\n",
      "2014/2014 [==============================] - 97s 48ms/step - loss: 0.6572 - mae: 0.5571 - r_squared: 0.7392 - val_loss: 0.6968 - val_mae: 0.5717 - val_r_squared: -16.7716\n",
      "\n",
      "Epoch 00041: ReduceLROnPlateau reducing learning rate to 1.0000000474974514e-05.\n",
      "Epoch 42/200\n",
      "2014/2014 [==============================] - 97s 48ms/step - loss: 0.6237 - mae: 0.5396 - r_squared: 0.7520 - val_loss: 0.6172 - val_mae: 0.5371 - val_r_squared: -13.4040\n",
      "Epoch 43/200\n",
      "2014/2014 [==============================] - 97s 48ms/step - loss: 0.6188 - mae: 0.5379 - r_squared: 0.7537 - val_loss: 0.6156 - val_mae: 0.5360 - val_r_squared: -13.1859\n",
      "Epoch 44/200\n"
     ]
    },
    {
     "name": "stdout",
     "output_type": "stream",
     "text": [
      "2014/2014 [==============================] - 97s 48ms/step - loss: 0.6153 - mae: 0.5363 - r_squared: 0.7551 - val_loss: 0.6109 - val_mae: 0.5349 - val_r_squared: -13.2729\n",
      "Epoch 45/200\n",
      "2014/2014 [==============================] - 96s 48ms/step - loss: 0.6123 - mae: 0.5354 - r_squared: 0.7565 - val_loss: 0.6105 - val_mae: 0.5344 - val_r_squared: -13.1020\n",
      "Epoch 46/200\n",
      "2014/2014 [==============================] - 97s 48ms/step - loss: 0.6098 - mae: 0.5342 - r_squared: 0.7592 - val_loss: 0.6065 - val_mae: 0.5331 - val_r_squared: -12.9974\n",
      "Epoch 47/200\n",
      "2014/2014 [==============================] - 97s 48ms/step - loss: 0.6069 - mae: 0.5327 - r_squared: 0.7589 - val_loss: 0.6032 - val_mae: 0.5311 - val_r_squared: -13.0920\n",
      "Epoch 48/200\n",
      "2014/2014 [==============================] - 96s 48ms/step - loss: 0.6049 - mae: 0.5318 - r_squared: 0.7594 - val_loss: 0.6066 - val_mae: 0.5323 - val_r_squared: -13.0574\n",
      "Epoch 49/200\n",
      "2014/2014 [==============================] - 98s 48ms/step - loss: 0.6022 - mae: 0.5308 - r_squared: 0.7601 - val_loss: 0.5989 - val_mae: 0.5289 - val_r_squared: -12.9238\n",
      "Epoch 50/200\n",
      "2014/2014 [==============================] - 97s 48ms/step - loss: 0.6000 - mae: 0.5301 - r_squared: 0.7610 - val_loss: 0.5975 - val_mae: 0.5282 - val_r_squared: -12.9212\n",
      "Epoch 51/200\n",
      "2014/2014 [==============================] - 97s 48ms/step - loss: 0.5979 - mae: 0.5288 - r_squared: 0.7629 - val_loss: 0.5938 - val_mae: 0.5273 - val_r_squared: -12.8705\n",
      "Epoch 52/200\n",
      "2014/2014 [==============================] - 97s 48ms/step - loss: 0.5964 - mae: 0.5283 - r_squared: 0.7628 - val_loss: 0.5963 - val_mae: 0.5272 - val_r_squared: -12.7282\n",
      "Epoch 53/200\n",
      "2014/2014 [==============================] - 98s 48ms/step - loss: 0.5935 - mae: 0.5271 - r_squared: 0.7642 - val_loss: 0.5979 - val_mae: 0.5295 - val_r_squared: -13.1266\n",
      "Epoch 54/200\n",
      "2014/2014 [==============================] - 97s 48ms/step - loss: 0.5907 - mae: 0.5261 - r_squared: 0.7656 - val_loss: 0.5871 - val_mae: 0.5240 - val_r_squared: -12.6072\n",
      "Epoch 55/200\n",
      "2014/2014 [==============================] - 96s 48ms/step - loss: 0.5886 - mae: 0.5252 - r_squared: 0.7666 - val_loss: 0.5849 - val_mae: 0.5250 - val_r_squared: -12.7099\n",
      "Epoch 56/200\n",
      "2014/2014 [==============================] - 97s 48ms/step - loss: 0.5865 - mae: 0.5246 - r_squared: 0.7685 - val_loss: 0.5858 - val_mae: 0.5235 - val_r_squared: -12.7149\n",
      "Epoch 57/200\n",
      "2014/2014 [==============================] - 97s 48ms/step - loss: 0.5850 - mae: 0.5236 - r_squared: 0.7686 - val_loss: 0.5834 - val_mae: 0.5219 - val_r_squared: -12.4705\n",
      "Epoch 58/200\n",
      "2014/2014 [==============================] - 97s 48ms/step - loss: 0.5827 - mae: 0.5230 - r_squared: 0.7684 - val_loss: 0.5780 - val_mae: 0.5209 - val_r_squared: -12.3684\n",
      "Epoch 59/200\n",
      "2014/2014 [==============================] - 97s 48ms/step - loss: 0.5801 - mae: 0.5217 - r_squared: 0.7694 - val_loss: 0.5753 - val_mae: 0.5199 - val_r_squared: -12.3885\n",
      "Epoch 60/200\n",
      "2014/2014 [==============================] - 98s 48ms/step - loss: 0.5788 - mae: 0.5215 - r_squared: 0.7690 - val_loss: 0.5761 - val_mae: 0.5206 - val_r_squared: -12.3147\n",
      "Epoch 61/200\n",
      "2014/2014 [==============================] - 97s 48ms/step - loss: 0.5763 - mae: 0.5205 - r_squared: 0.7696 - val_loss: 0.5761 - val_mae: 0.5203 - val_r_squared: -12.2308\n",
      "Epoch 62/200\n",
      "2014/2014 [==============================] - 97s 48ms/step - loss: 0.5745 - mae: 0.5195 - r_squared: 0.7717 - val_loss: 0.5707 - val_mae: 0.5182 - val_r_squared: -12.2937\n",
      "Epoch 63/200\n",
      "2014/2014 [==============================] - 97s 48ms/step - loss: 0.5719 - mae: 0.5185 - r_squared: 0.7723 - val_loss: 0.5728 - val_mae: 0.5188 - val_r_squared: -12.3765\n",
      "Epoch 64/200\n",
      "2014/2014 [==============================] - 97s 48ms/step - loss: 0.5707 - mae: 0.5183 - r_squared: 0.7737 - val_loss: 0.5679 - val_mae: 0.5168 - val_r_squared: -12.1538\n",
      "Epoch 65/200\n",
      "2014/2014 [==============================] - 97s 48ms/step - loss: 0.5685 - mae: 0.5173 - r_squared: 0.7738 - val_loss: 0.5744 - val_mae: 0.5209 - val_r_squared: -12.5469\n",
      "Epoch 66/200\n",
      "2014/2014 [==============================] - 97s 48ms/step - loss: 0.5660 - mae: 0.5158 - r_squared: 0.7750 - val_loss: 0.5610 - val_mae: 0.5137 - val_r_squared: -12.0057\n",
      "Epoch 67/200\n",
      "2014/2014 [==============================] - 97s 48ms/step - loss: 0.5698 - mae: 0.5175 - r_squared: 0.7732 - val_loss: 0.5615 - val_mae: 0.5132 - val_r_squared: -11.8760\n",
      "Epoch 68/200\n",
      "2014/2014 [==============================] - 97s 48ms/step - loss: 0.5617 - mae: 0.5142 - r_squared: 0.7768 - val_loss: 0.5589 - val_mae: 0.5129 - val_r_squared: -12.1288\n",
      "Epoch 69/200\n",
      "2014/2014 [==============================] - 97s 48ms/step - loss: 0.5612 - mae: 0.5138 - r_squared: 0.7771 - val_loss: 0.5580 - val_mae: 0.5124 - val_r_squared: -11.8775\n",
      "Epoch 70/200\n",
      "2014/2014 [==============================] - 97s 48ms/step - loss: 0.5589 - mae: 0.5126 - r_squared: 0.7783 - val_loss: 0.5576 - val_mae: 0.5120 - val_r_squared: -11.9518\n",
      "Epoch 71/200\n",
      "2014/2014 [==============================] - 97s 48ms/step - loss: 0.5574 - mae: 0.5115 - r_squared: 0.7781 - val_loss: 0.5537 - val_mae: 0.5102 - val_r_squared: -11.9138\n",
      "Epoch 72/200\n",
      "2014/2014 [==============================] - 97s 48ms/step - loss: 0.5558 - mae: 0.5109 - r_squared: 0.7786 - val_loss: 0.5554 - val_mae: 0.5098 - val_r_squared: -11.8402\n",
      "Epoch 73/200\n",
      "2014/2014 [==============================] - 97s 48ms/step - loss: 0.5535 - mae: 0.5098 - r_squared: 0.7788 - val_loss: 0.5501 - val_mae: 0.5084 - val_r_squared: -11.8301\n",
      "Epoch 74/200\n",
      "2014/2014 [==============================] - 97s 48ms/step - loss: 0.5516 - mae: 0.5089 - r_squared: 0.7807 - val_loss: 0.5501 - val_mae: 0.5087 - val_r_squared: -11.8570\n",
      "Epoch 75/200\n",
      "2014/2014 [==============================] - 96s 48ms/step - loss: 0.5504 - mae: 0.5084 - r_squared: 0.7814 - val_loss: 0.5494 - val_mae: 0.5089 - val_r_squared: -11.8789\n",
      "Epoch 76/200\n",
      "2014/2014 [==============================] - 97s 48ms/step - loss: 0.5476 - mae: 0.5073 - r_squared: 0.7817 - val_loss: 0.5505 - val_mae: 0.5092 - val_r_squared: -11.9445\n",
      "Epoch 77/200\n",
      "2014/2014 [==============================] - 97s 48ms/step - loss: 0.5470 - mae: 0.5063 - r_squared: 0.7820 - val_loss: 0.5425 - val_mae: 0.5046 - val_r_squared: -11.6443\n",
      "Epoch 78/200\n",
      "2014/2014 [==============================] - 97s 48ms/step - loss: 0.5442 - mae: 0.5054 - r_squared: 0.7830 - val_loss: 0.5474 - val_mae: 0.5074 - val_r_squared: -11.9369- r_squared: 0.7\n",
      "Epoch 79/200\n",
      "2014/2014 [==============================] - 97s 48ms/step - loss: 0.5436 - mae: 0.5050 - r_squared: 0.7837 - val_loss: 0.5399 - val_mae: 0.5035 - val_r_squared: -11.6227\n",
      "Epoch 80/200\n",
      "2014/2014 [==============================] - 97s 48ms/step - loss: 0.5412 - mae: 0.5038 - r_squared: 0.7838 - val_loss: 0.5372 - val_mae: 0.5024 - val_r_squared: -11.4894\n",
      "Epoch 81/200\n",
      "2014/2014 [==============================] - 97s 48ms/step - loss: 0.5391 - mae: 0.5028 - r_squared: 0.7860 - val_loss: 0.5379 - val_mae: 0.5019 - val_r_squared: -11.5197\n",
      "Epoch 82/200\n",
      "2014/2014 [==============================] - 96s 48ms/step - loss: 0.5373 - mae: 0.5018 - r_squared: 0.7860 - val_loss: 0.5453 - val_mae: 0.5072 - val_r_squared: -12.0110\n",
      "Epoch 83/200\n",
      "2014/2014 [==============================] - 97s 48ms/step - loss: 0.5365 - mae: 0.5013 - r_squared: 0.7863 - val_loss: 0.5332 - val_mae: 0.4994 - val_r_squared: -11.3045\n",
      "Epoch 84/200\n",
      "2014/2014 [==============================] - 97s 48ms/step - loss: 0.5357 - mae: 0.5007 - r_squared: 0.7868 - val_loss: 0.5322 - val_mae: 0.4988 - val_r_squared: -11.2877\n",
      "Epoch 85/200\n",
      "2014/2014 [==============================] - 97s 48ms/step - loss: 0.5328 - mae: 0.4993 - r_squared: 0.7873 - val_loss: 0.5349 - val_mae: 0.4992 - val_r_squared: -11.2838\n",
      "Epoch 86/200\n",
      "2014/2014 [==============================] - 97s 48ms/step - loss: 0.5330 - mae: 0.4989 - r_squared: 0.7869 - val_loss: 0.5269 - val_mae: 0.4966 - val_r_squared: -11.2132\n",
      "Epoch 87/200\n",
      "2014/2014 [==============================] - 96s 48ms/step - loss: 0.5314 - mae: 0.4983 - r_squared: 0.7883 - val_loss: 0.5264 - val_mae: 0.4964 - val_r_squared: -11.1947\n",
      "Epoch 88/200\n"
     ]
    },
    {
     "name": "stdout",
     "output_type": "stream",
     "text": [
      "2014/2014 [==============================] - 98s 48ms/step - loss: 0.5302 - mae: 0.4977 - r_squared: 0.7892 - val_loss: 0.5252 - val_mae: 0.4951 - val_r_squared: -11.0347\n",
      "Epoch 89/200\n",
      "2014/2014 [==============================] - 97s 48ms/step - loss: 0.5276 - mae: 0.4963 - r_squared: 0.7905 - val_loss: 0.5239 - val_mae: 0.4944 - val_r_squared: -11.1873\n",
      "Epoch 90/200\n",
      "2014/2014 [==============================] - 96s 48ms/step - loss: 0.5272 - mae: 0.4963 - r_squared: 0.7898 - val_loss: 0.5214 - val_mae: 0.4933 - val_r_squared: -10.9831\n",
      "Epoch 91/200\n",
      "2014/2014 [==============================] - 97s 48ms/step - loss: 0.5271 - mae: 0.4963 - r_squared: 0.7896 - val_loss: 0.5219 - val_mae: 0.4931 - val_r_squared: -10.9981\n",
      "Epoch 92/200\n",
      "2014/2014 [==============================] - 94s 47ms/step - loss: 0.5237 - mae: 0.4942 - r_squared: 0.7912 - val_loss: 0.5211 - val_mae: 0.4927 - val_r_squared: -10.9888\n",
      "Epoch 93/200\n",
      "2014/2014 [==============================] - 97s 48ms/step - loss: 0.5232 - mae: 0.4938 - r_squared: 0.7930 - val_loss: 0.5213 - val_mae: 0.4927 - val_r_squared: -11.0524\n",
      "Epoch 94/200\n",
      "2014/2014 [==============================] - 97s 48ms/step - loss: 0.5245 - mae: 0.4941 - r_squared: 0.7914 - val_loss: 0.5300 - val_mae: 0.4963 - val_r_squared: -11.5197230 - mae: - ETA: 1s - loss: 0.5242 - mae: 0.4940 -\n",
      "Epoch 95/200\n",
      "2014/2014 [==============================] - 99s 49ms/step - loss: 0.5205 - mae: 0.4925 - r_squared: 0.7932 - val_loss: 0.5307 - val_mae: 0.4965 - val_r_squared: -11.2805\n",
      "\n",
      "Epoch 00095: ReduceLROnPlateau reducing learning rate to 1.0000000656873453e-06.\n",
      "Epoch 96/200\n",
      "2014/2014 [==============================] - 97s 48ms/step - loss: 0.5159 - mae: 0.4902 - r_squared: 0.7941 - val_loss: 0.5138 - val_mae: 0.4892 - val_r_squared: -10.8491oss: \n",
      "Epoch 97/200\n",
      "2014/2014 [==============================] - 98s 48ms/step - loss: 0.5138 - mae: 0.4892 - r_squared: 0.7962 - val_loss: 0.5132 - val_mae: 0.4888 - val_r_squared: -10.7877\n",
      "Epoch 98/200\n",
      "2014/2014 [==============================] - 97s 48ms/step - loss: 0.5135 - mae: 0.4890 - r_squared: 0.7961 - val_loss: 0.5134 - val_mae: 0.4890 - val_r_squared: -10.8228\n",
      "Epoch 99/200\n",
      "2014/2014 [==============================] - 97s 48ms/step - loss: 0.5134 - mae: 0.4889 - r_squared: 0.7950 - val_loss: 0.5136 - val_mae: 0.4891 - val_r_squared: -10.8921\n",
      "Epoch 100/200\n",
      "2014/2014 [==============================] - 97s 48ms/step - loss: 0.5133 - mae: 0.4888 - r_squared: 0.7962 - val_loss: 0.5126 - val_mae: 0.4887 - val_r_squared: -10.8222\n",
      "Epoch 101/200\n",
      "2014/2014 [==============================] - 97s 48ms/step - loss: 0.5131 - mae: 0.4886 - r_squared: 0.7948 - val_loss: 0.5125 - val_mae: 0.4883 - val_r_squared: -10.7891\n",
      "Epoch 102/200\n",
      "2014/2014 [==============================] - 97s 48ms/step - loss: 0.5130 - mae: 0.4887 - r_squared: 0.7948 - val_loss: 0.5122 - val_mae: 0.4883 - val_r_squared: -10.7882\n",
      "Epoch 103/200\n",
      "2014/2014 [==============================] - 96s 48ms/step - loss: 0.5128 - mae: 0.4886 - r_squared: 0.7960 - val_loss: 0.5121 - val_mae: 0.4880 - val_r_squared: -10.7587\n",
      "Epoch 104/200\n",
      "2014/2014 [==============================] - 109s 54ms/step - loss: 0.5125 - mae: 0.4884 - r_squared: 0.7951 - val_loss: 0.5123 - val_mae: 0.4885 - val_r_squared: -10.8096\n",
      "Epoch 105/200\n",
      "2014/2014 [==============================] - 96s 48ms/step - loss: 0.5125 - mae: 0.4885 - r_squared: 0.7958 - val_loss: 0.5119 - val_mae: 0.4880 - val_r_squared: -10.7557\n",
      "Epoch 106/200\n",
      "2014/2014 [==============================] - 97s 48ms/step - loss: 0.5126 - mae: 0.4884 - r_squared: 0.7963 - val_loss: 0.5118 - val_mae: 0.4880 - val_r_squared: -10.75535 - r_squar\n",
      "Epoch 107/200\n",
      "2014/2014 [==============================] - 97s 48ms/step - loss: 0.5121 - mae: 0.4882 - r_squared: 0.7961 - val_loss: 0.5126 - val_mae: 0.4884 - val_r_squared: -10.8653\n",
      "Epoch 108/200\n",
      "2014/2014 [==============================] - 98s 49ms/step - loss: 0.5123 - mae: 0.4882 - r_squared: 0.7952 - val_loss: 0.5117 - val_mae: 0.4880 - val_r_squared: -10.7525\n",
      "Epoch 109/200\n",
      "2014/2014 [==============================] - 97s 48ms/step - loss: 0.5120 - mae: 0.4881 - r_squared: 0.7966 - val_loss: 0.5113 - val_mae: 0.4877 - val_r_squared: -10.7683\n",
      "Epoch 110/200\n",
      "2014/2014 [==============================] - 98s 49ms/step - loss: 0.5118 - mae: 0.4881 - r_squared: 0.7960 - val_loss: 0.5111 - val_mae: 0.4878 - val_r_squared: -10.7549\n",
      "Epoch 111/200\n",
      "2014/2014 [==============================] - 97s 48ms/step - loss: 0.5118 - mae: 0.4880 - r_squared: 0.7958 - val_loss: 0.5111 - val_mae: 0.4876 - val_r_squared: -10.7342\n",
      "Epoch 112/200\n",
      "2014/2014 [==============================] - 97s 48ms/step - loss: 0.5116 - mae: 0.4879 - r_squared: 0.7966 - val_loss: 0.5126 - val_mae: 0.4882 - val_r_squared: -10.7392\n",
      "Epoch 113/200\n",
      "2014/2014 [==============================] - 97s 48ms/step - loss: 0.5115 - mae: 0.4878 - r_squared: 0.7974 - val_loss: 0.5110 - val_mae: 0.4878 - val_r_squared: -10.7805\n",
      "Epoch 114/200\n",
      "2014/2014 [==============================] - 98s 49ms/step - loss: 0.5112 - mae: 0.4878 - r_squared: 0.7961 - val_loss: 0.5107 - val_mae: 0.4875 - val_r_squared: -10.7352\n",
      "Epoch 115/200\n",
      "2014/2014 [==============================] - 97s 48ms/step - loss: 0.5112 - mae: 0.4877 - r_squared: 0.7958 - val_loss: 0.5109 - val_mae: 0.4875 - val_r_squared: -10.7637\n",
      "Epoch 116/200\n",
      "2014/2014 [==============================] - 97s 48ms/step - loss: 0.5110 - mae: 0.4875 - r_squared: 0.7966 - val_loss: 0.5107 - val_mae: 0.4873 - val_r_squared: -10.7043\n",
      "Epoch 117/200\n",
      "2014/2014 [==============================] - 97s 48ms/step - loss: 0.5111 - mae: 0.4876 - r_squared: 0.7968 - val_loss: 0.5103 - val_mae: 0.4872 - val_r_squared: -10.7263\n",
      "Epoch 118/200\n",
      "2014/2014 [==============================] - 98s 49ms/step - loss: 0.5108 - mae: 0.4875 - r_squared: 0.7956 - val_loss: 0.5115 - val_mae: 0.4878 - val_r_squared: -10.8469\n",
      "Epoch 119/200\n",
      "2014/2014 [==============================] - 98s 49ms/step - loss: 0.5108 - mae: 0.4874 - r_squared: 0.7965 - val_loss: 0.5100 - val_mae: 0.4872 - val_r_squared: -10.7248\n",
      "Epoch 120/200\n",
      "2014/2014 [==============================] - 98s 48ms/step - loss: 0.5104 - mae: 0.4872 - r_squared: 0.7961 - val_loss: 0.5103 - val_mae: 0.4874 - val_r_squared: -10.7501.5100 - mae: 0.4872 - r_squared: 0.79 - ETA: 8s - loss: 0.5099 - mae: 0.4872 - r_squared: 0.7\n",
      "Epoch 121/200\n",
      "2014/2014 [==============================] - 98s 49ms/step - loss: 0.5106 - mae: 0.4874 - r_squared: 0.7951 - val_loss: 0.5098 - val_mae: 0.4869 - val_r_squared: -10.7220\n",
      "Epoch 122/200\n",
      "2014/2014 [==============================] - 99s 49ms/step - loss: 0.5103 - mae: 0.4872 - r_squared: 0.7972 - val_loss: 0.5102 - val_mae: 0.4870 - val_r_squared: -10.6899\n",
      "Epoch 123/200\n",
      "2014/2014 [==============================] - 97s 48ms/step - loss: 0.5102 - mae: 0.4871 - r_squared: 0.7968 - val_loss: 0.5094 - val_mae: 0.4868 - val_r_squared: -10.6984\n",
      "Epoch 124/200\n",
      "2014/2014 [==============================] - 98s 49ms/step - loss: 0.5098 - mae: 0.4869 - r_squared: 0.7969 - val_loss: 0.5098 - val_mae: 0.4870 - val_r_squared: -10.7378\n",
      "Epoch 125/200\n",
      "2014/2014 [==============================] - 97s 48ms/step - loss: 0.5099 - mae: 0.4869 - r_squared: 0.7966 - val_loss: 0.5095 - val_mae: 0.4867 - val_r_squared: -10.6988\n",
      "Epoch 126/200\n",
      "2014/2014 [==============================] - 97s 48ms/step - loss: 0.5100 - mae: 0.4869 - r_squared: 0.7961 - val_loss: 0.5090 - val_mae: 0.4867 - val_r_squared: -10.7084\n",
      "Epoch 127/200\n",
      "2014/2014 [==============================] - 96s 48ms/step - loss: 0.5097 - mae: 0.4869 - r_squared: 0.7977 - val_loss: 0.5097 - val_mae: 0.4868 - val_r_squared: -10.7652\n",
      "Epoch 128/200\n",
      "2014/2014 [==============================] - 98s 49ms/step - loss: 0.5095 - mae: 0.4868 - r_squared: 0.7964 - val_loss: 0.5093 - val_mae: 0.4866 - val_r_squared: -10.6683\n",
      "Epoch 129/200\n",
      "2014/2014 [==============================] - 97s 48ms/step - loss: 0.5092 - mae: 0.4866 - r_squared: 0.7975 - val_loss: 0.5097 - val_mae: 0.4868 - val_r_squared: -10.7342\n",
      "\n",
      "Epoch 00129: ReduceLROnPlateau reducing learning rate to 1.0000001111620805e-07.\n",
      "Epoch 130/200\n"
     ]
    },
    {
     "name": "stdout",
     "output_type": "stream",
     "text": [
      "2014/2014 [==============================] - 98s 48ms/step - loss: 0.5092 - mae: 0.4865 - r_squared: 0.7973 - val_loss: 0.5087 - val_mae: 0.4863 - val_r_squared: -10.6600\n",
      "Epoch 131/200\n",
      "2014/2014 [==============================] - 98s 48ms/step - loss: 0.5087 - mae: 0.4863 - r_squared: 0.7977 - val_loss: 0.5086 - val_mae: 0.4862 - val_r_squared: -10.6577\n",
      "Epoch 132/200\n",
      "2014/2014 [==============================] - 98s 49ms/step - loss: 0.5086 - mae: 0.4862 - r_squared: 0.7973 - val_loss: 0.5085 - val_mae: 0.4862 - val_r_squared: -10.6571\n",
      "Epoch 133/200\n",
      "2014/2014 [==============================] - 98s 49ms/step - loss: 0.5086 - mae: 0.4862 - r_squared: 0.7963 - val_loss: 0.5086 - val_mae: 0.4863 - val_r_squared: -10.6811\n",
      "Epoch 134/200\n",
      "2014/2014 [==============================] - 97s 48ms/step - loss: 0.5086 - mae: 0.4863 - r_squared: 0.7979 - val_loss: 0.5085 - val_mae: 0.4862 - val_r_squared: -10.6695\n",
      "\n",
      "Epoch 00134: ReduceLROnPlateau reducing learning rate to 1.000000082740371e-08.\n",
      "Epoch 135/200\n",
      "2014/2014 [==============================] - 97s 48ms/step - loss: 0.5085 - mae: 0.4862 - r_squared: 0.7969 - val_loss: 0.5085 - val_mae: 0.4862 - val_r_squared: -10.6683\n",
      "Epoch 136/200\n",
      "2014/2014 [==============================] - 97s 48ms/step - loss: 0.5085 - mae: 0.4862 - r_squared: 0.7982 - val_loss: 0.5085 - val_mae: 0.4862 - val_r_squared: -10.6678\n",
      "Epoch 137/200\n",
      "2014/2014 [==============================] - 98s 49ms/step - loss: 0.5085 - mae: 0.4862 - r_squared: 0.7971 - val_loss: 0.5085 - val_mae: 0.4862 - val_r_squared: -10.6676\n",
      "\n",
      "Epoch 00137: ReduceLROnPlateau reducing learning rate to 1.000000082740371e-09.\n",
      "Epoch 138/200\n",
      "2014/2014 [==============================] - 97s 48ms/step - loss: 0.5085 - mae: 0.4862 - r_squared: 0.7979 - val_loss: 0.5085 - val_mae: 0.4862 - val_r_squared: -10.6676\n",
      "Epoch 139/200\n",
      "2014/2014 [==============================] - 98s 49ms/step - loss: 0.5085 - mae: 0.4862 - r_squared: 0.7983 - val_loss: 0.5085 - val_mae: 0.4862 - val_r_squared: -10.6676\n",
      "Epoch 140/200\n",
      "2014/2014 [==============================] - 97s 48ms/step - loss: 0.5085 - mae: 0.4862 - r_squared: 0.7986 - val_loss: 0.5085 - val_mae: 0.4862 - val_r_squared: -10.6676\n",
      "Epoch 141/200\n",
      "2014/2014 [==============================] - 97s 48ms/step - loss: 0.5085 - mae: 0.4862 - r_squared: 0.7980 - val_loss: 0.5085 - val_mae: 0.4862 - val_r_squared: -10.6676\n",
      "\n",
      "Epoch 00141: ReduceLROnPlateau reducing learning rate to 1.000000082740371e-10.\n",
      "Epoch 142/200\n",
      "2014/2014 [==============================] - 96s 48ms/step - loss: 0.5085 - mae: 0.4862 - r_squared: 0.7974 - val_loss: 0.5085 - val_mae: 0.4862 - val_r_squared: -10.6676\n",
      "Epoch 143/200\n",
      "2014/2014 [==============================] - 97s 48ms/step - loss: 0.5085 - mae: 0.4862 - r_squared: 0.7962 - val_loss: 0.5085 - val_mae: 0.4862 - val_r_squared: -10.6676\n",
      "Epoch 00143: early stopping\n"
     ]
    }
   ],
   "source": [
    "# LSTM 모델 생성\n",
    "model = Sequential()\n",
    "model.add(LSTM(128, input_shape=(180, 8), return_sequences=True))\n",
    "model.add(LSTM(64, return_sequences=True))\n",
    "model.add(LSTM(32))\n",
    "model.add(Dense(180, activation='linear'))\n",
    " \n",
    "model.summary()\n",
    "\n",
    "# mae와 r_squared 평가함수 추가.\n",
    "model.compile(optimizer='adam', loss='mse', metrics=['mae', r_squared])\n",
    "\n",
    "\n",
    "checkpoint = ModelCheckpoint(model_name + '_best.h5', monitor='val_loss', save_best_only=True)\n",
    "early_stop = EarlyStopping(monitor='val_loss', patience=5, verbose=1)\n",
    "reduce_lr = ReduceLROnPlateau(monitor='val_loss', factor=0.1, patience=3, verbose=1)\n",
    "\n",
    "# ModelCheckpoint : 검증 손실이 낮아진 경우에 최적의 모델을 저장\n",
    "# EarlyStopping : 검증 손실이 일정 기간동안 향상되지 않으면 학습을 조기 종료\n",
    "# ReduceLROnPlateau : 검증 손실이 개선되지 않으면 학습률을 조정하는 등의 동작 수행.\n",
    "\n",
    "\n",
    "hist = model.fit(japonica_training_features_X_chunks_crop, japonica_training_features_y_chunks_crop, epochs = 200, batch_size = 32, validation_data=(japonica_validation_features_X_chunks_crop, japonica_validation_features_y_chunks_crop), callbacks=[checkpoint, early_stop, reduce_lr])\n",
    "model.save(model_name+'.h5')"
   ]
  },
  {
   "cell_type": "markdown",
   "metadata": {},
   "source": [
    "모델 평가"
   ]
  },
  {
   "cell_type": "code",
   "execution_count": 14,
   "metadata": {},
   "outputs": [],
   "source": [
    "# 모델 평가 함수\n",
    "def grapeNEva(model, X_test_shape, y_test, feed, y_test_shape):\n",
    "    X_pred = model.predict(X_test_shape)\n",
    "    X_pred = np.asarray(X_pred, dtype=np.float64)\n",
    "    X_pred = X_pred.reshape((-1))\n",
    "    print(len(X_pred))\n",
    "\n",
    "    # 그래프 생성\n",
    "    plt.figure(figsize=(15, 7))\n",
    "    plt.plot(y_test.index, y_test, label='sensor do')  # x축에 년월일, y축에 값\n",
    "    plt.plot(y_test.index, X_pred, color='red', label='prediction do')  # x축에 년월일, y축에 시분\n",
    "    plt.plot(y_test.index, feed, color='green', marker='o', linestyle='None', label='feed_quantity')  # x축에 년월일, y축에 시분\n",
    "    plt.xlabel('date')\n",
    "    plt.ylabel('do')\n",
    "    plt.title(model_name)\n",
    "    plt.legend(['sensor do','prediction do','feed_quantity'])\n",
    "    plt.show()\n",
    "    \n",
    "    # 평가 생성\n",
    "    result = model.evaluate(X_test_shape, y_test_shape)\n",
    "    print(\"MSE // MAE // R-squared \", result)"
   ]
  },
  {
   "cell_type": "code",
   "execution_count": 15,
   "metadata": {},
   "outputs": [],
   "source": [
    "# r_squared가 따로 만들어서 추가해준 함수기 때문에 불러올 때도 추가해서 불러야한다.\n",
    "model = load_model(model_name+'.h5', custom_objects={'r_squared': r_squared})"
   ]
  },
  {
   "cell_type": "code",
   "execution_count": 16,
   "metadata": {},
   "outputs": [
    {
     "name": "stdout",
     "output_type": "stream",
     "text": [
      "[[-0.18269345  0.4034211   0.02865389 ...  0.16755477  0.20650105\n",
      "  -0.02742457]\n",
      " [-0.0189896   0.17544596 -0.13433777 ...  0.07868479  0.05513419\n",
      "  -0.10061926]\n",
      " [ 0.01593015 -0.13612436  0.20319928 ...  0.11806253 -0.02021552\n",
      "   0.14159441]\n",
      " ...\n",
      " [-0.13047978  0.1304058  -0.07503727 ...  0.08237224  0.04415368\n",
      "  -0.17303854]\n",
      " [-0.02800021  0.42781138 -0.08007647 ... -0.09856668  0.04811328\n",
      "  -0.13450867]\n",
      " [-0.050584    0.41581073 -0.0247907  ... -0.01255902  0.10571223\n",
      "   0.00647976]]\n"
     ]
    },
    {
     "ename": "ValueError",
     "evalue": "shape mismatch: objects cannot be broadcast to a single shape",
     "output_type": "error",
     "traceback": [
      "\u001b[0;31m---------------------------------------------------------------------------\u001b[0m",
      "\u001b[0;31mValueError\u001b[0m                                Traceback (most recent call last)",
      "\u001b[0;32m/tmp/ipykernel_2622202/586701730.py\u001b[0m in \u001b[0;36m<module>\u001b[0;34m\u001b[0m\n\u001b[1;32m      6\u001b[0m \u001b[0;31m# 변수 중요도 시각화\u001b[0m\u001b[0;34m\u001b[0m\u001b[0;34m\u001b[0m\u001b[0;34m\u001b[0m\u001b[0m\n\u001b[1;32m      7\u001b[0m \u001b[0mfig\u001b[0m\u001b[0;34m,\u001b[0m \u001b[0max\u001b[0m \u001b[0;34m=\u001b[0m \u001b[0mplt\u001b[0m\u001b[0;34m.\u001b[0m\u001b[0msubplots\u001b[0m\u001b[0;34m(\u001b[0m\u001b[0mfigsize\u001b[0m\u001b[0;34m=\u001b[0m\u001b[0;34m(\u001b[0m\u001b[0;36m8\u001b[0m\u001b[0;34m,\u001b[0m \u001b[0;36m4\u001b[0m\u001b[0;34m)\u001b[0m\u001b[0;34m)\u001b[0m\u001b[0;34m\u001b[0m\u001b[0;34m\u001b[0m\u001b[0m\n\u001b[0;32m----> 8\u001b[0;31m \u001b[0max\u001b[0m\u001b[0;34m.\u001b[0m\u001b[0mbar\u001b[0m\u001b[0;34m(\u001b[0m\u001b[0mrange\u001b[0m\u001b[0;34m(\u001b[0m\u001b[0;36m9\u001b[0m\u001b[0;34m)\u001b[0m\u001b[0;34m,\u001b[0m \u001b[0mweights\u001b[0m\u001b[0;34m[\u001b[0m\u001b[0;34m:\u001b[0m\u001b[0;34m,\u001b[0m \u001b[0;36m0\u001b[0m\u001b[0;34m]\u001b[0m\u001b[0;34m)\u001b[0m\u001b[0;34m\u001b[0m\u001b[0;34m\u001b[0m\u001b[0m\n\u001b[0m\u001b[1;32m      9\u001b[0m \u001b[0max\u001b[0m\u001b[0;34m.\u001b[0m\u001b[0mset_xticks\u001b[0m\u001b[0;34m(\u001b[0m\u001b[0mrange\u001b[0m\u001b[0;34m(\u001b[0m\u001b[0;36m9\u001b[0m\u001b[0;34m)\u001b[0m\u001b[0;34m)\u001b[0m\u001b[0;34m\u001b[0m\u001b[0;34m\u001b[0m\u001b[0m\n\u001b[1;32m     10\u001b[0m \u001b[0max\u001b[0m\u001b[0;34m.\u001b[0m\u001b[0mset_xticklabels\u001b[0m\u001b[0;34m(\u001b[0m\u001b[0;34m[\u001b[0m\u001b[0;34m'do_mg'\u001b[0m\u001b[0;34m,\u001b[0m\u001b[0;34m'do_temp'\u001b[0m\u001b[0;34m,\u001b[0m \u001b[0;34m'ph'\u001b[0m\u001b[0;34m,\u001b[0m \u001b[0;34m'orp'\u001b[0m\u001b[0;34m,\u001b[0m \u001b[0;34m'co2_mg'\u001b[0m\u001b[0;34m,\u001b[0m \u001b[0;34m'air_oxy'\u001b[0m\u001b[0;34m,\u001b[0m \u001b[0;34m'light_ma'\u001b[0m\u001b[0;34m,\u001b[0m \u001b[0;34m'feed_quantity'\u001b[0m\u001b[0;34m,\u001b[0m \u001b[0;34m'water_quantity'\u001b[0m\u001b[0;34m]\u001b[0m\u001b[0;34m)\u001b[0m\u001b[0;34m\u001b[0m\u001b[0;34m\u001b[0m\u001b[0m\n",
      "\u001b[0;32m/usr/local/lib/python3.8/dist-packages/matplotlib/__init__.py\u001b[0m in \u001b[0;36minner\u001b[0;34m(ax, data, *args, **kwargs)\u001b[0m\n\u001b[1;32m   1410\u001b[0m     \u001b[0;32mdef\u001b[0m \u001b[0minner\u001b[0m\u001b[0;34m(\u001b[0m\u001b[0max\u001b[0m\u001b[0;34m,\u001b[0m \u001b[0;34m*\u001b[0m\u001b[0margs\u001b[0m\u001b[0;34m,\u001b[0m \u001b[0mdata\u001b[0m\u001b[0;34m=\u001b[0m\u001b[0;32mNone\u001b[0m\u001b[0;34m,\u001b[0m \u001b[0;34m**\u001b[0m\u001b[0mkwargs\u001b[0m\u001b[0;34m)\u001b[0m\u001b[0;34m:\u001b[0m\u001b[0;34m\u001b[0m\u001b[0;34m\u001b[0m\u001b[0m\n\u001b[1;32m   1411\u001b[0m         \u001b[0;32mif\u001b[0m \u001b[0mdata\u001b[0m \u001b[0;32mis\u001b[0m \u001b[0;32mNone\u001b[0m\u001b[0;34m:\u001b[0m\u001b[0;34m\u001b[0m\u001b[0;34m\u001b[0m\u001b[0m\n\u001b[0;32m-> 1412\u001b[0;31m             \u001b[0;32mreturn\u001b[0m \u001b[0mfunc\u001b[0m\u001b[0;34m(\u001b[0m\u001b[0max\u001b[0m\u001b[0;34m,\u001b[0m \u001b[0;34m*\u001b[0m\u001b[0mmap\u001b[0m\u001b[0;34m(\u001b[0m\u001b[0msanitize_sequence\u001b[0m\u001b[0;34m,\u001b[0m \u001b[0margs\u001b[0m\u001b[0;34m)\u001b[0m\u001b[0;34m,\u001b[0m \u001b[0;34m**\u001b[0m\u001b[0mkwargs\u001b[0m\u001b[0;34m)\u001b[0m\u001b[0;34m\u001b[0m\u001b[0;34m\u001b[0m\u001b[0m\n\u001b[0m\u001b[1;32m   1413\u001b[0m \u001b[0;34m\u001b[0m\u001b[0m\n\u001b[1;32m   1414\u001b[0m         \u001b[0mbound\u001b[0m \u001b[0;34m=\u001b[0m \u001b[0mnew_sig\u001b[0m\u001b[0;34m.\u001b[0m\u001b[0mbind\u001b[0m\u001b[0;34m(\u001b[0m\u001b[0max\u001b[0m\u001b[0;34m,\u001b[0m \u001b[0;34m*\u001b[0m\u001b[0margs\u001b[0m\u001b[0;34m,\u001b[0m \u001b[0;34m**\u001b[0m\u001b[0mkwargs\u001b[0m\u001b[0;34m)\u001b[0m\u001b[0;34m\u001b[0m\u001b[0;34m\u001b[0m\u001b[0m\n",
      "\u001b[0;32m/usr/local/lib/python3.8/dist-packages/matplotlib/axes/_axes.py\u001b[0m in \u001b[0;36mbar\u001b[0;34m(self, x, height, width, bottom, align, **kwargs)\u001b[0m\n\u001b[1;32m   2340\u001b[0m                 \u001b[0myerr\u001b[0m \u001b[0;34m=\u001b[0m \u001b[0mself\u001b[0m\u001b[0;34m.\u001b[0m\u001b[0m_convert_dx\u001b[0m\u001b[0;34m(\u001b[0m\u001b[0myerr\u001b[0m\u001b[0;34m,\u001b[0m \u001b[0my0\u001b[0m\u001b[0;34m,\u001b[0m \u001b[0my\u001b[0m\u001b[0;34m,\u001b[0m \u001b[0mself\u001b[0m\u001b[0;34m.\u001b[0m\u001b[0mconvert_yunits\u001b[0m\u001b[0;34m)\u001b[0m\u001b[0;34m\u001b[0m\u001b[0;34m\u001b[0m\u001b[0m\n\u001b[1;32m   2341\u001b[0m \u001b[0;34m\u001b[0m\u001b[0m\n\u001b[0;32m-> 2342\u001b[0;31m         x, height, width, y, linewidth, hatch = np.broadcast_arrays(\n\u001b[0m\u001b[1;32m   2343\u001b[0m             \u001b[0;31m# Make args iterable too.\u001b[0m\u001b[0;34m\u001b[0m\u001b[0;34m\u001b[0m\u001b[0;34m\u001b[0m\u001b[0m\n\u001b[1;32m   2344\u001b[0m             np.atleast_1d(x), height, width, y, linewidth, hatch)\n",
      "\u001b[0;32m<__array_function__ internals>\u001b[0m in \u001b[0;36mbroadcast_arrays\u001b[0;34m(*args, **kwargs)\u001b[0m\n",
      "\u001b[0;32m~/.venv/tf2.6.0-keras2.6.0-py3.8-cuda11.3/lib/python3.8/site-packages/numpy/lib/stride_tricks.py\u001b[0m in \u001b[0;36mbroadcast_arrays\u001b[0;34m(subok, *args)\u001b[0m\n\u001b[1;32m    256\u001b[0m     \u001b[0margs\u001b[0m \u001b[0;34m=\u001b[0m \u001b[0;34m[\u001b[0m\u001b[0mnp\u001b[0m\u001b[0;34m.\u001b[0m\u001b[0marray\u001b[0m\u001b[0;34m(\u001b[0m\u001b[0m_m\u001b[0m\u001b[0;34m,\u001b[0m \u001b[0mcopy\u001b[0m\u001b[0;34m=\u001b[0m\u001b[0;32mFalse\u001b[0m\u001b[0;34m,\u001b[0m \u001b[0msubok\u001b[0m\u001b[0;34m=\u001b[0m\u001b[0msubok\u001b[0m\u001b[0;34m)\u001b[0m \u001b[0;32mfor\u001b[0m \u001b[0m_m\u001b[0m \u001b[0;32min\u001b[0m \u001b[0margs\u001b[0m\u001b[0;34m]\u001b[0m\u001b[0;34m\u001b[0m\u001b[0;34m\u001b[0m\u001b[0m\n\u001b[1;32m    257\u001b[0m \u001b[0;34m\u001b[0m\u001b[0m\n\u001b[0;32m--> 258\u001b[0;31m     \u001b[0mshape\u001b[0m \u001b[0;34m=\u001b[0m \u001b[0m_broadcast_shape\u001b[0m\u001b[0;34m(\u001b[0m\u001b[0;34m*\u001b[0m\u001b[0margs\u001b[0m\u001b[0;34m)\u001b[0m\u001b[0;34m\u001b[0m\u001b[0;34m\u001b[0m\u001b[0m\n\u001b[0m\u001b[1;32m    259\u001b[0m \u001b[0;34m\u001b[0m\u001b[0m\n\u001b[1;32m    260\u001b[0m     \u001b[0;32mif\u001b[0m \u001b[0mall\u001b[0m\u001b[0;34m(\u001b[0m\u001b[0marray\u001b[0m\u001b[0;34m.\u001b[0m\u001b[0mshape\u001b[0m \u001b[0;34m==\u001b[0m \u001b[0mshape\u001b[0m \u001b[0;32mfor\u001b[0m \u001b[0marray\u001b[0m \u001b[0;32min\u001b[0m \u001b[0margs\u001b[0m\u001b[0;34m)\u001b[0m\u001b[0;34m:\u001b[0m\u001b[0;34m\u001b[0m\u001b[0;34m\u001b[0m\u001b[0m\n",
      "\u001b[0;32m~/.venv/tf2.6.0-keras2.6.0-py3.8-cuda11.3/lib/python3.8/site-packages/numpy/lib/stride_tricks.py\u001b[0m in \u001b[0;36m_broadcast_shape\u001b[0;34m(*args)\u001b[0m\n\u001b[1;32m    187\u001b[0m     \u001b[0;31m# use the old-iterator because np.nditer does not handle size 0 arrays\u001b[0m\u001b[0;34m\u001b[0m\u001b[0;34m\u001b[0m\u001b[0;34m\u001b[0m\u001b[0m\n\u001b[1;32m    188\u001b[0m     \u001b[0;31m# consistently\u001b[0m\u001b[0;34m\u001b[0m\u001b[0;34m\u001b[0m\u001b[0;34m\u001b[0m\u001b[0m\n\u001b[0;32m--> 189\u001b[0;31m     \u001b[0mb\u001b[0m \u001b[0;34m=\u001b[0m \u001b[0mnp\u001b[0m\u001b[0;34m.\u001b[0m\u001b[0mbroadcast\u001b[0m\u001b[0;34m(\u001b[0m\u001b[0;34m*\u001b[0m\u001b[0margs\u001b[0m\u001b[0;34m[\u001b[0m\u001b[0;34m:\u001b[0m\u001b[0;36m32\u001b[0m\u001b[0;34m]\u001b[0m\u001b[0;34m)\u001b[0m\u001b[0;34m\u001b[0m\u001b[0;34m\u001b[0m\u001b[0m\n\u001b[0m\u001b[1;32m    190\u001b[0m     \u001b[0;31m# unfortunately, it cannot handle 32 or more arguments directly\u001b[0m\u001b[0;34m\u001b[0m\u001b[0;34m\u001b[0m\u001b[0;34m\u001b[0m\u001b[0m\n\u001b[1;32m    191\u001b[0m     \u001b[0;32mfor\u001b[0m \u001b[0mpos\u001b[0m \u001b[0;32min\u001b[0m \u001b[0mrange\u001b[0m\u001b[0;34m(\u001b[0m\u001b[0;36m32\u001b[0m\u001b[0;34m,\u001b[0m \u001b[0mlen\u001b[0m\u001b[0;34m(\u001b[0m\u001b[0margs\u001b[0m\u001b[0;34m)\u001b[0m\u001b[0;34m,\u001b[0m \u001b[0;36m31\u001b[0m\u001b[0;34m)\u001b[0m\u001b[0;34m:\u001b[0m\u001b[0;34m\u001b[0m\u001b[0;34m\u001b[0m\u001b[0m\n",
      "\u001b[0;31mValueError\u001b[0m: shape mismatch: objects cannot be broadcast to a single shape"
     ]
    },
    {
     "data": {
      "image/png": "[encoded data removed]",
      "text/plain": [
       "<Figure size 576x288 with 1 Axes>"
      ]
     },
     "metadata": {
      "needs_background": "light"
     },
     "output_type": "display_data"
    }
   ],
   "source": [
    "# 가중치를 통해 변수 중요도 획득\n",
    "weights = model.layers[0].get_weights()[0]\n",
    "print(weights)\n",
    "\n",
    "\n",
    "# 변수 중요도 시각화\n",
    "fig, ax = plt.subplots(figsize=(8, 4))\n",
    "ax.bar(range(9), weights[:, 0])\n",
    "ax.set_xticks(range(9))\n",
    "ax.set_xticklabels(['do_mg','do_temp', 'ph', 'orp', 'co2_mg', 'air_oxy', 'light_ma', 'feed_quantity', 'water_quantity'])\n",
    "ax.set_ylabel('Weight')\n",
    "ax.set_title('Variable Importance')\n",
    "plt.show()"
   ]
  },
  {
   "cell_type": "code",
   "execution_count": null,
   "metadata": {},
   "outputs": [],
   "source": [
    "japonica_validation_features_X"
   ]
  },
  {
   "cell_type": "code",
   "execution_count": null,
   "metadata": {},
   "outputs": [],
   "source": [
    "X_test = japonica_validation_features_X.loc['2021-07-21 00:00':'2021-09-10 20:59']\n",
    "\n",
    "X_test_reshape = np.asarray(X_test, dtype=np.float64)\n",
    "X_test_reshape = X_test_reshape.reshape((-1, 180, 8))\n",
    "\n",
    "# shape확인\n",
    "nCar = X_test_reshape.shape[0] # 데이터 개수\n",
    "nVar = X_test_reshape.shape[1] # 변수 개수\n",
    "print('nCar: %d' % nCar, 'nVar: %d' % nVar )"
   ]
  },
  {
   "cell_type": "code",
   "execution_count": null,
   "metadata": {},
   "outputs": [],
   "source": [
    "y_date = japonica_validation_features_X.loc['2021-07-21 00:00':'2021-09-10 20:59']\n",
    "\n",
    "y_test = y_date[['do_mg']]\n",
    "\n",
    "y_test_reshape = np.asarray(y_test, dtype=np.float64)\n",
    "y_test_reshape = y_test_reshape.reshape((-1, 180, 1))\n",
    "\n",
    "nCar = y_test.shape[0] # 데이터 개수\n",
    "nVar = y_test.shape[1] # 변수 개수\n",
    "print('nCar: %d' % nCar, 'nVar: %d' % nVar )\n",
    "\n",
    "nCar = y_test_reshape.shape[0] # 데이터 개수\n",
    "nVar = y_test_reshape.shape[1] # 변수 개수\n",
    "print('nCar: %d' % nCar, 'nVar: %d' % nVar )"
   ]
  },
  {
   "cell_type": "code",
   "execution_count": null,
   "metadata": {},
   "outputs": [],
   "source": [
    "grapeNEva(model,X_test_reshape, y_test, y_date[['feed_quantity']], y_test_reshape)"
   ]
  },
  {
   "cell_type": "code",
   "execution_count": null,
   "metadata": {},
   "outputs": [],
   "source": [
    "X_test = japonica_validation_features_X.loc['2021-07-21 00:00':'2021-07-31 20:59']\n",
    "\n",
    "X_test_reshape = np.asarray(X_test, dtype=np.float64)\n",
    "\n",
    "# shape확인\n",
    "nCar = X_test_reshape.shape[0] # 데이터 개수\n",
    "nVar = X_test_reshape.shape[1] # 변수 개수\n",
    "print('nCar: %d' % nCar, 'nVar: %d' % nVar )"
   ]
  },
  {
   "cell_type": "code",
   "execution_count": null,
   "metadata": {},
   "outputs": [],
   "source": [
    "y_date = japonica_validation_features_X.loc['2021-07-21 03:00':'2021-07-31 23:59']\n",
    "\n",
    "y_test = y_date[['do_mg']]\n",
    "\n",
    "y_test_reshape = np.asarray(y_test, dtype=np.float64)\n",
    "\n",
    "nCar = y_test.shape[0] # 데이터 개수\n",
    "nVar = y_test.shape[1] # 변수 개수\n",
    "print('nCar: %d' % nCar, 'nVar: %d' % nVar )\n",
    "\n",
    "nCar = y_test_reshape.shape[0] # 데이터 개수\n",
    "nVar = y_test_reshape.shape[1] # 변수 개수\n",
    "print('nCar: %d' % nCar, 'nVar: %d' % nVar )"
   ]
  },
  {
   "cell_type": "code",
   "execution_count": null,
   "metadata": {},
   "outputs": [],
   "source": [
    "grapeNEva(model,X_test_reshape, y_test, y_date[['feed_quantity']], y_test_reshape)"
   ]
  },
  {
   "cell_type": "code",
   "execution_count": null,
   "metadata": {},
   "outputs": [],
   "source": [
    "X_test = japonica_validation_features_X.loc['2021-07-21 00:00':'2021-07-21 20:59']\n",
    "\n",
    "X_test_reshape = np.asarray(X_test, dtype=np.float64)\n",
    "\n",
    "# shape확인\n",
    "nCar = X_test_reshape.shape[0] # 데이터 개수\n",
    "nVar = X_test_reshape.shape[1] # 변수 개수\n",
    "print('nCar: %d' % nCar, 'nVar: %d' % nVar )"
   ]
  },
  {
   "cell_type": "code",
   "execution_count": null,
   "metadata": {
    "scrolled": true
   },
   "outputs": [],
   "source": [
    "y_date = japonica_validation_features_X.loc['2021-07-21 03:00':'2021-07-21 23:59']\n",
    "\n",
    "y_test = y_date[['do_mg']]\n",
    "\n",
    "y_test_reshape = np.asarray(y_test, dtype=np.float64)\n",
    "\n",
    "nCar = y_test.shape[0] # 데이터 개수\n",
    "nVar = y_test.shape[1] # 변수 개수\n",
    "print('nCar: %d' % nCar, 'nVar: %d' % nVar )\n",
    "\n",
    "nCar = y_test_reshape.shape[0] # 데이터 개수\n",
    "nVar = y_test_reshape.shape[1] # 변수 개수\n",
    "print('nCar: %d' % nCar, 'nVar: %d' % nVar )"
   ]
  },
  {
   "cell_type": "code",
   "execution_count": null,
   "metadata": {
    "scrolled": true
   },
   "outputs": [],
   "source": [
    "grapeNEva(model,X_test_reshape, y_test, y_date[['feed_quantity']], y_test_reshape)"
   ]
  },
  {
   "cell_type": "code",
   "execution_count": null,
   "metadata": {},
   "outputs": [],
   "source": [
    "X_test = japonica_validation_features_X.loc['2021-07-21 00:00':'2021-07-21 11:59']\n",
    "\n",
    "X_test_reshape = np.asarray(X_test, dtype=np.float64)\n",
    "\n",
    "# shape확인\n",
    "nCar = X_test_reshape.shape[0] # 데이터 개수\n",
    "nVar = X_test_reshape.shape[1] # 변수 개수\n",
    "print('nCar: %d' % nCar, 'nVar: %d' % nVar )"
   ]
  },
  {
   "cell_type": "code",
   "execution_count": null,
   "metadata": {
    "scrolled": true
   },
   "outputs": [],
   "source": [
    "y_date = japonica_validation_features_X.loc['2021-07-21 03:00':'2021-07-21 14:59']\n",
    "\n",
    "y_test = y_date[['do_mg']]\n",
    "\n",
    "y_test_reshape = np.asarray(y_test, dtype=np.float64)\n",
    "\n",
    "nCar = y_test.shape[0] # 데이터 개수\n",
    "nVar = y_test.shape[1] # 변수 개수\n",
    "print('nCar: %d' % nCar, 'nVar: %d' % nVar )\n",
    "\n",
    "nCar = y_test_reshape.shape[0] # 데이터 개수\n",
    "nVar = y_test_reshape.shape[1] # 변수 개수\n",
    "print('nCar: %d' % nCar, 'nVar: %d' % nVar )"
   ]
  },
  {
   "cell_type": "code",
   "execution_count": null,
   "metadata": {},
   "outputs": [],
   "source": [
    "grapeNEva(model,X_test_reshape, y_test, y_date[['feed_quantity']], y_test_reshape)"
   ]
  },
  {
   "cell_type": "code",
   "execution_count": null,
   "metadata": {},
   "outputs": [],
   "source": [
    "japonica_validation_features_X.at['2021-07-21 08:00', 'feed_quantity'] = 6\n",
    "\n",
    "X_test = japonica_validation_features_X.loc['2021-07-21 00:00':'2021-07-21 11:59']\n",
    "\n",
    "X_test_reshape = np.asarray(X_test, dtype=np.float64)\n",
    "\n",
    "# shape확인\n",
    "nCar = X_test_reshape.shape[0] # 데이터 개수\n",
    "nVar = X_test_reshape.shape[1] # 변수 개수\n",
    "print('nCar: %d' % nCar, 'nVar: %d' % nVar )"
   ]
  },
  {
   "cell_type": "code",
   "execution_count": null,
   "metadata": {},
   "outputs": [],
   "source": [
    "y_date = japonica_validation_features_X.loc['2021-07-21 03:00':'2021-07-21 14:59']\n",
    "\n",
    "y_test = y_date[['do_mg']]\n",
    "\n",
    "y_test_reshape = np.asarray(y_test, dtype=np.float64)\n",
    "\n",
    "nCar = y_test.shape[0] # 데이터 개수\n",
    "nVar = y_test.shape[1] # 변수 개수\n",
    "print('nCar: %d' % nCar, 'nVar: %d' % nVar )\n",
    "\n",
    "nCar = y_test_reshape.shape[0] # 데이터 개수\n",
    "nVar = y_test_reshape.shape[1] # 변수 개수\n",
    "print('nCar: %d' % nCar, 'nVar: %d' % nVar )"
   ]
  },
  {
   "cell_type": "code",
   "execution_count": null,
   "metadata": {},
   "outputs": [],
   "source": [
    "grapeNEva(model,X_test_reshape, y_test, y_date[['feed_quantity']], y_test_reshape)"
   ]
  },
  {
   "cell_type": "code",
   "execution_count": null,
   "metadata": {},
   "outputs": [],
   "source": []
  },
  {
   "cell_type": "code",
   "execution_count": null,
   "metadata": {},
   "outputs": [],
   "source": []
  }
 ],
 "metadata": {
  "kernelspec": {
   "display_name": "tf2.6.0-keras2.6.0-py3.8-cuda11.3",
   "language": "python",
   "name": "tf2.6.0-keras2.6.0-py3.8-cuda11.3"
  },
  "language_info": {
   "codemirror_mode": {
    "name": "ipython",
    "version": 3
   },
   "file_extension": ".py",
   "mimetype": "text/x-python",
   "name": "python",
   "nbconvert_exporter": "python",
   "pygments_lexer": "ipython3",
   "version": "3.8.10"
  }
 },
 "nbformat": 4,
 "nbformat_minor": 2
}
