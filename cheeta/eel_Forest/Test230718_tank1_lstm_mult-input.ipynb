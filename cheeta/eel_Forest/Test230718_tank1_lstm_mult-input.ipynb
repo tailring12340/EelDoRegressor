{
 "cells": [
  {
   "cell_type": "markdown",
   "metadata": {},
   "source": [
    "라이브러리"
   ]
  },
  {
   "cell_type": "code",
   "execution_count": 2,
   "metadata": {},
   "outputs": [],
   "source": [
    "import pandas as pd\n",
    "import numpy as np\n",
    "from keras.utils import *\n",
    "from sklearn.preprocessing import *\n",
    "from keras import backend as K\n",
    "from keras.models import load_model\n",
    "from keras.layers import LSTM, Dense, concatenate, Input\n",
    "from sklearn.ensemble import GradientBoostingRegressor\n",
    "from keras.models import Model\n",
    "from keras.models import Sequential\n",
    "import matplotlib.pyplot as plt\n",
    "from keras.metrics import mean_squared_error\n",
    "from sklearn.metrics import r2_score\n",
    "import matplotlib.font_manager as fm\n",
    "from matplotlib.dates import DateFormatter\n",
    "from keras.callbacks import ModelCheckpoint, EarlyStopping, ReduceLROnPlateau\n",
    "\n",
    "# 모델명(= 파일명) 설정\n",
    "tank = 1\n",
    "model_name1 = 'Test230718_tank1_lstm_all'\n",
    "model_name2 = 'Test230717_tank1_lstm_crop_only-feed_no180'"
   ]
  },
  {
   "cell_type": "code",
   "execution_count": 3,
   "metadata": {},
   "outputs": [],
   "source": [
    "# r_squared 평가 함수\n",
    "def r_squared(y_true, y_pred):\n",
    "    ss_res = K.sum(K.square(y_true - y_pred))\n",
    "    ss_tot = K.sum(K.square(y_true - K.mean(y_true)))\n",
    "    return (1 - ss_res/(ss_tot + K.epsilon()))"
   ]
  },
  {
   "cell_type": "markdown",
   "metadata": {},
   "source": [
    "데이터셋 설정"
   ]
  },
  {
   "cell_type": "code",
   "execution_count": 4,
   "metadata": {},
   "outputs": [],
   "source": [
    "#자포니카 검증 데이터\n",
    "japonica_validation_food_supply_tb = pd.read_csv(\"eeldata/data/Validation/Origin/Management/Japonica/food_supply_tb.csv\")\n",
    "japonica_validation_sensor_val = pd.read_csv(\"eeldata/data/Validation/Origin/Sensor/Japonica/sensor_val_tb.csv\")"
   ]
  },
  {
   "cell_type": "code",
   "execution_count": 5,
   "metadata": {},
   "outputs": [],
   "source": [
    "# 자포니카 사료 공급 데이터 정제\n",
    "# null제거\n",
    "japonica_validation_food_supply_tb = japonica_validation_food_supply_tb[japonica_validation_food_supply_tb['feed_quantity'].notnull()]\n",
    "\n",
    "# 시계열 데이터 변환\n",
    "japonica_validation_food_supply_tb['feed_dt'] = pd.to_datetime(japonica_validation_food_supply_tb['feed_dt'], format='%Y%m%d%H%M', errors='raise')\n",
    "japonica_validation_food_supply_tb[\"feed_dt\"] = japonica_validation_food_supply_tb[\"feed_dt\"].apply(str)\n",
    "japonica_validation_food_supply_tb[\"feed_dt\"] = japonica_validation_food_supply_tb[\"feed_dt\"].str.slice(start=0, stop=16)"
   ]
  },
  {
   "cell_type": "code",
   "execution_count": 6,
   "metadata": {},
   "outputs": [
    {
     "name": "stderr",
     "output_type": "stream",
     "text": [
      "/tmp/ipykernel_414568/778596347.py:7: SettingWithCopyWarning: \n",
      "A value is trying to be set on a copy of a slice from a DataFrame.\n",
      "Try using .loc[row_indexer,col_indexer] = value instead\n",
      "\n",
      "See the caveats in the documentation: https://pandas.pydata.org/pandas-docs/stable/user_guide/indexing.html#returning-a-view-versus-a-copy\n",
      "  japonica_validation_sensor_val_tb[\"mea_dt\"] = japonica_validation_sensor_val_tb[\"mea_dt\"].apply(str)\n",
      "/tmp/ipykernel_414568/778596347.py:8: SettingWithCopyWarning: \n",
      "A value is trying to be set on a copy of a slice from a DataFrame.\n",
      "Try using .loc[row_indexer,col_indexer] = value instead\n",
      "\n",
      "See the caveats in the documentation: https://pandas.pydata.org/pandas-docs/stable/user_guide/indexing.html#returning-a-view-versus-a-copy\n",
      "  japonica_validation_sensor_val_tb[\"mea_dt\"] = japonica_validation_sensor_val_tb[\"mea_dt\"].str.slice(start=0, stop=16)\n",
      "/tmp/ipykernel_414568/778596347.py:9: SettingWithCopyWarning: \n",
      "A value is trying to be set on a copy of a slice from a DataFrame.\n",
      "Try using .loc[row_indexer,col_indexer] = value instead\n",
      "\n",
      "See the caveats in the documentation: https://pandas.pydata.org/pandas-docs/stable/user_guide/indexing.html#returning-a-view-versus-a-copy\n",
      "  japonica_validation_sensor_val_tb['mea_dt'] = pd.to_datetime(japonica_validation_sensor_val_tb['mea_dt'], format='%Y-%m-%d %H:%M', errors='raise')\n"
     ]
    }
   ],
   "source": [
    "# 자포니카 센서 데이터 정제\n",
    "\n",
    "# 한 개 탱크\n",
    "japonica_validation_sensor_val_tb = japonica_validation_sensor_val[japonica_validation_sensor_val['tank_id']==tank]\n",
    "\n",
    "#시계열 변환\n",
    "japonica_validation_sensor_val_tb[\"mea_dt\"] = japonica_validation_sensor_val_tb[\"mea_dt\"].apply(str)\n",
    "japonica_validation_sensor_val_tb[\"mea_dt\"] = japonica_validation_sensor_val_tb[\"mea_dt\"].str.slice(start=0, stop=16)\n",
    "japonica_validation_sensor_val_tb['mea_dt'] = pd.to_datetime(japonica_validation_sensor_val_tb['mea_dt'], format='%Y-%m-%d %H:%M', errors='raise')\n",
    "\n",
    "# 시계열 데이터의 개수 확인\n",
    "validation_counts = japonica_validation_sensor_val_tb.groupby(japonica_validation_sensor_val_tb['mea_dt'].dt.date).size()\n",
    "\n",
    "# 개수가 1440이 아닌 시계열 삭제\n",
    "to_delete = validation_counts[validation_counts != 1440].index\n",
    "japonica_validation_sensor_val_tb = japonica_validation_sensor_val_tb[~japonica_validation_sensor_val_tb['mea_dt'].dt.date.isin(to_delete)]\n",
    "\n",
    "#시계열 데이터 문자 타입으로 변경\n",
    "japonica_validation_sensor_val_tb[\"mea_dt\"] = japonica_validation_sensor_val_tb[\"mea_dt\"].dt.strftime('%Y-%m-%d %H:%M')\n",
    "japonica_validation_sensor_val_tb[\"mea_dt\"] = japonica_validation_sensor_val_tb[\"mea_dt\"].str.slice(start=0, stop=16)\n"
   ]
  },
  {
   "cell_type": "code",
   "execution_count": 7,
   "metadata": {},
   "outputs": [],
   "source": [
    "# 자포니카 훈련 데이터 및 시계열 데이터 병합\n",
    "japonica_validation = pd.merge(left = japonica_validation_sensor_val_tb, right = japonica_validation_food_supply_tb, how = \"left\", left_on = [\"farm_id\",\"tank_id\", \"mea_dt\"], right_on = [\"farm_id\",\"tank_id\", \"feed_dt\"])\n",
    "\n",
    "japonica_validation['mea_dt'] = pd.to_datetime(japonica_validation['mea_dt'], format='%Y-%m-%d %H:%M', errors='raise')\n",
    "\n",
    "# 사용할 features 선택\n",
    "feature_origin = ['tank_id','mea_dt', 'do_mg','do_temp', 'ph', 'orp', 'co2_mg', 'air_oxy', 'light_ma', 'feed_quantity', 'water_quantity']\n",
    "japonica_validation_features = japonica_validation[feature_origin]\n",
    "\n",
    "# nan 값 처리 (먹이를 주지 않았을 경우는 급여량이 0이니까)\n",
    "japonica_validation_features = japonica_validation_features.fillna(0)\n",
    "\n",
    "# 날짜 데이터를 인덱스로 전환\n",
    "japonica_validation_features.set_index('mea_dt', inplace=True)\n",
    "\n",
    "# 인덱스 순으로 데이터를 정렬\n",
    "japonica_validation_data = japonica_validation_features.sort_index()\n",
    "\n",
    "# 8월 1달간 데이터만 추출\n",
    "japonica_validation_data = japonica_validation_data.loc['2021-07-21 00:00':'2021-09-10 23:59']"
   ]
  },
  {
   "cell_type": "code",
   "execution_count": 8,
   "metadata": {},
   "outputs": [],
   "source": [
    "japonica_validation_features_X_a = japonica_validation_data[['do_mg','do_temp', 'ph', 'orp', 'co2_mg', 'air_oxy', 'light_ma', 'feed_quantity', 'water_quantity']]\n",
    "japonica_validation_features_X_b = japonica_validation_data[['feed_quantity']]\n",
    "japonica_validation_features_y = japonica_validation_data[['do_mg']]"
   ]
  },
  {
   "cell_type": "markdown",
   "metadata": {},
   "source": [
    "모델 평가"
   ]
  },
  {
   "cell_type": "code",
   "execution_count": 9,
   "metadata": {},
   "outputs": [],
   "source": [
    "# 모델 평가 함수\n",
    "def grapeNEva(model, X_test_shape, y_test, feed, y_test_shape):\n",
    "    X_pred = model.predict(X_test_shape)\n",
    "    X_pred = np.asarray(X_pred, dtype=np.float64)\n",
    "    X_pred = X_pred.reshape((-1))\n",
    "    print(len(X_pred))\n",
    "\n",
    "    # 그래프 생성\n",
    "    plt.figure(figsize=(15, 7))\n",
    "    plt.plot(y_test.index, y_test, label='sensor do')  # x축에 년월일, y축에 값\n",
    "    plt.plot(y_test.index, X_pred, color='red', label='prediction do')  # x축에 년월일, y축에 시분\n",
    "    plt.plot(y_test.index, feed, color='green', marker='o', linestyle='None', label='feed_quantity')  # x축에 년월일, y축에 시분\n",
    "    plt.xlabel('date')\n",
    "    plt.ylabel('do')\n",
    "    plt.title('x')\n",
    "    plt.legend(['sensor do','prediction do','feed_quantity'])\n",
    "    plt.show()\n",
    "    \n",
    "    # 평가 생성\n",
    "    result = model.evaluate(X_test_shape, y_test_shape)\n",
    "    print(\"MSE // MAE // R-squared \", result)\n",
    "    \n",
    "def grapeNEva3(model1, model2, y_test, X_test_shape1, y_test_shape1, X_test_shape2, y_test_shape2,feed):\n",
    "    X_pred1 = model1.predict(X_test_shape1)\n",
    "    X_pred1 = np.asarray(X_pred1, dtype=np.float64)\n",
    "    X_pred1 = X_pred1.reshape((-1))\n",
    "    print(len(X_pred1))\n",
    "\n",
    "    # 그래프 생성\n",
    "    plt.figure(figsize=(15, 7))\n",
    "    plt.plot(y_test.index, y_test, label='sensor do')  # x축에 년월일, y축에 값\n",
    "    plt.plot(y_test.index, X_pred1, color='red', label='prediction do')  # x축에 년월일, y축에 시분\n",
    "    plt.plot(y_test.index, feed, color='green', marker='o', linestyle='None', label='feed_quantity')  # x축에 년월일, y축에 시분\n",
    "    plt.xlabel('date')\n",
    "    plt.ylabel('do')\n",
    "    plt.title(model_name1)\n",
    "    plt.legend(['sensor do','prediction do','feed_quantity'])\n",
    "    plt.show()\n",
    "    \n",
    "    # 평가 생성\n",
    "    result = model1.evaluate(X_test_shape1, y_test_shape1)\n",
    "    print(\"MSE // MAE // R-squared \", result)\n",
    "\n",
    "    X_pred2 = model2.predict(X_test_shape2)\n",
    "    X_pred2 = np.asarray(X_pred2, dtype=np.float64)\n",
    "    X_pred2 = X_pred2.reshape((-1))\n",
    "    print(len(X_pred2))\n",
    "\n",
    "    # 그래프 생성\n",
    "    plt.figure(figsize=(15, 7))\n",
    "    plt.plot(y_test.index, y_test, label='sensor do')  # x축에 년월일, y축에 값\n",
    "    plt.plot(y_test.index, X_pred2, color='red', label='prediction do')  # x축에 년월일, y축에 시분\n",
    "    plt.plot(y_test.index, feed, color='green', marker='o', linestyle='None', label='feed_quantity')  # x축에 년월일, y축에 시분\n",
    "    plt.xlabel('date')\n",
    "    plt.ylabel('do')\n",
    "    plt.title(model_name2)\n",
    "    plt.legend(['sensor do','prediction do','feed_quantity'])\n",
    "    plt.show()\n",
    "    \n",
    "    # 평가 생성\n",
    "    result = model2.evaluate(X_test_shape2, y_test_shape2)\n",
    "    print(\"MSE // MAE // R-squared \", result)\n",
    "    \n",
    "    weight_a = 0.5\n",
    "    weight_b = 0.5\n",
    "    final_predictions = weight_a * X_pred1 + weight_b * X_pred2\n",
    "    \n",
    "    # 그래프 생성\n",
    "    plt.figure(figsize=(15, 7))\n",
    "    plt.plot(y_test.index, y_test, label='sensor do')  # x축에 년월일, y축에 값\n",
    "    plt.plot(y_test.index, final_predictions, color='red', label='prediction do')  # x축에 년월일, y축에 시분\n",
    "    plt.plot(y_test.index, feed, color='green', marker='o', linestyle='None', label='feed_quantity')  # x축에 년월일, y축에 시분\n",
    "    plt.xlabel('date')\n",
    "    plt.ylabel('do')\n",
    "    plt.title('add')\n",
    "    plt.legend(['sensor do','prediction do','feed_quantity'])\n",
    "    plt.show()\n",
    "    \n",
    "    final_predictions = (X_pred1 + X_pred2)/2\n",
    "    \n",
    "    # 그래프 생성\n",
    "    plt.figure(figsize=(15, 7))\n",
    "    plt.plot(y_test.index, y_test, label='sensor do')  # x축에 년월일, y축에 값\n",
    "    plt.plot(y_test.index, final_predictions, color='red', label='prediction do')  # x축에 년월일, y축에 시분\n",
    "    plt.plot(y_test.index, feed, color='green', marker='o', linestyle='None', label='feed_quantity')  # x축에 년월일, y축에 시분\n",
    "    plt.xlabel('date')\n",
    "    plt.ylabel('do')\n",
    "    plt.title('average')\n",
    "    plt.legend(['sensor do','prediction do','feed_quantity'])\n",
    "    plt.show()\n",
    "    \n",
    "    final_predictions = X_pred1 * (X_pred2 / 8.50096798)\n",
    "    \n",
    "    # 그래프 생성\n",
    "    plt.figure(figsize=(15, 7))\n",
    "    plt.plot(y_test.index, y_test, label='sensor do')  # x축에 년월일, y축에 값\n",
    "    plt.plot(y_test.index, final_predictions, color='red', label='prediction do')  # x축에 년월일, y축에 시분\n",
    "    plt.plot(y_test.index, feed, color='green', marker='o', linestyle='None', label='feed_quantity')  # x축에 년월일, y축에 시분\n",
    "    plt.xlabel('date')\n",
    "    plt.ylabel('do')\n",
    "    plt.title('multi')\n",
    "    plt.legend(['sensor do','prediction do','feed_quantity'])\n",
    "    plt.show()\n",
    "    \n",
    "    diff = X_pred1 - X_pred2\n",
    "    final_predictions = X_pred1 + diff\n",
    "    \n",
    "    # 그래프 생성\n",
    "    plt.figure(figsize=(15, 7))\n",
    "    plt.plot(y_test.index, y_test, label='sensor do')  # x축에 년월일, y축에 값\n",
    "    plt.plot(y_test.index, final_predictions, color='red', label='prediction do')  # x축에 년월일, y축에 시분\n",
    "    plt.plot(y_test.index, feed, color='green', marker='o', linestyle='None', label='feed_quantity')  # x축에 년월일, y축에 시분\n",
    "    plt.xlabel('date')\n",
    "    plt.ylabel('do')\n",
    "    plt.title('diff')\n",
    "    plt.legend(['sensor do','prediction do','feed_quantity'])\n",
    "    plt.show()"
   ]
  },
  {
   "cell_type": "code",
   "execution_count": 10,
   "metadata": {},
   "outputs": [
    {
     "name": "stderr",
     "output_type": "stream",
     "text": [
      "2023-07-21 11:01:14.560429: I tensorflow/core/platform/cpu_feature_guard.cc:142] This TensorFlow binary is optimized with oneAPI Deep Neural Network Library (oneDNN) to use the following CPU instructions in performance-critical operations:  AVX2 AVX512F FMA\n",
      "To enable them in other operations, rebuild TensorFlow with the appropriate compiler flags.\n",
      "2023-07-21 11:01:15.856042: I tensorflow/core/common_runtime/gpu/gpu_device.cc:1510] Created device /job:localhost/replica:0/task:0/device:GPU:0 with 479 MB memory:  -> device: 0, name: NVIDIA A100 80GB PCIe MIG 1g.10gb, pci bus id: 0000:d5:00.0, compute capability: 8.0\n"
     ]
    }
   ],
   "source": [
    "# r_squared가 따로 만들어서 추가해준 함수기 때문에 불러올 때도 추가해서 불러야한다.\n",
    "model1 = load_model(model_name1+'.h5', custom_objects={'r_squared': r_squared})\n",
    "model2 = load_model(model_name2+'.h5', custom_objects={'r_squared': r_squared})"
   ]
  },
  {
   "cell_type": "code",
   "execution_count": 11,
   "metadata": {},
   "outputs": [
    {
     "name": "stdout",
     "output_type": "stream",
     "text": [
      "[[-0.05434919 -0.03929733  0.17777887 ... -0.02205533  0.04580057\n",
      "  -0.5461169 ]\n",
      " [ 0.03374866  0.10543419  0.11074062 ...  0.10027533  0.09589972\n",
      "   0.04831497]\n",
      " [ 0.09673794 -0.0601322   0.0851886  ...  0.07200366 -0.02557736\n",
      "   0.19047226]\n",
      " ...\n",
      " [-0.09746638 -0.04611877  0.08885422 ...  0.08605042 -0.05946188\n",
      "   0.06224105]\n",
      " [ 0.02099556 -0.09167597  0.03627907 ... -0.05459717 -0.05522252\n",
      "  -0.04373736]\n",
      " [ 0.06351736  0.00746651 -0.05043005 ...  0.09771328 -0.08418127\n",
      "  -0.16216135]]\n"
     ]
    },
    {
     "data": {
      "image/png": "[encoded data removed]",
      "text/plain": [
       "<Figure size 576x288 with 1 Axes>"
      ]
     },
     "metadata": {
      "needs_background": "light"
     },
     "output_type": "display_data"
    },
    {
     "name": "stdout",
     "output_type": "stream",
     "text": [
      "[[-4.72663268e-02 -1.83262378e-01 -2.80944705e-01 -5.30997254e-02\n",
      "   4.97256070e-02 -7.10335299e-02 -5.46848699e-02 -8.50662775e-03\n",
      "  -3.22581828e-02  3.67322266e-02 -3.75255309e-02 -1.25029758e-02\n",
      "  -2.90096164e-01  1.19099924e-02 -1.74790189e-01  8.06833208e-02\n",
      "  -1.71592221e-01  9.38826278e-02 -7.67420977e-02 -9.59455296e-02\n",
      "  -2.74989337e-01 -7.85937458e-02  1.08334355e-01  6.76013529e-02\n",
      "  -1.31007433e-01 -8.90544578e-02 -1.26921639e-01  2.73740590e-02\n",
      "  -8.91414564e-03 -3.25342044e-02 -2.77821682e-02 -4.60928492e-02\n",
      "  -2.07575664e-01  1.42898709e-02 -1.37847796e-01 -1.23360097e-01\n",
      "  -5.04630916e-02 -1.06947906e-01 -2.21359193e-01 -1.86189801e-01\n",
      "  -2.68812478e-01 -2.50464290e-01 -1.74484164e-01 -5.50884604e-02\n",
      "  -5.56164794e-02 -7.98808783e-02 -2.65284717e-01 -2.23425046e-01\n",
      "   7.17013180e-02 -1.82262957e-01 -1.14264928e-01 -2.35341880e-02\n",
      "  -7.20075890e-02 -9.17396918e-02 -1.71415228e-02 -8.44757408e-02\n",
      "  -2.61861622e-01  4.10829633e-02  2.13904418e-02 -2.29482681e-01\n",
      "   1.08574413e-01 -2.25371942e-02 -1.32074521e-03 -1.78173464e-02\n",
      "  -1.91410538e-02 -3.18801738e-02 -3.36509228e-01 -4.26852815e-02\n",
      "  -1.40693346e-02  5.00165895e-02 -2.35237300e-01  7.80178746e-03\n",
      "  -4.02861498e-02 -5.33993579e-02 -1.43627107e-01  2.62839552e-02\n",
      "   1.63689852e-02 -2.41592318e-01 -8.19346756e-02 -1.15252241e-01\n",
      "  -6.03863709e-02 -1.31279483e-01 -1.08462647e-01 -2.21940622e-01\n",
      "  -5.81749715e-02 -1.46003336e-01 -1.27990544e-01 -2.28720065e-02\n",
      "   2.48695593e-02 -2.45956659e-01  1.45053612e-02 -7.66381994e-02\n",
      "  -3.64578851e-02 -8.95543769e-02 -4.77757528e-02  6.01682775e-02\n",
      "  -2.31487807e-02 -5.50213903e-02  2.07842942e-02 -3.34768347e-03\n",
      "   3.17001641e-02 -1.02986647e-02 -1.64822876e-01 -6.32671267e-02\n",
      "  -2.16052368e-01 -3.54111120e-02 -1.26774296e-01 -2.77161263e-02\n",
      "  -1.91400740e-02  6.77382573e-03 -1.91945344e-01 -1.12678431e-01\n",
      "  -8.94577429e-02 -1.61187723e-01 -3.01276948e-02 -1.05114013e-01\n",
      "   5.54803573e-02 -6.06249459e-02  4.42323014e-02 -5.82324825e-02\n",
      "  -1.45401940e-01 -1.14645667e-01 -9.60442573e-02  2.55827755e-02\n",
      "  -2.33507290e-01 -7.30624646e-02 -1.28097698e-01 -1.56492069e-01\n",
      "  -4.30170968e-02 -9.05757770e-02  5.37432507e-02  2.36900821e-02\n",
      "   4.69207540e-02 -8.65395144e-02  2.23362446e-03 -7.79764876e-02\n",
      "   9.34716985e-02  8.29437748e-02 -2.08273754e-02  9.45572183e-02\n",
      "  -2.75316536e-02  9.20454338e-02 -8.40839371e-02  6.21970817e-02\n",
      "   8.72975811e-02 -3.33139896e-02 -8.53507966e-02 -4.69195843e-03\n",
      "  -9.68453065e-02 -6.35332540e-02  4.19509411e-03  9.12457034e-02\n",
      "   1.25554278e-02  6.27252236e-02 -9.22901332e-02 -8.05481970e-02\n",
      "   1.46534517e-02 -1.87790617e-02 -2.26236209e-02  1.79359391e-02\n",
      "   7.40600452e-02 -8.50535035e-02  9.07232091e-02  3.11259180e-03\n",
      "   6.24966696e-02  1.07733257e-01  2.09553465e-02  6.38323203e-02\n",
      "   5.79935983e-02  9.98371840e-03  6.69836625e-02 -3.76403779e-02\n",
      "   8.07126611e-03 -4.70212065e-02 -8.79047737e-02  2.57384852e-02\n",
      "  -6.31803125e-02 -1.07652426e-01 -7.25836307e-03  3.03262249e-02\n",
      "   1.79416165e-02 -6.58861846e-02 -4.91444990e-02  1.02222972e-01\n",
      "  -7.37694055e-02  8.65935758e-02 -5.25322109e-02  6.90935329e-02\n",
      "  -6.38854951e-02  2.82651410e-02 -4.10199165e-03 -6.13364577e-03\n",
      "   1.07186809e-02  4.89616618e-02  6.47373870e-02 -9.75021124e-02\n",
      "   1.19205117e-02 -4.79291528e-02  5.07613048e-02 -1.07021891e-01\n",
      "   6.82468787e-02  1.54602975e-02  7.92869553e-02  1.86305717e-02\n",
      "   7.08535686e-02 -1.00128919e-01  7.71683231e-02 -1.83690116e-02\n",
      "   1.37282833e-02 -1.87401772e-02  2.66077444e-02  9.63420197e-02\n",
      "   9.77021530e-02 -4.33215573e-02 -8.79239291e-02  1.89110711e-02\n",
      "   3.60709652e-02  5.87467626e-02 -7.04564676e-02  6.93766698e-02\n",
      "   5.31378016e-02 -6.49494082e-02 -5.02346903e-02 -4.31447774e-02\n",
      "   6.31862655e-02  9.46762636e-02 -9.65571627e-02 -8.22695345e-02\n",
      "  -1.01461202e-01 -7.08275586e-02  6.82624653e-02  4.46332991e-03\n",
      "  -1.01923943e-02  8.27142671e-02 -7.56155699e-02  1.05612747e-01\n",
      "   8.77830759e-02  6.79652616e-02 -3.32397223e-03  5.98332286e-03\n",
      "  -9.83202755e-02  2.71489695e-02 -8.75116363e-02  1.03617765e-01\n",
      "  -8.73723999e-02 -7.99102932e-02  3.42563540e-03 -3.29390317e-02\n",
      "  -5.35702109e-02 -9.98180434e-02  3.21866646e-02 -1.62849128e-02\n",
      "   3.15226093e-02  5.91390803e-02  8.23886693e-03  3.13515291e-02\n",
      "   9.56265703e-02  6.77098613e-03 -3.80850676e-03  1.07610868e-02\n",
      "   1.08656496e-01 -9.78469625e-02 -4.94403765e-02 -8.02177340e-02\n",
      "  -6.06659465e-02  9.62404460e-02  3.09532862e-02  4.48769815e-02\n",
      "   8.93239281e-04  8.27574953e-02  5.33687137e-03  1.33621275e-01\n",
      "   3.00672594e-02  1.28413379e-01 -1.21969841e-01 -2.12683063e-02\n",
      "  -1.10750657e-03 -2.55465019e-03 -1.19667090e-01 -7.09864721e-02\n",
      "  -8.61612484e-02 -5.30657917e-03 -2.19696611e-02  4.41893004e-02\n",
      "  -3.79798189e-02 -9.88215432e-02  1.17455311e-02  4.94877174e-02\n",
      "   3.36662563e-03 -6.27360865e-02  9.26468372e-02 -3.52343880e-02\n",
      "   1.24801919e-02 -7.23732039e-02  7.38177390e-04  4.13760915e-03\n",
      "   5.52078104e-03 -1.33996073e-03  2.08536461e-02 -6.77438378e-02\n",
      "   6.00667112e-02 -1.80807002e-02 -1.10198627e-04 -7.93914963e-03\n",
      "   1.24790922e-01 -4.13947273e-03 -7.16335177e-02 -3.06341406e-02\n",
      "   1.09284006e-01 -1.23142190e-02 -3.05914171e-02  8.26045987e-04\n",
      "  -7.66365929e-03 -7.19832033e-02 -7.33980313e-02 -6.91136206e-03\n",
      "  -1.16334602e-01  1.06760569e-01  4.27135378e-02  7.35454932e-02\n",
      "   4.64355946e-02  5.65359704e-02  2.28825025e-02  3.44999973e-03\n",
      "   8.65840912e-02 -7.48654604e-02 -4.74805571e-03  8.62331688e-02\n",
      "  -1.14246383e-01  1.07181929e-02  7.80217946e-02  6.38875216e-02\n",
      "   1.08109832e-01  4.69540013e-03  2.95724291e-02 -1.10286638e-01\n",
      "  -9.54024959e-03 -4.94562089e-04  2.90540159e-02 -4.82140156e-03\n",
      "  -7.19569549e-02 -7.70238601e-03  7.02693835e-02  6.70364499e-02\n",
      "   6.80209771e-02 -6.70055719e-03 -8.70616585e-02  5.36766425e-02\n",
      "   1.07448049e-01  9.36719477e-02 -3.77804339e-02  4.74873073e-02\n",
      "   1.30326375e-01  8.78206640e-02  4.96782288e-02  5.02018742e-02\n",
      "   7.96834081e-02  1.04882367e-01  6.20921217e-02 -9.66549441e-02\n",
      "  -2.26113433e-03 -4.03470173e-02 -9.39046070e-02 -6.82778507e-02\n",
      "  -7.95351267e-02 -1.77251138e-02  1.73739865e-02 -1.02663457e-01\n",
      "   1.20912343e-01 -3.24027054e-02 -9.29133408e-03  8.47816467e-03\n",
      "   6.75119609e-02  1.97980925e-02  5.12364954e-02  3.09317578e-02\n",
      "  -4.07684594e-03 -2.87840329e-03 -6.83261305e-02 -1.42374709e-01\n",
      "   1.72790643e-02 -4.48140595e-03 -6.62024766e-02 -6.43558707e-03\n",
      "   9.22517553e-02 -1.55096933e-01 -1.60808399e-01 -9.31025520e-02\n",
      "   3.27124260e-02  5.22271097e-02 -1.18142843e-01  4.98186909e-02\n",
      "  -4.27349508e-02 -5.71647510e-02 -1.66198358e-01 -7.75925666e-02\n",
      "  -1.63918555e-01 -4.88298237e-02 -1.02059431e-01 -8.02685227e-03\n",
      "  -4.66157533e-02 -1.41229841e-03  4.15825620e-02  1.50830513e-02\n",
      "  -1.76531136e-01 -3.86273600e-02 -6.32442906e-02  2.90419776e-02\n",
      "  -5.26465513e-02 -4.45246175e-02 -1.25885814e-01 -6.98488997e-03\n",
      "  -7.01091364e-02 -7.09297881e-02 -1.83483601e-01  3.71847525e-02\n",
      "  -2.58974522e-01 -1.15273915e-01  2.88281757e-02 -1.52388334e-01\n",
      "  -1.14058152e-01  8.65280442e-03 -1.92206115e-01 -2.40009144e-01\n",
      "  -9.35854763e-02 -1.86509371e-01 -1.52793735e-01 -1.11066945e-01\n",
      "  -1.29889876e-01 -1.40541717e-01 -1.83302909e-01 -1.35619983e-01\n",
      "   8.95526782e-02 -2.42638052e-01 -8.01533312e-02 -1.16821609e-01\n",
      "   8.10877085e-02 -1.85217261e-01 -5.52250221e-02 -1.27263278e-01\n",
      "  -1.55180112e-01 -9.18192044e-02 -7.34357834e-02 -1.75637260e-01\n",
      "  -7.66988769e-02 -2.17794832e-02 -5.39165027e-02 -1.34082353e-02\n",
      "  -1.03326542e-02  2.44946615e-03 -2.08072752e-01 -8.39214027e-02\n",
      "  -5.98807447e-03  4.50516120e-02 -2.35282585e-01  5.20882234e-02\n",
      "  -1.27091423e-01 -3.38135660e-02 -7.66898841e-02  5.81822321e-02\n",
      "   1.20507982e-02 -1.41401336e-01 -1.58373341e-01 -2.14682072e-02\n",
      "  -8.81661624e-02 -2.11036488e-01 -1.59601510e-01 -1.71717092e-01\n",
      "  -7.04651475e-02 -1.83039963e-01  5.35181910e-02 -3.50473113e-02\n",
      "  -4.92281541e-02 -2.38333777e-01  5.39843142e-02 -8.29195678e-02\n",
      "  -4.47628601e-03 -1.12377219e-01 -9.34830457e-02  5.13279140e-02\n",
      "  -8.50984305e-02 -4.06843871e-02 -1.37039229e-01  1.41015304e-02\n",
      "   7.68191554e-03 -1.26025990e-01 -1.32803306e-01 -5.84569108e-03\n",
      "  -2.32311577e-01 -8.80050566e-03  8.37552454e-03 -2.69237515e-02\n",
      "  -1.74516793e-02 -8.31857473e-02 -3.33261579e-01 -5.23328856e-02\n",
      "  -7.07439557e-02  7.45350029e-03 -1.24219835e-01 -9.72663164e-02\n",
      "   4.41352924e-04 -4.67344224e-02 -3.49160619e-02 -1.73769236e-01\n",
      "  -2.97767609e-01 -2.09584936e-01  1.14311017e-02  8.39141607e-02\n",
      "  -3.03409547e-01 -9.67451930e-02  5.29700145e-02 -1.51949450e-01]]\n"
     ]
    },
    {
     "data": {
      "image/png": "[encoded data removed]",
      "text/plain": [
       "<Figure size 576x288 with 1 Axes>"
      ]
     },
     "metadata": {
      "needs_background": "light"
     },
     "output_type": "display_data"
    }
   ],
   "source": [
    "# 가중치를 통해 변수 중요도 획득\n",
    "weights = model1.layers[0].get_weights()[0]\n",
    "print(weights)\n",
    "\n",
    "\n",
    "# 변수 중요도 시각화\n",
    "fig, ax = plt.subplots(figsize=(8, 4))\n",
    "ax.bar(range(9), weights[:, 0])\n",
    "ax.set_xticks(range(9))\n",
    "ax.set_xticklabels(['do_mg','do_temp', 'ph', 'orp', 'co2_mg', 'air_oxy', 'light_ma', 'feed_quantity', 'water_quantity'])\n",
    "ax.set_ylabel('Weight')\n",
    "ax.set_title('Variable Importance')\n",
    "plt.show()\n",
    "\n",
    "# 가중치를 통해 변수 중요도 획득\n",
    "weights = model2.layers[0].get_weights()[0]\n",
    "print(weights)\n",
    "\n",
    "\n",
    "# 변수 중요도 시각화\n",
    "fig, ax = plt.subplots(figsize=(8, 4))\n",
    "ax.bar(range(1), weights[:, 0])\n",
    "ax.set_xticks(range(1))\n",
    "ax.set_xticklabels(['feed_quantity'])\n",
    "ax.set_ylabel('Weight')\n",
    "ax.set_title('Variable Importance')\n",
    "plt.show()"
   ]
  },
  {
   "cell_type": "code",
   "execution_count": 12,
   "metadata": {},
   "outputs": [
    {
     "name": "stdout",
     "output_type": "stream",
     "text": [
      "nCar: 63180 nVar: 1\n",
      "nCar: 351 nVar: 180\n",
      "nCar: 63180 nVar: 1\n"
     ]
    }
   ],
   "source": [
    "y_date = japonica_validation_features_y.loc['2021-07-22 03:00':'2021-09-08 23:59']\n",
    "\n",
    "y_test = y_date[['do_mg']]\n",
    "\n",
    "y_test_reshape = np.asarray(y_test, dtype=np.float64)\n",
    "y_test_reshape1 = y_test_reshape.reshape((-1, 180, 1))\n",
    "y_test_reshape2 = y_test_reshape.reshape((-1, 1, 1))\n",
    "\n",
    "\n",
    "nCar = y_test.shape[0] # 데이터 개수\n",
    "nVar = y_test.shape[1] # 변수 개수\n",
    "print('nCar: %d' % nCar, 'nVar: %d' % nVar )\n",
    "\n",
    "nCar = y_test_reshape1.shape[0] # 데이터 개수\n",
    "nVar = y_test_reshape1.shape[1] # 변수 개수\n",
    "print('nCar: %d' % nCar, 'nVar: %d' % nVar )\n",
    "\n",
    "nCar = y_test_reshape2.shape[0] # 데이터 개수\n",
    "nVar = y_test_reshape2.shape[1] # 변수 개수\n",
    "print('nCar: %d' % nCar, 'nVar: %d' % nVar )"
   ]
  },
  {
   "cell_type": "code",
   "execution_count": 13,
   "metadata": {},
   "outputs": [
    {
     "name": "stdout",
     "output_type": "stream",
     "text": [
      "nCar: 351 nVar: 9\n",
      "nCar: 351 nVar: 9\n"
     ]
    }
   ],
   "source": [
    "X_test1 = japonica_validation_features_X_a.loc['2021-07-22 00:00':'2021-09-08 20:59']\n",
    "\n",
    "X_test_reshape1 = np.asarray(X_test1, dtype=np.float64)\n",
    "X_test_reshape1 = X_test_reshape1.reshape((-1, 180, 9))\n",
    "\n",
    "# shape확인\n",
    "nCar = X_test_reshape1.shape[0] # 데이터 개수\n",
    "nVar = X_test_reshape1.shape[2] # 변수 개수\n",
    "print('nCar: %d' % nCar, 'nVar: %d' % nVar )\n",
    "\n",
    "# shape확인\n",
    "nCar = X_test_reshape1.shape[0] # 데이터 개수\n",
    "nVar = X_test_reshape1.shape[2] # 변수 개수\n",
    "print('nCar: %d' % nCar, 'nVar: %d' % nVar )"
   ]
  },
  {
   "cell_type": "code",
   "execution_count": 14,
   "metadata": {},
   "outputs": [
    {
     "name": "stdout",
     "output_type": "stream",
     "text": [
      "nCar: 63180 nVar: 1\n",
      "nCar: 63180 nVar: 1\n"
     ]
    }
   ],
   "source": [
    "X_test2 = japonica_validation_features_X_b.loc['2021-07-22 03:00':'2021-09-08 23:59']\n",
    "\n",
    "X_test_reshape2 = np.asarray(X_test2, dtype=np.float64)\n",
    "X_test_reshape2 = X_test_reshape2.reshape((-1, 1, 1))\n",
    "\n",
    "\n",
    "# shape확인\n",
    "nCar = X_test_reshape2.shape[0] # 데이터 개수\n",
    "nVar = X_test_reshape2.shape[2] # 변수 개수\n",
    "print('nCar: %d' % nCar, 'nVar: %d' % nVar )\n",
    "\n",
    "# shape확인\n",
    "nCar = X_test_reshape2.shape[0] # 데이터 개수\n",
    "nVar = X_test_reshape2.shape[2] # 변수 개수\n",
    "print('nCar: %d' % nCar, 'nVar: %d' % nVar )"
   ]
  },
  {
   "cell_type": "code",
   "execution_count": 15,
   "metadata": {
    "scrolled": false
   },
   "outputs": [
    {
     "name": "stderr",
     "output_type": "stream",
     "text": [
      "2023-07-21 11:01:28.552654: I tensorflow/compiler/mlir/mlir_graph_optimization_pass.cc:185] None of the MLIR Optimization Passes are enabled (registered 2)\n",
      "2023-07-21 11:01:31.718559: E tensorflow/stream_executor/cuda/cuda_dnn.cc:374] Could not create cudnn handle: CUDNN_STATUS_INTERNAL_ERROR\n",
      "2023-07-21 11:01:31.719548: W tensorflow/core/framework/op_kernel.cc:1692] OP_REQUIRES failed at cudnn_rnn_ops.cc:1555 : Unknown: Fail to find the dnn implementation.\n"
     ]
    },
    {
     "ename": "UnknownError",
     "evalue": "   Fail to find the dnn implementation.\n\t [[{{node CudnnRNN}}]]\n\t [[sequential/lstm/PartitionedCall]] [Op:__inference_predict_function_4762]\n\nFunction call stack:\npredict_function -> predict_function -> predict_function\n",
     "output_type": "error",
     "traceback": [
      "\u001b[0;31m---------------------------------------------------------------------------\u001b[0m",
      "\u001b[0;31mUnknownError\u001b[0m                              Traceback (most recent call last)",
      "\u001b[0;32m/tmp/ipykernel_414568/2084761975.py\u001b[0m in \u001b[0;36m<module>\u001b[0;34m\u001b[0m\n\u001b[0;32m----> 1\u001b[0;31m \u001b[0mgrapeNEva3\u001b[0m\u001b[0;34m(\u001b[0m\u001b[0mmodel1\u001b[0m\u001b[0;34m,\u001b[0m \u001b[0mmodel2\u001b[0m\u001b[0;34m,\u001b[0m \u001b[0my_test\u001b[0m\u001b[0;34m,\u001b[0m \u001b[0mX_test_reshape1\u001b[0m\u001b[0;34m,\u001b[0m \u001b[0my_test_reshape1\u001b[0m\u001b[0;34m,\u001b[0m \u001b[0mX_test_reshape2\u001b[0m\u001b[0;34m,\u001b[0m \u001b[0my_test_reshape2\u001b[0m\u001b[0;34m,\u001b[0m \u001b[0mX_test2\u001b[0m\u001b[0;34m[\u001b[0m\u001b[0;34m[\u001b[0m\u001b[0;34m'feed_quantity'\u001b[0m\u001b[0;34m]\u001b[0m\u001b[0;34m]\u001b[0m\u001b[0;34m)\u001b[0m\u001b[0;34m\u001b[0m\u001b[0;34m\u001b[0m\u001b[0m\n\u001b[0m",
      "\u001b[0;32m/tmp/ipykernel_414568/2613817996.py\u001b[0m in \u001b[0;36mgrapeNEva3\u001b[0;34m(model1, model2, y_test, X_test_shape1, y_test_shape1, X_test_shape2, y_test_shape2, feed)\u001b[0m\n\u001b[1;32m     22\u001b[0m \u001b[0;34m\u001b[0m\u001b[0m\n\u001b[1;32m     23\u001b[0m \u001b[0;32mdef\u001b[0m \u001b[0mgrapeNEva3\u001b[0m\u001b[0;34m(\u001b[0m\u001b[0mmodel1\u001b[0m\u001b[0;34m,\u001b[0m \u001b[0mmodel2\u001b[0m\u001b[0;34m,\u001b[0m \u001b[0my_test\u001b[0m\u001b[0;34m,\u001b[0m \u001b[0mX_test_shape1\u001b[0m\u001b[0;34m,\u001b[0m \u001b[0my_test_shape1\u001b[0m\u001b[0;34m,\u001b[0m \u001b[0mX_test_shape2\u001b[0m\u001b[0;34m,\u001b[0m \u001b[0my_test_shape2\u001b[0m\u001b[0;34m,\u001b[0m\u001b[0mfeed\u001b[0m\u001b[0;34m)\u001b[0m\u001b[0;34m:\u001b[0m\u001b[0;34m\u001b[0m\u001b[0;34m\u001b[0m\u001b[0m\n\u001b[0;32m---> 24\u001b[0;31m     \u001b[0mX_pred1\u001b[0m \u001b[0;34m=\u001b[0m \u001b[0mmodel1\u001b[0m\u001b[0;34m.\u001b[0m\u001b[0mpredict\u001b[0m\u001b[0;34m(\u001b[0m\u001b[0mX_test_shape1\u001b[0m\u001b[0;34m)\u001b[0m\u001b[0;34m\u001b[0m\u001b[0;34m\u001b[0m\u001b[0m\n\u001b[0m\u001b[1;32m     25\u001b[0m     \u001b[0mX_pred1\u001b[0m \u001b[0;34m=\u001b[0m \u001b[0mnp\u001b[0m\u001b[0;34m.\u001b[0m\u001b[0masarray\u001b[0m\u001b[0;34m(\u001b[0m\u001b[0mX_pred1\u001b[0m\u001b[0;34m,\u001b[0m \u001b[0mdtype\u001b[0m\u001b[0;34m=\u001b[0m\u001b[0mnp\u001b[0m\u001b[0;34m.\u001b[0m\u001b[0mfloat64\u001b[0m\u001b[0;34m)\u001b[0m\u001b[0;34m\u001b[0m\u001b[0;34m\u001b[0m\u001b[0m\n\u001b[1;32m     26\u001b[0m     \u001b[0mX_pred1\u001b[0m \u001b[0;34m=\u001b[0m \u001b[0mX_pred1\u001b[0m\u001b[0;34m.\u001b[0m\u001b[0mreshape\u001b[0m\u001b[0;34m(\u001b[0m\u001b[0;34m(\u001b[0m\u001b[0;34m-\u001b[0m\u001b[0;36m1\u001b[0m\u001b[0;34m)\u001b[0m\u001b[0;34m)\u001b[0m\u001b[0;34m\u001b[0m\u001b[0;34m\u001b[0m\u001b[0m\n",
      "\u001b[0;32m~/.venv/tf2.6.0-keras2.6.0-py3.8-cuda11.3/lib/python3.8/site-packages/keras/engine/training.py\u001b[0m in \u001b[0;36mpredict\u001b[0;34m(self, x, batch_size, verbose, steps, callbacks, max_queue_size, workers, use_multiprocessing)\u001b[0m\n\u001b[1;32m   1749\u001b[0m           \u001b[0;32mfor\u001b[0m \u001b[0mstep\u001b[0m \u001b[0;32min\u001b[0m \u001b[0mdata_handler\u001b[0m\u001b[0;34m.\u001b[0m\u001b[0msteps\u001b[0m\u001b[0;34m(\u001b[0m\u001b[0;34m)\u001b[0m\u001b[0;34m:\u001b[0m\u001b[0;34m\u001b[0m\u001b[0;34m\u001b[0m\u001b[0m\n\u001b[1;32m   1750\u001b[0m             \u001b[0mcallbacks\u001b[0m\u001b[0;34m.\u001b[0m\u001b[0mon_predict_batch_begin\u001b[0m\u001b[0;34m(\u001b[0m\u001b[0mstep\u001b[0m\u001b[0;34m)\u001b[0m\u001b[0;34m\u001b[0m\u001b[0;34m\u001b[0m\u001b[0m\n\u001b[0;32m-> 1751\u001b[0;31m             \u001b[0mtmp_batch_outputs\u001b[0m \u001b[0;34m=\u001b[0m \u001b[0mself\u001b[0m\u001b[0;34m.\u001b[0m\u001b[0mpredict_function\u001b[0m\u001b[0;34m(\u001b[0m\u001b[0miterator\u001b[0m\u001b[0;34m)\u001b[0m\u001b[0;34m\u001b[0m\u001b[0;34m\u001b[0m\u001b[0m\n\u001b[0m\u001b[1;32m   1752\u001b[0m             \u001b[0;32mif\u001b[0m \u001b[0mdata_handler\u001b[0m\u001b[0;34m.\u001b[0m\u001b[0mshould_sync\u001b[0m\u001b[0;34m:\u001b[0m\u001b[0;34m\u001b[0m\u001b[0;34m\u001b[0m\u001b[0m\n\u001b[1;32m   1753\u001b[0m               \u001b[0mcontext\u001b[0m\u001b[0;34m.\u001b[0m\u001b[0masync_wait\u001b[0m\u001b[0;34m(\u001b[0m\u001b[0;34m)\u001b[0m\u001b[0;34m\u001b[0m\u001b[0;34m\u001b[0m\u001b[0m\n",
      "\u001b[0;32m~/.venv/tf2.6.0-keras2.6.0-py3.8-cuda11.3/lib/python3.8/site-packages/tensorflow/python/eager/def_function.py\u001b[0m in \u001b[0;36m__call__\u001b[0;34m(self, *args, **kwds)\u001b[0m\n\u001b[1;32m    883\u001b[0m \u001b[0;34m\u001b[0m\u001b[0m\n\u001b[1;32m    884\u001b[0m       \u001b[0;32mwith\u001b[0m \u001b[0mOptionalXlaContext\u001b[0m\u001b[0;34m(\u001b[0m\u001b[0mself\u001b[0m\u001b[0;34m.\u001b[0m\u001b[0m_jit_compile\u001b[0m\u001b[0;34m)\u001b[0m\u001b[0;34m:\u001b[0m\u001b[0;34m\u001b[0m\u001b[0;34m\u001b[0m\u001b[0m\n\u001b[0;32m--> 885\u001b[0;31m         \u001b[0mresult\u001b[0m \u001b[0;34m=\u001b[0m \u001b[0mself\u001b[0m\u001b[0;34m.\u001b[0m\u001b[0m_call\u001b[0m\u001b[0;34m(\u001b[0m\u001b[0;34m*\u001b[0m\u001b[0margs\u001b[0m\u001b[0;34m,\u001b[0m \u001b[0;34m**\u001b[0m\u001b[0mkwds\u001b[0m\u001b[0;34m)\u001b[0m\u001b[0;34m\u001b[0m\u001b[0;34m\u001b[0m\u001b[0m\n\u001b[0m\u001b[1;32m    886\u001b[0m \u001b[0;34m\u001b[0m\u001b[0m\n\u001b[1;32m    887\u001b[0m       \u001b[0mnew_tracing_count\u001b[0m \u001b[0;34m=\u001b[0m \u001b[0mself\u001b[0m\u001b[0;34m.\u001b[0m\u001b[0mexperimental_get_tracing_count\u001b[0m\u001b[0;34m(\u001b[0m\u001b[0;34m)\u001b[0m\u001b[0;34m\u001b[0m\u001b[0;34m\u001b[0m\u001b[0m\n",
      "\u001b[0;32m~/.venv/tf2.6.0-keras2.6.0-py3.8-cuda11.3/lib/python3.8/site-packages/tensorflow/python/eager/def_function.py\u001b[0m in \u001b[0;36m_call\u001b[0;34m(self, *args, **kwds)\u001b[0m\n\u001b[1;32m    954\u001b[0m               *args, **kwds)\n\u001b[1;32m    955\u001b[0m       \u001b[0;31m# If we did not create any variables the trace we have is good enough.\u001b[0m\u001b[0;34m\u001b[0m\u001b[0;34m\u001b[0m\u001b[0;34m\u001b[0m\u001b[0m\n\u001b[0;32m--> 956\u001b[0;31m       return self._concrete_stateful_fn._call_flat(\n\u001b[0m\u001b[1;32m    957\u001b[0m           filtered_flat_args, self._concrete_stateful_fn.captured_inputs)  # pylint: disable=protected-access\n\u001b[1;32m    958\u001b[0m \u001b[0;34m\u001b[0m\u001b[0m\n",
      "\u001b[0;32m~/.venv/tf2.6.0-keras2.6.0-py3.8-cuda11.3/lib/python3.8/site-packages/tensorflow/python/eager/function.py\u001b[0m in \u001b[0;36m_call_flat\u001b[0;34m(self, args, captured_inputs, cancellation_manager)\u001b[0m\n\u001b[1;32m   1961\u001b[0m         and executing_eagerly):\n\u001b[1;32m   1962\u001b[0m       \u001b[0;31m# No tape is watching; skip to running the function.\u001b[0m\u001b[0;34m\u001b[0m\u001b[0;34m\u001b[0m\u001b[0;34m\u001b[0m\u001b[0m\n\u001b[0;32m-> 1963\u001b[0;31m       return self._build_call_outputs(self._inference_function.call(\n\u001b[0m\u001b[1;32m   1964\u001b[0m           ctx, args, cancellation_manager=cancellation_manager))\n\u001b[1;32m   1965\u001b[0m     forward_backward = self._select_forward_and_backward_functions(\n",
      "\u001b[0;32m~/.venv/tf2.6.0-keras2.6.0-py3.8-cuda11.3/lib/python3.8/site-packages/tensorflow/python/eager/function.py\u001b[0m in \u001b[0;36mcall\u001b[0;34m(self, ctx, args, cancellation_manager)\u001b[0m\n\u001b[1;32m    589\u001b[0m       \u001b[0;32mwith\u001b[0m \u001b[0m_InterpolateFunctionError\u001b[0m\u001b[0;34m(\u001b[0m\u001b[0mself\u001b[0m\u001b[0;34m)\u001b[0m\u001b[0;34m:\u001b[0m\u001b[0;34m\u001b[0m\u001b[0;34m\u001b[0m\u001b[0m\n\u001b[1;32m    590\u001b[0m         \u001b[0;32mif\u001b[0m \u001b[0mcancellation_manager\u001b[0m \u001b[0;32mis\u001b[0m \u001b[0;32mNone\u001b[0m\u001b[0;34m:\u001b[0m\u001b[0;34m\u001b[0m\u001b[0;34m\u001b[0m\u001b[0m\n\u001b[0;32m--> 591\u001b[0;31m           outputs = execute.execute(\n\u001b[0m\u001b[1;32m    592\u001b[0m               \u001b[0mstr\u001b[0m\u001b[0;34m(\u001b[0m\u001b[0mself\u001b[0m\u001b[0;34m.\u001b[0m\u001b[0msignature\u001b[0m\u001b[0;34m.\u001b[0m\u001b[0mname\u001b[0m\u001b[0;34m)\u001b[0m\u001b[0;34m,\u001b[0m\u001b[0;34m\u001b[0m\u001b[0;34m\u001b[0m\u001b[0m\n\u001b[1;32m    593\u001b[0m               \u001b[0mnum_outputs\u001b[0m\u001b[0;34m=\u001b[0m\u001b[0mself\u001b[0m\u001b[0;34m.\u001b[0m\u001b[0m_num_outputs\u001b[0m\u001b[0;34m,\u001b[0m\u001b[0;34m\u001b[0m\u001b[0;34m\u001b[0m\u001b[0m\n",
      "\u001b[0;32m~/.venv/tf2.6.0-keras2.6.0-py3.8-cuda11.3/lib/python3.8/site-packages/tensorflow/python/eager/execute.py\u001b[0m in \u001b[0;36mquick_execute\u001b[0;34m(op_name, num_outputs, inputs, attrs, ctx, name)\u001b[0m\n\u001b[1;32m     57\u001b[0m   \u001b[0;32mtry\u001b[0m\u001b[0;34m:\u001b[0m\u001b[0;34m\u001b[0m\u001b[0;34m\u001b[0m\u001b[0m\n\u001b[1;32m     58\u001b[0m     \u001b[0mctx\u001b[0m\u001b[0;34m.\u001b[0m\u001b[0mensure_initialized\u001b[0m\u001b[0;34m(\u001b[0m\u001b[0;34m)\u001b[0m\u001b[0;34m\u001b[0m\u001b[0;34m\u001b[0m\u001b[0m\n\u001b[0;32m---> 59\u001b[0;31m     tensors = pywrap_tfe.TFE_Py_Execute(ctx._handle, device_name, op_name,\n\u001b[0m\u001b[1;32m     60\u001b[0m                                         inputs, attrs, num_outputs)\n\u001b[1;32m     61\u001b[0m   \u001b[0;32mexcept\u001b[0m \u001b[0mcore\u001b[0m\u001b[0;34m.\u001b[0m\u001b[0m_NotOkStatusException\u001b[0m \u001b[0;32mas\u001b[0m \u001b[0me\u001b[0m\u001b[0;34m:\u001b[0m\u001b[0;34m\u001b[0m\u001b[0;34m\u001b[0m\u001b[0m\n",
      "\u001b[0;31mUnknownError\u001b[0m:    Fail to find the dnn implementation.\n\t [[{{node CudnnRNN}}]]\n\t [[sequential/lstm/PartitionedCall]] [Op:__inference_predict_function_4762]\n\nFunction call stack:\npredict_function -> predict_function -> predict_function\n"
     ]
    }
   ],
   "source": [
    "grapeNEva3(model1, model2, y_test, X_test_reshape1, y_test_reshape1, X_test_reshape2, y_test_reshape2, X_test2[['feed_quantity']])"
   ]
  },
  {
   "cell_type": "code",
   "execution_count": 1,
   "metadata": {
    "scrolled": false
   },
   "outputs": [
    {
     "ename": "NameError",
     "evalue": "name 'japonica_validation_features_y' is not defined",
     "output_type": "error",
     "traceback": [
      "\u001b[0;31m---------------------------------------------------------------------------\u001b[0m",
      "\u001b[0;31mNameError\u001b[0m                                 Traceback (most recent call last)",
      "\u001b[0;32m/tmp/ipykernel_414568/3053489438.py\u001b[0m in \u001b[0;36m<module>\u001b[0;34m\u001b[0m\n\u001b[0;32m----> 1\u001b[0;31m \u001b[0my_date\u001b[0m \u001b[0;34m=\u001b[0m \u001b[0mjaponica_validation_features_y\u001b[0m\u001b[0;34m.\u001b[0m\u001b[0mloc\u001b[0m\u001b[0;34m[\u001b[0m\u001b[0;34m'2021-07-22 03:00'\u001b[0m\u001b[0;34m:\u001b[0m\u001b[0;34m'2021-07-31 23:59'\u001b[0m\u001b[0;34m]\u001b[0m\u001b[0;34m\u001b[0m\u001b[0;34m\u001b[0m\u001b[0m\n\u001b[0m\u001b[1;32m      2\u001b[0m \u001b[0;34m\u001b[0m\u001b[0m\n\u001b[1;32m      3\u001b[0m \u001b[0my_test\u001b[0m \u001b[0;34m=\u001b[0m \u001b[0my_date\u001b[0m\u001b[0;34m[\u001b[0m\u001b[0;34m[\u001b[0m\u001b[0;34m'do_mg'\u001b[0m\u001b[0;34m]\u001b[0m\u001b[0;34m]\u001b[0m\u001b[0;34m\u001b[0m\u001b[0;34m\u001b[0m\u001b[0m\n\u001b[1;32m      4\u001b[0m \u001b[0;34m\u001b[0m\u001b[0m\n\u001b[1;32m      5\u001b[0m \u001b[0my_test_reshape\u001b[0m \u001b[0;34m=\u001b[0m \u001b[0mnp\u001b[0m\u001b[0;34m.\u001b[0m\u001b[0masarray\u001b[0m\u001b[0;34m(\u001b[0m\u001b[0my_test\u001b[0m\u001b[0;34m,\u001b[0m \u001b[0mdtype\u001b[0m\u001b[0;34m=\u001b[0m\u001b[0mnp\u001b[0m\u001b[0;34m.\u001b[0m\u001b[0mfloat64\u001b[0m\u001b[0;34m)\u001b[0m\u001b[0;34m\u001b[0m\u001b[0;34m\u001b[0m\u001b[0m\n",
      "\u001b[0;31mNameError\u001b[0m: name 'japonica_validation_features_y' is not defined"
     ]
    }
   ],
   "source": [
    "y_date = japonica_validation_features_y.loc['2021-07-22 03:00':'2021-07-31 23:59']\n",
    "\n",
    "y_test = y_date[['do_mg']]\n",
    "\n",
    "y_test_reshape = np.asarray(y_test, dtype=np.float64)\n",
    "y_test_reshape1 = y_test_reshape.reshape((-1, 180, 1))\n",
    "y_test_reshape2 = y_test_reshape.reshape((-1, 1, 1))\n",
    "\n",
    "\n",
    "nCar = y_test.shape[0] # 데이터 개수\n",
    "nVar = y_test.shape[1] # 변수 개수\n",
    "print('nCar: %d' % nCar, 'nVar: %d' % nVar )\n",
    "\n",
    "nCar = y_test_reshape1.shape[0] # 데이터 개수\n",
    "nVar = y_test_reshape1.shape[1] # 변수 개수\n",
    "print('nCar: %d' % nCar, 'nVar: %d' % nVar )\n",
    "\n",
    "nCar = y_test_reshape2.shape[0] # 데이터 개수\n",
    "nVar = y_test_reshape2.shape[1] # 변수 개수\n",
    "print('nCar: %d' % nCar, 'nVar: %d' % nVar )\n",
    "\n",
    "X_test1 = japonica_validation_features_X_a.loc['2021-07-22 00:00':'2021-07-31 20:59']\n",
    "\n",
    "X_test_reshape1 = np.asarray(X_test1, dtype=np.float64)\n",
    "X_test_reshape1 = X_test_reshape1.reshape((-1, 180, 9))\n",
    "\n",
    "# shape확인\n",
    "nCar = X_test_reshape1.shape[0] # 데이터 개수\n",
    "nVar = X_test_reshape1.shape[2] # 변수 개수\n",
    "print('nCar: %d' % nCar, 'nVar: %d' % nVar )\n",
    "\n",
    "# shape확인\n",
    "nCar = X_test_reshape1.shape[0] # 데이터 개수\n",
    "nVar = X_test_reshape1.shape[2] # 변수 개수\n",
    "print('nCar: %d' % nCar, 'nVar: %d' % nVar )\n",
    "\n",
    "X_test2 = japonica_validation_features_X_b.loc['2021-07-22 03:00':'2021-07-31 23:59']\n",
    "\n",
    "X_test_reshape2 = np.asarray(X_test2, dtype=np.float64)\n",
    "X_test_reshape2 = X_test_reshape2.reshape((-1, 1, 1))\n",
    "\n",
    "\n",
    "# shape확인\n",
    "nCar = X_test_reshape2.shape[0] # 데이터 개수\n",
    "nVar = X_test_reshape2.shape[2] # 변수 개수\n",
    "print('nCar: %d' % nCar, 'nVar: %d' % nVar )\n",
    "\n",
    "# shape확인\n",
    "nCar = X_test_reshape2.shape[0] # 데이터 개수\n",
    "nVar = X_test_reshape2.shape[2] # 변수 개수\n",
    "print('nCar: %d' % nCar, 'nVar: %d' % nVar )\n",
    "\n",
    "grapeNEva3(model1, model2, y_test, X_test_reshape1, y_test_reshape1, X_test_reshape2, y_test_reshape2, X_test2[['feed_quantity']])"
   ]
  },
  {
   "cell_type": "code",
   "execution_count": null,
   "metadata": {
    "scrolled": false
   },
   "outputs": [],
   "source": [
    "y_date = japonica_validation_features_y.loc['2021-07-22 03:00':'2021-07-22 23:59']\n",
    "\n",
    "y_test = y_date[['do_mg']]\n",
    "\n",
    "y_test_reshape = np.asarray(y_test, dtype=np.float64)\n",
    "y_test_reshape1 = y_test_reshape.reshape((-1, 180, 1))\n",
    "y_test_reshape2 = y_test_reshape.reshape((-1, 1, 1))\n",
    "\n",
    "\n",
    "nCar = y_test.shape[0] # 데이터 개수\n",
    "nVar = y_test.shape[1] # 변수 개수\n",
    "print('nCar: %d' % nCar, 'nVar: %d' % nVar )\n",
    "\n",
    "nCar = y_test_reshape1.shape[0] # 데이터 개수\n",
    "nVar = y_test_reshape1.shape[1] # 변수 개수\n",
    "print('nCar: %d' % nCar, 'nVar: %d' % nVar )\n",
    "\n",
    "nCar = y_test_reshape2.shape[0] # 데이터 개수\n",
    "nVar = y_test_reshape2.shape[1] # 변수 개수\n",
    "print('nCar: %d' % nCar, 'nVar: %d' % nVar )\n",
    "\n",
    "X_test1 = japonica_validation_features_X_a.loc['2021-07-22 00:00':'2021-07-22 20:59']\n",
    "\n",
    "X_test_reshape1 = np.asarray(X_test1, dtype=np.float64)\n",
    "X_test_reshape1 = X_test_reshape1.reshape((-1, 180, 9))\n",
    "\n",
    "# shape확인\n",
    "nCar = X_test_reshape1.shape[0] # 데이터 개수\n",
    "nVar = X_test_reshape1.shape[2] # 변수 개수\n",
    "print('nCar: %d' % nCar, 'nVar: %d' % nVar )\n",
    "\n",
    "# shape확인\n",
    "nCar = X_test_reshape1.shape[0] # 데이터 개수\n",
    "nVar = X_test_reshape1.shape[2] # 변수 개수\n",
    "print('nCar: %d' % nCar, 'nVar: %d' % nVar )\n",
    "\n",
    "X_test2 = japonica_validation_features_X_b.loc['2021-07-22 03:00':'2021-07-22 23:59']\n",
    "\n",
    "X_test_reshape2 = np.asarray(X_test2, dtype=np.float64)\n",
    "X_test_reshape2 = X_test_reshape2.reshape((-1, 1, 1))\n",
    "\n",
    "\n",
    "# shape확인\n",
    "nCar = X_test_reshape2.shape[0] # 데이터 개수\n",
    "nVar = X_test_reshape2.shape[2] # 변수 개수\n",
    "print('nCar: %d' % nCar, 'nVar: %d' % nVar )\n",
    "\n",
    "# shape확인\n",
    "nCar = X_test_reshape2.shape[0] # 데이터 개수\n",
    "nVar = X_test_reshape2.shape[2] # 변수 개수\n",
    "print('nCar: %d' % nCar, 'nVar: %d' % nVar )\n",
    "\n",
    "grapeNEva3(model1, model2, y_test, X_test_reshape1, y_test_reshape1, X_test_reshape2, y_test_reshape2, X_test2[['feed_quantity']])"
   ]
  },
  {
   "cell_type": "code",
   "execution_count": null,
   "metadata": {
    "scrolled": false
   },
   "outputs": [],
   "source": [
    "japonica_validation_features_X_a.at['2021-07-22 08:00', 'feed_quantity'] = 6\n",
    "japonica_validation_features_X_b.at['2021-07-22 08:00', 'feed_quantity'] = 6\n",
    "\n",
    "y_date = japonica_validation_features_y.loc['2021-07-22 03:00':'2021-07-22 23:59']\n",
    "\n",
    "y_test = y_date[['do_mg']]\n",
    "\n",
    "y_test_reshape = np.asarray(y_test, dtype=np.float64)\n",
    "y_test_reshape1 = y_test_reshape.reshape((-1, 180, 1))\n",
    "y_test_reshape2 = y_test_reshape.reshape((-1, 1, 1))\n",
    "\n",
    "\n",
    "nCar = y_test.shape[0] # 데이터 개수\n",
    "nVar = y_test.shape[1] # 변수 개수\n",
    "print('nCar: %d' % nCar, 'nVar: %d' % nVar )\n",
    "\n",
    "nCar = y_test_reshape1.shape[0] # 데이터 개수\n",
    "nVar = y_test_reshape1.shape[1] # 변수 개수\n",
    "print('nCar: %d' % nCar, 'nVar: %d' % nVar )\n",
    "\n",
    "nCar = y_test_reshape2.shape[0] # 데이터 개수\n",
    "nVar = y_test_reshape2.shape[1] # 변수 개수\n",
    "print('nCar: %d' % nCar, 'nVar: %d' % nVar )\n",
    "\n",
    "X_test1 = japonica_validation_features_X_a.loc['2021-07-22 00:00':'2021-07-22 20:59']\n",
    "\n",
    "X_test_reshape1 = np.asarray(X_test1, dtype=np.float64)\n",
    "X_test_reshape1 = X_test_reshape1.reshape((-1, 180, 9))\n",
    "\n",
    "# shape확인\n",
    "nCar = X_test_reshape1.shape[0] # 데이터 개수\n",
    "nVar = X_test_reshape1.shape[2] # 변수 개수\n",
    "print('nCar: %d' % nCar, 'nVar: %d' % nVar )\n",
    "\n",
    "# shape확인\n",
    "nCar = X_test_reshape1.shape[0] # 데이터 개수\n",
    "nVar = X_test_reshape1.shape[2] # 변수 개수\n",
    "print('nCar: %d' % nCar, 'nVar: %d' % nVar )\n",
    "\n",
    "X_test2 = japonica_validation_features_X_b.loc['2021-07-22 03:00':'2021-07-22 23:59']\n",
    "\n",
    "X_test_reshape2 = np.asarray(X_test2, dtype=np.float64)\n",
    "X_test_reshape2 = X_test_reshape2.reshape((-1, 1, 1))\n",
    "\n",
    "\n",
    "# shape확인\n",
    "nCar = X_test_reshape2.shape[0] # 데이터 개수\n",
    "nVar = X_test_reshape2.shape[2] # 변수 개수\n",
    "print('nCar: %d' % nCar, 'nVar: %d' % nVar )\n",
    "\n",
    "# shape확인\n",
    "nCar = X_test_reshape2.shape[0] # 데이터 개수\n",
    "nVar = X_test_reshape2.shape[2] # 변수 개수\n",
    "print('nCar: %d' % nCar, 'nVar: %d' % nVar )\n",
    "\n",
    "grapeNEva3(model1, model2, y_test, X_test_reshape1, y_test_reshape1, X_test_reshape2, y_test_reshape2, X_test2[['feed_quantity']])"
   ]
  },
  {
   "cell_type": "code",
   "execution_count": null,
   "metadata": {},
   "outputs": [],
   "source": [
    "X_test = japonica_validation_features_X.loc['2021-07-22 00:00':'2021-07-22 11:59']\n",
    "\n",
    "X_test_reshape = np.asarray(X_test, dtype=np.float64)\n",
    "X_test_reshape = X_test_reshape.reshape((-1, 180, 2))\n",
    "\n",
    "X_test_reshape_a = X_test_reshape[:, :, 0].reshape((-1, 180, 1))\n",
    "X_test_reshape_b = X_test_reshape[:, :, 1].reshape((-1, 180, 1))\n",
    "\n",
    "# shape확인\n",
    "nCar = X_test_reshape_a.shape[0] # 데이터 개수\n",
    "nVar = X_test_reshape_b.shape[2] # 변수 개수\n",
    "print('nCar: %d' % nCar, 'nVar: %d' % nVar )\n",
    "\n",
    "# shape확인\n",
    "nCar = X_test_reshape_a.shape[0] # 데이터 개수\n",
    "nVar = X_test_reshape_b.shape[2] # 변수 개수\n",
    "print('nCar: %d' % nCar, 'nVar: %d' % nVar )"
   ]
  },
  {
   "cell_type": "code",
   "execution_count": null,
   "metadata": {
    "scrolled": true
   },
   "outputs": [],
   "source": [
    "y_date = japonica_validation_features_X.loc['2021-07-22 03:00':'2021-07-22 14:59']\n",
    "\n",
    "y_test = y_date[['do_mg']]\n",
    "\n",
    "y_test_reshape = np.asarray(y_test, dtype=np.float64)\n",
    "y_test_reshape = y_test_reshape.reshape((-1, 180, 1))\n",
    "\n",
    "nCar = y_test.shape[0] # 데이터 개수\n",
    "nVar = y_test.shape[1] # 변수 개수\n",
    "print('nCar: %d' % nCar, 'nVar: %d' % nVar )\n",
    "\n",
    "nCar = y_test_reshape.shape[0] # 데이터 개수\n",
    "nVar = y_test_reshape.shape[1] # 변수 개수\n",
    "print('nCar: %d' % nCar, 'nVar: %d' % nVar )"
   ]
  },
  {
   "cell_type": "code",
   "execution_count": null,
   "metadata": {},
   "outputs": [],
   "source": [
    "grapeNEva(model,[X_test_reshape_a, X_test_reshape_b], y_test, y_date[['feed_quantity']], y_test_reshape)"
   ]
  },
  {
   "cell_type": "code",
   "execution_count": null,
   "metadata": {},
   "outputs": [],
   "source": [
    "japonica_validation_features_X.at['2021-07-22 08:00', 'feed_quantity'] = 6\n",
    "\n",
    "X_test = japonica_validation_features_X.loc['2021-07-22 00:00':'2021-07-22 11:59']\n",
    "\n",
    "X_test_reshape = np.asarray(X_test, dtype=np.float64)\n",
    "X_test_reshape = X_test_reshape.reshape((-1, 180, 2))\n",
    "\n",
    "X_test_reshape_a = X_test_reshape[:, :, 0].reshape((-1, 180, 1))\n",
    "X_test_reshape_b = X_test_reshape[:, :, 1].reshape((-1, 180, 1))\n",
    "\n",
    "# shape확인\n",
    "nCar = X_test_reshape_a.shape[0] # 데이터 개수\n",
    "nVar = X_test_reshape_b.shape[2] # 변수 개수\n",
    "print('nCar: %d' % nCar, 'nVar: %d' % nVar )\n",
    "\n",
    "# shape확인\n",
    "nCar = X_test_reshape_a.shape[0] # 데이터 개수\n",
    "nVar = X_test_reshape_b.shape[2] # 변수 개수\n",
    "print('nCar: %d' % nCar, 'nVar: %d' % nVar )"
   ]
  },
  {
   "cell_type": "code",
   "execution_count": 9,
   "metadata": {},
   "outputs": [
    {
     "ename": "NameError",
     "evalue": "name 'japonica_validation_features_X' is not defined",
     "output_type": "error",
     "traceback": [
      "\u001b[0;31m---------------------------------------------------------------------------\u001b[0m",
      "\u001b[0;31mNameError\u001b[0m                                 Traceback (most recent call last)",
      "\u001b[0;32m/tmp/ipykernel_4176714/1243655390.py\u001b[0m in \u001b[0;36m<module>\u001b[0;34m\u001b[0m\n\u001b[0;32m----> 1\u001b[0;31m \u001b[0my_date\u001b[0m \u001b[0;34m=\u001b[0m \u001b[0mjaponica_validation_features_X\u001b[0m\u001b[0;34m.\u001b[0m\u001b[0mloc\u001b[0m\u001b[0;34m[\u001b[0m\u001b[0;34m'2021-07-22 03:00'\u001b[0m\u001b[0;34m:\u001b[0m\u001b[0;34m'2021-07-22 14:59'\u001b[0m\u001b[0;34m]\u001b[0m\u001b[0;34m\u001b[0m\u001b[0;34m\u001b[0m\u001b[0m\n\u001b[0m\u001b[1;32m      2\u001b[0m \u001b[0;34m\u001b[0m\u001b[0m\n\u001b[1;32m      3\u001b[0m \u001b[0my_test\u001b[0m \u001b[0;34m=\u001b[0m \u001b[0my_date\u001b[0m\u001b[0;34m[\u001b[0m\u001b[0;34m[\u001b[0m\u001b[0;34m'do_mg'\u001b[0m\u001b[0;34m]\u001b[0m\u001b[0;34m]\u001b[0m\u001b[0;34m\u001b[0m\u001b[0;34m\u001b[0m\u001b[0m\n\u001b[1;32m      4\u001b[0m \u001b[0;34m\u001b[0m\u001b[0m\n\u001b[1;32m      5\u001b[0m \u001b[0my_test_reshape\u001b[0m \u001b[0;34m=\u001b[0m \u001b[0mnp\u001b[0m\u001b[0;34m.\u001b[0m\u001b[0masarray\u001b[0m\u001b[0;34m(\u001b[0m\u001b[0my_test\u001b[0m\u001b[0;34m,\u001b[0m \u001b[0mdtype\u001b[0m\u001b[0;34m=\u001b[0m\u001b[0mnp\u001b[0m\u001b[0;34m.\u001b[0m\u001b[0mfloat64\u001b[0m\u001b[0;34m)\u001b[0m\u001b[0;34m\u001b[0m\u001b[0;34m\u001b[0m\u001b[0m\n",
      "\u001b[0;31mNameError\u001b[0m: name 'japonica_validation_features_X' is not defined"
     ]
    }
   ],
   "source": [
    "y_date = japonica_validation_features_X.loc['2021-07-22 03:00':'2021-07-22 14:59']\n",
    "\n",
    "y_test = y_date[['do_mg']]\n",
    "\n",
    "y_test_reshape = np.asarray(y_test, dtype=np.float64)\n",
    "y_test_reshape = y_test_reshape.reshape((-1, 180, 1))\n",
    "\n",
    "nCar = y_test.shape[0] # 데이터 개수\n",
    "nVar = y_test.shape[1] # 변수 개수\n",
    "print('nCar: %d' % nCar, 'nVar: %d' % nVar )\n",
    "\n",
    "nCar = y_test_reshape.shape[0] # 데이터 개수\n",
    "nVar = y_test_reshape.shape[1] # 변수 개수\n",
    "print('nCar: %d' % nCar, 'nVar: %d' % nVar )"
   ]
  },
  {
   "cell_type": "code",
   "execution_count": 10,
   "metadata": {},
   "outputs": [
    {
     "ename": "NameError",
     "evalue": "name 'grapeNEva' is not defined",
     "output_type": "error",
     "traceback": [
      "\u001b[0;31m---------------------------------------------------------------------------\u001b[0m",
      "\u001b[0;31mNameError\u001b[0m                                 Traceback (most recent call last)",
      "\u001b[0;32m/tmp/ipykernel_4176714/252478701.py\u001b[0m in \u001b[0;36m<module>\u001b[0;34m\u001b[0m\n\u001b[0;32m----> 1\u001b[0;31m \u001b[0mgrapeNEva\u001b[0m\u001b[0;34m(\u001b[0m\u001b[0mmodel\u001b[0m\u001b[0;34m,\u001b[0m\u001b[0;34m[\u001b[0m\u001b[0mX_test_reshape_a\u001b[0m\u001b[0;34m,\u001b[0m \u001b[0mX_test_reshape_b\u001b[0m\u001b[0;34m]\u001b[0m\u001b[0;34m,\u001b[0m \u001b[0my_test\u001b[0m\u001b[0;34m,\u001b[0m \u001b[0my_date\u001b[0m\u001b[0;34m[\u001b[0m\u001b[0;34m[\u001b[0m\u001b[0;34m'feed_quantity'\u001b[0m\u001b[0;34m]\u001b[0m\u001b[0;34m]\u001b[0m\u001b[0;34m,\u001b[0m \u001b[0my_test_reshape\u001b[0m\u001b[0;34m)\u001b[0m\u001b[0;34m\u001b[0m\u001b[0;34m\u001b[0m\u001b[0m\n\u001b[0m",
      "\u001b[0;31mNameError\u001b[0m: name 'grapeNEva' is not defined"
     ]
    }
   ],
   "source": [
    "grapeNEva(model,[X_test_reshape_a, X_test_reshape_b], y_test, y_date[['feed_quantity']], y_test_reshape)"
   ]
  },
  {
   "cell_type": "code",
   "execution_count": 94,
   "metadata": {},
   "outputs": [
    {
     "data": {
      "image/png": "[encoded data removed]",
      "text/plain": [
       "<Figure size 432x288 with 1 Axes>"
      ]
     },
     "metadata": {
      "needs_background": "light"
     },
     "output_type": "display_data"
    }
   ],
   "source": [
    "import numpy as np\n",
    "import matplotlib.pyplot as plt\n",
    "\n",
    "# A 파형 생성 (넓고 주파수 낮음)\n",
    "t_a = np.linspace(0, 2*np.pi, 1000)\n",
    "amplitude_a = np.sin(t_a)\n",
    "\n",
    "# B 파형 생성 (좁고 주파수 높음)\n",
    "t_b = np.linspace(0, 2*np.pi, 100)\n",
    "amplitude_b = np.cos(5*t_b)\n",
    "\n",
    "# B 파형의 주기를 A 파형에 맞게 늘림\n",
    "amplitude_b_resized = np.resize(amplitude_b, len(t_a))\n",
    "\n",
    "# A 파형에 B 파형의 특징 추가\n",
    "combined_wave = amplitude_a + amplitude_b_resized\n",
    "\n",
    "# 그래프 그리기\n",
    "plt.plot(t_a, amplitude_a, label='A Wave')\n",
    "plt.plot(t_a, combined_wave, label='A + B Wave')\n",
    "\n",
    "plt.legend()\n",
    "plt.xlabel('Time')\n",
    "plt.ylabel('Amplitude')\n",
    "plt.title('Combined Waves with Time Stretching')\n",
    "plt.grid()\n",
    "plt.show()"
   ]
  }
 ],
 "metadata": {
  "kernelspec": {
   "display_name": "tf2.6.0-keras2.6.0-py3.8-cuda11.3",
   "language": "python",
   "name": "tf2.6.0-keras2.6.0-py3.8-cuda11.3"
  },
  "language_info": {
   "codemirror_mode": {
    "name": "ipython",
    "version": 3
   },
   "file_extension": ".py",
   "mimetype": "text/x-python",
   "name": "python",
   "nbconvert_exporter": "python",
   "pygments_lexer": "ipython3",
   "version": "3.8.10"
  }
 },
 "nbformat": 4,
 "nbformat_minor": 2
}
