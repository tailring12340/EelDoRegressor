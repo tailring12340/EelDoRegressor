{
 "cells": [
  {
   "cell_type": "markdown",
   "metadata": {},
   "source": [
    "라이브러리"
   ]
  },
  {
   "cell_type": "code",
   "execution_count": 1,
   "metadata": {},
   "outputs": [],
   "source": [
    "# imports\n",
    "from keras.models import Sequential\n",
    "from keras.layers import Dense\n",
    "from keras.layers import Dropout\n",
    "from sklearn.metrics import r2_score\n",
    "import matplotlib.pyplot as plt\n",
    "import numpy\n",
    "from tensorflow.keras.optimizers import Adam\n",
    "import keras\n",
    "from matplotlib import pyplot\n",
    "from keras.callbacks import EarlyStopping\n",
    "import pandas as pd \n",
    "from sklearn.preprocessing import LabelEncoder\n",
    "import pandas as pd\n",
    "import numpy as np\n",
    "from keras.utils import *\n",
    "from sklearn.preprocessing import *\n",
    "from keras import backend as K\n",
    "from keras.models import load_model\n",
    "from keras.layers import LSTM, Dense, concatenate, Input\n",
    "from sklearn.ensemble import GradientBoostingRegressor\n",
    "from keras.models import Model\n",
    "from keras.models import Sequential\n",
    "import matplotlib.pyplot as plt\n",
    "from keras.metrics import mean_squared_error\n",
    "from sklearn.metrics import r2_score\n",
    "import matplotlib.font_manager as fm\n",
    "from matplotlib.dates import DateFormatter\n",
    "from keras.callbacks import ModelCheckpoint, EarlyStopping, ReduceLROnPlateau\n",
    "\n",
    "\n",
    "# 모델명(= 파일명) 설정\n",
    "tank = 1\n",
    "model_name = 'Test230717_tank1_nonlinear_crop_only-feed'"
   ]
  },
  {
   "cell_type": "code",
   "execution_count": 2,
   "metadata": {},
   "outputs": [],
   "source": [
    "# r_squared 평가 함수\n",
    "def r_squared(y_true, y_pred):\n",
    "    ss_res = K.sum(K.square(y_true - y_pred))\n",
    "    ss_tot = K.sum(K.square(y_true - K.mean(y_true)))\n",
    "    return (1 - ss_res/(ss_tot + K.epsilon()))"
   ]
  },
  {
   "cell_type": "markdown",
   "metadata": {},
   "source": [
    "데이터셋 설정"
   ]
  },
  {
   "cell_type": "code",
   "execution_count": 3,
   "metadata": {},
   "outputs": [],
   "source": [
    "#자포니카 훈련 데이터\n",
    "japonica_training_food_supply_tb = pd.read_csv(\"eeldata/data/Training/Origin/Management/Japonica/food_supply_tb.csv\")\n",
    "japonica_training_sensor_val_tb = pd.read_csv(\"eeldata/data/Training/Origin/Sensor/Japonica/sensor_val_tb.csv\")\n",
    "\n",
    "#자포니카 검증 데이터\n",
    "japonica_validation_food_supply_tb = pd.read_csv(\"eeldata/data/Validation/Origin/Management/Japonica/food_supply_tb.csv\")\n",
    "japonica_validation_sensor_val_tb = pd.read_csv(\"eeldata/data/Validation/Origin/Sensor/Japonica/sensor_val_tb.csv\")\n"
   ]
  },
  {
   "cell_type": "code",
   "execution_count": 4,
   "metadata": {},
   "outputs": [],
   "source": [
    "# 자포니카 사료 공급 데이터 정제\n",
    "# null제거\n",
    "japonica_training_food_supply_tb = japonica_training_food_supply_tb[japonica_training_food_supply_tb['feed_quantity'].notnull()]\n",
    "japonica_validation_food_supply_tb = japonica_validation_food_supply_tb[japonica_validation_food_supply_tb['feed_quantity'].notnull()]\n",
    "\n",
    "# 시계열 데이터 변환\n",
    "japonica_training_food_supply_tb['feed_dt'] = pd.to_datetime(japonica_training_food_supply_tb['feed_dt'], format='%Y%m%d%H%M', errors='raise')\n",
    "japonica_training_food_supply_tb[\"feed_dt\"] = japonica_training_food_supply_tb[\"feed_dt\"].apply(str)\n",
    "japonica_training_food_supply_tb[\"feed_dt\"] = japonica_training_food_supply_tb[\"feed_dt\"].str.slice(start=0, stop=16)\n",
    "japonica_validation_food_supply_tb['feed_dt'] = pd.to_datetime(japonica_validation_food_supply_tb['feed_dt'], format='%Y%m%d%H%M', errors='raise')\n",
    "japonica_validation_food_supply_tb[\"feed_dt\"] = japonica_validation_food_supply_tb[\"feed_dt\"].apply(str)\n",
    "japonica_validation_food_supply_tb[\"feed_dt\"] = japonica_validation_food_supply_tb[\"feed_dt\"].str.slice(start=0, stop=16)"
   ]
  },
  {
   "cell_type": "code",
   "execution_count": 5,
   "metadata": {},
   "outputs": [],
   "source": [
    "# 자포니카 센서 데이터 정제\n",
    "\n",
    "# 한 개 탱크\n",
    "japonica_training_sensor_val_tb = japonica_training_sensor_val_tb[japonica_training_sensor_val_tb['tank_id']==tank]\n",
    "japonica_validation_sensor_val_tb = japonica_validation_sensor_val_tb[japonica_validation_sensor_val_tb['tank_id']==tank]\n",
    "\n",
    "#시계열 변환\n",
    "japonica_training_sensor_val_tb[\"mea_dt\"] = japonica_training_sensor_val_tb[\"mea_dt\"].apply(str)\n",
    "japonica_training_sensor_val_tb[\"mea_dt\"] = japonica_training_sensor_val_tb[\"mea_dt\"].str.slice(start=0, stop=16)\n",
    "japonica_training_sensor_val_tb['mea_dt'] = pd.to_datetime(japonica_training_sensor_val_tb['mea_dt'], format='%Y-%m-%d %H:%M', errors='raise')\n",
    "japonica_validation_sensor_val_tb[\"mea_dt\"] = japonica_validation_sensor_val_tb[\"mea_dt\"].apply(str)\n",
    "japonica_validation_sensor_val_tb[\"mea_dt\"] = japonica_validation_sensor_val_tb[\"mea_dt\"].str.slice(start=0, stop=16)\n",
    "japonica_validation_sensor_val_tb['mea_dt'] = pd.to_datetime(japonica_validation_sensor_val_tb['mea_dt'], format='%Y-%m-%d %H:%M', errors='raise')\n",
    "\n",
    "# 시계열 데이터의 개수 확인\n",
    "training_counts = japonica_training_sensor_val_tb.groupby(japonica_training_sensor_val_tb['mea_dt'].dt.date).size()\n",
    "validation_counts = japonica_validation_sensor_val_tb.groupby(japonica_validation_sensor_val_tb['mea_dt'].dt.date).size()\n",
    "\n",
    "# 개수가 1440이 아닌 시계열 삭제\n",
    "to_delete = training_counts[training_counts != 1440].index\n",
    "japonica_training_sensor_val_tb = japonica_training_sensor_val_tb[~japonica_training_sensor_val_tb['mea_dt'].dt.date.isin(to_delete)]\n",
    "to_delete = validation_counts[validation_counts != 1440].index\n",
    "japonica_validation_sensor_val_tb = japonica_validation_sensor_val_tb[~japonica_validation_sensor_val_tb['mea_dt'].dt.date.isin(to_delete)]\n",
    "\n",
    "#시계열 데이터 문자 타입으로 변경\n",
    "japonica_training_sensor_val_tb[\"mea_dt\"] = japonica_training_sensor_val_tb[\"mea_dt\"].dt.strftime('%Y-%m-%d %H:%M')\n",
    "japonica_training_sensor_val_tb[\"mea_dt\"] = japonica_training_sensor_val_tb[\"mea_dt\"].str.slice(start=0, stop=16)\n",
    "japonica_validation_sensor_val_tb[\"mea_dt\"] = japonica_validation_sensor_val_tb[\"mea_dt\"].dt.strftime('%Y-%m-%d %H:%M')\n",
    "japonica_validation_sensor_val_tb[\"mea_dt\"] = japonica_validation_sensor_val_tb[\"mea_dt\"].str.slice(start=0, stop=16)\n"
   ]
  },
  {
   "cell_type": "code",
   "execution_count": 6,
   "metadata": {},
   "outputs": [],
   "source": [
    "# 자포니카 훈련 데이터 및 시계열 데이터 병합\n",
    "japonica_training = pd.merge(left = japonica_training_sensor_val_tb, right = japonica_training_food_supply_tb, how = \"left\", left_on = [\"farm_id\",\"tank_id\", \"mea_dt\"], right_on = [\"farm_id\",\"tank_id\", \"feed_dt\"])\n",
    "japonica_validation = pd.merge(left = japonica_validation_sensor_val_tb, right = japonica_validation_food_supply_tb, how = \"left\", left_on = [\"farm_id\",\"tank_id\", \"mea_dt\"], right_on = [\"farm_id\",\"tank_id\", \"feed_dt\"])\n",
    "\n",
    "japonica_training['mea_dt'] = pd.to_datetime(japonica_training['mea_dt'], format='%Y-%m-%d %H:%M', errors='raise')\n",
    "japonica_validation['mea_dt'] = pd.to_datetime(japonica_validation['mea_dt'], format='%Y-%m-%d %H:%M', errors='raise')\n",
    "\n",
    "# 사용할 features 선택\n",
    "feature_origin = ['tank_id','mea_dt', 'do_mg','do_temp', 'ph', 'orp', 'co2_mg', 'air_oxy', 'light_ma', 'feed_quantity', 'water_quantity']\n",
    "japonica_training_features = japonica_training[feature_origin]\n",
    "japonica_validation_features = japonica_validation[feature_origin]\n",
    "\n",
    "# nan 값 처리 (먹이를 주지 않았을 경우는 급여량이 0이니까)\n",
    "japonica_training_features = japonica_training_features.fillna(0)\n",
    "japonica_validation_features = japonica_validation_features.fillna(0)\n",
    "\n",
    "# 날짜 데이터를 인덱스로 전환\n",
    "japonica_training_features.set_index('mea_dt', inplace=True)\n",
    "japonica_validation_features.set_index('mea_dt', inplace=True)\n",
    "\n",
    "# 인덱스 순으로 데이터를 정렬\n",
    "japonica_training_data = japonica_training_features.sort_index()\n",
    "japonica_validation_data = japonica_validation_features.sort_index()\n",
    "\n",
    "# 8월 1달간 데이터만 추출\n",
    "japonica_training_data = japonica_training_data.loc['2021-07-21 00:00':'2021-09-10 23:59']\n",
    "japonica_validation_data = japonica_validation_data.loc['2021-07-21 00:00':'2021-09-10 23:59']"
   ]
  },
  {
   "cell_type": "code",
   "execution_count": 7,
   "metadata": {},
   "outputs": [],
   "source": [
    "time_ranges = [('03:00:00', '05:59:00'), ('15:00:00', '17:59:00')]\n",
    "\n",
    "japonica_training_data_feed = []\n",
    "japonica_validation_data_feed = []\n",
    "\n",
    "for time_range in time_ranges:\n",
    "    start_time, end_time = time_range\n",
    "    japonica_training_data_feed.append(japonica_training_data.between_time(start_time, end_time))\n",
    "    japonica_validation_data_feed.append(japonica_validation_data.between_time(start_time, end_time))\n",
    "    \n",
    "\n",
    "japonica_training_data = pd.concat(japonica_training_data_feed)\n",
    "japonica_validation_data = pd.concat(japonica_validation_data_feed)"
   ]
  },
  {
   "cell_type": "code",
   "execution_count": 8,
   "metadata": {},
   "outputs": [],
   "source": [
    "japonica_training_features_X = japonica_training_data[['feed_quantity']]\n",
    "japonica_training_features_y = japonica_training_data[['do_mg']]\n",
    "\n",
    "japonica_validation_features_X = japonica_validation_data[['feed_quantity']]\n",
    "japonica_validation_features_y = japonica_validation_data[['do_mg']]"
   ]
  },
  {
   "cell_type": "code",
   "execution_count": 9,
   "metadata": {},
   "outputs": [],
   "source": [
    "japonica_training_features_X_chunks = np.asarray(japonica_training_features_X, dtype=np.float64)\n",
    "japonica_training_features_y_chunks = np.asarray(japonica_training_features_y, dtype=np.float64)\n",
    "\n",
    "japonica_validation_features_X_chunks = np.asarray(japonica_validation_features_X, dtype=np.float64)\n",
    "japonica_validation_features_y_chunks = np.asarray(japonica_validation_features_y, dtype=np.float64)"
   ]
  },
  {
   "cell_type": "code",
   "execution_count": 10,
   "metadata": {},
   "outputs": [
    {
     "name": "stdout",
     "output_type": "stream",
     "text": [
      "nCar: 16202 nVar: 1\n",
      "nCar: 16202 nVar: 1\n",
      "nCar: 16202 nVar: 1\n",
      "nCar: 16202 nVar: 1\n"
     ]
    }
   ],
   "source": [
    "nCar = japonica_training_features_X_chunks.shape[0] # 데이터 개수\n",
    "nVar = japonica_training_features_X_chunks.shape[1] # 변수 개수\n",
    "print('nCar: %d' % nCar, 'nVar: %d' % nVar )\n",
    "\n",
    "nCar = japonica_training_features_y_chunks.shape[0] # 데이터 개수\n",
    "nVar = japonica_training_features_y_chunks.shape[1] # 변수 개수\n",
    "print('nCar: %d' % nCar, 'nVar: %d' % nVar )\n",
    "\n",
    "nCar = japonica_validation_features_X_chunks.shape[0] # 데이터 개수\n",
    "nVar = japonica_validation_features_X_chunks.shape[1] # 변수 개수\n",
    "print('nCar: %d' % nCar, 'nVar: %d' % nVar )\n",
    "\n",
    "nCar = japonica_validation_features_y_chunks.shape[0] # 데이터 개수\n",
    "nVar = japonica_validation_features_y_chunks.shape[1] # 변수 개수\n",
    "print('nCar: %d' % nCar, 'nVar: %d' % nVar )"
   ]
  },
  {
   "cell_type": "markdown",
   "metadata": {},
   "source": [
    "LSTM 모델 학습 (학습시에만 사용, 그외에는 불필요)"
   ]
  },
  {
   "cell_type": "code",
   "execution_count": 11,
   "metadata": {
    "scrolled": true
   },
   "outputs": [
    {
     "name": "stderr",
     "output_type": "stream",
     "text": [
      "2023-07-16 16:30:37.055872: I tensorflow/core/platform/cpu_feature_guard.cc:142] This TensorFlow binary is optimized with oneAPI Deep Neural Network Library (oneDNN) to use the following CPU instructions in performance-critical operations:  AVX2 AVX512F FMA\n",
      "To enable them in other operations, rebuild TensorFlow with the appropriate compiler flags.\n",
      "2023-07-16 16:30:37.736154: I tensorflow/core/common_runtime/gpu/gpu_device.cc:1510] Created device /job:localhost/replica:0/task:0/device:GPU:0 with 7951 MB memory:  -> device: 0, name: NVIDIA A100 80GB PCIe MIG 1g.10gb, pci bus id: 0000:d5:00.0, compute capability: 8.0\n",
      "/home/jovyan/.venv/tf2.6.0-keras2.6.0-py3.8-cuda11.3/lib/python3.8/site-packages/keras/optimizer_v2/optimizer_v2.py:355: UserWarning: The `lr` argument is deprecated, use `learning_rate` instead.\n",
      "  warnings.warn(\n",
      "2023-07-16 16:30:38.026777: I tensorflow/compiler/mlir/mlir_graph_optimization_pass.cc:185] None of the MLIR Optimization Passes are enabled (registered 2)\n"
     ]
    },
    {
     "name": "stdout",
     "output_type": "stream",
     "text": [
      "Epoch 1/10000000\n"
     ]
    },
    {
     "name": "stderr",
     "output_type": "stream",
     "text": [
      "2023-07-16 16:30:39.382714: I tensorflow/stream_executor/cuda/cuda_blas.cc:1760] TensorFloat-32 will be used for the matrix multiplication. This will only be logged once.\n"
     ]
    },
    {
     "name": "stdout",
     "output_type": "stream",
     "text": [
      "163/163 - 2s - loss: 36.6725 - val_loss: 1.5334\n",
      "Epoch 2/10000000\n",
      "163/163 - 1s - loss: 1.5054 - val_loss: 1.5030\n",
      "Epoch 3/10000000\n",
      "163/163 - 1s - loss: 1.5046 - val_loss: 1.5060\n",
      "Epoch 4/10000000\n",
      "163/163 - 1s - loss: 1.5054 - val_loss: 1.5037\n",
      "Epoch 5/10000000\n",
      "163/163 - 1s - loss: 1.5056 - val_loss: 1.5030\n",
      "Epoch 6/10000000\n",
      "163/163 - 1s - loss: 1.5057 - val_loss: 1.5168\n",
      "Epoch 7/10000000\n",
      "163/163 - 1s - loss: 1.5061 - val_loss: 1.5169\n",
      "Epoch 8/10000000\n",
      "163/163 - 1s - loss: 1.5146 - val_loss: 1.5092\n",
      "Epoch 9/10000000\n",
      "163/163 - 1s - loss: 1.5102 - val_loss: 1.5038\n",
      "Epoch 10/10000000\n",
      "163/163 - 1s - loss: 1.5084 - val_loss: 1.5191\n",
      "Epoch 11/10000000\n",
      "163/163 - 1s - loss: 1.5131 - val_loss: 1.5045\n",
      "Epoch 12/10000000\n",
      "163/163 - 1s - loss: 1.5099 - val_loss: 1.5039\n",
      "Epoch 13/10000000\n",
      "163/163 - 1s - loss: 1.5087 - val_loss: 1.5216\n",
      "Epoch 14/10000000\n",
      "163/163 - 1s - loss: 1.5114 - val_loss: 1.5082\n",
      "Epoch 15/10000000\n",
      "163/163 - 1s - loss: 1.5094 - val_loss: 1.5071\n",
      "Epoch 16/10000000\n",
      "163/163 - 1s - loss: 1.5069 - val_loss: 1.5045\n",
      "Epoch 17/10000000\n",
      "163/163 - 1s - loss: 1.5098 - val_loss: 1.5091\n",
      "Epoch 18/10000000\n",
      "163/163 - 1s - loss: 1.5074 - val_loss: 1.5061\n",
      "Epoch 19/10000000\n",
      "163/163 - 1s - loss: 1.5066 - val_loss: 1.5182\n",
      "Epoch 20/10000000\n",
      "163/163 - 1s - loss: 1.5080 - val_loss: 1.5041\n",
      "Epoch 21/10000000\n",
      "163/163 - 1s - loss: 1.5105 - val_loss: 1.5212\n",
      "Epoch 22/10000000\n",
      "163/163 - 1s - loss: 1.5210 - val_loss: 1.5187\n",
      "Epoch 23/10000000\n",
      "163/163 - 1s - loss: 1.5151 - val_loss: 1.5053\n",
      "Epoch 24/10000000\n",
      "163/163 - 1s - loss: 1.5094 - val_loss: 1.5228\n",
      "Epoch 25/10000000\n",
      "163/163 - 1s - loss: 1.5131 - val_loss: 1.5061\n",
      "Epoch 26/10000000\n",
      "163/163 - 1s - loss: 1.5121 - val_loss: 1.5085\n",
      "Epoch 27/10000000\n",
      "163/163 - 1s - loss: 1.5114 - val_loss: 1.5095\n",
      "Epoch 28/10000000\n",
      "163/163 - 1s - loss: 1.5088 - val_loss: 1.5132\n",
      "Epoch 29/10000000\n",
      "163/163 - 1s - loss: 1.5191 - val_loss: 1.5071\n",
      "Epoch 30/10000000\n",
      "163/163 - 1s - loss: 1.5116 - val_loss: 1.5042\n",
      "Epoch 31/10000000\n",
      "163/163 - 1s - loss: 1.5119 - val_loss: 1.5554\n",
      "Epoch 32/10000000\n",
      "163/163 - 1s - loss: 1.5227 - val_loss: 1.5082\n",
      "Epoch 33/10000000\n",
      "163/163 - 1s - loss: 1.5320 - val_loss: 1.5153\n",
      "Epoch 34/10000000\n",
      "163/163 - 1s - loss: 1.5068 - val_loss: 1.5049\n",
      "Epoch 35/10000000\n",
      "163/163 - 1s - loss: 1.5101 - val_loss: 1.5031\n",
      "Epoch 36/10000000\n",
      "163/163 - 1s - loss: 1.5099 - val_loss: 1.5757\n",
      "Epoch 37/10000000\n",
      "163/163 - 1s - loss: 1.5255 - val_loss: 1.5049\n",
      "Epoch 38/10000000\n",
      "163/163 - 1s - loss: 1.5104 - val_loss: 1.5042\n",
      "Epoch 39/10000000\n",
      "163/163 - 1s - loss: 1.5148 - val_loss: 1.5039\n",
      "Epoch 40/10000000\n",
      "163/163 - 1s - loss: 1.5084 - val_loss: 1.5086\n",
      "Epoch 41/10000000\n",
      "163/163 - 1s - loss: 1.5105 - val_loss: 1.5066\n",
      "Epoch 42/10000000\n",
      "163/163 - 1s - loss: 1.5098 - val_loss: 1.5081\n",
      "Epoch 43/10000000\n",
      "163/163 - 1s - loss: 1.5149 - val_loss: 1.5057\n",
      "Epoch 44/10000000\n",
      "163/163 - 1s - loss: 1.5116 - val_loss: 1.5110\n",
      "Epoch 45/10000000\n",
      "163/163 - 1s - loss: 1.5127 - val_loss: 1.5023\n",
      "Epoch 46/10000000\n",
      "163/163 - 1s - loss: 1.5068 - val_loss: 1.5367\n",
      "Epoch 47/10000000\n",
      "163/163 - 1s - loss: 1.5216 - val_loss: 1.5048\n",
      "Epoch 48/10000000\n",
      "163/163 - 1s - loss: 1.5073 - val_loss: 1.5246\n",
      "Epoch 49/10000000\n",
      "163/163 - 1s - loss: 1.5117 - val_loss: 1.5096\n",
      "Epoch 50/10000000\n",
      "163/163 - 1s - loss: 1.5137 - val_loss: 1.5067\n",
      "Epoch 51/10000000\n",
      "163/163 - 1s - loss: 1.5118 - val_loss: 1.5088\n",
      "Epoch 52/10000000\n",
      "163/163 - 1s - loss: 1.5077 - val_loss: 1.5043\n",
      "Epoch 53/10000000\n",
      "163/163 - 1s - loss: 1.5126 - val_loss: 1.5085\n",
      "Epoch 54/10000000\n",
      "163/163 - 1s - loss: 1.5088 - val_loss: 1.5127\n",
      "Epoch 55/10000000\n",
      "163/163 - 1s - loss: 1.5099 - val_loss: 1.5168\n",
      "Epoch 56/10000000\n",
      "163/163 - 1s - loss: 1.5143 - val_loss: 1.6030\n",
      "Epoch 57/10000000\n",
      "163/163 - 1s - loss: 1.5356 - val_loss: 1.5073\n",
      "Epoch 58/10000000\n",
      "163/163 - 1s - loss: 1.5188 - val_loss: 1.5062\n",
      "Epoch 59/10000000\n",
      "163/163 - 1s - loss: 1.5084 - val_loss: 1.5119\n",
      "Epoch 60/10000000\n",
      "163/163 - 1s - loss: 1.5081 - val_loss: 1.5032\n",
      "Epoch 61/10000000\n",
      "163/163 - 1s - loss: 1.5107 - val_loss: 1.5094\n",
      "Epoch 62/10000000\n",
      "163/163 - 1s - loss: 1.5088 - val_loss: 1.5064\n",
      "Epoch 63/10000000\n",
      "163/163 - 1s - loss: 1.5113 - val_loss: 1.5041\n",
      "Epoch 64/10000000\n",
      "163/163 - 1s - loss: 1.5068 - val_loss: 1.5297\n",
      "Epoch 65/10000000\n",
      "163/163 - 1s - loss: 1.5122 - val_loss: 1.5068\n",
      "Epoch 66/10000000\n",
      "163/163 - 1s - loss: 1.5098 - val_loss: 1.5030\n",
      "Epoch 67/10000000\n",
      "163/163 - 1s - loss: 1.5099 - val_loss: 1.5559\n",
      "Epoch 68/10000000\n",
      "163/163 - 1s - loss: 1.5122 - val_loss: 1.5146\n",
      "Epoch 69/10000000\n",
      "163/163 - 1s - loss: 1.5100 - val_loss: 1.5039\n",
      "Epoch 70/10000000\n",
      "163/163 - 1s - loss: 1.5092 - val_loss: 1.5049\n",
      "Epoch 71/10000000\n",
      "163/163 - 1s - loss: 1.5099 - val_loss: 1.5237\n",
      "Epoch 72/10000000\n",
      "163/163 - 1s - loss: 1.5148 - val_loss: 1.5075\n",
      "Epoch 73/10000000\n",
      "163/163 - 1s - loss: 1.5094 - val_loss: 1.5054\n",
      "Epoch 74/10000000\n",
      "163/163 - 1s - loss: 1.5072 - val_loss: 1.5052\n",
      "Epoch 75/10000000\n",
      "163/163 - 1s - loss: 1.5080 - val_loss: 1.5177\n",
      "Epoch 76/10000000\n",
      "163/163 - 1s - loss: 1.5081 - val_loss: 1.5039\n",
      "Epoch 77/10000000\n",
      "163/163 - 1s - loss: 1.5094 - val_loss: 1.5103\n",
      "Epoch 78/10000000\n",
      "163/163 - 1s - loss: 1.5093 - val_loss: 1.5026\n",
      "Epoch 79/10000000\n",
      "163/163 - 1s - loss: 1.5080 - val_loss: 1.5142\n",
      "Epoch 80/10000000\n",
      "163/163 - 1s - loss: 1.5106 - val_loss: 1.5032\n",
      "Epoch 81/10000000\n",
      "163/163 - 1s - loss: 1.5098 - val_loss: 1.5126\n",
      "Epoch 82/10000000\n",
      "163/163 - 1s - loss: 1.5119 - val_loss: 1.5028\n",
      "Epoch 83/10000000\n",
      "163/163 - 1s - loss: 1.5081 - val_loss: 1.5038\n",
      "Epoch 84/10000000\n",
      "163/163 - 1s - loss: 1.5102 - val_loss: 1.5027\n",
      "Epoch 85/10000000\n",
      "163/163 - 1s - loss: 1.5093 - val_loss: 1.5195\n",
      "Epoch 86/10000000\n",
      "163/163 - 1s - loss: 1.5141 - val_loss: 1.5134\n",
      "Epoch 87/10000000\n",
      "163/163 - 1s - loss: 1.5132 - val_loss: 1.5088\n",
      "Epoch 88/10000000\n",
      "163/163 - 1s - loss: 1.5189 - val_loss: 1.5205\n",
      "Epoch 89/10000000\n",
      "163/163 - 1s - loss: 1.5098 - val_loss: 1.5116\n",
      "Epoch 90/10000000\n",
      "163/163 - 1s - loss: 1.5121 - val_loss: 1.5037\n",
      "Epoch 91/10000000\n",
      "163/163 - 1s - loss: 1.5114 - val_loss: 1.5026\n",
      "Epoch 92/10000000\n",
      "163/163 - 1s - loss: 1.5103 - val_loss: 1.5047\n",
      "Epoch 93/10000000\n",
      "163/163 - 1s - loss: 1.5086 - val_loss: 1.5104\n",
      "Epoch 94/10000000\n",
      "163/163 - 1s - loss: 1.5085 - val_loss: 1.5395\n",
      "Epoch 95/10000000\n",
      "163/163 - 1s - loss: 1.5193 - val_loss: 1.5145\n",
      "Epoch 96/10000000\n",
      "163/163 - 1s - loss: 1.5124 - val_loss: 1.5133\n",
      "Epoch 97/10000000\n",
      "163/163 - 1s - loss: 1.5078 - val_loss: 1.5081\n",
      "Epoch 98/10000000\n",
      "163/163 - 1s - loss: 1.5107 - val_loss: 1.5029\n",
      "Epoch 99/10000000\n",
      "163/163 - 1s - loss: 1.5094 - val_loss: 1.5080\n",
      "Epoch 100/10000000\n",
      "163/163 - 1s - loss: 1.5110 - val_loss: 1.5178\n",
      "Epoch 101/10000000\n",
      "163/163 - 1s - loss: 1.5108 - val_loss: 1.5069\n",
      "Epoch 102/10000000\n",
      "163/163 - 1s - loss: 1.5106 - val_loss: 1.5198\n",
      "Epoch 103/10000000\n",
      "163/163 - 1s - loss: 1.5169 - val_loss: 1.5066\n",
      "Epoch 104/10000000\n",
      "163/163 - 1s - loss: 1.5064 - val_loss: 1.5029\n",
      "Epoch 105/10000000\n",
      "163/163 - 1s - loss: 1.5095 - val_loss: 1.5125\n",
      "Epoch 106/10000000\n",
      "163/163 - 1s - loss: 1.5083 - val_loss: 1.5023\n",
      "Epoch 107/10000000\n",
      "163/163 - 1s - loss: 1.5109 - val_loss: 1.5275\n",
      "Epoch 108/10000000\n",
      "163/163 - 1s - loss: 1.5125 - val_loss: 1.5090\n",
      "Epoch 109/10000000\n",
      "163/163 - 1s - loss: 1.5096 - val_loss: 1.5078\n",
      "Epoch 110/10000000\n",
      "163/163 - 1s - loss: 1.5147 - val_loss: 1.5116\n",
      "Epoch 111/10000000\n",
      "163/163 - 1s - loss: 1.5099 - val_loss: 1.5080\n",
      "Epoch 112/10000000\n",
      "163/163 - 1s - loss: 1.5083 - val_loss: 1.5059\n",
      "Epoch 113/10000000\n",
      "163/163 - 1s - loss: 1.5049 - val_loss: 1.5185\n",
      "Epoch 114/10000000\n",
      "163/163 - 1s - loss: 1.5114 - val_loss: 1.5153\n",
      "Epoch 115/10000000\n",
      "163/163 - 1s - loss: 1.5090 - val_loss: 1.5065\n",
      "Epoch 116/10000000\n",
      "163/163 - 1s - loss: 1.5093 - val_loss: 1.5411\n",
      "Epoch 117/10000000\n",
      "163/163 - 1s - loss: 1.5176 - val_loss: 1.5133\n",
      "Epoch 118/10000000\n",
      "163/163 - 1s - loss: 1.5085 - val_loss: 1.5068\n",
      "Epoch 119/10000000\n",
      "163/163 - 1s - loss: 1.5122 - val_loss: 1.5441\n",
      "Epoch 120/10000000\n",
      "163/163 - 1s - loss: 1.5117 - val_loss: 1.5519\n",
      "Epoch 121/10000000\n",
      "163/163 - 1s - loss: 1.5108 - val_loss: 1.5071\n",
      "Epoch 122/10000000\n",
      "163/163 - 1s - loss: 1.5117 - val_loss: 1.5036\n",
      "Epoch 123/10000000\n",
      "163/163 - 1s - loss: 1.5077 - val_loss: 1.5173\n",
      "Epoch 124/10000000\n",
      "163/163 - 1s - loss: 1.5121 - val_loss: 1.5124\n",
      "Epoch 125/10000000\n",
      "163/163 - 1s - loss: 1.5072 - val_loss: 1.5073\n",
      "Epoch 126/10000000\n",
      "163/163 - 1s - loss: 1.5092 - val_loss: 1.5074\n",
      "Epoch 127/10000000\n"
     ]
    },
    {
     "name": "stdout",
     "output_type": "stream",
     "text": [
      "163/163 - 1s - loss: 1.5078 - val_loss: 1.5084\n",
      "Epoch 128/10000000\n",
      "163/163 - 1s - loss: 1.5132 - val_loss: 1.5040\n",
      "Epoch 129/10000000\n",
      "163/163 - 1s - loss: 1.5079 - val_loss: 1.5037\n",
      "Epoch 130/10000000\n",
      "163/163 - 1s - loss: 1.5112 - val_loss: 1.5039\n",
      "Epoch 131/10000000\n",
      "163/163 - 1s - loss: 1.5135 - val_loss: 1.5594\n",
      "Epoch 132/10000000\n",
      "163/163 - 1s - loss: 1.5138 - val_loss: 1.5151\n",
      "Epoch 133/10000000\n",
      "163/163 - 1s - loss: 1.5093 - val_loss: 1.5374\n",
      "Epoch 134/10000000\n",
      "163/163 - 1s - loss: 1.5149 - val_loss: 1.5064\n",
      "Epoch 135/10000000\n",
      "163/163 - 1s - loss: 1.5127 - val_loss: 1.5023\n",
      "Epoch 136/10000000\n",
      "163/163 - 1s - loss: 1.5100 - val_loss: 1.5412\n",
      "Epoch 137/10000000\n",
      "163/163 - 1s - loss: 1.5134 - val_loss: 1.5098\n",
      "Epoch 138/10000000\n",
      "163/163 - 1s - loss: 1.5094 - val_loss: 1.5089\n",
      "Epoch 139/10000000\n",
      "163/163 - 1s - loss: 1.5076 - val_loss: 1.5024\n",
      "Epoch 140/10000000\n",
      "163/163 - 1s - loss: 1.5085 - val_loss: 1.5039\n",
      "Epoch 141/10000000\n",
      "163/163 - 1s - loss: 1.5097 - val_loss: 1.5035\n",
      "Epoch 142/10000000\n",
      "163/163 - 1s - loss: 1.5115 - val_loss: 1.5108\n",
      "Epoch 143/10000000\n",
      "163/163 - 1s - loss: 1.5114 - val_loss: 1.5109\n",
      "Epoch 144/10000000\n",
      "163/163 - 1s - loss: 1.5104 - val_loss: 1.5111\n",
      "Epoch 145/10000000\n",
      "163/163 - 1s - loss: 1.5097 - val_loss: 1.5040\n",
      "Epoch 146/10000000\n",
      "163/163 - 1s - loss: 1.5108 - val_loss: 1.5184\n",
      "Epoch 147/10000000\n",
      "163/163 - 1s - loss: 1.5088 - val_loss: 1.5030\n",
      "Epoch 148/10000000\n",
      "163/163 - 1s - loss: 1.5091 - val_loss: 1.5076\n",
      "Epoch 149/10000000\n",
      "163/163 - 1s - loss: 1.5069 - val_loss: 1.5293\n",
      "Epoch 150/10000000\n",
      "163/163 - 1s - loss: 1.5096 - val_loss: 1.5206\n",
      "Epoch 151/10000000\n",
      "163/163 - 1s - loss: 1.5142 - val_loss: 1.5028\n",
      "Epoch 152/10000000\n",
      "163/163 - 1s - loss: 1.5082 - val_loss: 1.5295\n",
      "Epoch 153/10000000\n",
      "163/163 - 1s - loss: 1.5112 - val_loss: 1.5022\n",
      "Epoch 154/10000000\n",
      "163/163 - 1s - loss: 1.5130 - val_loss: 1.5170\n",
      "Epoch 155/10000000\n",
      "163/163 - 1s - loss: 1.5125 - val_loss: 1.5268\n",
      "Epoch 156/10000000\n",
      "163/163 - 1s - loss: 1.5084 - val_loss: 1.5238\n",
      "Epoch 157/10000000\n",
      "163/163 - 1s - loss: 1.5118 - val_loss: 1.5048\n",
      "Epoch 158/10000000\n",
      "163/163 - 1s - loss: 1.5086 - val_loss: 1.5175\n",
      "Epoch 159/10000000\n",
      "163/163 - 1s - loss: 1.5125 - val_loss: 1.5030\n",
      "Epoch 160/10000000\n",
      "163/163 - 1s - loss: 1.5096 - val_loss: 1.5270\n",
      "Epoch 161/10000000\n",
      "163/163 - 1s - loss: 1.5286 - val_loss: 1.5081\n",
      "Epoch 162/10000000\n",
      "163/163 - 1s - loss: 1.5109 - val_loss: 1.5152\n",
      "Epoch 163/10000000\n",
      "163/163 - 1s - loss: 1.5088 - val_loss: 1.5091\n",
      "Epoch 164/10000000\n",
      "163/163 - 1s - loss: 1.5074 - val_loss: 1.5108\n",
      "Epoch 165/10000000\n",
      "163/163 - 1s - loss: 1.5092 - val_loss: 1.5289\n",
      "Epoch 166/10000000\n",
      "163/163 - 1s - loss: 1.5120 - val_loss: 1.5036\n",
      "Epoch 167/10000000\n",
      "163/163 - 1s - loss: 1.5080 - val_loss: 1.5095\n",
      "Epoch 168/10000000\n",
      "163/163 - 1s - loss: 1.5066 - val_loss: 1.5320\n",
      "Epoch 169/10000000\n",
      "163/163 - 1s - loss: 1.5153 - val_loss: 1.5225\n",
      "Epoch 170/10000000\n",
      "163/163 - 1s - loss: 1.5123 - val_loss: 1.5067\n",
      "Epoch 171/10000000\n",
      "163/163 - 1s - loss: 1.5063 - val_loss: 1.5107\n",
      "Epoch 172/10000000\n",
      "163/163 - 1s - loss: 1.5086 - val_loss: 1.5048\n",
      "Epoch 173/10000000\n",
      "163/163 - 1s - loss: 1.5067 - val_loss: 1.5174\n",
      "Epoch 174/10000000\n",
      "163/163 - 1s - loss: 1.5111 - val_loss: 1.5023\n",
      "Epoch 175/10000000\n",
      "163/163 - 1s - loss: 1.5066 - val_loss: 1.5058\n",
      "Epoch 176/10000000\n",
      "163/163 - 1s - loss: 1.5095 - val_loss: 1.5058\n",
      "Epoch 177/10000000\n",
      "163/163 - 1s - loss: 1.5089 - val_loss: 1.5133\n",
      "Epoch 178/10000000\n",
      "163/163 - 1s - loss: 1.5074 - val_loss: 1.5044\n",
      "Epoch 179/10000000\n",
      "163/163 - 1s - loss: 1.5072 - val_loss: 1.5023\n",
      "Epoch 180/10000000\n",
      "163/163 - 1s - loss: 1.5068 - val_loss: 1.5031\n",
      "Epoch 181/10000000\n",
      "163/163 - 1s - loss: 1.5079 - val_loss: 1.5030\n",
      "Epoch 182/10000000\n",
      "163/163 - 1s - loss: 1.5072 - val_loss: 1.5069\n",
      "Epoch 183/10000000\n",
      "163/163 - 1s - loss: 1.5063 - val_loss: 1.5121\n",
      "Epoch 184/10000000\n",
      "163/163 - 1s - loss: 1.5112 - val_loss: 1.5025\n",
      "Epoch 185/10000000\n",
      "163/163 - 1s - loss: 1.5105 - val_loss: 1.5085\n",
      "Epoch 186/10000000\n",
      "163/163 - 1s - loss: 1.5063 - val_loss: 1.5026\n",
      "Epoch 187/10000000\n",
      "163/163 - 1s - loss: 1.5100 - val_loss: 1.5200\n",
      "Epoch 188/10000000\n",
      "163/163 - 1s - loss: 1.5110 - val_loss: 1.5136\n",
      "Epoch 189/10000000\n",
      "163/163 - 1s - loss: 1.5075 - val_loss: 1.5082\n",
      "Epoch 190/10000000\n",
      "163/163 - 1s - loss: 1.5141 - val_loss: 1.5058\n",
      "Epoch 191/10000000\n",
      "163/163 - 1s - loss: 1.5140 - val_loss: 1.5024\n",
      "Epoch 192/10000000\n",
      "163/163 - 1s - loss: 1.5090 - val_loss: 1.5179\n",
      "Epoch 193/10000000\n",
      "163/163 - 1s - loss: 1.5087 - val_loss: 1.5038\n",
      "Epoch 194/10000000\n",
      "163/163 - 1s - loss: 1.5071 - val_loss: 1.5057\n",
      "Epoch 195/10000000\n",
      "163/163 - 1s - loss: 1.5082 - val_loss: 1.5055\n",
      "Epoch 196/10000000\n",
      "163/163 - 1s - loss: 1.5091 - val_loss: 1.5037\n",
      "Epoch 197/10000000\n",
      "163/163 - 1s - loss: 1.5136 - val_loss: 1.5436\n",
      "Epoch 198/10000000\n",
      "163/163 - 1s - loss: 1.5106 - val_loss: 1.5037\n",
      "Epoch 199/10000000\n",
      "163/163 - 1s - loss: 1.5084 - val_loss: 1.5188\n",
      "Epoch 200/10000000\n",
      "163/163 - 1s - loss: 1.5169 - val_loss: 1.5034\n",
      "Epoch 201/10000000\n",
      "163/163 - 1s - loss: 1.5081 - val_loss: 1.5174\n",
      "Epoch 202/10000000\n",
      "163/163 - 1s - loss: 1.5106 - val_loss: 1.5449\n",
      "Epoch 203/10000000\n",
      "163/163 - 1s - loss: 1.5233 - val_loss: 1.5096\n",
      "Epoch 204/10000000\n",
      "163/163 - 1s - loss: 1.5076 - val_loss: 1.5031\n",
      "Epoch 205/10000000\n",
      "163/163 - 1s - loss: 1.5073 - val_loss: 1.5060\n",
      "Epoch 206/10000000\n",
      "163/163 - 1s - loss: 1.5082 - val_loss: 1.5043\n",
      "Epoch 207/10000000\n",
      "163/163 - 1s - loss: 1.5070 - val_loss: 1.5168\n",
      "Epoch 208/10000000\n",
      "163/163 - 1s - loss: 1.5101 - val_loss: 1.5024\n",
      "Epoch 209/10000000\n",
      "163/163 - 1s - loss: 1.5087 - val_loss: 1.5082\n",
      "Epoch 210/10000000\n",
      "163/163 - 1s - loss: 1.5086 - val_loss: 1.5335\n",
      "Epoch 211/10000000\n",
      "163/163 - 1s - loss: 1.5193 - val_loss: 1.5132\n",
      "Epoch 212/10000000\n",
      "163/163 - 1s - loss: 1.5090 - val_loss: 1.5035\n",
      "Epoch 213/10000000\n",
      "163/163 - 1s - loss: 1.5046 - val_loss: 1.5087\n",
      "Epoch 214/10000000\n",
      "163/163 - 1s - loss: 1.5091 - val_loss: 1.5134\n",
      "Epoch 215/10000000\n",
      "163/163 - 1s - loss: 1.5107 - val_loss: 1.5053\n",
      "Epoch 216/10000000\n",
      "163/163 - 1s - loss: 1.5077 - val_loss: 1.5212\n",
      "Epoch 217/10000000\n",
      "163/163 - 1s - loss: 1.5115 - val_loss: 1.5037\n",
      "Epoch 218/10000000\n",
      "163/163 - 1s - loss: 1.5058 - val_loss: 1.5434\n",
      "Epoch 219/10000000\n",
      "163/163 - 1s - loss: 1.5141 - val_loss: 1.5073\n",
      "Epoch 220/10000000\n",
      "163/163 - 1s - loss: 1.5098 - val_loss: 1.5050\n",
      "Epoch 221/10000000\n",
      "163/163 - 1s - loss: 1.5107 - val_loss: 1.5112\n",
      "Epoch 222/10000000\n",
      "163/163 - 1s - loss: 1.5134 - val_loss: 1.5118\n",
      "Epoch 223/10000000\n",
      "163/163 - 1s - loss: 1.5082 - val_loss: 1.5034\n",
      "Epoch 224/10000000\n",
      "163/163 - 1s - loss: 1.5072 - val_loss: 1.5039\n",
      "Epoch 225/10000000\n",
      "163/163 - 1s - loss: 1.5068 - val_loss: 1.5130\n",
      "Epoch 226/10000000\n",
      "163/163 - 1s - loss: 1.5073 - val_loss: 1.5059\n",
      "Epoch 227/10000000\n",
      "163/163 - 1s - loss: 1.5120 - val_loss: 1.5057\n",
      "Epoch 228/10000000\n",
      "163/163 - 1s - loss: 1.5099 - val_loss: 1.5073\n",
      "Epoch 229/10000000\n",
      "163/163 - 1s - loss: 1.5085 - val_loss: 1.5043\n",
      "Epoch 230/10000000\n",
      "163/163 - 1s - loss: 1.5055 - val_loss: 1.5424\n",
      "Epoch 231/10000000\n",
      "163/163 - 1s - loss: 1.5172 - val_loss: 1.5071\n",
      "Epoch 232/10000000\n",
      "163/163 - 1s - loss: 1.5060 - val_loss: 1.5030\n",
      "Epoch 233/10000000\n",
      "163/163 - 1s - loss: 1.5091 - val_loss: 1.5282\n",
      "Epoch 234/10000000\n",
      "163/163 - 1s - loss: 1.5075 - val_loss: 1.5343\n",
      "Epoch 235/10000000\n",
      "163/163 - 1s - loss: 1.5119 - val_loss: 1.5043\n",
      "Epoch 236/10000000\n",
      "163/163 - 1s - loss: 1.5088 - val_loss: 1.5151\n",
      "Epoch 237/10000000\n",
      "163/163 - 1s - loss: 1.5062 - val_loss: 1.5137\n",
      "Epoch 238/10000000\n",
      "163/163 - 1s - loss: 1.5104 - val_loss: 1.5114\n",
      "Epoch 239/10000000\n",
      "163/163 - 1s - loss: 1.5106 - val_loss: 1.5021\n",
      "Epoch 240/10000000\n",
      "163/163 - 1s - loss: 1.5099 - val_loss: 1.5069\n",
      "Epoch 241/10000000\n",
      "163/163 - 1s - loss: 1.5134 - val_loss: 1.5152\n",
      "Epoch 242/10000000\n",
      "163/163 - 1s - loss: 1.5051 - val_loss: 1.5107\n",
      "Epoch 243/10000000\n",
      "163/163 - 1s - loss: 1.5096 - val_loss: 1.5084\n",
      "Epoch 244/10000000\n",
      "163/163 - 1s - loss: 1.5075 - val_loss: 1.5087\n",
      "Epoch 245/10000000\n",
      "163/163 - 1s - loss: 1.5087 - val_loss: 1.5062\n",
      "Epoch 246/10000000\n",
      "163/163 - 1s - loss: 1.5078 - val_loss: 1.5090\n",
      "Epoch 247/10000000\n",
      "163/163 - 1s - loss: 1.5072 - val_loss: 1.5029\n",
      "Epoch 248/10000000\n",
      "163/163 - 1s - loss: 1.5127 - val_loss: 1.5166\n",
      "Epoch 249/10000000\n",
      "163/163 - 1s - loss: 1.5081 - val_loss: 1.5126\n",
      "Epoch 250/10000000\n",
      "163/163 - 1s - loss: 1.5133 - val_loss: 1.5028\n",
      "Epoch 251/10000000\n",
      "163/163 - 1s - loss: 1.5128 - val_loss: 1.5028\n"
     ]
    },
    {
     "name": "stdout",
     "output_type": "stream",
     "text": [
      "Epoch 252/10000000\n",
      "163/163 - 1s - loss: 1.5094 - val_loss: 1.5158\n",
      "Epoch 253/10000000\n",
      "163/163 - 1s - loss: 1.5078 - val_loss: 1.5054\n",
      "Epoch 254/10000000\n",
      "163/163 - 1s - loss: 1.5082 - val_loss: 1.5048\n",
      "Epoch 255/10000000\n",
      "163/163 - 1s - loss: 1.5088 - val_loss: 1.5037\n",
      "Epoch 256/10000000\n",
      "163/163 - 1s - loss: 1.5144 - val_loss: 1.5027\n",
      "Epoch 257/10000000\n",
      "163/163 - 1s - loss: 1.5060 - val_loss: 1.5799\n",
      "Epoch 258/10000000\n",
      "163/163 - 1s - loss: 1.5168 - val_loss: 1.5058\n",
      "Epoch 259/10000000\n",
      "163/163 - 1s - loss: 1.5080 - val_loss: 1.5051\n",
      "Epoch 260/10000000\n",
      "163/163 - 1s - loss: 1.5078 - val_loss: 1.5027\n",
      "Epoch 261/10000000\n",
      "163/163 - 1s - loss: 1.5072 - val_loss: 1.5032\n",
      "Epoch 262/10000000\n",
      "163/163 - 1s - loss: 1.5102 - val_loss: 1.5258\n",
      "Epoch 263/10000000\n",
      "163/163 - 1s - loss: 1.5130 - val_loss: 1.5143\n",
      "Epoch 264/10000000\n",
      "163/163 - 1s - loss: 1.5067 - val_loss: 1.5112\n",
      "Epoch 265/10000000\n",
      "163/163 - 1s - loss: 1.5062 - val_loss: 1.5183\n",
      "Epoch 266/10000000\n",
      "163/163 - 1s - loss: 1.5067 - val_loss: 1.5206\n",
      "Epoch 267/10000000\n",
      "163/163 - 1s - loss: 1.5056 - val_loss: 1.5219\n",
      "Epoch 268/10000000\n",
      "163/163 - 1s - loss: 1.5159 - val_loss: 1.5314\n",
      "Epoch 269/10000000\n",
      "163/163 - 1s - loss: 1.5085 - val_loss: 1.5047\n",
      "Epoch 270/10000000\n",
      "163/163 - 1s - loss: 1.5104 - val_loss: 1.5128\n",
      "Epoch 271/10000000\n",
      "163/163 - 1s - loss: 1.5078 - val_loss: 1.5097\n",
      "Epoch 272/10000000\n",
      "163/163 - 1s - loss: 1.5071 - val_loss: 1.5229\n",
      "Epoch 273/10000000\n",
      "163/163 - 1s - loss: 1.5149 - val_loss: 1.5206\n",
      "Epoch 274/10000000\n",
      "163/163 - 1s - loss: 1.5079 - val_loss: 1.5023\n",
      "Epoch 275/10000000\n",
      "163/163 - 1s - loss: 1.5118 - val_loss: 1.5257\n",
      "Epoch 276/10000000\n",
      "163/163 - 1s - loss: 1.5068 - val_loss: 1.5084\n",
      "Epoch 277/10000000\n",
      "163/163 - 1s - loss: 1.5078 - val_loss: 1.5052\n",
      "Epoch 278/10000000\n",
      "163/163 - 1s - loss: 1.5079 - val_loss: 1.5044\n",
      "Epoch 279/10000000\n",
      "163/163 - 1s - loss: 1.5078 - val_loss: 1.5028\n",
      "Epoch 280/10000000\n",
      "163/163 - 1s - loss: 1.5094 - val_loss: 1.5022\n",
      "Epoch 281/10000000\n",
      "163/163 - 1s - loss: 1.5056 - val_loss: 1.5046\n",
      "Epoch 282/10000000\n",
      "163/163 - 1s - loss: 1.5106 - val_loss: 1.5082\n",
      "Epoch 283/10000000\n",
      "163/163 - 1s - loss: 1.5101 - val_loss: 1.5187\n",
      "Epoch 284/10000000\n",
      "163/163 - 1s - loss: 1.5062 - val_loss: 1.5026\n",
      "Epoch 285/10000000\n",
      "163/163 - 1s - loss: 1.5110 - val_loss: 1.5057\n",
      "Epoch 286/10000000\n",
      "163/163 - 1s - loss: 1.5099 - val_loss: 1.5106\n",
      "Epoch 287/10000000\n",
      "163/163 - 1s - loss: 1.5081 - val_loss: 1.5087\n",
      "Epoch 288/10000000\n",
      "163/163 - 1s - loss: 1.5094 - val_loss: 1.5026\n",
      "Epoch 289/10000000\n",
      "163/163 - 1s - loss: 1.5116 - val_loss: 1.5172\n",
      "Epoch 290/10000000\n",
      "163/163 - 1s - loss: 1.5088 - val_loss: 1.5138\n",
      "Epoch 291/10000000\n",
      "163/163 - 1s - loss: 1.5083 - val_loss: 1.5162\n",
      "Epoch 292/10000000\n",
      "163/163 - 1s - loss: 1.5097 - val_loss: 1.5022\n",
      "Epoch 293/10000000\n",
      "163/163 - 1s - loss: 1.5057 - val_loss: 1.5023\n",
      "Epoch 294/10000000\n",
      "163/163 - 1s - loss: 1.5098 - val_loss: 1.5069\n",
      "Epoch 295/10000000\n",
      "163/163 - 1s - loss: 1.5059 - val_loss: 1.5074\n",
      "Epoch 296/10000000\n",
      "163/163 - 1s - loss: 1.5072 - val_loss: 1.5333\n",
      "Epoch 297/10000000\n",
      "163/163 - 1s - loss: 1.5153 - val_loss: 1.5041\n",
      "Epoch 298/10000000\n",
      "163/163 - 1s - loss: 1.5076 - val_loss: 1.5049\n",
      "Epoch 299/10000000\n",
      "163/163 - 1s - loss: 1.5079 - val_loss: 1.5028\n",
      "Epoch 300/10000000\n",
      "163/163 - 1s - loss: 1.5100 - val_loss: 1.5137\n",
      "Epoch 301/10000000\n",
      "163/163 - 1s - loss: 1.5103 - val_loss: 1.5163\n",
      "Epoch 302/10000000\n",
      "163/163 - 1s - loss: 1.5102 - val_loss: 1.5206\n",
      "Epoch 303/10000000\n",
      "163/163 - 1s - loss: 1.5071 - val_loss: 1.5303\n",
      "Epoch 304/10000000\n",
      "163/163 - 1s - loss: 1.5061 - val_loss: 1.5053\n",
      "Epoch 305/10000000\n",
      "163/163 - 1s - loss: 1.5054 - val_loss: 1.5040\n",
      "Epoch 306/10000000\n",
      "163/163 - 1s - loss: 1.5178 - val_loss: 1.5220\n",
      "Epoch 307/10000000\n",
      "163/163 - 1s - loss: 1.5142 - val_loss: 1.5039\n",
      "Epoch 308/10000000\n",
      "163/163 - 1s - loss: 1.5074 - val_loss: 1.5106\n",
      "Epoch 309/10000000\n",
      "163/163 - 1s - loss: 1.5131 - val_loss: 1.5168\n",
      "Epoch 310/10000000\n",
      "163/163 - 1s - loss: 1.5099 - val_loss: 1.5028\n",
      "Epoch 311/10000000\n",
      "163/163 - 1s - loss: 1.5075 - val_loss: 1.5027\n",
      "Epoch 312/10000000\n",
      "163/163 - 1s - loss: 1.5065 - val_loss: 1.5112\n",
      "Epoch 313/10000000\n",
      "163/163 - 1s - loss: 1.5062 - val_loss: 1.5028\n",
      "Epoch 314/10000000\n",
      "163/163 - 1s - loss: 1.5072 - val_loss: 1.5044\n",
      "Epoch 315/10000000\n",
      "163/163 - 1s - loss: 1.5062 - val_loss: 1.5326\n",
      "Epoch 316/10000000\n",
      "163/163 - 1s - loss: 1.5099 - val_loss: 1.5027\n",
      "Epoch 317/10000000\n",
      "163/163 - 1s - loss: 1.5102 - val_loss: 1.5102\n",
      "Epoch 318/10000000\n",
      "163/163 - 1s - loss: 1.5080 - val_loss: 1.5160\n",
      "Epoch 319/10000000\n",
      "163/163 - 1s - loss: 1.5093 - val_loss: 1.5094\n",
      "Epoch 320/10000000\n",
      "163/163 - 1s - loss: 1.5133 - val_loss: 1.5030\n",
      "Epoch 321/10000000\n",
      "163/163 - 1s - loss: 1.5066 - val_loss: 1.5078\n",
      "Epoch 322/10000000\n",
      "163/163 - 1s - loss: 1.5109 - val_loss: 1.5038\n",
      "Epoch 323/10000000\n",
      "163/163 - 1s - loss: 1.5080 - val_loss: 1.5054\n",
      "Epoch 324/10000000\n",
      "163/163 - 1s - loss: 1.5091 - val_loss: 1.5076\n",
      "Epoch 325/10000000\n",
      "163/163 - 1s - loss: 1.5129 - val_loss: 1.5040\n",
      "Epoch 326/10000000\n",
      "163/163 - 1s - loss: 1.5067 - val_loss: 1.5241\n",
      "Epoch 327/10000000\n",
      "163/163 - 1s - loss: 1.5077 - val_loss: 1.5103\n",
      "Epoch 328/10000000\n",
      "163/163 - 1s - loss: 1.5112 - val_loss: 1.5022\n",
      "Epoch 329/10000000\n",
      "163/163 - 1s - loss: 1.5110 - val_loss: 1.5039\n",
      "Epoch 330/10000000\n",
      "163/163 - 1s - loss: 1.5071 - val_loss: 1.5026\n",
      "Epoch 331/10000000\n",
      "163/163 - 1s - loss: 1.5077 - val_loss: 1.5052\n",
      "Epoch 332/10000000\n",
      "163/163 - 1s - loss: 1.5065 - val_loss: 1.5073\n",
      "Epoch 333/10000000\n",
      "163/163 - 1s - loss: 1.5090 - val_loss: 1.5177\n",
      "Epoch 334/10000000\n",
      "163/163 - 1s - loss: 1.5090 - val_loss: 1.5077\n",
      "Epoch 335/10000000\n",
      "163/163 - 1s - loss: 1.5123 - val_loss: 1.5068\n",
      "Epoch 336/10000000\n",
      "163/163 - 1s - loss: 1.5081 - val_loss: 1.5272\n",
      "Epoch 337/10000000\n",
      "163/163 - 1s - loss: 1.5088 - val_loss: 1.5021\n",
      "Epoch 338/10000000\n",
      "163/163 - 1s - loss: 1.5091 - val_loss: 1.5023\n",
      "Epoch 339/10000000\n",
      "163/163 - 1s - loss: 1.5071 - val_loss: 1.5137\n",
      "Epoch 340/10000000\n",
      "163/163 - 1s - loss: 1.5101 - val_loss: 1.5042\n",
      "Epoch 341/10000000\n",
      "163/163 - 1s - loss: 1.5085 - val_loss: 1.5035\n",
      "Epoch 342/10000000\n",
      "163/163 - 1s - loss: 1.5057 - val_loss: 1.5088\n",
      "Epoch 343/10000000\n",
      "163/163 - 1s - loss: 1.5086 - val_loss: 1.5028\n",
      "Epoch 344/10000000\n",
      "163/163 - 1s - loss: 1.5135 - val_loss: 1.5244\n",
      "Epoch 345/10000000\n",
      "163/163 - 1s - loss: 1.5087 - val_loss: 1.5096\n",
      "Epoch 346/10000000\n",
      "163/163 - 1s - loss: 1.5108 - val_loss: 1.5318\n",
      "Epoch 347/10000000\n",
      "163/163 - 1s - loss: 1.5095 - val_loss: 1.5021\n",
      "Epoch 348/10000000\n",
      "163/163 - 1s - loss: 1.5068 - val_loss: 1.5067\n",
      "Epoch 349/10000000\n",
      "163/163 - 1s - loss: 1.5071 - val_loss: 1.5094\n",
      "Epoch 350/10000000\n",
      "163/163 - 1s - loss: 1.5116 - val_loss: 1.5030\n",
      "Epoch 351/10000000\n",
      "163/163 - 1s - loss: 1.5078 - val_loss: 1.5060\n",
      "Epoch 352/10000000\n",
      "163/163 - 1s - loss: 1.5080 - val_loss: 1.5061\n",
      "Epoch 353/10000000\n",
      "163/163 - 1s - loss: 1.5072 - val_loss: 1.5074\n",
      "Epoch 354/10000000\n",
      "163/163 - 1s - loss: 1.5096 - val_loss: 1.5164\n",
      "Epoch 355/10000000\n",
      "163/163 - 1s - loss: 1.5113 - val_loss: 1.5047\n",
      "Epoch 356/10000000\n",
      "163/163 - 1s - loss: 1.5095 - val_loss: 1.5075\n",
      "Epoch 357/10000000\n",
      "163/163 - 1s - loss: 1.5061 - val_loss: 1.5064\n",
      "Epoch 358/10000000\n",
      "163/163 - 1s - loss: 1.5102 - val_loss: 1.5029\n",
      "Epoch 359/10000000\n",
      "163/163 - 1s - loss: 1.5079 - val_loss: 1.5106\n",
      "Epoch 360/10000000\n",
      "163/163 - 1s - loss: 1.5094 - val_loss: 1.5029\n",
      "Epoch 361/10000000\n",
      "163/163 - 1s - loss: 1.5062 - val_loss: 1.5029\n",
      "Epoch 362/10000000\n",
      "163/163 - 1s - loss: 1.5076 - val_loss: 1.5053\n",
      "Epoch 363/10000000\n",
      "163/163 - 1s - loss: 1.5059 - val_loss: 1.5116\n",
      "Epoch 364/10000000\n",
      "163/163 - 1s - loss: 1.5109 - val_loss: 1.5134\n",
      "Epoch 365/10000000\n",
      "163/163 - 1s - loss: 1.5069 - val_loss: 1.5187\n",
      "Epoch 366/10000000\n",
      "163/163 - 1s - loss: 1.5046 - val_loss: 1.5145\n",
      "Epoch 367/10000000\n",
      "163/163 - 1s - loss: 1.5094 - val_loss: 1.5193\n",
      "Epoch 368/10000000\n",
      "163/163 - 1s - loss: 1.5116 - val_loss: 1.5111\n",
      "Epoch 369/10000000\n",
      "163/163 - 1s - loss: 1.5082 - val_loss: 1.5048\n",
      "Epoch 370/10000000\n",
      "163/163 - 1s - loss: 1.5066 - val_loss: 1.5203\n",
      "Epoch 371/10000000\n",
      "163/163 - 1s - loss: 1.5105 - val_loss: 1.5088\n",
      "Epoch 372/10000000\n",
      "163/163 - 1s - loss: 1.5066 - val_loss: 1.5033\n",
      "Epoch 373/10000000\n",
      "163/163 - 1s - loss: 1.5061 - val_loss: 1.5231\n",
      "Epoch 374/10000000\n",
      "163/163 - 1s - loss: 1.5111 - val_loss: 1.5021\n",
      "Epoch 375/10000000\n",
      "163/163 - 1s - loss: 1.5110 - val_loss: 1.5042\n",
      "Epoch 376/10000000\n"
     ]
    },
    {
     "name": "stdout",
     "output_type": "stream",
     "text": [
      "163/163 - 1s - loss: 1.5057 - val_loss: 1.5070\n",
      "Epoch 377/10000000\n",
      "163/163 - 1s - loss: 1.5098 - val_loss: 1.5025\n",
      "Epoch 378/10000000\n",
      "163/163 - 1s - loss: 1.5080 - val_loss: 1.5404\n",
      "Epoch 379/10000000\n",
      "163/163 - 1s - loss: 1.5120 - val_loss: 1.5044\n",
      "Epoch 380/10000000\n",
      "163/163 - 1s - loss: 1.5077 - val_loss: 1.5052\n",
      "Epoch 381/10000000\n",
      "163/163 - 1s - loss: 1.5073 - val_loss: 1.5072\n",
      "Epoch 382/10000000\n",
      "163/163 - 1s - loss: 1.5072 - val_loss: 1.5027\n",
      "Epoch 383/10000000\n",
      "163/163 - 1s - loss: 1.5084 - val_loss: 1.5193\n",
      "Epoch 384/10000000\n",
      "163/163 - 1s - loss: 1.5059 - val_loss: 1.5044\n",
      "Epoch 385/10000000\n",
      "163/163 - 1s - loss: 1.5076 - val_loss: 1.5029\n",
      "Epoch 386/10000000\n",
      "163/163 - 1s - loss: 1.5085 - val_loss: 1.5054\n",
      "Epoch 387/10000000\n",
      "163/163 - 1s - loss: 1.5056 - val_loss: 1.5086\n",
      "Epoch 388/10000000\n",
      "163/163 - 1s - loss: 1.5057 - val_loss: 1.5152\n",
      "Epoch 389/10000000\n",
      "163/163 - 1s - loss: 1.5098 - val_loss: 1.5027\n",
      "Epoch 390/10000000\n",
      "163/163 - 1s - loss: 1.5097 - val_loss: 1.5028\n",
      "Epoch 391/10000000\n",
      "163/163 - 1s - loss: 1.5051 - val_loss: 1.5024\n",
      "Epoch 392/10000000\n",
      "163/163 - 1s - loss: 1.5089 - val_loss: 1.5147\n",
      "Epoch 393/10000000\n",
      "163/163 - 1s - loss: 1.5074 - val_loss: 1.5036\n",
      "Epoch 394/10000000\n",
      "163/163 - 1s - loss: 1.5130 - val_loss: 1.5131\n",
      "Epoch 395/10000000\n",
      "163/163 - 1s - loss: 1.5066 - val_loss: 1.5080\n",
      "Epoch 396/10000000\n",
      "163/163 - 1s - loss: 1.5069 - val_loss: 1.5023\n",
      "Epoch 397/10000000\n",
      "163/163 - 1s - loss: 1.5069 - val_loss: 1.5457\n",
      "Epoch 398/10000000\n",
      "163/163 - 1s - loss: 1.5078 - val_loss: 1.5030\n",
      "Epoch 399/10000000\n",
      "163/163 - 1s - loss: 1.5076 - val_loss: 1.5044\n",
      "Epoch 400/10000000\n",
      "163/163 - 1s - loss: 1.5065 - val_loss: 1.5059\n",
      "Epoch 401/10000000\n",
      "163/163 - 1s - loss: 1.5095 - val_loss: 1.5029\n",
      "Epoch 402/10000000\n",
      "163/163 - 1s - loss: 1.5051 - val_loss: 1.5052\n",
      "Epoch 403/10000000\n",
      "163/163 - 1s - loss: 1.5069 - val_loss: 1.5047\n",
      "Epoch 404/10000000\n",
      "163/163 - 1s - loss: 1.5070 - val_loss: 1.5065\n",
      "Epoch 405/10000000\n",
      "163/163 - 1s - loss: 1.5071 - val_loss: 1.5074\n",
      "Epoch 406/10000000\n",
      "163/163 - 1s - loss: 1.5076 - val_loss: 1.5035\n",
      "Epoch 407/10000000\n",
      "163/163 - 1s - loss: 1.5099 - val_loss: 1.5240\n",
      "Epoch 408/10000000\n",
      "163/163 - 1s - loss: 1.5080 - val_loss: 1.5162\n",
      "Epoch 409/10000000\n",
      "163/163 - 1s - loss: 1.5084 - val_loss: 1.5087\n",
      "Epoch 410/10000000\n",
      "163/163 - 1s - loss: 1.5078 - val_loss: 1.5084\n",
      "Epoch 411/10000000\n",
      "163/163 - 1s - loss: 1.5051 - val_loss: 1.5072\n",
      "Epoch 412/10000000\n",
      "163/163 - 1s - loss: 1.5073 - val_loss: 1.5060\n",
      "Epoch 413/10000000\n",
      "163/163 - 1s - loss: 1.5074 - val_loss: 1.5035\n",
      "Epoch 414/10000000\n",
      "163/163 - 1s - loss: 1.5136 - val_loss: 1.5438\n",
      "Epoch 415/10000000\n",
      "163/163 - 1s - loss: 1.5187 - val_loss: 1.5120\n",
      "Epoch 416/10000000\n",
      "163/163 - 1s - loss: 1.5079 - val_loss: 1.5064\n",
      "Epoch 417/10000000\n",
      "163/163 - 1s - loss: 1.5059 - val_loss: 1.5026\n",
      "Epoch 418/10000000\n",
      "163/163 - 1s - loss: 1.5074 - val_loss: 1.5022\n",
      "Epoch 419/10000000\n",
      "163/163 - 1s - loss: 1.5070 - val_loss: 1.5068\n",
      "Epoch 420/10000000\n",
      "163/163 - 1s - loss: 1.5084 - val_loss: 1.5107\n",
      "Epoch 421/10000000\n",
      "163/163 - 1s - loss: 1.5095 - val_loss: 1.5387\n",
      "Epoch 422/10000000\n",
      "163/163 - 1s - loss: 1.5079 - val_loss: 1.5091\n",
      "Epoch 423/10000000\n",
      "163/163 - 1s - loss: 1.5061 - val_loss: 1.5090\n",
      "Epoch 424/10000000\n",
      "163/163 - 1s - loss: 1.5057 - val_loss: 1.5043\n",
      "Epoch 425/10000000\n",
      "163/163 - 1s - loss: 1.5054 - val_loss: 1.5035\n",
      "Epoch 426/10000000\n",
      "163/163 - 1s - loss: 1.5114 - val_loss: 1.5021\n",
      "Epoch 427/10000000\n",
      "163/163 - 1s - loss: 1.5061 - val_loss: 1.5029\n",
      "Epoch 428/10000000\n",
      "163/163 - 1s - loss: 1.5070 - val_loss: 1.5363\n",
      "Epoch 429/10000000\n",
      "163/163 - 1s - loss: 1.5122 - val_loss: 1.5027\n",
      "Epoch 430/10000000\n",
      "163/163 - 1s - loss: 1.5085 - val_loss: 1.5032\n",
      "Epoch 431/10000000\n",
      "163/163 - 1s - loss: 1.5058 - val_loss: 1.5083\n",
      "Epoch 432/10000000\n",
      "163/163 - 1s - loss: 1.5096 - val_loss: 1.5077\n",
      "Epoch 433/10000000\n",
      "163/163 - 1s - loss: 1.5084 - val_loss: 1.5036\n",
      "Epoch 434/10000000\n",
      "163/163 - 1s - loss: 1.5051 - val_loss: 1.5033\n",
      "Epoch 435/10000000\n",
      "163/163 - 1s - loss: 1.5053 - val_loss: 1.5029\n",
      "Epoch 436/10000000\n",
      "163/163 - 1s - loss: 1.5058 - val_loss: 1.5055\n",
      "Epoch 437/10000000\n",
      "163/163 - 1s - loss: 1.5077 - val_loss: 1.5147\n",
      "Epoch 438/10000000\n",
      "163/163 - 1s - loss: 1.5105 - val_loss: 1.5066\n",
      "Epoch 439/10000000\n",
      "163/163 - 1s - loss: 1.5057 - val_loss: 1.5055\n",
      "Epoch 00439: early stopping\n"
     ]
    }
   ],
   "source": [
    "# Create model\n",
    "model = Sequential()\n",
    "model.add(Dense(128, activation=\"relu\", input_dim=1))\n",
    "model.add(Dense(32, activation=\"relu\"))\n",
    "model.add(Dense(8, activation=\"relu\"))\n",
    "# Since the regression is performed, a Dense layer containing a single neuron with a linear activation function.\n",
    "# Typically ReLu-based activation are used but since it is performed regression, it is needed a linear activation.\n",
    "model.add(Dense(1, activation=\"linear\"))\n",
    "\n",
    "# Compile model: The model is initialized with the Adam optimizer and then it is compiled.\n",
    "model.compile(loss='mean_squared_error', optimizer=Adam(lr=1e-3, decay=1e-3 / 200))\n",
    "\n",
    "# Patient early stopping\n",
    "es = EarlyStopping(monitor='val_loss', mode='min', verbose=1, patience=200)\n",
    "\n",
    "# Fit the model\n",
    "history = model.fit(japonica_training_features_X_chunks, japonica_training_features_y_chunks, validation_data=(japonica_validation_features_X_chunks, japonica_validation_features_y_chunks), epochs=10000000, batch_size=100, verbose=2, callbacks=[es])\n",
    "model.save(model_name+'.h5')"
   ]
  },
  {
   "cell_type": "markdown",
   "metadata": {},
   "source": [
    "모델 평가"
   ]
  },
  {
   "cell_type": "code",
   "execution_count": 12,
   "metadata": {},
   "outputs": [],
   "source": [
    "# 모델 평가 함수\n",
    "def grapeNEva(model, X_test_shape, y_test, feed, y_test_shape):\n",
    "    X_pred = model.predict(X_test_shape)\n",
    "    X_pred = np.asarray(X_pred, dtype=np.float64)\n",
    "    X_pred = X_pred.reshape((-1))\n",
    "    print(len(X_pred))\n",
    "\n",
    "    # 그래프 생성\n",
    "    plt.figure(figsize=(15, 7))\n",
    "    plt.plot(y_test.index, y_test, label='sensor do')  # x축에 년월일, y축에 값\n",
    "    plt.plot(y_test.index, X_pred, color='red', label='prediction do')  # x축에 년월일, y축에 시분\n",
    "    plt.plot(y_test.index, feed, color='green', marker='o', linestyle='None', label='feed_quantity')  # x축에 년월일, y축에 시분\n",
    "    plt.xlabel('date')\n",
    "    plt.ylabel('do')\n",
    "    plt.title(model_name)\n",
    "    plt.legend(['sensor do','prediction do','feed_quantity'])\n",
    "    plt.show()\n",
    "    \n",
    "    # 평가 생성\n",
    "    result = model.evaluate(X_test_shape, y_test_shape)\n",
    "    print(\"MSE // MAE // R-squared \", result)"
   ]
  },
  {
   "cell_type": "code",
   "execution_count": 13,
   "metadata": {},
   "outputs": [],
   "source": [
    "# r_squared가 따로 만들어서 추가해준 함수기 때문에 불러올 때도 추가해서 불러야한다.\n",
    "model = load_model(model_name+'.h5', custom_objects={'r_squared': r_squared})"
   ]
  },
  {
   "cell_type": "code",
   "execution_count": 14,
   "metadata": {},
   "outputs": [
    {
     "name": "stdout",
     "output_type": "stream",
     "text": [
      "[[-0.0313222  -0.20902194  0.11293334 -0.05916433  0.02687505  0.00794507\n",
      "  -0.05652362  0.00404713 -0.02901407  0.00795266 -0.00149591 -0.07128695\n",
      "   0.0357948  -0.19161648 -0.20339783 -0.18901387 -0.0058124  -0.02832639\n",
      "  -0.02281787 -0.11362036  0.01153005  0.06960414 -0.12736842 -0.11662624\n",
      "  -0.0209941  -0.21179378 -0.02142566 -0.03061453 -0.19082133 -0.02033511\n",
      "  -0.00670212 -0.11336558 -0.1863838  -0.03867098 -0.2102035  -0.2039659\n",
      "   0.07042664  0.10278458 -0.05097704 -0.0487265   0.10403097 -0.01630409\n",
      "  -0.12452322 -0.15987675 -0.16055465 -0.02585876  0.15467368 -0.117056\n",
      "  -0.14430024 -0.06005457 -0.16336109 -0.1919218  -0.05229613  0.07811713\n",
      "   0.01995546 -0.03413598 -0.10158304 -0.01920374  0.05610933 -0.00266437\n",
      "  -0.19420046 -0.08736964  0.07459035  0.09293189 -0.13991901  0.11745813\n",
      "   0.02930192 -0.1917026  -0.17151377 -0.01220417  0.0990096   0.07198966\n",
      "  -0.17664438 -0.17857443  0.10376515  0.02617313 -0.18384808 -0.03082889\n",
      "   0.07915784  0.02651481 -0.00485349  0.16640098 -0.05525678  0.05807169\n",
      "  -0.02457036  0.0629453   0.02241956 -0.03082529 -0.00782229  0.05994649\n",
      "  -0.04158655 -0.06091447 -0.0221142  -0.10982813  0.10897021  0.06972553\n",
      "   0.08545377 -0.03755651  0.0037936   0.07094973  0.06352187  0.09681658\n",
      "   0.02323719 -0.06740212 -0.13289274 -0.18845622 -0.06503265 -0.00315186\n",
      "   0.10763687 -0.04966988 -0.12515002  0.04188424 -0.2015033  -0.0047627\n",
      "  -0.15048483  0.09513303  0.07624999 -0.00113343 -0.00461601  0.08580103\n",
      "   0.02174795  0.03378214 -0.11792611 -0.05520073 -0.2013092  -0.16637808\n",
      "  -0.01131992 -0.02670342]]\n"
     ]
    },
    {
     "data": {
      "image/png": "[encoded data removed]",
      "text/plain": [
       "<Figure size 576x288 with 1 Axes>"
      ]
     },
     "metadata": {
      "needs_background": "light"
     },
     "output_type": "display_data"
    }
   ],
   "source": [
    "# 가중치를 통해 변수 중요도 획득\n",
    "weights = model.layers[0].get_weights()[0]\n",
    "print(weights)\n",
    "\n",
    "\n",
    "# 변수 중요도 시각화\n",
    "fig, ax = plt.subplots(figsize=(8, 4))\n",
    "ax.bar(range(1), weights[:, 0])\n",
    "ax.set_xticks(range(1))\n",
    "ax.set_xticklabels(['feed_quantity'])\n",
    "ax.set_ylabel('Weight')\n",
    "ax.set_title('Variable Importance')\n",
    "plt.show()"
   ]
  },
  {
   "cell_type": "code",
   "execution_count": 15,
   "metadata": {},
   "outputs": [
    {
     "data": {
      "text/html": [
       "<div>\n",
       "<style scoped>\n",
       "    .dataframe tbody tr th:only-of-type {\n",
       "        vertical-align: middle;\n",
       "    }\n",
       "\n",
       "    .dataframe tbody tr th {\n",
       "        vertical-align: top;\n",
       "    }\n",
       "\n",
       "    .dataframe thead th {\n",
       "        text-align: right;\n",
       "    }\n",
       "</style>\n",
       "<table border=\"1\" class=\"dataframe\">\n",
       "  <thead>\n",
       "    <tr style=\"text-align: right;\">\n",
       "      <th></th>\n",
       "      <th>feed_quantity</th>\n",
       "    </tr>\n",
       "    <tr>\n",
       "      <th>mea_dt</th>\n",
       "      <th></th>\n",
       "    </tr>\n",
       "  </thead>\n",
       "  <tbody>\n",
       "    <tr>\n",
       "      <th>2021-07-21 03:00:00</th>\n",
       "      <td>0.0</td>\n",
       "    </tr>\n",
       "    <tr>\n",
       "      <th>2021-07-21 03:01:00</th>\n",
       "      <td>0.0</td>\n",
       "    </tr>\n",
       "    <tr>\n",
       "      <th>2021-07-21 03:02:00</th>\n",
       "      <td>0.0</td>\n",
       "    </tr>\n",
       "    <tr>\n",
       "      <th>2021-07-21 03:03:00</th>\n",
       "      <td>0.0</td>\n",
       "    </tr>\n",
       "    <tr>\n",
       "      <th>2021-07-21 03:04:00</th>\n",
       "      <td>0.0</td>\n",
       "    </tr>\n",
       "    <tr>\n",
       "      <th>...</th>\n",
       "      <td>...</td>\n",
       "    </tr>\n",
       "    <tr>\n",
       "      <th>2021-09-08 17:55:00</th>\n",
       "      <td>0.0</td>\n",
       "    </tr>\n",
       "    <tr>\n",
       "      <th>2021-09-08 17:56:00</th>\n",
       "      <td>0.0</td>\n",
       "    </tr>\n",
       "    <tr>\n",
       "      <th>2021-09-08 17:57:00</th>\n",
       "      <td>0.0</td>\n",
       "    </tr>\n",
       "    <tr>\n",
       "      <th>2021-09-08 17:58:00</th>\n",
       "      <td>0.0</td>\n",
       "    </tr>\n",
       "    <tr>\n",
       "      <th>2021-09-08 17:59:00</th>\n",
       "      <td>0.0</td>\n",
       "    </tr>\n",
       "  </tbody>\n",
       "</table>\n",
       "<p>16202 rows × 1 columns</p>\n",
       "</div>"
      ],
      "text/plain": [
       "                     feed_quantity\n",
       "mea_dt                            \n",
       "2021-07-21 03:00:00            0.0\n",
       "2021-07-21 03:01:00            0.0\n",
       "2021-07-21 03:02:00            0.0\n",
       "2021-07-21 03:03:00            0.0\n",
       "2021-07-21 03:04:00            0.0\n",
       "...                            ...\n",
       "2021-09-08 17:55:00            0.0\n",
       "2021-09-08 17:56:00            0.0\n",
       "2021-09-08 17:57:00            0.0\n",
       "2021-09-08 17:58:00            0.0\n",
       "2021-09-08 17:59:00            0.0\n",
       "\n",
       "[16202 rows x 1 columns]"
      ]
     },
     "execution_count": 15,
     "metadata": {},
     "output_type": "execute_result"
    }
   ],
   "source": [
    "japonica_validation_features_X"
   ]
  },
  {
   "cell_type": "code",
   "execution_count": 26,
   "metadata": {},
   "outputs": [
    {
     "name": "stdout",
     "output_type": "stream",
     "text": [
      "nCar: 16202 nVar: 1\n"
     ]
    },
    {
     "name": "stderr",
     "output_type": "stream",
     "text": [
      "/tmp/ipykernel_3281954/1737833184.py:1: FutureWarning: Value based partial slicing on non-monotonic DatetimeIndexes with non-existing keys is deprecated and will raise a KeyError in a future Version.\n",
      "  X_test = japonica_validation_features_X.loc['2021-07-21 00:00':'2021-09-10 20:59']\n"
     ]
    }
   ],
   "source": [
    "X_test = japonica_validation_features_X.loc['2021-07-21 00:00':'2021-09-10 20:59']\n",
    "\n",
    "X_test_reshape = np.asarray(X_test, dtype=np.float64)\n",
    "\n",
    "# shape확인\n",
    "nCar = X_test_reshape.shape[0] # 데이터 개수\n",
    "nVar = X_test_reshape.shape[1] # 변수 개수\n",
    "print('nCar: %d' % nCar, 'nVar: %d' % nVar )"
   ]
  },
  {
   "cell_type": "code",
   "execution_count": 27,
   "metadata": {},
   "outputs": [
    {
     "name": "stdout",
     "output_type": "stream",
     "text": [
      "nCar: 16202 nVar: 1\n",
      "nCar: 16202 nVar: 1\n"
     ]
    },
    {
     "name": "stderr",
     "output_type": "stream",
     "text": [
      "/tmp/ipykernel_3281954/1228628032.py:1: FutureWarning: Value based partial slicing on non-monotonic DatetimeIndexes with non-existing keys is deprecated and will raise a KeyError in a future Version.\n",
      "  y_date = japonica_validation_features_y.loc['2021-07-21 00:00':'2021-09-10 20:59']\n"
     ]
    }
   ],
   "source": [
    "y_date = japonica_validation_features_y.loc['2021-07-21 00:00':'2021-09-10 20:59']\n",
    "\n",
    "y_test = y_date[['do_mg']]\n",
    "\n",
    "y_test_reshape = np.asarray(y_test, dtype=np.float64)\n",
    "\n",
    "nCar = y_test.shape[0] # 데이터 개수\n",
    "nVar = y_test.shape[1] # 변수 개수\n",
    "print('nCar: %d' % nCar, 'nVar: %d' % nVar )\n",
    "\n",
    "nCar = y_test_reshape.shape[0] # 데이터 개수\n",
    "nVar = y_test_reshape.shape[1] # 변수 개수\n",
    "print('nCar: %d' % nCar, 'nVar: %d' % nVar )"
   ]
  },
  {
   "cell_type": "code",
   "execution_count": 28,
   "metadata": {},
   "outputs": [
    {
     "name": "stdout",
     "output_type": "stream",
     "text": [
      "16202\n"
     ]
    },
    {
     "data": {
      "image/png": "[encoded data removed]",
      "text/plain": [
       "<Figure size 1080x504 with 1 Axes>"
      ]
     },
     "metadata": {
      "needs_background": "light"
     },
     "output_type": "display_data"
    },
    {
     "name": "stdout",
     "output_type": "stream",
     "text": [
      "507/507 [==============================] - 2s 4ms/step - loss: 1.5055\n",
      "MSE // MAE // R-squared  1.5055490732192993\n"
     ]
    }
   ],
   "source": [
    "grapeNEva(model,X_test_reshape, y_test, X_test[['feed_quantity']], y_test_reshape)"
   ]
  },
  {
   "cell_type": "code",
   "execution_count": 29,
   "metadata": {},
   "outputs": [
    {
     "name": "stdout",
     "output_type": "stream",
     "text": [
      "nCar: 64800 nVar: 1\n"
     ]
    }
   ],
   "source": [
    "X = japonica_validation_features.sort_index().loc['2021-07-21 00:00':'2021-09-08 23:59']\n",
    "X_test = X[['feed_quantity']]\n",
    "\n",
    "X_test_reshape = np.asarray(X_test, dtype=np.float64)\n",
    "\n",
    "# shape확인\n",
    "nCar = X_test_reshape.shape[0] # 데이터 개수\n",
    "nVar = X_test_reshape.shape[1] # 변수 개수\n",
    "print('nCar: %d' % nCar, 'nVar: %d' % nVar )"
   ]
  },
  {
   "cell_type": "code",
   "execution_count": 30,
   "metadata": {},
   "outputs": [
    {
     "name": "stdout",
     "output_type": "stream",
     "text": [
      "nCar: 64800 nVar: 1\n",
      "nCar: 64800 nVar: 1\n"
     ]
    }
   ],
   "source": [
    "y_test = X[['do_mg']]\n",
    "\n",
    "\n",
    "y_test_reshape = np.asarray(y_test, dtype=np.float64)\n",
    "\n",
    "nCar = y_test.shape[0] # 데이터 개수\n",
    "nVar = y_test.shape[1] # 변수 개수\n",
    "print('nCar: %d' % nCar, 'nVar: %d' % nVar )\n",
    "\n",
    "nCar = y_test_reshape.shape[0] # 데이터 개수\n",
    "nVar = y_test_reshape.shape[1] # 변수 개수\n",
    "print('nCar: %d' % nCar, 'nVar: %d' % nVar )"
   ]
  },
  {
   "cell_type": "code",
   "execution_count": 31,
   "metadata": {},
   "outputs": [
    {
     "name": "stdout",
     "output_type": "stream",
     "text": [
      "64800\n"
     ]
    },
    {
     "data": {
      "image/png": "[encoded data removed]",
      "text/plain": [
       "<Figure size 1080x504 with 1 Axes>"
      ]
     },
     "metadata": {
      "needs_background": "light"
     },
     "output_type": "display_data"
    },
    {
     "name": "stdout",
     "output_type": "stream",
     "text": [
      "2025/2025 [==============================] - 5s 2ms/step - loss: 1.5411\n",
      "MSE // MAE // R-squared  1.541116714477539\n"
     ]
    }
   ],
   "source": [
    "grapeNEva(model, X_test_reshape, y_test, X_test[['feed_quantity']], y_test_reshape)"
   ]
  },
  {
   "cell_type": "code",
   "execution_count": 35,
   "metadata": {},
   "outputs": [
    {
     "name": "stdout",
     "output_type": "stream",
     "text": [
      "nCar: 14400 nVar: 1\n"
     ]
    }
   ],
   "source": [
    "X = japonica_validation_features.sort_index().loc['2021-07-21 00:00':'2021-07-31 23:59']\n",
    "X_test = X[['feed_quantity']]\n",
    "\n",
    "X_test_reshape = np.asarray(X_test, dtype=np.float64)\n",
    "\n",
    "# shape확인\n",
    "nCar = X_test_reshape.shape[0] # 데이터 개수\n",
    "nVar = X_test_reshape.shape[1] # 변수 개수\n",
    "print('nCar: %d' % nCar, 'nVar: %d' % nVar )"
   ]
  },
  {
   "cell_type": "code",
   "execution_count": 36,
   "metadata": {},
   "outputs": [
    {
     "name": "stdout",
     "output_type": "stream",
     "text": [
      "nCar: 14400 nVar: 1\n",
      "nCar: 14400 nVar: 1\n"
     ]
    }
   ],
   "source": [
    "y_test = X[['do_mg']]\n",
    "\n",
    "\n",
    "y_test_reshape = np.asarray(y_test, dtype=np.float64)\n",
    "\n",
    "nCar = y_test.shape[0] # 데이터 개수\n",
    "nVar = y_test.shape[1] # 변수 개수\n",
    "print('nCar: %d' % nCar, 'nVar: %d' % nVar )\n",
    "\n",
    "nCar = y_test_reshape.shape[0] # 데이터 개수\n",
    "nVar = y_test_reshape.shape[1] # 변수 개수\n",
    "print('nCar: %d' % nCar, 'nVar: %d' % nVar )"
   ]
  },
  {
   "cell_type": "code",
   "execution_count": 37,
   "metadata": {},
   "outputs": [
    {
     "name": "stdout",
     "output_type": "stream",
     "text": [
      "14400\n"
     ]
    },
    {
     "data": {
      "image/png": "[encoded data removed]",
      "text/plain": [
       "<Figure size 1080x504 with 1 Axes>"
      ]
     },
     "metadata": {
      "needs_background": "light"
     },
     "output_type": "display_data"
    },
    {
     "name": "stdout",
     "output_type": "stream",
     "text": [
      "450/450 [==============================] - 1s 2ms/step - loss: 0.7513\n",
      "MSE // MAE // R-squared  0.7513294219970703\n"
     ]
    }
   ],
   "source": [
    "grapeNEva(model, X_test_reshape, y_test, X_test[['feed_quantity']], y_test_reshape)"
   ]
  },
  {
   "cell_type": "code",
   "execution_count": 38,
   "metadata": {},
   "outputs": [
    {
     "name": "stdout",
     "output_type": "stream",
     "text": [
      "nCar: 1440 nVar: 1\n",
      "nCar: 1440 nVar: 1\n"
     ]
    }
   ],
   "source": [
    "X = japonica_validation_features.sort_index().loc['2021-07-21 00:00':'2021-07-21 23:59']\n",
    "X_test = X[['feed_quantity']]\n",
    "\n",
    "X_test_reshape = np.asarray(X_test, dtype=np.float64)\n",
    "\n",
    "# shape확인\n",
    "nCar = X_test_reshape.shape[0] # 데이터 개수\n",
    "nVar = X_test_reshape.shape[1] # 변수 개수\n",
    "print('nCar: %d' % nCar, 'nVar: %d' % nVar )\n",
    "print('nCar: %d' % nCar, 'nVar: %d' % nVar )"
   ]
  },
  {
   "cell_type": "code",
   "execution_count": 39,
   "metadata": {
    "scrolled": true
   },
   "outputs": [
    {
     "name": "stdout",
     "output_type": "stream",
     "text": [
      "nCar: 1440 nVar: 1\n",
      "nCar: 1440 nVar: 1\n"
     ]
    }
   ],
   "source": [
    "y_test = X[['do_mg']]\n",
    "\n",
    "\n",
    "y_test_reshape = np.asarray(y_test, dtype=np.float64)\n",
    "\n",
    "nCar = y_test.shape[0] # 데이터 개수\n",
    "nVar = y_test.shape[1] # 변수 개수\n",
    "print('nCar: %d' % nCar, 'nVar: %d' % nVar )\n",
    "\n",
    "nCar = y_test_reshape.shape[0] # 데이터 개수\n",
    "nVar = y_test_reshape.shape[1] # 변수 개수\n",
    "print('nCar: %d' % nCar, 'nVar: %d' % nVar )"
   ]
  },
  {
   "cell_type": "code",
   "execution_count": 40,
   "metadata": {
    "scrolled": true
   },
   "outputs": [
    {
     "name": "stdout",
     "output_type": "stream",
     "text": [
      "1440\n"
     ]
    },
    {
     "data": {
      "image/png": "[encoded data removed]",
      "text/plain": [
       "<Figure size 1080x504 with 1 Axes>"
      ]
     },
     "metadata": {
      "needs_background": "light"
     },
     "output_type": "display_data"
    },
    {
     "name": "stdout",
     "output_type": "stream",
     "text": [
      "45/45 [==============================] - 0s 3ms/step - loss: 0.6070\n",
      "MSE // MAE // R-squared  0.6069905757904053\n"
     ]
    }
   ],
   "source": [
    "grapeNEva(model, X_test_reshape, y_test, X_test[['feed_quantity']], y_test_reshape)"
   ]
  },
  {
   "cell_type": "code",
   "execution_count": 42,
   "metadata": {},
   "outputs": [
    {
     "name": "stdout",
     "output_type": "stream",
     "text": [
      "nCar: 720 nVar: 1\n"
     ]
    }
   ],
   "source": [
    "X = japonica_validation_features.sort_index().loc['2021-07-21 00:00':'2021-07-21 11:59']\n",
    "X_test = X[['feed_quantity']]\n",
    "\n",
    "X_test_reshape = np.asarray(X_test, dtype=np.float64)\n",
    "\n",
    "# shape확인\n",
    "nCar = X_test_reshape.shape[0] # 데이터 개수\n",
    "nVar = X_test_reshape.shape[1] # 변수 개수\n",
    "print('nCar: %d' % nCar, 'nVar: %d' % nVar )"
   ]
  },
  {
   "cell_type": "code",
   "execution_count": 43,
   "metadata": {
    "scrolled": true
   },
   "outputs": [
    {
     "name": "stdout",
     "output_type": "stream",
     "text": [
      "nCar: 720 nVar: 1\n",
      "nCar: 720 nVar: 1\n"
     ]
    }
   ],
   "source": [
    "y_test = X[['do_mg']]\n",
    "\n",
    "\n",
    "y_test_reshape = np.asarray(y_test, dtype=np.float64)\n",
    "\n",
    "nCar = y_test.shape[0] # 데이터 개수\n",
    "nVar = y_test.shape[1] # 변수 개수\n",
    "print('nCar: %d' % nCar, 'nVar: %d' % nVar )\n",
    "\n",
    "nCar = y_test_reshape.shape[0] # 데이터 개수\n",
    "nVar = y_test_reshape.shape[1] # 변수 개수\n",
    "print('nCar: %d' % nCar, 'nVar: %d' % nVar )"
   ]
  },
  {
   "cell_type": "code",
   "execution_count": 44,
   "metadata": {},
   "outputs": [
    {
     "name": "stdout",
     "output_type": "stream",
     "text": [
      "720\n"
     ]
    },
    {
     "data": {
      "image/png": "[encoded data removed]",
      "text/plain": [
       "<Figure size 1080x504 with 1 Axes>"
      ]
     },
     "metadata": {
      "needs_background": "light"
     },
     "output_type": "display_data"
    },
    {
     "name": "stdout",
     "output_type": "stream",
     "text": [
      "23/23 [==============================] - 0s 4ms/step - loss: 0.4298\n",
      "MSE // MAE // R-squared  0.42981329560279846\n"
     ]
    }
   ],
   "source": [
    "grapeNEva(model, X_test_reshape, y_test, X_test[['feed_quantity']], y_test_reshape)"
   ]
  },
  {
   "cell_type": "code",
   "execution_count": 45,
   "metadata": {},
   "outputs": [
    {
     "name": "stdout",
     "output_type": "stream",
     "text": [
      "nCar: 720 nVar: 1\n"
     ]
    }
   ],
   "source": [
    "japonica_validation_features.at['2021-07-21 08:00', 'feed_quantity'] = 6\n",
    "\n",
    "X = japonica_validation_features.sort_index().loc['2021-07-21 00:00':'2021-07-21 11:59']\n",
    "X_test = X[['feed_quantity']]\n",
    "\n",
    "X_test_reshape = np.asarray(X_test, dtype=np.float64)\n",
    "\n",
    "# shape확인\n",
    "nCar = X_test_reshape.shape[0] # 데이터 개수\n",
    "nVar = X_test_reshape.shape[1] # 변수 개수\n",
    "print('nCar: %d' % nCar, 'nVar: %d' % nVar )"
   ]
  },
  {
   "cell_type": "code",
   "execution_count": 46,
   "metadata": {},
   "outputs": [
    {
     "name": "stdout",
     "output_type": "stream",
     "text": [
      "nCar: 720 nVar: 1\n",
      "nCar: 720 nVar: 1\n"
     ]
    }
   ],
   "source": [
    "y_test = X[['do_mg']]\n",
    "\n",
    "\n",
    "y_test_reshape = np.asarray(y_test, dtype=np.float64)\n",
    "\n",
    "nCar = y_test.shape[0] # 데이터 개수\n",
    "nVar = y_test.shape[1] # 변수 개수\n",
    "print('nCar: %d' % nCar, 'nVar: %d' % nVar )\n",
    "\n",
    "nCar = y_test_reshape.shape[0] # 데이터 개수\n",
    "nVar = y_test_reshape.shape[1] # 변수 개수\n",
    "print('nCar: %d' % nCar, 'nVar: %d' % nVar )"
   ]
  },
  {
   "cell_type": "code",
   "execution_count": 47,
   "metadata": {},
   "outputs": [
    {
     "name": "stdout",
     "output_type": "stream",
     "text": [
      "720\n"
     ]
    },
    {
     "data": {
      "image/png": "[encoded data removed]",
      "text/plain": [
       "<Figure size 1080x504 with 1 Axes>"
      ]
     },
     "metadata": {
      "needs_background": "light"
     },
     "output_type": "display_data"
    },
    {
     "name": "stdout",
     "output_type": "stream",
     "text": [
      "23/23 [==============================] - 0s 3ms/step - loss: 0.4303\n",
      "MSE // MAE // R-squared  0.4303237199783325\n"
     ]
    }
   ],
   "source": [
    "grapeNEva(model, X_test_reshape, y_test, X_test[['feed_quantity']], y_test_reshape)"
   ]
  },
  {
   "cell_type": "code",
   "execution_count": null,
   "metadata": {},
   "outputs": [],
   "source": []
  },
  {
   "cell_type": "code",
   "execution_count": null,
   "metadata": {},
   "outputs": [],
   "source": []
  }
 ],
 "metadata": {
  "kernelspec": {
   "display_name": "tf2.6.0-keras2.6.0-py3.8-cuda11.3",
   "language": "python",
   "name": "tf2.6.0-keras2.6.0-py3.8-cuda11.3"
  },
  "language_info": {
   "codemirror_mode": {
    "name": "ipython",
    "version": 3
   },
   "file_extension": ".py",
   "mimetype": "text/x-python",
   "name": "python",
   "nbconvert_exporter": "python",
   "pygments_lexer": "ipython3",
   "version": "3.8.10"
  }
 },
 "nbformat": 4,
 "nbformat_minor": 2
}
