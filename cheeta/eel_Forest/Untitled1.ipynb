{
 "cells": [
  {
   "cell_type": "code",
   "execution_count": 12,
   "id": "32603e4a",
   "metadata": {},
   "outputs": [],
   "source": [
    "from sklearn.ensemble import RandomForestRegressor\n",
    "from sklearn.ensemble import GradientBoostingRegressor\n",
    "from sklearn.tree import DecisionTreeRegressor\n",
    "from sklearn.model_selection import cross_val_score\n",
    "import pandas as pd\n",
    "import numpy as np\n",
    "from sklearn.model_selection import GridSearchCV\n",
    "from sklearn.model_selection import train_test_split\n",
    "from sklearn.metrics import mean_squared_error\n",
    "import math\n",
    "\n",
    "trainingSensor = pd.read_csv(\"eeldata/data/Training/Origin/Sensor/Japonica/sensor_val_tb.csv\")\n",
    "validationSensor = pd.read_csv(\"eeldata/data/Validation/Origin/Sensor/Japonica/sensor_val_tb.csv\")\n",
    "\n",
    "trainingFood = pd.read_csv(\"eeldata/data/Training/Origin/Management/Japonica/food_supply_tb.csv\")\n",
    "validationFood = pd.read_csv(\"eeldata/data/Validation/Origin/Management/Japonica/food_supply_tb.csv\")"
   ]
  },
  {
   "cell_type": "code",
   "execution_count": 13,
   "id": "64f069c1",
   "metadata": {},
   "outputs": [],
   "source": [
    "trainingSensor[\"mea_dt\"] = trainingSensor[\"mea_dt\"].apply(str)\n",
    "trainingSensor[\"mea_dt\"] = trainingSensor[\"mea_dt\"].str.slice(start=0, stop=15)\n",
    "trainingFood['feed_dt'] = pd.to_datetime(trainingFood['feed_dt'], format='%Y%m%d%H%M', errors='raise')\n",
    "trainingFood[\"feed_dt\"] = trainingFood[\"feed_dt\"].apply(str)\n",
    "trainingFood[\"feed_dt\"] = trainingFood[\"feed_dt\"].str.slice(start=0, stop=15)\n",
    "\n",
    "validationSensor[\"mea_dt\"] = validationSensor[\"mea_dt\"].apply(str)\n",
    "validationSensor[\"mea_dt\"]  = validationSensor[\"mea_dt\"].str.slice(start=0, stop=15)\n",
    "validationFood['feed_dt'] = pd.to_datetime(validationFood['feed_dt'], format='%Y%m%d%H%M', errors='raise')\n",
    "validationFood[\"feed_dt\"] = validationFood[\"feed_dt\"].apply(str)\n",
    "validationFood[\"feed_dt\"] = validationFood[\"feed_dt\"].str.slice(start=0, stop=15)"
   ]
  },
  {
   "cell_type": "code",
   "execution_count": 14,
   "id": "a3a5f1b8",
   "metadata": {},
   "outputs": [],
   "source": [
    "training = pd.merge(left = trainingSensor, right = trainingFood, how = \"left\", left_on = [\"farm_id\",\"tank_id\", \"mea_dt\"], right_on = [\"farm_id\",\"tank_id\", \"feed_dt\"])"
   ]
  },
  {
   "cell_type": "code",
   "execution_count": 15,
   "id": "8a9ba66e",
   "metadata": {},
   "outputs": [],
   "source": [
    "validation = pd.merge(left = validationSensor, right = validationFood, how = \"left\", left_on = [\"farm_id\",\"tank_id\", \"mea_dt\"], right_on = [\"farm_id\",\"tank_id\", \"feed_dt\"])"
   ]
  },
  {
   "cell_type": "code",
   "execution_count": 16,
   "id": "b747c0a3",
   "metadata": {},
   "outputs": [],
   "source": [
    "training = training[['do_mg','do_temp', 'ph', 'orp', 'co2_mg', 'air_oxy', 'light_ma', 'feed_quantity', 'water_quantity']]\n",
    "validation = validation[['do_mg','do_temp', 'ph', 'orp', 'co2_mg', 'air_oxy', 'light_ma', 'feed_quantity', 'water_quantity']]\n",
    "training = training.fillna(0)\n",
    "validation = validation.fillna(0)"
   ]
  },
  {
   "cell_type": "code",
   "execution_count": 17,
   "id": "a320ef9d",
   "metadata": {},
   "outputs": [],
   "source": [
    "x_train = training[['do_temp', 'ph', 'orp', 'co2_mg', 'air_oxy', 'light_ma', 'feed_quantity', 'water_quantity']]\n",
    "y_train = training[['do_mg']]\n",
    "x_test = validation[['do_temp', 'ph', 'orp', 'co2_mg', 'air_oxy', 'light_ma', 'feed_quantity', 'water_quantity']]\n",
    "y_test = validation[['do_mg']]"
   ]
  },
  {
   "cell_type": "code",
   "execution_count": 18,
   "id": "2502a630",
   "metadata": {},
   "outputs": [],
   "source": [
    "from sklearn.preprocessing import StandardScaler\n",
    "std_scaler = StandardScaler()\n",
    "std_scaler.fit(x_train)\n",
    "x_train_t = std_scaler.transform(x_train)\n",
    "x_train = pd.DataFrame(x_train_t, columns=x_train.columns, index=list(x_train.index.values))"
   ]
  },
  {
   "cell_type": "code",
   "execution_count": 21,
   "id": "1c79e629",
   "metadata": {},
   "outputs": [
    {
     "name": "stdout",
     "output_type": "stream",
     "text": [
      "최적 하이퍼 파라미터: {'learning_rate': 0.03, 'max_depth': 4, 'n_estimators': 100, 'subsample': 0.1}\n",
      "최적 예측 정확도: -0.0637\n"
     ]
    }
   ],
   "source": [
    "params = {\n",
    "            'learning_rate': [0.01,0.02,0.03,0.04],\n",
    "            'subsample'    : [0.9, 0.5, 0.2, 0.1],\n",
    "            'n_estimators' : [100,500,1000, 1500],\n",
    "            'max_depth'    : [4,6,8,10]\n",
    "}\n",
    "rf_run = GradientBoostingRegressor()\n",
    "grid_cv = GridSearchCV(rf_run, param_grid=params, cv=2, n_jobs=-1)\n",
    "grid_cv.fit(x_train, y_train.values.ravel())\n",
    " \n",
    " \n",
    "print('최적 하이퍼 파라미터:', grid_cv.best_params_)\n",
    "print('최적 예측 정확도: {0:.4f}'.format(grid_cv.best_score_))"
   ]
  },
  {
   "cell_type": "code",
   "execution_count": null,
   "id": "72e3cc1e",
   "metadata": {},
   "outputs": [],
   "source": []
  }
 ],
 "metadata": {
  "kernelspec": {
   "display_name": "tf2.6.0-keras2.6.0-py3.8-cuda11.3",
   "language": "python",
   "name": "tf2.6.0-keras2.6.0-py3.8-cuda11.3"
  },
  "language_info": {
   "codemirror_mode": {
    "name": "ipython",
    "version": 3
   },
   "file_extension": ".py",
   "mimetype": "text/x-python",
   "name": "python",
   "nbconvert_exporter": "python",
   "pygments_lexer": "ipython3",
   "version": "3.8.10"
  }
 },
 "nbformat": 4,
 "nbformat_minor": 5
}
