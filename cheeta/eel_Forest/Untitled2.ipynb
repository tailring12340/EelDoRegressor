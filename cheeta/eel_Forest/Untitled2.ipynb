{
 "cells": [
  {
   "cell_type": "code",
   "execution_count": 1,
   "id": "87df2013",
   "metadata": {},
   "outputs": [],
   "source": [
    "import pandas as pd\n",
    "import numpy as np\n",
    "from keras.layers import LSTM, Dense\n",
    "from keras.models import Sequential\n",
    "from keras.utils import *\n",
    "from sklearn.preprocessing import *\n",
    "\n",
    "trainingSensor = pd.read_csv(\"eeldata/data/Training/Origin/Sensor/Japonica/sensor_val_tb.csv\")\n",
    "validationSensor = pd.read_csv(\"eeldata/data/Validation/Origin/Sensor/Japonica/sensor_val_tb.csv\")\n",
    "\n",
    "trainingFood = pd.read_csv(\"eeldata/data/Training/Origin/Management/Japonica/food_supply_tb.csv\")\n",
    "validationFood = pd.read_csv(\"eeldata/data/Validation/Origin/Management/Japonica/food_supply_tb.csv\")"
   ]
  },
  {
   "cell_type": "code",
   "execution_count": 2,
   "id": "eb69c44d",
   "metadata": {},
   "outputs": [],
   "source": [
    "trainingSensor[\"mea_dt\"] = trainingSensor[\"mea_dt\"].apply(str)\n",
    "trainingSensor[\"mea_dt\"]  = trainingSensor[\"mea_dt\"].str.slice(start=0, stop=15)\n",
    "trainingFood['feed_dt'] = pd.to_datetime(trainingFood['feed_dt'], format='%Y%m%d%H%M', errors='raise')\n",
    "trainingFood[\"feed_dt\"]=trainingFood[\"feed_dt\"].apply(str)\n",
    "trainingFood[\"feed_dt\"]  = trainingFood[\"feed_dt\"].str.slice(start=0, stop=15)\n",
    "\n",
    "validationSensor[\"mea_dt\"] = validationSensor[\"mea_dt\"].apply(str)\n",
    "validationSensor[\"mea_dt\"]  = validationSensor[\"mea_dt\"].str.slice(start=0, stop=15)\n",
    "validationFood['feed_dt'] = pd.to_datetime(validationFood['feed_dt'], format='%Y%m%d%H%M', errors='raise')\n",
    "validationFood[\"feed_dt\"] = validationFood[\"feed_dt\"].apply(str)\n",
    "validationFood[\"feed_dt\"] = validationFood[\"feed_dt\"].str.slice(start=0, stop=15)"
   ]
  },
  {
   "cell_type": "code",
   "execution_count": 3,
   "id": "d69be907",
   "metadata": {},
   "outputs": [],
   "source": [
    "training = pd.merge(left = trainingSensor, right = trainingFood, how = \"left\", left_on = [\"farm_id\",\"tank_id\", \"mea_dt\"], right_on = [\"farm_id\",\"tank_id\", \"feed_dt\"])\n",
    "validation = pd.merge(left = validationSensor, right = validationFood, how = \"left\", left_on = [\"farm_id\",\"tank_id\", \"mea_dt\"], right_on = [\"farm_id\",\"tank_id\", \"feed_dt\"])\n",
    "validation_oneday = pd.merge(left = validationSensor, right = validationFood, how = \"left\", left_on = [\"farm_id\",\"tank_id\", \"mea_dt\"], right_on = [\"farm_id\",\"tank_id\", \"feed_dt\"])"
   ]
  },
  {
   "cell_type": "code",
   "execution_count": 4,
   "id": "91748b48",
   "metadata": {},
   "outputs": [],
   "source": [
    "training = training[['do_mg','do_temp', 'ph', 'orp', 'co2_mg', 'air_oxy', 'light_ma', 'feed_quantity', 'water_quantity']]\n",
    "validation = validation[['do_mg','do_temp', 'ph', 'orp', 'co2_mg', 'air_oxy', 'light_ma', 'feed_quantity', 'water_quantity']]\n",
    "training = training.fillna(0)\n",
    "validation = validation.fillna(0)"
   ]
  },
  {
   "cell_type": "code",
   "execution_count": 5,
   "id": "86055ef7",
   "metadata": {},
   "outputs": [],
   "source": [
    "from sklearn.preprocessing import StandardScaler\n",
    "std_scaler = StandardScaler()\n",
    "std_scaler.fit(training)\n",
    "x_train_t = std_scaler.transform(training)\n",
    "training = pd.DataFrame(x_train_t, columns=training.columns, index=list(training.index.values))"
   ]
  },
  {
   "cell_type": "code",
   "execution_count": 6,
   "id": "dd864518",
   "metadata": {},
   "outputs": [],
   "source": [
    "x_train = training[['do_temp', 'ph', 'orp', 'co2_mg', 'air_oxy', 'light_ma', 'feed_quantity', 'water_quantity']]\n",
    "y_train = training[['do_mg']]\n",
    "x_test = validation[['do_temp', 'ph', 'orp', 'co2_mg', 'air_oxy', 'light_ma', 'feed_quantity', 'water_quantity']]\n",
    "y_test = validation[['do_mg']]"
   ]
  },
  {
   "cell_type": "code",
   "execution_count": 7,
   "id": "5a0ce5fc",
   "metadata": {},
   "outputs": [],
   "source": [
    "x_train = np.asarray(x_train, dtype=np.float64)\n",
    "x_test = np.asarray(x_test, dtype=np.float64)"
   ]
  },
  {
   "cell_type": "code",
   "execution_count": 8,
   "id": "3c81d913",
   "metadata": {},
   "outputs": [],
   "source": [
    "x_train = x_train.reshape((-1, 1, 8))\n",
    "x_test = x_test.reshape((-1, 1, 8))"
   ]
  },
  {
   "cell_type": "code",
   "execution_count": 9,
   "id": "a0a61a10",
   "metadata": {},
   "outputs": [
    {
     "name": "stdout",
     "output_type": "stream",
     "text": [
      "nCar: 1113748 nVar: 1\n",
      "nCar: 1113748 nVar: 1\n",
      "nCar: 1113748 nVar: 1\n",
      "nCar: 1113748 nVar: 1\n"
     ]
    }
   ],
   "source": [
    "# shape확인\n",
    "nCar = x_train.shape[0] # 데이터 개수\n",
    "nVar = x_train.shape[1] # 변수 개수\n",
    "print('nCar: %d' % nCar, 'nVar: %d' % nVar )\n",
    "\n",
    "nCar = y_train.shape[0] # 데이터 개수\n",
    "nVar = y_train.shape[1] # 변수 개수\n",
    "print('nCar: %d' % nCar, 'nVar: %d' % nVar )\n",
    "\n",
    "# shape확인\n",
    "nCar = x_test.shape[0] # 데이터 개수\n",
    "nVar = x_test.shape[1] # 변수 개수\n",
    "print('nCar: %d' % nCar, 'nVar: %d' % nVar )\n",
    "\n",
    "nCar = y_test.shape[0] # 데이터 개수\n",
    "nVar = y_test.shape[1] # 변수 개수\n",
    "print('nCar: %d' % nCar, 'nVar: %d' % nVar )"
   ]
  },
  {
   "cell_type": "code",
   "execution_count": 10,
   "id": "b2573dd8",
   "metadata": {},
   "outputs": [],
   "source": [
    "from keras import backend as K\n",
    "def r_squared(y_true, y_pred):\n",
    "    ss_res = K.sum(K.square(y_true - y_pred))\n",
    "    ss_tot = K.sum(K.square(y_true - K.mean(y_true)))\n",
    "    return (1 - ss_res/(ss_tot + K.epsilon()))"
   ]
  },
  {
   "cell_type": "code",
   "execution_count": 11,
   "id": "92902513",
   "metadata": {},
   "outputs": [
    {
     "name": "stderr",
     "output_type": "stream",
     "text": [
      "2023-04-03 10:38:12.800777: I tensorflow/core/platform/cpu_feature_guard.cc:142] This TensorFlow binary is optimized with oneAPI Deep Neural Network Library (oneDNN) to use the following CPU instructions in performance-critical operations:  AVX2 AVX512F FMA\n",
      "To enable them in other operations, rebuild TensorFlow with the appropriate compiler flags.\n",
      "2023-04-03 10:38:13.221204: I tensorflow/core/common_runtime/gpu/gpu_device.cc:1510] Created device /job:localhost/replica:0/task:0/device:GPU:0 with 7951 MB memory:  -> device: 0, name: NVIDIA A100 80GB PCIe MIG 1g.10gb, pci bus id: 0000:d5:00.0, compute capability: 8.0\n"
     ]
    },
    {
     "name": "stdout",
     "output_type": "stream",
     "text": [
      "Model: \"sequential\"\n",
      "_________________________________________________________________\n",
      "Layer (type)                 Output Shape              Param #   \n",
      "=================================================================\n",
      "lstm (LSTM)                  (None, 1, 128)            70144     \n",
      "_________________________________________________________________\n",
      "lstm_1 (LSTM)                (None, 1, 64)             49408     \n",
      "_________________________________________________________________\n",
      "lstm_2 (LSTM)                (None, 32)                12416     \n",
      "_________________________________________________________________\n",
      "dense (Dense)                (None, 1)                 33        \n",
      "=================================================================\n",
      "Total params: 132,001\n",
      "Trainable params: 132,001\n",
      "Non-trainable params: 0\n",
      "_________________________________________________________________\n"
     ]
    }
   ],
   "source": [
    "model = Sequential()\n",
    "model.add(LSTM(128, input_shape=(1, 8), return_sequences=True))\n",
    "model.add(LSTM(64, return_sequences=True))\n",
    "model.add(LSTM(32))\n",
    "model.add(Dense(1, activation='linear'))\n",
    " \n",
    "model.summary()\n",
    " \n",
    "# 3. 실행\n",
    "model.compile(optimizer='adam', loss='mse', metrics=['mae', r_squared])"
   ]
  },
  {
   "cell_type": "code",
   "execution_count": 12,
   "id": "ccd90bb4",
   "metadata": {},
   "outputs": [
    {
     "name": "stderr",
     "output_type": "stream",
     "text": [
      "2023-04-03 10:38:14.150014: I tensorflow/compiler/mlir/mlir_graph_optimization_pass.cc:185] None of the MLIR Optimization Passes are enabled (registered 2)\n"
     ]
    },
    {
     "name": "stdout",
     "output_type": "stream",
     "text": [
      "Epoch 1/50\n"
     ]
    },
    {
     "name": "stderr",
     "output_type": "stream",
     "text": [
      "2023-04-03 10:38:17.816068: I tensorflow/stream_executor/cuda/cuda_dnn.cc:369] Loaded cuDNN version 8200\n",
      "2023-04-03 10:38:18.727366: I tensorflow/stream_executor/cuda/cuda_blas.cc:1760] TensorFloat-32 will be used for the matrix multiplication. This will only be logged once.\n"
     ]
    },
    {
     "name": "stdout",
     "output_type": "stream",
     "text": [
      "34805/34805 [==============================] - 572s 16ms/step - loss: 0.4858 - mae: 0.5313 - r_squared: 0.4753 - val_loss: 33.8248 - val_mae: 5.4472 - val_r_squared: -78.3727\n",
      "Epoch 2/50\n",
      "34805/34805 [==============================] - 566s 16ms/step - loss: 0.3439 - mae: 0.4316 - r_squared: 0.6254 - val_loss: 36.4507 - val_mae: 5.6790 - val_r_squared: -84.5318\n",
      "Epoch 3/50\n",
      "34805/34805 [==============================] - 566s 16ms/step - loss: 0.2811 - mae: 0.3802 - r_squared: 0.6930 - val_loss: 35.5346 - val_mae: 5.6201 - val_r_squared: -82.0302\n",
      "Epoch 4/50\n",
      "34805/34805 [==============================] - 566s 16ms/step - loss: 0.2500 - mae: 0.3530 - r_squared: 0.7267 - val_loss: 35.8274 - val_mae: 5.6014 - val_r_squared: -83.3521\n",
      "Epoch 5/50\n",
      "34805/34805 [==============================] - 567s 16ms/step - loss: 0.2318 - mae: 0.3360 - r_squared: 0.7466 - val_loss: 34.7854 - val_mae: 5.5083 - val_r_squared: -81.9802\n",
      "Epoch 6/50\n",
      "34805/34805 [==============================] - 567s 16ms/step - loss: 0.2194 - mae: 0.3242 - r_squared: 0.7602 - val_loss: 37.8653 - val_mae: 5.7768 - val_r_squared: -89.1956\n",
      "Epoch 7/50\n",
      "34805/34805 [==============================] - 566s 16ms/step - loss: 0.2105 - mae: 0.3150 - r_squared: 0.7697 - val_loss: 37.8082 - val_mae: 5.6971 - val_r_squared: -89.6672\n",
      "Epoch 8/50\n",
      "34805/34805 [==============================] - 565s 16ms/step - loss: 0.2035 - mae: 0.3082 - r_squared: 0.7766 - val_loss: 39.0272 - val_mae: 5.8194 - val_r_squared: -92.3344\n",
      "Epoch 9/50\n",
      "34805/34805 [==============================] - 578s 17ms/step - loss: 0.1982 - mae: 0.3027 - r_squared: 0.7826 - val_loss: 40.1037 - val_mae: 5.8773 - val_r_squared: -94.0401\n",
      "Epoch 10/50\n",
      "34805/34805 [==============================] - 619s 18ms/step - loss: 0.1938 - mae: 0.2981 - r_squared: 0.7874 - val_loss: 43.1335 - val_mae: 6.1733 - val_r_squared: -101.7659\n",
      "Epoch 11/50\n",
      "34805/34805 [==============================] - 618s 18ms/step - loss: 0.1897 - mae: 0.2941 - r_squared: 0.7921 - val_loss: 47.4476 - val_mae: 6.5348 - val_r_squared: -111.0788\n",
      "Epoch 12/50\n",
      "34805/34805 [==============================] - 618s 18ms/step - loss: 0.1860 - mae: 0.2905 - r_squared: 0.7959 - val_loss: 39.7426 - val_mae: 5.9237 - val_r_squared: -94.1596\n",
      "Epoch 13/50\n",
      "34805/34805 [==============================] - 620s 18ms/step - loss: 0.1831 - mae: 0.2874 - r_squared: 0.7992 - val_loss: 40.6622 - val_mae: 6.0218 - val_r_squared: -93.8304\n",
      "Epoch 14/50\n",
      "34805/34805 [==============================] - 622s 18ms/step - loss: 0.1801 - mae: 0.2847 - r_squared: 0.8023 - val_loss: 41.6167 - val_mae: 6.1042 - val_r_squared: -95.1771\n",
      "Epoch 15/50\n",
      "34805/34805 [==============================] - 618s 18ms/step - loss: 0.1776 - mae: 0.2821 - r_squared: 0.8050 - val_loss: 40.3762 - val_mae: 5.9805 - val_r_squared: -91.4125\n",
      "Epoch 16/50\n",
      "34805/34805 [==============================] - 613s 18ms/step - loss: 0.1756 - mae: 0.2799 - r_squared: 0.8077 - val_loss: 40.2985 - val_mae: 5.9724 - val_r_squared: -91.3479\n",
      "Epoch 17/50\n",
      "34805/34805 [==============================] - 621s 18ms/step - loss: 0.1735 - mae: 0.2779 - r_squared: 0.8100 - val_loss: 43.8602 - val_mae: 6.2671 - val_r_squared: -99.3059\n",
      "Epoch 18/50\n",
      "34805/34805 [==============================] - 621s 18ms/step - loss: 0.1714 - mae: 0.2760 - r_squared: 0.8120 - val_loss: 43.1161 - val_mae: 6.2275 - val_r_squared: -101.6137\n",
      "Epoch 19/50\n",
      "34805/34805 [==============================] - 614s 18ms/step - loss: 0.1699 - mae: 0.2744 - r_squared: 0.8139 - val_loss: 41.3184 - val_mae: 6.0762 - val_r_squared: -99.3041\n",
      "Epoch 20/50\n",
      "34805/34805 [==============================] - 615s 18ms/step - loss: 0.1682 - mae: 0.2728 - r_squared: 0.8155 - val_loss: 43.4296 - val_mae: 6.2356 - val_r_squared: -107.2984\n",
      "Epoch 21/50\n",
      "34805/34805 [==============================] - 619s 18ms/step - loss: 0.1668 - mae: 0.2711 - r_squared: 0.8172 - val_loss: 44.4952 - val_mae: 6.3441 - val_r_squared: -107.0559\n",
      "Epoch 22/50\n",
      "34805/34805 [==============================] - 608s 17ms/step - loss: 0.1654 - mae: 0.2696 - r_squared: 0.8187 - val_loss: 44.6524 - val_mae: 6.3479 - val_r_squared: -111.1130\n",
      "Epoch 23/50\n",
      "34805/34805 [==============================] - 608s 17ms/step - loss: 0.1639 - mae: 0.2683 - r_squared: 0.8198 - val_loss: 42.9984 - val_mae: 6.2196 - val_r_squared: -105.2037\n",
      "Epoch 24/50\n",
      "34805/34805 [==============================] - 612s 18ms/step - loss: 0.1626 - mae: 0.2669 - r_squared: 0.8215 - val_loss: 42.3551 - val_mae: 6.1626 - val_r_squared: -102.9682\n",
      "Epoch 25/50\n",
      "34805/34805 [==============================] - 620s 18ms/step - loss: 0.1614 - mae: 0.2657 - r_squared: 0.8228 - val_loss: 42.7306 - val_mae: 6.1839 - val_r_squared: -106.8715\n",
      "Epoch 26/50\n",
      "34805/34805 [==============================] - 622s 18ms/step - loss: 0.1605 - mae: 0.2646 - r_squared: 0.8239 - val_loss: 41.7093 - val_mae: 6.1068 - val_r_squared: -99.9691\n",
      "Epoch 27/50\n",
      "34805/34805 [==============================] - 619s 18ms/step - loss: 0.1593 - mae: 0.2634 - r_squared: 0.8251 - val_loss: 43.1163 - val_mae: 6.2151 - val_r_squared: -104.5255\n",
      "Epoch 28/50\n",
      "34805/34805 [==============================] - 613s 18ms/step - loss: 0.1582 - mae: 0.2623 - r_squared: 0.8263 - val_loss: 42.1279 - val_mae: 6.1389 - val_r_squared: -100.2880\n",
      "Epoch 29/50\n",
      "34805/34805 [==============================] - 624s 18ms/step - loss: 0.1573 - mae: 0.2615 - r_squared: 0.8272 - val_loss: 40.6691 - val_mae: 6.0078 - val_r_squared: -96.3595\n",
      "Epoch 30/50\n",
      "34805/34805 [==============================] - 617s 18ms/step - loss: 0.1562 - mae: 0.2604 - r_squared: 0.8284 - val_loss: 39.4385 - val_mae: 5.9031 - val_r_squared: -93.1336\n",
      "Epoch 31/50\n",
      "34805/34805 [==============================] - 612s 18ms/step - loss: 0.1554 - mae: 0.2595 - r_squared: 0.8294 - val_loss: 39.0663 - val_mae: 5.8799 - val_r_squared: -90.7984\n",
      "Epoch 32/50\n",
      "34805/34805 [==============================] - 620s 18ms/step - loss: 0.1544 - mae: 0.2586 - r_squared: 0.8308 - val_loss: 42.2850 - val_mae: 6.1464 - val_r_squared: -97.0188\n",
      "Epoch 33/50\n",
      "34805/34805 [==============================] - 625s 18ms/step - loss: 0.1539 - mae: 0.2581 - r_squared: 0.8312 - val_loss: 39.6506 - val_mae: 5.9340 - val_r_squared: -91.4264\n",
      "Epoch 34/50\n",
      "34805/34805 [==============================] - 622s 18ms/step - loss: 0.1530 - mae: 0.2571 - r_squared: 0.8319 - val_loss: 38.7006 - val_mae: 5.8507 - val_r_squared: -88.6373\n",
      "Epoch 35/50\n",
      "34805/34805 [==============================] - 616s 18ms/step - loss: 0.1527 - mae: 0.2566 - r_squared: 0.8326 - val_loss: 37.4975 - val_mae: 5.7485 - val_r_squared: -86.4014\n",
      "Epoch 36/50\n",
      "34805/34805 [==============================] - 621s 18ms/step - loss: 0.1517 - mae: 0.2557 - r_squared: 0.8336 - val_loss: 38.3353 - val_mae: 5.8229 - val_r_squared: -89.4393\n",
      "Epoch 37/50\n",
      "34805/34805 [==============================] - 611s 18ms/step - loss: 0.1509 - mae: 0.2551 - r_squared: 0.8341 - val_loss: 37.0868 - val_mae: 5.7258 - val_r_squared: -85.9182\n",
      "Epoch 38/50\n",
      "34805/34805 [==============================] - 611s 18ms/step - loss: 0.1503 - mae: 0.2543 - r_squared: 0.8350 - val_loss: 38.1157 - val_mae: 5.7941 - val_r_squared: -91.4877\n",
      "Epoch 39/50\n",
      "34805/34805 [==============================] - 625s 18ms/step - loss: 0.1497 - mae: 0.2537 - r_squared: 0.8358 - val_loss: 38.5202 - val_mae: 5.8421 - val_r_squared: -94.5982\n",
      "Epoch 40/50\n",
      "34805/34805 [==============================] - 623s 18ms/step - loss: 0.1492 - mae: 0.2532 - r_squared: 0.8362 - val_loss: 39.0203 - val_mae: 5.8719 - val_r_squared: -95.2073\n",
      "Epoch 41/50\n",
      "34805/34805 [==============================] - 619s 18ms/step - loss: 0.1486 - mae: 0.2526 - r_squared: 0.8369 - val_loss: 38.1803 - val_mae: 5.8080 - val_r_squared: -92.4935\n",
      "Epoch 42/50\n",
      "34805/34805 [==============================] - 616s 18ms/step - loss: 0.1480 - mae: 0.2519 - r_squared: 0.8375 - val_loss: 39.4366 - val_mae: 5.8884 - val_r_squared: -94.2613\n",
      "Epoch 43/50\n",
      "34805/34805 [==============================] - 619s 18ms/step - loss: 0.1472 - mae: 0.2513 - r_squared: 0.8382 - val_loss: 38.9638 - val_mae: 5.8555 - val_r_squared: -94.8549\n",
      "Epoch 44/50\n",
      "34805/34805 [==============================] - 621s 18ms/step - loss: 0.1470 - mae: 0.2509 - r_squared: 0.8388 - val_loss: 38.2660 - val_mae: 5.8022 - val_r_squared: -90.7579\n"
     ]
    },
    {
     "name": "stdout",
     "output_type": "stream",
     "text": [
      "Epoch 45/50\n",
      "34805/34805 [==============================] - 623s 18ms/step - loss: 0.1465 - mae: 0.2504 - r_squared: 0.8391 - val_loss: 37.8396 - val_mae: 5.7404 - val_r_squared: -92.3819\n",
      "Epoch 46/50\n",
      "34805/34805 [==============================] - 625s 18ms/step - loss: 0.1460 - mae: 0.2498 - r_squared: 0.8398 - val_loss: 38.4102 - val_mae: 5.8070 - val_r_squared: -91.3557\n",
      "Epoch 47/50\n",
      "34805/34805 [==============================] - 621s 18ms/step - loss: 0.1457 - mae: 0.2495 - r_squared: 0.8399 - val_loss: 36.1208 - val_mae: 5.6131 - val_r_squared: -87.1424\n",
      "Epoch 48/50\n",
      "34805/34805 [==============================] - 617s 18ms/step - loss: 0.1450 - mae: 0.2489 - r_squared: 0.8408 - val_loss: 39.5723 - val_mae: 5.8817 - val_r_squared: -96.5849\n",
      "Epoch 49/50\n",
      "34805/34805 [==============================] - 615s 18ms/step - loss: 0.1446 - mae: 0.2484 - r_squared: 0.8415 - val_loss: 38.4341 - val_mae: 5.8108 - val_r_squared: -90.1861\n",
      "Epoch 50/50\n",
      "34805/34805 [==============================] - 625s 18ms/step - loss: 0.1444 - mae: 0.2480 - r_squared: 0.8413 - val_loss: 39.6117 - val_mae: 5.8884 - val_r_squared: -96.0965\n"
     ]
    }
   ],
   "source": [
    "hist = model.fit(x_train, y_train, epochs = 50, batch_size = 32, validation_data=(x_test, y_test))"
   ]
  },
  {
   "cell_type": "code",
   "execution_count": 13,
   "id": "26719eaf",
   "metadata": {},
   "outputs": [],
   "source": [
    "model.save('lstmJaponica4.h5')"
   ]
  },
  {
   "cell_type": "code",
   "execution_count": 14,
   "id": "d247e243",
   "metadata": {},
   "outputs": [
    {
     "data": {
      "text/plain": [
       "(1113748, 1)"
      ]
     },
     "execution_count": 14,
     "metadata": {},
     "output_type": "execute_result"
    }
   ],
   "source": [
    "pred = model.predict(x_test)\n",
    "\n",
    "pred.shape"
   ]
  },
  {
   "cell_type": "code",
   "execution_count": 15,
   "id": "c90c1a89",
   "metadata": {},
   "outputs": [
    {
     "data": {
      "image/png": "[encoded data removed]",
      "text/plain": [
       "<Figure size 864x648 with 1 Axes>"
      ]
     },
     "metadata": {
      "needs_background": "light"
     },
     "output_type": "display_data"
    }
   ],
   "source": [
    "import matplotlib.pyplot as plt\n",
    "plt.figure(figsize=(12, 9))\n",
    "plt.plot(y_test, label = 'actual')\n",
    "plt.plot(pred, label = 'prediction')\n",
    "plt.legend()\n",
    "plt.show()"
   ]
  },
  {
   "cell_type": "code",
   "execution_count": 16,
   "id": "9e8f3d3e",
   "metadata": {},
   "outputs": [
    {
     "name": "stdout",
     "output_type": "stream",
     "text": [
      "[[-1.2664568  -1.4282112  -2.4017136  ...  2.067425    0.7731768\n",
      "  -0.42515227]\n",
      " [-1.1070714  -0.8069595   1.2246329  ... -2.0592782   2.4291377\n",
      "   0.2225754 ]\n",
      " [ 1.6419111  -2.4213028  -0.51305324 ... -0.9504021  -1.6035591\n",
      "   1.1066236 ]\n",
      " ...\n",
      " [-0.60238993 -3.432236   -0.6919686  ... -0.23364532 -0.99720955\n",
      "   0.426759  ]\n",
      " [ 1.0465183  -1.1800046  -1.1154777  ... -1.5251622  -0.33169958\n",
      "  -1.8917707 ]\n",
      " [ 0.88341826 -1.1148164  -0.97365654 ... -1.4305133  -0.3959682\n",
      "  -1.8975545 ]]\n"
     ]
    },
    {
     "data": {
      "image/png": "[encoded data removed]",
      "text/plain": [
       "<Figure size 576x288 with 1 Axes>"
      ]
     },
     "metadata": {
      "needs_background": "light"
     },
     "output_type": "display_data"
    }
   ],
   "source": [
    "weights = model.layers[0].get_weights()[0]\n",
    "print(weights)\n",
    "\n",
    "import matplotlib.pyplot as plt\n",
    "\n",
    "# 변수 중요도 시각화\n",
    "fig, ax = plt.subplots(figsize=(8, 4))\n",
    "ax.bar(range(8), weights[:, 0])\n",
    "ax.set_xticks(range(8))\n",
    "ax.set_xticklabels(['do_temp', 'ph', 'orp', 'co2_mg', 'air_oxy', 'light_ma', 'feed_quantity', 'water_quantity'])\n",
    "ax.set_ylabel('Weight')\n",
    "ax.set_title('Variable Importance')\n",
    "plt.show()"
   ]
  },
  {
   "cell_type": "code",
   "execution_count": 17,
   "id": "fb19e9d6",
   "metadata": {
    "scrolled": true
   },
   "outputs": [
    {
     "name": "stdout",
     "output_type": "stream",
     "text": [
      "34805/34805 [==============================] - 238s 7ms/step - loss: 39.6117 - mae: 5.8884 - r_squared: -96.0965\n",
      "MSE:  [39.61165237426758, 5.88842248916626, -96.09654235839844]\n",
      "MAE:  tf.Tensor([6.6556664 5.55165   5.558264  ... 6.9992485 8.645226  7.7913837], shape=(1113748,), dtype=float32)\n",
      "R-squared: -7.826555598532769\n"
     ]
    }
   ],
   "source": [
    "from keras.metrics import mean_squared_error, mean_absolute_error\n",
    "from sklearn.metrics import r2_score\n",
    "\n",
    "\n",
    "# 평가\n",
    "mse = model.evaluate(x_test, y_test)\n",
    "mae = mean_absolute_error(y_test, pred)\n",
    "r_squared = r2_score(y_test, pred)\n",
    "\n",
    "\n",
    "print(\"MSE: \", mse)\n",
    "print(\"MAE: \", mae)\n",
    "print('R-squared:', r_squared)"
   ]
  },
  {
   "cell_type": "code",
   "execution_count": 18,
   "id": "689d7b20",
   "metadata": {},
   "outputs": [
    {
     "name": "stdout",
     "output_type": "stream",
     "text": [
      "nCar: 1440 nVar: 1\n",
      "nCar: 1440 nVar: 1\n"
     ]
    }
   ],
   "source": [
    "oneday = validation_oneday[(validation_oneday['mea_dt'].str.contains('2021-07-21'))&(validation_oneday['tank_id']==1)]\n",
    "#oneday = validation_oneday[(validation.loc[:'2021-08-09 16:3'])&(validation['tank_id']==1)]\n",
    "oneday = oneday.fillna(0)\n",
    "x_test_oneday = oneday[['do_temp', 'ph', 'orp', 'co2_mg', 'air_oxy', 'light_ma', 'feed_quantity', 'water_quantity']]\n",
    "y_test_oneday = oneday[['do_mg']]\n",
    "\n",
    "x_test_oneday = np.asarray(x_test_oneday, dtype=np.float64)\n",
    "x_test_oneday = x_test_oneday.reshape((-1, 1, 8))\n",
    "\n",
    "# shape확인\n",
    "nCar = x_test_oneday.shape[0] # 데이터 개수\n",
    "nVar = x_test_oneday.shape[1] # 변수 개수\n",
    "print('nCar: %d' % nCar, 'nVar: %d' % nVar )\n",
    "\n",
    "nCar = y_test_oneday.shape[0] # 데이터 개수\n",
    "nVar = y_test_oneday.shape[1] # 변수 개수\n",
    "print('nCar: %d' % nCar, 'nVar: %d' % nVar )"
   ]
  },
  {
   "cell_type": "code",
   "execution_count": 19,
   "id": "2170a396",
   "metadata": {},
   "outputs": [
    {
     "data": {
      "image/png": "[encoded data removed]",
      "text/plain": [
       "<Figure size 720x360 with 1 Axes>"
      ]
     },
     "metadata": {
      "needs_background": "light"
     },
     "output_type": "display_data"
    }
   ],
   "source": [
    "pred_oneday = model.predict(x_test_oneday)\n",
    "plt.figure(figsize=(10, 5))\n",
    "plt.plot(oneday.index, y_test_oneday, label = 'actual')\n",
    "plt.plot(oneday.index, pred_oneday, label = 'prediction')\n",
    "plt.legend()\n",
    "plt.show()"
   ]
  },
  {
   "cell_type": "code",
   "execution_count": null,
   "id": "392eafa4",
   "metadata": {},
   "outputs": [],
   "source": []
  }
 ],
 "metadata": {
  "kernelspec": {
   "display_name": "tf2.6.0-keras2.6.0-py3.8-cuda11.3",
   "language": "python",
   "name": "tf2.6.0-keras2.6.0-py3.8-cuda11.3"
  },
  "language_info": {
   "codemirror_mode": {
    "name": "ipython",
    "version": 3
   },
   "file_extension": ".py",
   "mimetype": "text/x-python",
   "name": "python",
   "nbconvert_exporter": "python",
   "pygments_lexer": "ipython3",
   "version": "3.8.10"
  }
 },
 "nbformat": 4,
 "nbformat_minor": 5
}
