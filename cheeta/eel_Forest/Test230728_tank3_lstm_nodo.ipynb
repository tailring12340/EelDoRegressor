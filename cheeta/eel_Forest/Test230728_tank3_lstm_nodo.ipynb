{
 "cells": [
  {
   "cell_type": "markdown",
   "metadata": {},
   "source": [
    "라이브러리"
   ]
  },
  {
   "cell_type": "code",
   "execution_count": 14,
   "metadata": {},
   "outputs": [],
   "source": [
    "import pandas as pd\n",
    "import numpy as np\n",
    "from keras.utils import *\n",
    "from sklearn.preprocessing import *\n",
    "from keras import backend as K\n",
    "from keras.models import load_model\n",
    "from keras.layers import LSTM, Dense, concatenate, Input\n",
    "from sklearn.ensemble import GradientBoostingRegressor\n",
    "from keras.models import Model\n",
    "from keras.models import Sequential\n",
    "import matplotlib.pyplot as plt\n",
    "from keras.metrics import mean_squared_error\n",
    "from sklearn.metrics import r2_score\n",
    "import matplotlib.font_manager as fm\n",
    "from matplotlib.dates import DateFormatter\n",
    "from keras.callbacks import ModelCheckpoint, EarlyStopping, ReduceLROnPlateau\n",
    "\n",
    "# 모델명(= 파일명) 설정\n",
    "tank = 3\n",
    "model_name = 'Test230728_tank3_lstm_nodo'"
   ]
  },
  {
   "cell_type": "code",
   "execution_count": 15,
   "metadata": {},
   "outputs": [],
   "source": [
    "# r_squared 평가 함수\n",
    "def r_squared(y_true, y_pred):\n",
    "    ss_res = K.sum(K.square(y_true - y_pred))\n",
    "    ss_tot = K.sum(K.square(y_true - K.mean(y_true)))\n",
    "    return (1 - ss_res/(ss_tot + K.epsilon()))"
   ]
  },
  {
   "cell_type": "markdown",
   "metadata": {},
   "source": [
    "데이터셋 설정"
   ]
  },
  {
   "cell_type": "code",
   "execution_count": 16,
   "metadata": {},
   "outputs": [],
   "source": [
    "#자포니카 훈련 데이터\n",
    "japonica_training_food_supply_tb = pd.read_csv(\"eeldata/data/Training/Origin/Management/Japonica/food_supply_tb.csv\")\n",
    "japonica_training_sensor_val_tb = pd.read_csv(\"eeldata/data/Training/Origin/Sensor/Japonica/sensor_val_tb.csv\")\n",
    "\n",
    "#자포니카 검증 데이터\n",
    "japonica_validation_food_supply_tb = pd.read_csv(\"eeldata/data/Validation/Origin/Management/Japonica/food_supply_tb.csv\")\n",
    "japonica_validation_sensor_val_tb = pd.read_csv(\"eeldata/data/Validation/Origin/Sensor/Japonica/sensor_val_tb.csv\")\n"
   ]
  },
  {
   "cell_type": "code",
   "execution_count": 17,
   "metadata": {},
   "outputs": [],
   "source": [
    "# 자포니카 사료 공급 데이터 정제\n",
    "# null제거\n",
    "japonica_training_food_supply_tb = japonica_training_food_supply_tb[japonica_training_food_supply_tb['feed_quantity'].notnull()]\n",
    "japonica_validation_food_supply_tb = japonica_validation_food_supply_tb[japonica_validation_food_supply_tb['feed_quantity'].notnull()]\n",
    "\n",
    "# 시계열 데이터 변환\n",
    "japonica_training_food_supply_tb['feed_dt'] = pd.to_datetime(japonica_training_food_supply_tb['feed_dt'], format='%Y%m%d%H%M', errors='raise')\n",
    "japonica_training_food_supply_tb[\"feed_dt\"] = japonica_training_food_supply_tb[\"feed_dt\"].apply(str)\n",
    "japonica_training_food_supply_tb[\"feed_dt\"] = japonica_training_food_supply_tb[\"feed_dt\"].str.slice(start=0, stop=16)\n",
    "japonica_validation_food_supply_tb['feed_dt'] = pd.to_datetime(japonica_validation_food_supply_tb['feed_dt'], format='%Y%m%d%H%M', errors='raise')\n",
    "japonica_validation_food_supply_tb[\"feed_dt\"] = japonica_validation_food_supply_tb[\"feed_dt\"].apply(str)\n",
    "japonica_validation_food_supply_tb[\"feed_dt\"] = japonica_validation_food_supply_tb[\"feed_dt\"].str.slice(start=0, stop=16)"
   ]
  },
  {
   "cell_type": "code",
   "execution_count": 18,
   "metadata": {},
   "outputs": [],
   "source": [
    "# 자포니카 센서 데이터 정제\n",
    "\n",
    "# 한 개 탱크\n",
    "japonica_training_sensor_val_tb = japonica_training_sensor_val_tb[japonica_training_sensor_val_tb['tank_id']==tank]\n",
    "japonica_validation_sensor_val_tb = japonica_validation_sensor_val_tb[japonica_validation_sensor_val_tb['tank_id']==tank]\n",
    "\n",
    "#시계열 변환\n",
    "japonica_training_sensor_val_tb[\"mea_dt\"] = japonica_training_sensor_val_tb[\"mea_dt\"].apply(str)\n",
    "japonica_training_sensor_val_tb[\"mea_dt\"] = japonica_training_sensor_val_tb[\"mea_dt\"].str.slice(start=0, stop=16)\n",
    "japonica_training_sensor_val_tb['mea_dt'] = pd.to_datetime(japonica_training_sensor_val_tb['mea_dt'], format='%Y-%m-%d %H:%M', errors='raise')\n",
    "japonica_validation_sensor_val_tb[\"mea_dt\"] = japonica_validation_sensor_val_tb[\"mea_dt\"].apply(str)\n",
    "japonica_validation_sensor_val_tb[\"mea_dt\"] = japonica_validation_sensor_val_tb[\"mea_dt\"].str.slice(start=0, stop=16)\n",
    "japonica_validation_sensor_val_tb['mea_dt'] = pd.to_datetime(japonica_validation_sensor_val_tb['mea_dt'], format='%Y-%m-%d %H:%M', errors='raise')\n",
    "\n",
    "# 시계열 데이터의 개수 확인\n",
    "training_counts = japonica_training_sensor_val_tb.groupby(japonica_training_sensor_val_tb['mea_dt'].dt.date).size()\n",
    "validation_counts = japonica_validation_sensor_val_tb.groupby(japonica_validation_sensor_val_tb['mea_dt'].dt.date).size()\n",
    "\n",
    "# 개수가 1440이 아닌 시계열 삭제\n",
    "to_delete = training_counts[training_counts != 1440].index\n",
    "japonica_training_sensor_val_tb = japonica_training_sensor_val_tb[~japonica_training_sensor_val_tb['mea_dt'].dt.date.isin(to_delete)]\n",
    "to_delete = validation_counts[validation_counts != 1440].index\n",
    "japonica_validation_sensor_val_tb = japonica_validation_sensor_val_tb[~japonica_validation_sensor_val_tb['mea_dt'].dt.date.isin(to_delete)]\n",
    "\n",
    "#시계열 데이터 문자 타입으로 변경\n",
    "japonica_training_sensor_val_tb[\"mea_dt\"] = japonica_training_sensor_val_tb[\"mea_dt\"].dt.strftime('%Y-%m-%d %H:%M')\n",
    "japonica_training_sensor_val_tb[\"mea_dt\"] = japonica_training_sensor_val_tb[\"mea_dt\"].str.slice(start=0, stop=16)\n",
    "japonica_validation_sensor_val_tb[\"mea_dt\"] = japonica_validation_sensor_val_tb[\"mea_dt\"].dt.strftime('%Y-%m-%d %H:%M')\n",
    "japonica_validation_sensor_val_tb[\"mea_dt\"] = japonica_validation_sensor_val_tb[\"mea_dt\"].str.slice(start=0, stop=16)\n"
   ]
  },
  {
   "cell_type": "code",
   "execution_count": 19,
   "metadata": {},
   "outputs": [],
   "source": [
    "# 자포니카 훈련 데이터 및 시계열 데이터 병합\n",
    "japonica_training = pd.merge(left = japonica_training_sensor_val_tb, right = japonica_training_food_supply_tb, how = \"left\", left_on = [\"farm_id\",\"tank_id\", \"mea_dt\"], right_on = [\"farm_id\",\"tank_id\", \"feed_dt\"])\n",
    "japonica_validation = pd.merge(left = japonica_validation_sensor_val_tb, right = japonica_validation_food_supply_tb, how = \"left\", left_on = [\"farm_id\",\"tank_id\", \"mea_dt\"], right_on = [\"farm_id\",\"tank_id\", \"feed_dt\"])\n",
    "\n",
    "japonica_training['mea_dt'] = pd.to_datetime(japonica_training['mea_dt'], format='%Y-%m-%d %H:%M', errors='raise')\n",
    "japonica_validation['mea_dt'] = pd.to_datetime(japonica_validation['mea_dt'], format='%Y-%m-%d %H:%M', errors='raise')\n",
    "\n",
    "# 사용할 features 선택\n",
    "feature_origin = ['tank_id','mea_dt', 'do_mg','do_temp', 'ph', 'orp', 'co2_mg', 'air_oxy', 'light_ma', 'feed_quantity', 'water_quantity']\n",
    "japonica_training_features = japonica_training[feature_origin]\n",
    "japonica_validation_features = japonica_validation[feature_origin]\n",
    "\n",
    "# nan 값 처리 (먹이를 주지 않았을 경우는 급여량이 0이니까)\n",
    "japonica_training_features = japonica_training_features.fillna(0)\n",
    "japonica_validation_features = japonica_validation_features.fillna(0)\n",
    "\n",
    "# 날짜 데이터를 인덱스로 전환\n",
    "japonica_training_features.set_index('mea_dt', inplace=True)\n",
    "japonica_validation_features.set_index('mea_dt', inplace=True)\n",
    "\n",
    "# 인덱스 순으로 데이터를 정렬\n",
    "japonica_training_data = japonica_training_features.sort_index()\n",
    "japonica_validation_data = japonica_validation_features.sort_index()\n",
    "\n",
    "# 8월 1달간 데이터만 추출\n",
    "japonica_training_data = japonica_training_data.loc['2021-07-21 00:00':'2021-09-10 23:59']\n",
    "japonica_validation_data = japonica_validation_data.loc['2021-07-21 00:00':'2021-09-10 23:59']"
   ]
  },
  {
   "cell_type": "code",
   "execution_count": 20,
   "metadata": {},
   "outputs": [],
   "source": [
    "japonica_training_features_X = japonica_training_data[['do_temp', 'ph', 'orp', 'co2_mg', 'air_oxy', 'light_ma', 'feed_quantity', 'water_quantity']]\n",
    "japonica_training_features_y = japonica_training_data[['do_mg']]\n",
    "\n",
    "japonica_validation_features_X = japonica_validation_data[['do_temp', 'ph', 'orp', 'co2_mg', 'air_oxy', 'light_ma', 'feed_quantity', 'water_quantity']]\n",
    "japonica_validation_features_y = japonica_validation_data[['do_mg']]"
   ]
  },
  {
   "cell_type": "code",
   "execution_count": 21,
   "metadata": {},
   "outputs": [],
   "source": [
    "japonica_training_features_X_chunks = []\n",
    "japonica_training_features_y_chunks = []\n",
    "\n",
    "for i in range(0, len(japonica_training_features_X) - 179):\n",
    "    japonica_training_features_X_chunks.append(np.array(japonica_training_features_X.iloc[i:i+180].values, dtype=np.float64))\n",
    "japonica_training_features_X_chunks = np.array(japonica_training_features_X_chunks, dtype=np.float64)\n",
    "\n",
    "for i in range(0, len(japonica_training_features_y) - 179):\n",
    "    japonica_training_features_y_chunks.append(np.array(japonica_training_features_y.iloc[i:i+180].values, dtype=np.float64))\n",
    "japonica_training_features_y_chunks = np.array(japonica_training_features_y_chunks, dtype=np.float64)"
   ]
  },
  {
   "cell_type": "code",
   "execution_count": 22,
   "metadata": {},
   "outputs": [],
   "source": [
    "japonica_validation_features_X_chunks = []\n",
    "japonica_validation_features_y_chunks = []\n",
    "\n",
    "\n",
    "for i in range(0, len(japonica_validation_features_X) - 179):\n",
    "    japonica_validation_features_X_chunks.append(np.array(japonica_validation_features_X.iloc[i:i+180].values, dtype=np.float64))\n",
    "japonica_validation_features_X_chunks = np.array(japonica_validation_features_X_chunks, dtype=np.float64)\n",
    "\n",
    "for i in range(0, len(japonica_validation_features_y) - 179):\n",
    "    japonica_validation_features_y_chunks.append(np.array(japonica_validation_features_y.iloc[i:i+180].values, dtype=np.float64))\n",
    "japonica_validation_features_y_chunks = np.array(japonica_validation_features_y_chunks, dtype=np.float64)"
   ]
  },
  {
   "cell_type": "code",
   "execution_count": 23,
   "metadata": {},
   "outputs": [
    {
     "name": "stdout",
     "output_type": "stream",
     "text": [
      "nCar: 64621 nVar: 8\n",
      "nCar: 64621 nVar: 180\n",
      "nCar: 64621 nVar: 8\n",
      "nCar: 64621 nVar: 180\n"
     ]
    }
   ],
   "source": [
    "# shape확인\n",
    "nCar = japonica_training_features_X_chunks.shape[0] # 데이터 개수\n",
    "nVar = japonica_training_features_X_chunks.shape[2] # 변수 개수\n",
    "print('nCar: %d' % nCar, 'nVar: %d' % nVar )\n",
    "\n",
    "nCar = japonica_training_features_y_chunks.shape[0] # 데이터 개수\n",
    "nVar = japonica_training_features_y_chunks.shape[1] # 변수 개수\n",
    "print('nCar: %d' % nCar, 'nVar: %d' % nVar )\n",
    "\n",
    "nCar = japonica_validation_features_X_chunks.shape[0] # 데이터 개수\n",
    "nVar = japonica_validation_features_X_chunks.shape[2] # 변수 개수\n",
    "print('nCar: %d' % nCar, 'nVar: %d' % nVar )\n",
    "\n",
    "nCar = japonica_validation_features_y_chunks.shape[0] # 데이터 개수\n",
    "nVar = japonica_validation_features_y_chunks.shape[1] # 변수 개수\n",
    "print('nCar: %d' % nCar, 'nVar: %d' % nVar )"
   ]
  },
  {
   "cell_type": "code",
   "execution_count": 24,
   "metadata": {},
   "outputs": [],
   "source": [
    "japonica_training_features_X_chunks_crop = japonica_training_features_X_chunks[:-180]\n",
    "japonica_training_features_y_chunks_crop = japonica_training_features_y_chunks[180:]\n",
    "\n",
    "japonica_validation_features_X_chunks_crop = japonica_validation_features_X_chunks[:-180]\n",
    "japonica_validation_features_y_chunks_crop = japonica_validation_features_y_chunks[180:]"
   ]
  },
  {
   "cell_type": "code",
   "execution_count": 25,
   "metadata": {},
   "outputs": [
    {
     "name": "stdout",
     "output_type": "stream",
     "text": [
      "nCar: 64441 nVar: 8\n",
      "nCar: 64441 nVar: 180\n",
      "nCar: 64441 nVar: 8\n",
      "nCar: 64441 nVar: 180\n"
     ]
    }
   ],
   "source": [
    "nCar = japonica_training_features_X_chunks_crop.shape[0] # 데이터 개수\n",
    "nVar = japonica_training_features_X_chunks_crop.shape[2] # 변수 개수\n",
    "print('nCar: %d' % nCar, 'nVar: %d' % nVar )\n",
    "\n",
    "nCar = japonica_training_features_y_chunks_crop.shape[0] # 데이터 개수\n",
    "nVar = japonica_training_features_y_chunks_crop.shape[1] # 변수 개수\n",
    "print('nCar: %d' % nCar, 'nVar: %d' % nVar )\n",
    "\n",
    "nCar = japonica_validation_features_X_chunks_crop.shape[0] # 데이터 개수\n",
    "nVar = japonica_validation_features_X_chunks_crop.shape[2] # 변수 개수\n",
    "print('nCar: %d' % nCar, 'nVar: %d' % nVar )\n",
    "\n",
    "nCar = japonica_validation_features_y_chunks_crop.shape[0] # 데이터 개수\n",
    "nVar = japonica_validation_features_y_chunks_crop.shape[1] # 변수 개수\n",
    "print('nCar: %d' % nCar, 'nVar: %d' % nVar )"
   ]
  },
  {
   "cell_type": "markdown",
   "metadata": {},
   "source": [
    "LSTM 모델 학습 (학습시에만 사용, 그외에는 불필요)"
   ]
  },
  {
   "cell_type": "code",
   "execution_count": 26,
   "metadata": {
    "scrolled": true
   },
   "outputs": [
    {
     "name": "stdout",
     "output_type": "stream",
     "text": [
      "Model: \"sequential_1\"\n",
      "_________________________________________________________________\n",
      "Layer (type)                 Output Shape              Param #   \n",
      "=================================================================\n",
      "lstm_3 (LSTM)                (None, 180, 128)          70144     \n",
      "_________________________________________________________________\n",
      "lstm_4 (LSTM)                (None, 180, 64)           49408     \n",
      "_________________________________________________________________\n",
      "lstm_5 (LSTM)                (None, 32)                12416     \n",
      "_________________________________________________________________\n",
      "dense_1 (Dense)              (None, 180)               5940      \n",
      "=================================================================\n",
      "Total params: 137,908\n",
      "Trainable params: 137,908\n",
      "Non-trainable params: 0\n",
      "_________________________________________________________________\n",
      "Epoch 1/1000\n",
      "2014/2014 [==============================] - 100s 48ms/step - loss: 7.1542 - mae: 1.8107 - r_squared: -0.9001 - val_loss: 4.0832 - val_mae: 1.4165 - val_r_squared: -66.2414\n",
      "Epoch 2/1000\n",
      "2014/2014 [==============================] - 95s 47ms/step - loss: 4.0824 - mae: 1.4110 - r_squared: -0.0351 - val_loss: 4.0776 - val_mae: 1.4067 - val_r_squared: -67.3868\n",
      "Epoch 3/1000\n",
      "2014/2014 [==============================] - 94s 47ms/step - loss: 3.0758 - mae: 1.2689 - r_squared: 0.1867 - val_loss: 2.9492 - val_mae: 1.2475 - val_r_squared: -52.1843\n",
      "Epoch 4/1000\n",
      "2014/2014 [==============================] - 95s 47ms/step - loss: 2.5961 - mae: 1.1857 - r_squared: 0.2963 - val_loss: 2.1567 - val_mae: 1.1065 - val_r_squared: -41.2641\n",
      "Epoch 5/1000\n",
      "2014/2014 [==============================] - 95s 47ms/step - loss: 1.8815 - mae: 1.0324 - r_squared: 0.4617 - val_loss: 1.5619 - val_mae: 0.9428 - val_r_squared: -28.1508\n",
      "Epoch 6/1000\n",
      "2014/2014 [==============================] - 95s 47ms/step - loss: 1.6291 - mae: 0.9592 - r_squared: 0.5284 - val_loss: 1.4602 - val_mae: 0.9126 - val_r_squared: -28.0851\n",
      "Epoch 7/1000\n",
      "2014/2014 [==============================] - 95s 47ms/step - loss: 1.5087 - mae: 0.9119 - r_squared: 0.5652 - val_loss: 1.4376 - val_mae: 0.9341 - val_r_squared: -27.9816\n",
      "Epoch 8/1000\n",
      "2014/2014 [==============================] - 95s 47ms/step - loss: 1.4248 - mae: 0.8891 - r_squared: 0.5872 - val_loss: 1.3644 - val_mae: 0.8535 - val_r_squared: -22.6470\n",
      "Epoch 9/1000\n",
      "2014/2014 [==============================] - 95s 47ms/step - loss: 1.3503 - mae: 0.8668 - r_squared: 0.6043 - val_loss: 1.2957 - val_mae: 0.8617 - val_r_squared: -23.8869\n",
      "Epoch 10/1000\n",
      "2014/2014 [==============================] - 94s 47ms/step - loss: 1.2873 - mae: 0.8471 - r_squared: 0.6190 - val_loss: 1.2538 - val_mae: 0.8068 - val_r_squared: -20.5199\n",
      "Epoch 11/1000\n",
      "2014/2014 [==============================] - 94s 47ms/step - loss: 1.2753 - mae: 0.8408 - r_squared: 0.6272 - val_loss: 1.2257 - val_mae: 0.8241 - val_r_squared: -23.4016\n",
      "Epoch 12/1000\n",
      "2014/2014 [==============================] - 94s 47ms/step - loss: 1.2237 - mae: 0.8209 - r_squared: 0.6426 - val_loss: 1.1369 - val_mae: 0.7915 - val_r_squared: -22.4115ETA: 1s - loss: 1.2243 - mae: 0\n",
      "Epoch 13/1000\n",
      "2014/2014 [==============================] - 95s 47ms/step - loss: 1.1714 - mae: 0.8034 - r_squared: 0.6560 - val_loss: 1.2542 - val_mae: 0.8079 - val_r_squared: -22.3586\n",
      "Epoch 14/1000\n",
      "2014/2014 [==============================] - 95s 47ms/step - loss: 1.1542 - mae: 0.7974 - r_squared: 0.6612 - val_loss: 1.2825 - val_mae: 0.8474 - val_r_squared: -29.7332\n",
      "Epoch 15/1000\n",
      "2014/2014 [==============================] - 94s 47ms/step - loss: 1.1287 - mae: 0.7856 - r_squared: 0.6678 - val_loss: 1.0989 - val_mae: 0.8002 - val_r_squared: -23.5132\n",
      "Epoch 16/1000\n",
      "2014/2014 [==============================] - 94s 47ms/step - loss: 1.0897 - mae: 0.7727 - r_squared: 0.6786 - val_loss: 1.0863 - val_mae: 0.7932 - val_r_squared: -22.1005\n",
      "Epoch 17/1000\n",
      "2014/2014 [==============================] - 94s 47ms/step - loss: 1.1236 - mae: 0.7810 - r_squared: 0.6715 - val_loss: 0.9701 - val_mae: 0.7268 - val_r_squared: -20.2783\n",
      "Epoch 18/1000\n",
      "2014/2014 [==============================] - 94s 47ms/step - loss: 1.0567 - mae: 0.7572 - r_squared: 0.6872 - val_loss: 0.9931 - val_mae: 0.7299 - val_r_squared: -18.4342\n",
      "Epoch 19/1000\n",
      "2014/2014 [==============================] - 94s 47ms/step - loss: 1.0636 - mae: 0.7591 - r_squared: 0.6863 - val_loss: 0.9066 - val_mae: 0.6992 - val_r_squared: -18.5161\n",
      "Epoch 20/1000\n",
      "2014/2014 [==============================] - 96s 47ms/step - loss: 0.9998 - mae: 0.7355 - r_squared: 0.7063 - val_loss: 1.1018 - val_mae: 0.7763 - val_r_squared: -26.5622\n",
      "Epoch 21/1000\n",
      "2014/2014 [==============================] - 94s 47ms/step - loss: 0.9889 - mae: 0.7291 - r_squared: 0.7084 - val_loss: 0.9144 - val_mae: 0.7044 - val_r_squared: -19.9847\n",
      "Epoch 22/1000\n",
      "2014/2014 [==============================] - 94s 47ms/step - loss: 0.9170 - mae: 0.7029 - r_squared: 0.7291 - val_loss: 0.8797 - val_mae: 0.6804 - val_r_squared: -16.4161\n",
      "Epoch 23/1000\n",
      "2014/2014 [==============================] - 95s 47ms/step - loss: 0.9434 - mae: 0.7108 - r_squared: 0.7215 - val_loss: 0.8324 - val_mae: 0.6799 - val_r_squared: -16.2312\n",
      "Epoch 24/1000\n",
      "2014/2014 [==============================] - 95s 47ms/step - loss: 0.8927 - mae: 0.6919 - r_squared: 0.7350 - val_loss: 0.7886 - val_mae: 0.6614 - val_r_squared: -17.7499\n",
      "Epoch 25/1000\n",
      "2014/2014 [==============================] - 94s 47ms/step - loss: 0.8730 - mae: 0.6830 - r_squared: 0.7435 - val_loss: 1.3398 - val_mae: 0.8251 - val_r_squared: -25.5897\n",
      "Epoch 26/1000\n",
      "2014/2014 [==============================] - 94s 47ms/step - loss: 0.8964 - mae: 0.6868 - r_squared: 0.7329 - val_loss: 1.0961 - val_mae: 0.7842 - val_r_squared: -20.7671\n",
      "Epoch 27/1000\n",
      "2014/2014 [==============================] - 95s 47ms/step - loss: 0.8483 - mae: 0.6713 - r_squared: 0.7488 - val_loss: 0.9171 - val_mae: 0.6924 - val_r_squared: -19.5795\n",
      "\n",
      "Epoch 00027: ReduceLROnPlateau reducing learning rate to 0.00010000000474974513.\n",
      "Epoch 28/1000\n",
      "2014/2014 [==============================] - 94s 46ms/step - loss: 0.6205 - mae: 0.5727 - r_squared: 0.8144 - val_loss: 0.5993 - val_mae: 0.5629 - val_r_squared: -10.8274\n",
      "Epoch 29/1000\n",
      "2014/2014 [==============================] - 94s 47ms/step - loss: 0.5925 - mae: 0.5605 - r_squared: 0.8226 - val_loss: 0.5764 - val_mae: 0.5539 - val_r_squared: -10.8624\n",
      "Epoch 30/1000\n",
      "2014/2014 [==============================] - 94s 47ms/step - loss: 0.5783 - mae: 0.5538 - r_squared: 0.8269 - val_loss: 0.5692 - val_mae: 0.5491 - val_r_squared: -10.8147\n",
      "Epoch 31/1000\n",
      "2014/2014 [==============================] - 94s 47ms/step - loss: 0.5650 - mae: 0.5470 - r_squared: 0.8318 - val_loss: 0.5575 - val_mae: 0.5437 - val_r_squared: -10.8363\n",
      "Epoch 32/1000\n",
      "2014/2014 [==============================] - 94s 47ms/step - loss: 0.5545 - mae: 0.5421 - r_squared: 0.8340 - val_loss: 0.5437 - val_mae: 0.5377 - val_r_squared: -10.0121\n",
      "Epoch 33/1000\n",
      "2014/2014 [==============================] - 94s 47ms/step - loss: 0.5451 - mae: 0.5373 - r_squared: 0.8369 - val_loss: 0.5385 - val_mae: 0.5377 - val_r_squared: -10.0692\n",
      "Epoch 34/1000\n",
      "2014/2014 [==============================] - 94s 47ms/step - loss: 0.5361 - mae: 0.5331 - r_squared: 0.8410 - val_loss: 0.5306 - val_mae: 0.5305 - val_r_squared: -9.5152\n",
      "Epoch 35/1000\n",
      "2014/2014 [==============================] - 94s 47ms/step - loss: 0.5283 - mae: 0.5286 - r_squared: 0.8429 - val_loss: 0.5421 - val_mae: 0.5320 - val_r_squared: -9.2113\n",
      "Epoch 36/1000\n",
      "2014/2014 [==============================] - 94s 47ms/step - loss: 0.5398 - mae: 0.5316 - r_squared: 0.8394 - val_loss: 0.8103 - val_mae: 0.6499 - val_r_squared: -15.0101\n",
      "Epoch 37/1000\n",
      "2014/2014 [==============================] - 94s 47ms/step - loss: 0.5155 - mae: 0.5215 - r_squared: 0.8460 - val_loss: 0.4957 - val_mae: 0.5152 - val_r_squared: -8.7415\n",
      "Epoch 38/1000\n",
      "2014/2014 [==============================] - 94s 47ms/step - loss: 0.5060 - mae: 0.5173 - r_squared: 0.8485 - val_loss: 0.5010 - val_mae: 0.5152 - val_r_squared: -9.1542\n",
      "Epoch 39/1000\n"
     ]
    },
    {
     "name": "stdout",
     "output_type": "stream",
     "text": [
      "2014/2014 [==============================] - 95s 47ms/step - loss: 0.4937 - mae: 0.5107 - r_squared: 0.8516 - val_loss: 0.4850 - val_mae: 0.5057 - val_r_squared: -8.4934\n",
      "Epoch 40/1000\n",
      "2014/2014 [==============================] - 94s 47ms/step - loss: 0.4927 - mae: 0.5094 - r_squared: 0.8541 - val_loss: 0.4729 - val_mae: 0.5012 - val_r_squared: -8.2588\n",
      "Epoch 41/1000\n",
      "2014/2014 [==============================] - 95s 47ms/step - loss: 0.4776 - mae: 0.5024 - r_squared: 0.8554 - val_loss: 0.4927 - val_mae: 0.5080 - val_r_squared: -8.5451\n",
      "Epoch 42/1000\n",
      "2014/2014 [==============================] - 95s 47ms/step - loss: 0.4833 - mae: 0.5037 - r_squared: 0.8548 - val_loss: 0.4622 - val_mae: 0.4968 - val_r_squared: -8.1804\n",
      "Epoch 43/1000\n",
      "2014/2014 [==============================] - 94s 47ms/step - loss: 0.4665 - mae: 0.4966 - r_squared: 0.8601 - val_loss: 0.4736 - val_mae: 0.5015 - val_r_squared: -8.8241\n",
      "Epoch 44/1000\n",
      "2014/2014 [==============================] - 94s 47ms/step - loss: 0.4611 - mae: 0.4934 - r_squared: 0.8623 - val_loss: 0.4666 - val_mae: 0.4952 - val_r_squared: -7.6306\n",
      "Epoch 45/1000\n",
      "2014/2014 [==============================] - 95s 47ms/step - loss: 0.4597 - mae: 0.4918 - r_squared: 0.8621 - val_loss: 0.4436 - val_mae: 0.4849 - val_r_squared: -7.3923\n",
      "Epoch 46/1000\n",
      "2014/2014 [==============================] - 94s 47ms/step - loss: 0.4718 - mae: 0.4962 - r_squared: 0.8598 - val_loss: 0.4367 - val_mae: 0.4808 - val_r_squared: -7.6800\n",
      "Epoch 47/1000\n",
      "2014/2014 [==============================] - 95s 47ms/step - loss: 0.4421 - mae: 0.4829 - r_squared: 0.8689 - val_loss: 0.4560 - val_mae: 0.4882 - val_r_squared: -8.6312\n",
      "Epoch 48/1000\n",
      "2014/2014 [==============================] - 96s 48ms/step - loss: 0.4374 - mae: 0.4800 - r_squared: 0.8692 - val_loss: 0.4429 - val_mae: 0.4837 - val_r_squared: -8.1812\n",
      "Epoch 49/1000\n",
      "2014/2014 [==============================] - 94s 47ms/step - loss: 0.4292 - mae: 0.4755 - r_squared: 0.8706 - val_loss: 0.4347 - val_mae: 0.4777 - val_r_squared: -7.1471\n",
      "Epoch 50/1000\n",
      "2014/2014 [==============================] - 93s 46ms/step - loss: 0.4234 - mae: 0.4722 - r_squared: 0.8733 - val_loss: 0.4048 - val_mae: 0.4625 - val_r_squared: -6.9465\n",
      "Epoch 51/1000\n",
      "2014/2014 [==============================] - 94s 47ms/step - loss: 0.4150 - mae: 0.4680 - r_squared: 0.8762 - val_loss: 0.4097 - val_mae: 0.4645 - val_r_squared: -6.9926\n",
      "Epoch 52/1000\n",
      "2014/2014 [==============================] - 94s 47ms/step - loss: 0.4214 - mae: 0.4698 - r_squared: 0.8746 - val_loss: 0.4079 - val_mae: 0.4659 - val_r_squared: -7.3150\n",
      "Epoch 53/1000\n",
      "2014/2014 [==============================] - 94s 47ms/step - loss: 0.4090 - mae: 0.4636 - r_squared: 0.8778 - val_loss: 0.4054 - val_mae: 0.4634 - val_r_squared: -6.6114\n",
      "\n",
      "Epoch 00053: ReduceLROnPlateau reducing learning rate to 1.0000000474974514e-05.\n",
      "Epoch 54/1000\n",
      "2014/2014 [==============================] - 94s 47ms/step - loss: 0.3821 - mae: 0.4495 - r_squared: 0.8854 - val_loss: 0.3792 - val_mae: 0.4477 - val_r_squared: -6.2760\n",
      "Epoch 55/1000\n",
      "2014/2014 [==============================] - 93s 46ms/step - loss: 0.3790 - mae: 0.4473 - r_squared: 0.8853 - val_loss: 0.3761 - val_mae: 0.4456 - val_r_squared: -6.1865\n",
      "Epoch 56/1000\n",
      "2014/2014 [==============================] - 94s 47ms/step - loss: 0.3777 - mae: 0.4466 - r_squared: 0.8867 - val_loss: 0.3759 - val_mae: 0.4453 - val_r_squared: -6.2199\n",
      "Epoch 57/1000\n",
      "2014/2014 [==============================] - 94s 47ms/step - loss: 0.3765 - mae: 0.4456 - r_squared: 0.8870 - val_loss: 0.3756 - val_mae: 0.4452 - val_r_squared: -6.1861\n",
      "Epoch 58/1000\n",
      "2014/2014 [==============================] - 94s 47ms/step - loss: 0.3754 - mae: 0.4451 - r_squared: 0.8870 - val_loss: 0.3748 - val_mae: 0.4455 - val_r_squared: -6.1609\n",
      "Epoch 59/1000\n",
      "2014/2014 [==============================] - 94s 47ms/step - loss: 0.3741 - mae: 0.4444 - r_squared: 0.8874 - val_loss: 0.3732 - val_mae: 0.4442 - val_r_squared: -6.1814\n",
      "Epoch 60/1000\n",
      "2014/2014 [==============================] - 95s 47ms/step - loss: 0.3737 - mae: 0.4439 - r_squared: 0.8884 - val_loss: 0.3742 - val_mae: 0.4434 - val_r_squared: -6.0995\n",
      "Epoch 61/1000\n",
      "2014/2014 [==============================] - 94s 47ms/step - loss: 0.3726 - mae: 0.4436 - r_squared: 0.8886 - val_loss: 0.3715 - val_mae: 0.4433 - val_r_squared: -6.1874\n",
      "Epoch 62/1000\n",
      "2014/2014 [==============================] - 95s 47ms/step - loss: 0.3713 - mae: 0.4428 - r_squared: 0.8879 - val_loss: 0.3701 - val_mae: 0.4416 - val_r_squared: -6.0691\n",
      "Epoch 63/1000\n",
      "2014/2014 [==============================] - 94s 47ms/step - loss: 0.3705 - mae: 0.4423 - r_squared: 0.8887 - val_loss: 0.3692 - val_mae: 0.4416 - val_r_squared: -6.0765\n",
      "Epoch 64/1000\n",
      "2014/2014 [==============================] - 94s 47ms/step - loss: 0.3698 - mae: 0.4418 - r_squared: 0.8892 - val_loss: 0.3689 - val_mae: 0.4405 - val_r_squared: -6.0949d: 0.889\n",
      "Epoch 65/1000\n",
      "2014/2014 [==============================] - 94s 47ms/step - loss: 0.3691 - mae: 0.4413 - r_squared: 0.8897 - val_loss: 0.3686 - val_mae: 0.4416 - val_r_squared: -6.0640\n",
      "Epoch 66/1000\n",
      "2014/2014 [==============================] - 94s 47ms/step - loss: 0.3679 - mae: 0.4408 - r_squared: 0.8887 - val_loss: 0.3671 - val_mae: 0.4407 - val_r_squared: -6.0422\n",
      "Epoch 67/1000\n",
      "2014/2014 [==============================] - 94s 47ms/step - loss: 0.3674 - mae: 0.4405 - r_squared: 0.8902 - val_loss: 0.3657 - val_mae: 0.4391 - val_r_squared: -6.0139\n",
      "Epoch 68/1000\n",
      "2014/2014 [==============================] - 94s 47ms/step - loss: 0.3669 - mae: 0.4399 - r_squared: 0.8896 - val_loss: 0.3698 - val_mae: 0.4420 - val_r_squared: -5.9820\n",
      "Epoch 69/1000\n",
      "2014/2014 [==============================] - 94s 47ms/step - loss: 0.3656 - mae: 0.4394 - r_squared: 0.8895 - val_loss: 0.3640 - val_mae: 0.4388 - val_r_squared: -6.0407\n",
      "Epoch 70/1000\n",
      "2014/2014 [==============================] - 94s 47ms/step - loss: 0.3654 - mae: 0.4392 - r_squared: 0.8900 - val_loss: 0.3634 - val_mae: 0.4381 - val_r_squared: -5.9610\n",
      "Epoch 71/1000\n",
      "2014/2014 [==============================] - 95s 47ms/step - loss: 0.3646 - mae: 0.4387 - r_squared: 0.8914 - val_loss: 0.3632 - val_mae: 0.4382 - val_r_squared: -5.9276\n",
      "Epoch 72/1000\n",
      "2014/2014 [==============================] - 95s 47ms/step - loss: 0.3634 - mae: 0.4380 - r_squared: 0.8899 - val_loss: 0.3627 - val_mae: 0.4373 - val_r_squared: -5.943836\n",
      "Epoch 73/1000\n",
      "2014/2014 [==============================] - 95s 47ms/step - loss: 0.3635 - mae: 0.4381 - r_squared: 0.8904 - val_loss: 0.3611 - val_mae: 0.4366 - val_r_squared: -5.9077\n",
      "Epoch 74/1000\n",
      "2014/2014 [==============================] - 94s 47ms/step - loss: 0.3619 - mae: 0.4371 - r_squared: 0.8908 - val_loss: 0.3610 - val_mae: 0.4365 - val_r_squared: -5.9320\n",
      "Epoch 75/1000\n",
      "2014/2014 [==============================] - 96s 48ms/step - loss: 0.3623 - mae: 0.4370 - r_squared: 0.8917 - val_loss: 0.3627 - val_mae: 0.4377 - val_r_squared: -5.89390.3633 - mae: 0.4378 - r_squ - ETA: 6s - loss: 0.3634 - mae: 0.4378 - ETA: 5s - loss: 0.3632 - mae: 0.4376  \n",
      "Epoch 76/1000\n",
      "2014/2014 [==============================] - 95s 47ms/step - loss: 0.3607 - mae: 0.4365 - r_squared: 0.8915 - val_loss: 0.3601 - val_mae: 0.4365 - val_r_squared: -5.9760\n",
      "Epoch 77/1000\n",
      "2014/2014 [==============================] - 95s 47ms/step - loss: 0.3600 - mae: 0.4359 - r_squared: 0.8913 - val_loss: 0.3580 - val_mae: 0.4346 - val_r_squared: -5.8108\n",
      "Epoch 78/1000\n",
      "2014/2014 [==============================] - 94s 47ms/step - loss: 0.3596 - mae: 0.4356 - r_squared: 0.8916 - val_loss: 0.3594 - val_mae: 0.4359 - val_r_squared: -5.8047\n",
      "Epoch 79/1000\n",
      "2014/2014 [==============================] - 95s 47ms/step - loss: 0.3585 - mae: 0.4349 - r_squared: 0.8928 - val_loss: 0.3579 - val_mae: 0.4344 - val_r_squared: -5.8573\n",
      "Epoch 80/1000\n",
      "2014/2014 [==============================] - 95s 47ms/step - loss: 0.3580 - mae: 0.4347 - r_squared: 0.8924 - val_loss: 0.3562 - val_mae: 0.4336 - val_r_squared: -5.7641\n",
      "Epoch 81/1000\n",
      "2014/2014 [==============================] - 95s 47ms/step - loss: 0.3579 - mae: 0.4347 - r_squared: 0.8916 - val_loss: 0.3560 - val_mae: 0.4339 - val_r_squared: -5.7916\n",
      "Epoch 82/1000\n"
     ]
    },
    {
     "name": "stdout",
     "output_type": "stream",
     "text": [
      "2014/2014 [==============================] - 94s 47ms/step - loss: 0.3565 - mae: 0.4340 - r_squared: 0.8933 - val_loss: 0.3548 - val_mae: 0.4325 - val_r_squared: -5.7843\n",
      "Epoch 83/1000\n",
      "2014/2014 [==============================] - 94s 47ms/step - loss: 0.3562 - mae: 0.4335 - r_squared: 0.8937 - val_loss: 0.3546 - val_mae: 0.4327 - val_r_squared: -5.731964 - mae: 0.4337 - r\n",
      "Epoch 84/1000\n",
      "2014/2014 [==============================] - 95s 47ms/step - loss: 0.3550 - mae: 0.4331 - r_squared: 0.8934 - val_loss: 0.3537 - val_mae: 0.4317 - val_r_squared: -5.7218\n",
      "Epoch 85/1000\n",
      "2014/2014 [==============================] - 94s 47ms/step - loss: 0.3545 - mae: 0.4324 - r_squared: 0.8932 - val_loss: 0.3548 - val_mae: 0.4329 - val_r_squared: -5.7764\n",
      "Epoch 86/1000\n",
      "2014/2014 [==============================] - 94s 47ms/step - loss: 0.3541 - mae: 0.4324 - r_squared: 0.8935 - val_loss: 0.3531 - val_mae: 0.4317 - val_r_squared: -5.6772\n",
      "Epoch 87/1000\n",
      "2014/2014 [==============================] - 95s 47ms/step - loss: 0.3536 - mae: 0.4321 - r_squared: 0.8940 - val_loss: 0.3514 - val_mae: 0.4304 - val_r_squared: -5.6603\n",
      "Epoch 88/1000\n",
      "2014/2014 [==============================] - 94s 47ms/step - loss: 0.3523 - mae: 0.4314 - r_squared: 0.8937 - val_loss: 0.3520 - val_mae: 0.4314 - val_r_squared: -5.7392\n",
      "Epoch 89/1000\n",
      "2014/2014 [==============================] - 94s 47ms/step - loss: 0.3526 - mae: 0.4313 - r_squared: 0.8943 - val_loss: 0.3526 - val_mae: 0.4323 - val_r_squared: -5.6940\n",
      "Epoch 90/1000\n",
      "2014/2014 [==============================] - 94s 47ms/step - loss: 0.3511 - mae: 0.4306 - r_squared: 0.8944 - val_loss: 0.3503 - val_mae: 0.4305 - val_r_squared: -5.6838\n",
      "Epoch 91/1000\n",
      "2014/2014 [==============================] - 94s 47ms/step - loss: 0.3507 - mae: 0.4303 - r_squared: 0.8939 - val_loss: 0.3492 - val_mae: 0.4296 - val_r_squared: -5.6162\n",
      "Epoch 92/1000\n",
      "2014/2014 [==============================] - 95s 47ms/step - loss: 0.3499 - mae: 0.4300 - r_squared: 0.8948 - val_loss: 0.3501 - val_mae: 0.4306 - val_r_squared: -5.6820\n",
      "Epoch 93/1000\n",
      "2014/2014 [==============================] - 94s 47ms/step - loss: 0.3494 - mae: 0.4297 - r_squared: 0.8955 - val_loss: 0.3492 - val_mae: 0.4302 - val_r_squared: -5.6118\n",
      "Epoch 94/1000\n",
      "2014/2014 [==============================] - 94s 47ms/step - loss: 0.3485 - mae: 0.4291 - r_squared: 0.8959 - val_loss: 0.3498 - val_mae: 0.4297 - val_r_squared: -5.6471\n",
      "\n",
      "Epoch 00094: ReduceLROnPlateau reducing learning rate to 1.0000000656873453e-06.\n",
      "Epoch 95/1000\n",
      "2014/2014 [==============================] - 95s 47ms/step - loss: 0.3463 - mae: 0.4278 - r_squared: 0.8950 - val_loss: 0.3457 - val_mae: 0.4274 - val_r_squared: -5.5487\n",
      "Epoch 96/1000\n",
      "2014/2014 [==============================] - 95s 47ms/step - loss: 0.3459 - mae: 0.4276 - r_squared: 0.8964 - val_loss: 0.3457 - val_mae: 0.4272 - val_r_squared: -5.5447\n",
      "Epoch 97/1000\n",
      "2014/2014 [==============================] - 95s 47ms/step - loss: 0.3457 - mae: 0.4274 - r_squared: 0.8961 - val_loss: 0.3456 - val_mae: 0.4274 - val_r_squared: -5.5415\n",
      "Epoch 98/1000\n",
      "2014/2014 [==============================] - 94s 47ms/step - loss: 0.3457 - mae: 0.4274 - r_squared: 0.8962 - val_loss: 0.3455 - val_mae: 0.4274 - val_r_squared: -5.5195\n",
      "Epoch 99/1000\n",
      "2014/2014 [==============================] - 94s 47ms/step - loss: 0.3456 - mae: 0.4274 - r_squared: 0.8961 - val_loss: 0.3454 - val_mae: 0.4273 - val_r_squared: -5.5370\n",
      "Epoch 100/1000\n",
      "2014/2014 [==============================] - 95s 47ms/step - loss: 0.3455 - mae: 0.4274 - r_squared: 0.8964 - val_loss: 0.3452 - val_mae: 0.4272 - val_r_squared: -5.5372\n",
      "Epoch 101/1000\n",
      "2014/2014 [==============================] - 95s 47ms/step - loss: 0.3454 - mae: 0.4273 - r_squared: 0.8961 - val_loss: 0.3452 - val_mae: 0.4272 - val_r_squared: -5.5398\n",
      "Epoch 102/1000\n",
      "2014/2014 [==============================] - 95s 47ms/step - loss: 0.3454 - mae: 0.4272 - r_squared: 0.8957 - val_loss: 0.3451 - val_mae: 0.4270 - val_r_squared: -5.5309\n",
      "Epoch 103/1000\n",
      "2014/2014 [==============================] - 95s 47ms/step - loss: 0.3453 - mae: 0.4272 - r_squared: 0.8959 - val_loss: 0.3451 - val_mae: 0.4269 - val_r_squared: -5.5282\n",
      "Epoch 104/1000\n",
      "2014/2014 [==============================] - 95s 47ms/step - loss: 0.3453 - mae: 0.4271 - r_squared: 0.8960 - val_loss: 0.3450 - val_mae: 0.4270 - val_r_squared: -5.5360\n",
      "Epoch 105/1000\n",
      "2014/2014 [==============================] - 95s 47ms/step - loss: 0.3452 - mae: 0.4270 - r_squared: 0.8957 - val_loss: 0.3450 - val_mae: 0.4271 - val_r_squared: -5.5387\n",
      "\n",
      "Epoch 00105: ReduceLROnPlateau reducing learning rate to 1.0000001111620805e-07.\n",
      "Epoch 106/1000\n",
      "2014/2014 [==============================] - 95s 47ms/step - loss: 0.3449 - mae: 0.4270 - r_squared: 0.8965 - val_loss: 0.3448 - val_mae: 0.4270 - val_r_squared: -5.5260\n",
      "Epoch 107/1000\n",
      "2014/2014 [==============================] - 95s 47ms/step - loss: 0.3448 - mae: 0.4270 - r_squared: 0.8968 - val_loss: 0.3448 - val_mae: 0.4269 - val_r_squared: -5.5245\n",
      "Epoch 108/1000\n",
      "2014/2014 [==============================] - 94s 47ms/step - loss: 0.3448 - mae: 0.4269 - r_squared: 0.8961 - val_loss: 0.3448 - val_mae: 0.4269 - val_r_squared: -5.5235\n",
      "Epoch 109/1000\n",
      "2014/2014 [==============================] - 95s 47ms/step - loss: 0.3448 - mae: 0.4269 - r_squared: 0.8956 - val_loss: 0.3448 - val_mae: 0.4269 - val_r_squared: -5.5233\n",
      "\n",
      "Epoch 00109: ReduceLROnPlateau reducing learning rate to 1.000000082740371e-08.\n",
      "Epoch 110/1000\n",
      "2014/2014 [==============================] - 94s 47ms/step - loss: 0.3448 - mae: 0.4269 - r_squared: 0.8961 - val_loss: 0.3448 - val_mae: 0.4269 - val_r_squared: -5.5233\n",
      "Epoch 111/1000\n",
      "2014/2014 [==============================] - 94s 47ms/step - loss: 0.3448 - mae: 0.4269 - r_squared: 0.8966 - val_loss: 0.3448 - val_mae: 0.4269 - val_r_squared: -5.5233_squared: 0.896\n",
      "Epoch 112/1000\n",
      "2014/2014 [==============================] - 95s 47ms/step - loss: 0.3448 - mae: 0.4269 - r_squared: 0.8965 - val_loss: 0.3448 - val_mae: 0.4269 - val_r_squared: -5.5235\n",
      "\n",
      "Epoch 00112: ReduceLROnPlateau reducing learning rate to 1.000000082740371e-09.\n",
      "Epoch 113/1000\n",
      "2014/2014 [==============================] - 94s 47ms/step - loss: 0.3448 - mae: 0.4269 - r_squared: 0.8959 - val_loss: 0.3448 - val_mae: 0.4269 - val_r_squared: -5.5235\n",
      "Epoch 114/1000\n",
      "2014/2014 [==============================] - 95s 47ms/step - loss: 0.3448 - mae: 0.4269 - r_squared: 0.8959 - val_loss: 0.3448 - val_mae: 0.4269 - val_r_squared: -5.5235\n",
      "Epoch 115/1000\n",
      "2014/2014 [==============================] - 94s 47ms/step - loss: 0.3448 - mae: 0.4269 - r_squared: 0.8969 - val_loss: 0.3448 - val_mae: 0.4269 - val_r_squared: -5.5235\n",
      "\n",
      "Epoch 00115: ReduceLROnPlateau reducing learning rate to 1.000000082740371e-10.\n",
      "Epoch 116/1000\n",
      "2014/2014 [==============================] - 95s 47ms/step - loss: 0.3448 - mae: 0.4269 - r_squared: 0.8959 - val_loss: 0.3448 - val_mae: 0.4269 - val_r_squared: -5.5235\n",
      "Epoch 00116: early stopping\n"
     ]
    }
   ],
   "source": [
    "# LSTM 모델 생성\n",
    "model = Sequential()\n",
    "model.add(LSTM(128, input_shape=(180, 8), return_sequences=True))\n",
    "model.add(LSTM(64, return_sequences=True))\n",
    "model.add(LSTM(32))\n",
    "model.add(Dense(180, activation='linear'))\n",
    " \n",
    "model.summary()\n",
    "\n",
    "# mae와 r_squared 평가함수 추가.\n",
    "model.compile(optimizer='adam', loss='mse', metrics=['mae', r_squared])\n",
    "\n",
    "\n",
    "checkpoint = ModelCheckpoint(model_name + '_best.h5', monitor='val_loss', save_best_only=True)\n",
    "early_stop = EarlyStopping(monitor='val_loss', patience=5, verbose=1)\n",
    "reduce_lr = ReduceLROnPlateau(monitor='val_loss', factor=0.1, patience=3, verbose=1)\n",
    "\n",
    "# ModelCheckpoint : 검증 손실이 낮아진 경우에 최적의 모델을 저장\n",
    "# EarlyStopping : 검증 손실이 일정 기간동안 향상되지 않으면 학습을 조기 종료\n",
    "# ReduceLROnPlateau : 검증 손실이 개선되지 않으면 학습률을 조정하는 등의 동작 수행.\n",
    "\n",
    "\n",
    "hist = model.fit(japonica_training_features_X_chunks_crop, japonica_training_features_y_chunks_crop, epochs = 1000, batch_size = 32, validation_data=(japonica_validation_features_X_chunks_crop, japonica_validation_features_y_chunks_crop), callbacks=[checkpoint, early_stop, reduce_lr])\n",
    "model.save(model_name+'.h5')"
   ]
  },
  {
   "cell_type": "markdown",
   "metadata": {},
   "source": [
    "모델 평가"
   ]
  },
  {
   "cell_type": "code",
   "execution_count": 27,
   "metadata": {},
   "outputs": [],
   "source": [
    "# 모델 평가 함수\n",
    "def grapeNEva(model, X_test_shape, y_test, feed, y_test_shape):\n",
    "    X_pred = model.predict(X_test_shape)\n",
    "    X_pred = np.asarray(X_pred, dtype=np.float64)\n",
    "    X_pred = X_pred.reshape((-1))\n",
    "    print(len(X_pred))\n",
    "\n",
    "    # 그래프 생성\n",
    "    plt.figure(figsize=(15, 7))\n",
    "    plt.plot(y_test.index, y_test, label='sensor do')  # x축에 년월일, y축에 값\n",
    "    plt.plot(y_test.index, X_pred, color='red', label='prediction do')  # x축에 년월일, y축에 시분\n",
    "    plt.plot(y_test.index, feed, color='green', marker='o', linestyle='None', label='feed_quantity')  # x축에 년월일, y축에 시분\n",
    "    plt.xlabel('date')\n",
    "    plt.ylabel('do')\n",
    "    plt.title(model_name)\n",
    "    plt.legend(['sensor do','prediction do','feed_quantity'])\n",
    "    plt.show()\n",
    "    \n",
    "    # 평가 생성\n",
    "    result = model.evaluate(X_test_shape, y_test_shape)\n",
    "    print(\"MSE // MAE // R-squared \", result)"
   ]
  },
  {
   "cell_type": "code",
   "execution_count": 28,
   "metadata": {},
   "outputs": [],
   "source": [
    "# r_squared가 따로 만들어서 추가해준 함수기 때문에 불러올 때도 추가해서 불러야한다.\n",
    "model = load_model(model_name+'.h5', custom_objects={'r_squared': r_squared})"
   ]
  },
  {
   "cell_type": "code",
   "execution_count": 29,
   "metadata": {},
   "outputs": [
    {
     "name": "stdout",
     "output_type": "stream",
     "text": [
      "[[ 0.12564057  0.16502054  0.40911248 ...  0.01495593  0.1580565\n",
      "  -0.08400246]\n",
      " [ 0.18286718  0.2090474   0.37884513 ... -0.08409618  0.29106858\n",
      "   0.01081872]\n",
      " [ 0.02440185  0.0348997  -0.04697631 ... -0.03469802  0.04918606\n",
      "  -0.04058899]\n",
      " ...\n",
      " [ 0.0073292   0.0579151   0.5608191  ...  0.00652173  0.20736155\n",
      "  -0.00935906]\n",
      " [ 0.08442204  0.2688615   0.66681904 ... -0.12836643 -0.07414667\n",
      "   0.07713172]\n",
      " [ 0.13401449  0.2835253   0.69606805 ... -0.04845473  0.04981114\n",
      "   0.02761668]]\n"
     ]
    },
    {
     "ename": "ValueError",
     "evalue": "shape mismatch: objects cannot be broadcast to a single shape",
     "output_type": "error",
     "traceback": [
      "\u001b[0;31m---------------------------------------------------------------------------\u001b[0m",
      "\u001b[0;31mValueError\u001b[0m                                Traceback (most recent call last)",
      "\u001b[0;32m/tmp/ipykernel_2677012/586701730.py\u001b[0m in \u001b[0;36m<module>\u001b[0;34m\u001b[0m\n\u001b[1;32m      6\u001b[0m \u001b[0;31m# 변수 중요도 시각화\u001b[0m\u001b[0;34m\u001b[0m\u001b[0;34m\u001b[0m\u001b[0;34m\u001b[0m\u001b[0m\n\u001b[1;32m      7\u001b[0m \u001b[0mfig\u001b[0m\u001b[0;34m,\u001b[0m \u001b[0max\u001b[0m \u001b[0;34m=\u001b[0m \u001b[0mplt\u001b[0m\u001b[0;34m.\u001b[0m\u001b[0msubplots\u001b[0m\u001b[0;34m(\u001b[0m\u001b[0mfigsize\u001b[0m\u001b[0;34m=\u001b[0m\u001b[0;34m(\u001b[0m\u001b[0;36m8\u001b[0m\u001b[0;34m,\u001b[0m \u001b[0;36m4\u001b[0m\u001b[0;34m)\u001b[0m\u001b[0;34m)\u001b[0m\u001b[0;34m\u001b[0m\u001b[0;34m\u001b[0m\u001b[0m\n\u001b[0;32m----> 8\u001b[0;31m \u001b[0max\u001b[0m\u001b[0;34m.\u001b[0m\u001b[0mbar\u001b[0m\u001b[0;34m(\u001b[0m\u001b[0mrange\u001b[0m\u001b[0;34m(\u001b[0m\u001b[0;36m9\u001b[0m\u001b[0;34m)\u001b[0m\u001b[0;34m,\u001b[0m \u001b[0mweights\u001b[0m\u001b[0;34m[\u001b[0m\u001b[0;34m:\u001b[0m\u001b[0;34m,\u001b[0m \u001b[0;36m0\u001b[0m\u001b[0;34m]\u001b[0m\u001b[0;34m)\u001b[0m\u001b[0;34m\u001b[0m\u001b[0;34m\u001b[0m\u001b[0m\n\u001b[0m\u001b[1;32m      9\u001b[0m \u001b[0max\u001b[0m\u001b[0;34m.\u001b[0m\u001b[0mset_xticks\u001b[0m\u001b[0;34m(\u001b[0m\u001b[0mrange\u001b[0m\u001b[0;34m(\u001b[0m\u001b[0;36m9\u001b[0m\u001b[0;34m)\u001b[0m\u001b[0;34m)\u001b[0m\u001b[0;34m\u001b[0m\u001b[0;34m\u001b[0m\u001b[0m\n\u001b[1;32m     10\u001b[0m \u001b[0max\u001b[0m\u001b[0;34m.\u001b[0m\u001b[0mset_xticklabels\u001b[0m\u001b[0;34m(\u001b[0m\u001b[0;34m[\u001b[0m\u001b[0;34m'do_mg'\u001b[0m\u001b[0;34m,\u001b[0m\u001b[0;34m'do_temp'\u001b[0m\u001b[0;34m,\u001b[0m \u001b[0;34m'ph'\u001b[0m\u001b[0;34m,\u001b[0m \u001b[0;34m'orp'\u001b[0m\u001b[0;34m,\u001b[0m \u001b[0;34m'co2_mg'\u001b[0m\u001b[0;34m,\u001b[0m \u001b[0;34m'air_oxy'\u001b[0m\u001b[0;34m,\u001b[0m \u001b[0;34m'light_ma'\u001b[0m\u001b[0;34m,\u001b[0m \u001b[0;34m'feed_quantity'\u001b[0m\u001b[0;34m,\u001b[0m \u001b[0;34m'water_quantity'\u001b[0m\u001b[0;34m]\u001b[0m\u001b[0;34m)\u001b[0m\u001b[0;34m\u001b[0m\u001b[0;34m\u001b[0m\u001b[0m\n",
      "\u001b[0;32m/usr/local/lib/python3.8/dist-packages/matplotlib/__init__.py\u001b[0m in \u001b[0;36minner\u001b[0;34m(ax, data, *args, **kwargs)\u001b[0m\n\u001b[1;32m   1410\u001b[0m     \u001b[0;32mdef\u001b[0m \u001b[0minner\u001b[0m\u001b[0;34m(\u001b[0m\u001b[0max\u001b[0m\u001b[0;34m,\u001b[0m \u001b[0;34m*\u001b[0m\u001b[0margs\u001b[0m\u001b[0;34m,\u001b[0m \u001b[0mdata\u001b[0m\u001b[0;34m=\u001b[0m\u001b[0;32mNone\u001b[0m\u001b[0;34m,\u001b[0m \u001b[0;34m**\u001b[0m\u001b[0mkwargs\u001b[0m\u001b[0;34m)\u001b[0m\u001b[0;34m:\u001b[0m\u001b[0;34m\u001b[0m\u001b[0;34m\u001b[0m\u001b[0m\n\u001b[1;32m   1411\u001b[0m         \u001b[0;32mif\u001b[0m \u001b[0mdata\u001b[0m \u001b[0;32mis\u001b[0m \u001b[0;32mNone\u001b[0m\u001b[0;34m:\u001b[0m\u001b[0;34m\u001b[0m\u001b[0;34m\u001b[0m\u001b[0m\n\u001b[0;32m-> 1412\u001b[0;31m             \u001b[0;32mreturn\u001b[0m \u001b[0mfunc\u001b[0m\u001b[0;34m(\u001b[0m\u001b[0max\u001b[0m\u001b[0;34m,\u001b[0m \u001b[0;34m*\u001b[0m\u001b[0mmap\u001b[0m\u001b[0;34m(\u001b[0m\u001b[0msanitize_sequence\u001b[0m\u001b[0;34m,\u001b[0m \u001b[0margs\u001b[0m\u001b[0;34m)\u001b[0m\u001b[0;34m,\u001b[0m \u001b[0;34m**\u001b[0m\u001b[0mkwargs\u001b[0m\u001b[0;34m)\u001b[0m\u001b[0;34m\u001b[0m\u001b[0;34m\u001b[0m\u001b[0m\n\u001b[0m\u001b[1;32m   1413\u001b[0m \u001b[0;34m\u001b[0m\u001b[0m\n\u001b[1;32m   1414\u001b[0m         \u001b[0mbound\u001b[0m \u001b[0;34m=\u001b[0m \u001b[0mnew_sig\u001b[0m\u001b[0;34m.\u001b[0m\u001b[0mbind\u001b[0m\u001b[0;34m(\u001b[0m\u001b[0max\u001b[0m\u001b[0;34m,\u001b[0m \u001b[0;34m*\u001b[0m\u001b[0margs\u001b[0m\u001b[0;34m,\u001b[0m \u001b[0;34m**\u001b[0m\u001b[0mkwargs\u001b[0m\u001b[0;34m)\u001b[0m\u001b[0;34m\u001b[0m\u001b[0;34m\u001b[0m\u001b[0m\n",
      "\u001b[0;32m/usr/local/lib/python3.8/dist-packages/matplotlib/axes/_axes.py\u001b[0m in \u001b[0;36mbar\u001b[0;34m(self, x, height, width, bottom, align, **kwargs)\u001b[0m\n\u001b[1;32m   2340\u001b[0m                 \u001b[0myerr\u001b[0m \u001b[0;34m=\u001b[0m \u001b[0mself\u001b[0m\u001b[0;34m.\u001b[0m\u001b[0m_convert_dx\u001b[0m\u001b[0;34m(\u001b[0m\u001b[0myerr\u001b[0m\u001b[0;34m,\u001b[0m \u001b[0my0\u001b[0m\u001b[0;34m,\u001b[0m \u001b[0my\u001b[0m\u001b[0;34m,\u001b[0m \u001b[0mself\u001b[0m\u001b[0;34m.\u001b[0m\u001b[0mconvert_yunits\u001b[0m\u001b[0;34m)\u001b[0m\u001b[0;34m\u001b[0m\u001b[0;34m\u001b[0m\u001b[0m\n\u001b[1;32m   2341\u001b[0m \u001b[0;34m\u001b[0m\u001b[0m\n\u001b[0;32m-> 2342\u001b[0;31m         x, height, width, y, linewidth, hatch = np.broadcast_arrays(\n\u001b[0m\u001b[1;32m   2343\u001b[0m             \u001b[0;31m# Make args iterable too.\u001b[0m\u001b[0;34m\u001b[0m\u001b[0;34m\u001b[0m\u001b[0;34m\u001b[0m\u001b[0m\n\u001b[1;32m   2344\u001b[0m             np.atleast_1d(x), height, width, y, linewidth, hatch)\n",
      "\u001b[0;32m<__array_function__ internals>\u001b[0m in \u001b[0;36mbroadcast_arrays\u001b[0;34m(*args, **kwargs)\u001b[0m\n",
      "\u001b[0;32m~/.venv/tf2.6.0-keras2.6.0-py3.8-cuda11.3/lib/python3.8/site-packages/numpy/lib/stride_tricks.py\u001b[0m in \u001b[0;36mbroadcast_arrays\u001b[0;34m(subok, *args)\u001b[0m\n\u001b[1;32m    256\u001b[0m     \u001b[0margs\u001b[0m \u001b[0;34m=\u001b[0m \u001b[0;34m[\u001b[0m\u001b[0mnp\u001b[0m\u001b[0;34m.\u001b[0m\u001b[0marray\u001b[0m\u001b[0;34m(\u001b[0m\u001b[0m_m\u001b[0m\u001b[0;34m,\u001b[0m \u001b[0mcopy\u001b[0m\u001b[0;34m=\u001b[0m\u001b[0;32mFalse\u001b[0m\u001b[0;34m,\u001b[0m \u001b[0msubok\u001b[0m\u001b[0;34m=\u001b[0m\u001b[0msubok\u001b[0m\u001b[0;34m)\u001b[0m \u001b[0;32mfor\u001b[0m \u001b[0m_m\u001b[0m \u001b[0;32min\u001b[0m \u001b[0margs\u001b[0m\u001b[0;34m]\u001b[0m\u001b[0;34m\u001b[0m\u001b[0;34m\u001b[0m\u001b[0m\n\u001b[1;32m    257\u001b[0m \u001b[0;34m\u001b[0m\u001b[0m\n\u001b[0;32m--> 258\u001b[0;31m     \u001b[0mshape\u001b[0m \u001b[0;34m=\u001b[0m \u001b[0m_broadcast_shape\u001b[0m\u001b[0;34m(\u001b[0m\u001b[0;34m*\u001b[0m\u001b[0margs\u001b[0m\u001b[0;34m)\u001b[0m\u001b[0;34m\u001b[0m\u001b[0;34m\u001b[0m\u001b[0m\n\u001b[0m\u001b[1;32m    259\u001b[0m \u001b[0;34m\u001b[0m\u001b[0m\n\u001b[1;32m    260\u001b[0m     \u001b[0;32mif\u001b[0m \u001b[0mall\u001b[0m\u001b[0;34m(\u001b[0m\u001b[0marray\u001b[0m\u001b[0;34m.\u001b[0m\u001b[0mshape\u001b[0m \u001b[0;34m==\u001b[0m \u001b[0mshape\u001b[0m \u001b[0;32mfor\u001b[0m \u001b[0marray\u001b[0m \u001b[0;32min\u001b[0m \u001b[0margs\u001b[0m\u001b[0;34m)\u001b[0m\u001b[0;34m:\u001b[0m\u001b[0;34m\u001b[0m\u001b[0;34m\u001b[0m\u001b[0m\n",
      "\u001b[0;32m~/.venv/tf2.6.0-keras2.6.0-py3.8-cuda11.3/lib/python3.8/site-packages/numpy/lib/stride_tricks.py\u001b[0m in \u001b[0;36m_broadcast_shape\u001b[0;34m(*args)\u001b[0m\n\u001b[1;32m    187\u001b[0m     \u001b[0;31m# use the old-iterator because np.nditer does not handle size 0 arrays\u001b[0m\u001b[0;34m\u001b[0m\u001b[0;34m\u001b[0m\u001b[0;34m\u001b[0m\u001b[0m\n\u001b[1;32m    188\u001b[0m     \u001b[0;31m# consistently\u001b[0m\u001b[0;34m\u001b[0m\u001b[0;34m\u001b[0m\u001b[0;34m\u001b[0m\u001b[0m\n\u001b[0;32m--> 189\u001b[0;31m     \u001b[0mb\u001b[0m \u001b[0;34m=\u001b[0m \u001b[0mnp\u001b[0m\u001b[0;34m.\u001b[0m\u001b[0mbroadcast\u001b[0m\u001b[0;34m(\u001b[0m\u001b[0;34m*\u001b[0m\u001b[0margs\u001b[0m\u001b[0;34m[\u001b[0m\u001b[0;34m:\u001b[0m\u001b[0;36m32\u001b[0m\u001b[0;34m]\u001b[0m\u001b[0;34m)\u001b[0m\u001b[0;34m\u001b[0m\u001b[0;34m\u001b[0m\u001b[0m\n\u001b[0m\u001b[1;32m    190\u001b[0m     \u001b[0;31m# unfortunately, it cannot handle 32 or more arguments directly\u001b[0m\u001b[0;34m\u001b[0m\u001b[0;34m\u001b[0m\u001b[0;34m\u001b[0m\u001b[0m\n\u001b[1;32m    191\u001b[0m     \u001b[0;32mfor\u001b[0m \u001b[0mpos\u001b[0m \u001b[0;32min\u001b[0m \u001b[0mrange\u001b[0m\u001b[0;34m(\u001b[0m\u001b[0;36m32\u001b[0m\u001b[0;34m,\u001b[0m \u001b[0mlen\u001b[0m\u001b[0;34m(\u001b[0m\u001b[0margs\u001b[0m\u001b[0;34m)\u001b[0m\u001b[0;34m,\u001b[0m \u001b[0;36m31\u001b[0m\u001b[0;34m)\u001b[0m\u001b[0;34m:\u001b[0m\u001b[0;34m\u001b[0m\u001b[0;34m\u001b[0m\u001b[0m\n",
      "\u001b[0;31mValueError\u001b[0m: shape mismatch: objects cannot be broadcast to a single shape"
     ]
    },
    {
     "data": {
      "image/png": "[encoded data removed]",
      "text/plain": [
       "<Figure size 576x288 with 1 Axes>"
      ]
     },
     "metadata": {
      "needs_background": "light"
     },
     "output_type": "display_data"
    }
   ],
   "source": [
    "# 가중치를 통해 변수 중요도 획득\n",
    "weights = model.layers[0].get_weights()[0]\n",
    "print(weights)\n",
    "\n",
    "\n",
    "# 변수 중요도 시각화\n",
    "fig, ax = plt.subplots(figsize=(8, 4))\n",
    "ax.bar(range(9), weights[:, 0])\n",
    "ax.set_xticks(range(9))\n",
    "ax.set_xticklabels(['do_mg','do_temp', 'ph', 'orp', 'co2_mg', 'air_oxy', 'light_ma', 'feed_quantity', 'water_quantity'])\n",
    "ax.set_ylabel('Weight')\n",
    "ax.set_title('Variable Importance')\n",
    "plt.show()"
   ]
  },
  {
   "cell_type": "code",
   "execution_count": null,
   "metadata": {},
   "outputs": [],
   "source": [
    "japonica_validation_features_X"
   ]
  },
  {
   "cell_type": "code",
   "execution_count": null,
   "metadata": {},
   "outputs": [],
   "source": [
    "X_test = japonica_validation_features_X.loc['2021-07-21 00:00':'2021-09-10 20:59']\n",
    "\n",
    "X_test_reshape = np.asarray(X_test, dtype=np.float64)\n",
    "X_test_reshape = X_test_reshape.reshape((-1, 180, 8))\n",
    "\n",
    "# shape확인\n",
    "nCar = X_test_reshape.shape[0] # 데이터 개수\n",
    "nVar = X_test_reshape.shape[1] # 변수 개수\n",
    "print('nCar: %d' % nCar, 'nVar: %d' % nVar )"
   ]
  },
  {
   "cell_type": "code",
   "execution_count": null,
   "metadata": {},
   "outputs": [],
   "source": [
    "y_date = japonica_validation_features_X.loc['2021-07-21 00:00':'2021-09-10 20:59']\n",
    "\n",
    "y_test = y_date[['do_mg']]\n",
    "\n",
    "y_test_reshape = np.asarray(y_test, dtype=np.float64)\n",
    "y_test_reshape = y_test_reshape.reshape((-1, 180, 1))\n",
    "\n",
    "nCar = y_test.shape[0] # 데이터 개수\n",
    "nVar = y_test.shape[1] # 변수 개수\n",
    "print('nCar: %d' % nCar, 'nVar: %d' % nVar )\n",
    "\n",
    "nCar = y_test_reshape.shape[0] # 데이터 개수\n",
    "nVar = y_test_reshape.shape[1] # 변수 개수\n",
    "print('nCar: %d' % nCar, 'nVar: %d' % nVar )"
   ]
  },
  {
   "cell_type": "code",
   "execution_count": null,
   "metadata": {},
   "outputs": [],
   "source": [
    "grapeNEva(model,X_test_reshape, y_test, y_date[['feed_quantity']], y_test_reshape)"
   ]
  },
  {
   "cell_type": "code",
   "execution_count": null,
   "metadata": {},
   "outputs": [],
   "source": [
    "X_test = japonica_validation_features_X.loc['2021-07-21 00:00':'2021-07-31 20:59']\n",
    "\n",
    "X_test_reshape = np.asarray(X_test, dtype=np.float64)\n",
    "\n",
    "# shape확인\n",
    "nCar = X_test_reshape.shape[0] # 데이터 개수\n",
    "nVar = X_test_reshape.shape[1] # 변수 개수\n",
    "print('nCar: %d' % nCar, 'nVar: %d' % nVar )"
   ]
  },
  {
   "cell_type": "code",
   "execution_count": null,
   "metadata": {},
   "outputs": [],
   "source": [
    "y_date = japonica_validation_features_X.loc['2021-07-21 03:00':'2021-07-31 23:59']\n",
    "\n",
    "y_test = y_date[['do_mg']]\n",
    "\n",
    "y_test_reshape = np.asarray(y_test, dtype=np.float64)\n",
    "\n",
    "nCar = y_test.shape[0] # 데이터 개수\n",
    "nVar = y_test.shape[1] # 변수 개수\n",
    "print('nCar: %d' % nCar, 'nVar: %d' % nVar )\n",
    "\n",
    "nCar = y_test_reshape.shape[0] # 데이터 개수\n",
    "nVar = y_test_reshape.shape[1] # 변수 개수\n",
    "print('nCar: %d' % nCar, 'nVar: %d' % nVar )"
   ]
  },
  {
   "cell_type": "code",
   "execution_count": null,
   "metadata": {},
   "outputs": [],
   "source": [
    "grapeNEva(model,X_test_reshape, y_test, y_date[['feed_quantity']], y_test_reshape)"
   ]
  },
  {
   "cell_type": "code",
   "execution_count": null,
   "metadata": {},
   "outputs": [],
   "source": [
    "X_test = japonica_validation_features_X.loc['2021-07-21 00:00':'2021-07-21 20:59']\n",
    "\n",
    "X_test_reshape = np.asarray(X_test, dtype=np.float64)\n",
    "\n",
    "# shape확인\n",
    "nCar = X_test_reshape.shape[0] # 데이터 개수\n",
    "nVar = X_test_reshape.shape[1] # 변수 개수\n",
    "print('nCar: %d' % nCar, 'nVar: %d' % nVar )"
   ]
  },
  {
   "cell_type": "code",
   "execution_count": null,
   "metadata": {
    "scrolled": true
   },
   "outputs": [],
   "source": [
    "y_date = japonica_validation_features_X.loc['2021-07-21 03:00':'2021-07-21 23:59']\n",
    "\n",
    "y_test = y_date[['do_mg']]\n",
    "\n",
    "y_test_reshape = np.asarray(y_test, dtype=np.float64)\n",
    "\n",
    "nCar = y_test.shape[0] # 데이터 개수\n",
    "nVar = y_test.shape[1] # 변수 개수\n",
    "print('nCar: %d' % nCar, 'nVar: %d' % nVar )\n",
    "\n",
    "nCar = y_test_reshape.shape[0] # 데이터 개수\n",
    "nVar = y_test_reshape.shape[1] # 변수 개수\n",
    "print('nCar: %d' % nCar, 'nVar: %d' % nVar )"
   ]
  },
  {
   "cell_type": "code",
   "execution_count": null,
   "metadata": {
    "scrolled": true
   },
   "outputs": [],
   "source": [
    "grapeNEva(model,X_test_reshape, y_test, y_date[['feed_quantity']], y_test_reshape)"
   ]
  },
  {
   "cell_type": "code",
   "execution_count": null,
   "metadata": {},
   "outputs": [],
   "source": [
    "X_test = japonica_validation_features_X.loc['2021-07-21 00:00':'2021-07-21 11:59']\n",
    "\n",
    "X_test_reshape = np.asarray(X_test, dtype=np.float64)\n",
    "\n",
    "# shape확인\n",
    "nCar = X_test_reshape.shape[0] # 데이터 개수\n",
    "nVar = X_test_reshape.shape[1] # 변수 개수\n",
    "print('nCar: %d' % nCar, 'nVar: %d' % nVar )"
   ]
  },
  {
   "cell_type": "code",
   "execution_count": null,
   "metadata": {
    "scrolled": true
   },
   "outputs": [],
   "source": [
    "y_date = japonica_validation_features_X.loc['2021-07-21 03:00':'2021-07-21 14:59']\n",
    "\n",
    "y_test = y_date[['do_mg']]\n",
    "\n",
    "y_test_reshape = np.asarray(y_test, dtype=np.float64)\n",
    "\n",
    "nCar = y_test.shape[0] # 데이터 개수\n",
    "nVar = y_test.shape[1] # 변수 개수\n",
    "print('nCar: %d' % nCar, 'nVar: %d' % nVar )\n",
    "\n",
    "nCar = y_test_reshape.shape[0] # 데이터 개수\n",
    "nVar = y_test_reshape.shape[1] # 변수 개수\n",
    "print('nCar: %d' % nCar, 'nVar: %d' % nVar )"
   ]
  },
  {
   "cell_type": "code",
   "execution_count": null,
   "metadata": {},
   "outputs": [],
   "source": [
    "grapeNEva(model,X_test_reshape, y_test, y_date[['feed_quantity']], y_test_reshape)"
   ]
  },
  {
   "cell_type": "code",
   "execution_count": null,
   "metadata": {},
   "outputs": [],
   "source": [
    "japonica_validation_features_X.at['2021-07-21 08:00', 'feed_quantity'] = 6\n",
    "\n",
    "X_test = japonica_validation_features_X.loc['2021-07-21 00:00':'2021-07-21 11:59']\n",
    "\n",
    "X_test_reshape = np.asarray(X_test, dtype=np.float64)\n",
    "\n",
    "# shape확인\n",
    "nCar = X_test_reshape.shape[0] # 데이터 개수\n",
    "nVar = X_test_reshape.shape[1] # 변수 개수\n",
    "print('nCar: %d' % nCar, 'nVar: %d' % nVar )"
   ]
  },
  {
   "cell_type": "code",
   "execution_count": null,
   "metadata": {},
   "outputs": [],
   "source": [
    "y_date = japonica_validation_features_X.loc['2021-07-21 03:00':'2021-07-21 14:59']\n",
    "\n",
    "y_test = y_date[['do_mg']]\n",
    "\n",
    "y_test_reshape = np.asarray(y_test, dtype=np.float64)\n",
    "\n",
    "nCar = y_test.shape[0] # 데이터 개수\n",
    "nVar = y_test.shape[1] # 변수 개수\n",
    "print('nCar: %d' % nCar, 'nVar: %d' % nVar )\n",
    "\n",
    "nCar = y_test_reshape.shape[0] # 데이터 개수\n",
    "nVar = y_test_reshape.shape[1] # 변수 개수\n",
    "print('nCar: %d' % nCar, 'nVar: %d' % nVar )"
   ]
  },
  {
   "cell_type": "code",
   "execution_count": null,
   "metadata": {},
   "outputs": [],
   "source": [
    "grapeNEva(model,X_test_reshape, y_test, y_date[['feed_quantity']], y_test_reshape)"
   ]
  },
  {
   "cell_type": "code",
   "execution_count": null,
   "metadata": {},
   "outputs": [],
   "source": []
  },
  {
   "cell_type": "code",
   "execution_count": null,
   "metadata": {},
   "outputs": [],
   "source": []
  }
 ],
 "metadata": {
  "kernelspec": {
   "display_name": "tf2.6.0-keras2.6.0-py3.8-cuda11.3",
   "language": "python",
   "name": "tf2.6.0-keras2.6.0-py3.8-cuda11.3"
  },
  "language_info": {
   "codemirror_mode": {
    "name": "ipython",
    "version": 3
   },
   "file_extension": ".py",
   "mimetype": "text/x-python",
   "name": "python",
   "nbconvert_exporter": "python",
   "pygments_lexer": "ipython3",
   "version": "3.8.10"
  }
 },
 "nbformat": 4,
 "nbformat_minor": 2
}
