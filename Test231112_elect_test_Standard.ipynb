{
 "cells": [
  {
   "cell_type": "markdown",
   "metadata": {},
   "source": [
    "라이브러리"
   ]
  },
  {
   "cell_type": "code",
   "execution_count": 39,
   "metadata": {},
   "outputs": [],
   "source": [
    "import pandas as pd\n",
    "import numpy as np\n",
    "from keras.utils import *\n",
    "from sklearn.preprocessing import *\n",
    "from keras import backend as K\n",
    "from keras.models import load_model\n",
    "from keras.layers import LSTM, Dense, concatenate, Input\n",
    "from sklearn.ensemble import GradientBoostingRegressor\n",
    "from keras.models import Model\n",
    "from keras.models import Sequential\n",
    "import matplotlib.pyplot as plt\n",
    "from scipy.spatial.distance import euclidean, cosine, correlation\n",
    "from sklearn.metrics import mean_squared_error, mean_absolute_error, pairwise_distances\n",
    "from sklearn.metrics import r2_score\n",
    "from sklearn.preprocessing import StandardScaler, MinMaxScaler\n",
    "import matplotlib.font_manager as fm\n",
    "from matplotlib.dates import DateFormatter\n",
    "from keras.callbacks import ModelCheckpoint, EarlyStopping, ReduceLROnPlateau"
   ]
  },
  {
   "cell_type": "markdown",
   "metadata": {},
   "source": [
    "데이터셋 설정"
   ]
  },
  {
   "cell_type": "code",
   "execution_count": 40,
   "metadata": {},
   "outputs": [],
   "source": [
    "power = pd.read_csv(\"E:/kimwoojae/Research/DO Regressor/dataset/powerconsumption.csv\")\n",
    "power['Datetime'] = pd.to_datetime(power['Datetime'], format='%m/%d/%Y %H:%M', errors='raise')\n",
    "power.describe()\n",
    "power.set_index('Datetime', inplace=True)\n"
   ]
  },
  {
   "cell_type": "code",
   "execution_count": 41,
   "metadata": {},
   "outputs": [],
   "source": [
    "start_date = '2017-01-01'\n",
    "end_date = '2017-11-30'\n",
    "power_test = power.loc[start_date:end_date]"
   ]
  },
  {
   "cell_type": "code",
   "execution_count": 42,
   "metadata": {},
   "outputs": [],
   "source": [
    "start_date = '2017-12-01'\n",
    "end_date = '2017-12-30'\n",
    "power_validation= power.loc[start_date:end_date]"
   ]
  },
  {
   "cell_type": "code",
   "execution_count": 43,
   "metadata": {},
   "outputs": [
    {
     "data": {
      "text/html": [
       "<div>\n",
       "<style scoped>\n",
       "    .dataframe tbody tr th:only-of-type {\n",
       "        vertical-align: middle;\n",
       "    }\n",
       "\n",
       "    .dataframe tbody tr th {\n",
       "        vertical-align: top;\n",
       "    }\n",
       "\n",
       "    .dataframe thead th {\n",
       "        text-align: right;\n",
       "    }\n",
       "</style>\n",
       "<table border=\"1\" class=\"dataframe\">\n",
       "  <thead>\n",
       "    <tr style=\"text-align: right;\">\n",
       "      <th></th>\n",
       "      <th>Temperature</th>\n",
       "      <th>Humidity</th>\n",
       "      <th>WindSpeed</th>\n",
       "      <th>GeneralDiffuseFlows</th>\n",
       "      <th>DiffuseFlows</th>\n",
       "      <th>PowerConsumption_Zone1</th>\n",
       "    </tr>\n",
       "    <tr>\n",
       "      <th>Datetime</th>\n",
       "      <th></th>\n",
       "      <th></th>\n",
       "      <th></th>\n",
       "      <th></th>\n",
       "      <th></th>\n",
       "      <th></th>\n",
       "    </tr>\n",
       "  </thead>\n",
       "  <tbody>\n",
       "    <tr>\n",
       "      <th>2017-01-01 00:00:00</th>\n",
       "      <td>-2.223696</td>\n",
       "      <td>0.358399</td>\n",
       "      <td>-0.853479</td>\n",
       "      <td>-0.702883</td>\n",
       "      <td>-0.614205</td>\n",
       "      <td>0.197966</td>\n",
       "    </tr>\n",
       "    <tr>\n",
       "      <th>2017-01-01 00:10:00</th>\n",
       "      <td>-2.248990</td>\n",
       "      <td>0.402972</td>\n",
       "      <td>-0.853479</td>\n",
       "      <td>-0.702812</td>\n",
       "      <td>-0.614471</td>\n",
       "      <td>-0.396445</td>\n",
       "    </tr>\n",
       "    <tr>\n",
       "      <th>2017-01-01 00:20:00</th>\n",
       "      <td>-2.266608</td>\n",
       "      <td>0.402972</td>\n",
       "      <td>-0.854741</td>\n",
       "      <td>-0.702842</td>\n",
       "      <td>-0.614354</td>\n",
       "      <td>-0.492675</td>\n",
       "    </tr>\n",
       "    <tr>\n",
       "      <th>2017-01-01 00:30:00</th>\n",
       "      <td>-2.300101</td>\n",
       "      <td>0.434809</td>\n",
       "      <td>-0.853479</td>\n",
       "      <td>-0.702735</td>\n",
       "      <td>-0.614385</td>\n",
       "      <td>-0.618710</td>\n",
       "    </tr>\n",
       "    <tr>\n",
       "      <th>2017-01-01 00:40:00</th>\n",
       "      <td>-2.334989</td>\n",
       "      <td>0.479382</td>\n",
       "      <td>-0.854320</td>\n",
       "      <td>-0.702894</td>\n",
       "      <td>-0.614471</td>\n",
       "      <td>-0.743894</td>\n",
       "    </tr>\n",
       "    <tr>\n",
       "      <th>...</th>\n",
       "      <td>...</td>\n",
       "      <td>...</td>\n",
       "      <td>...</td>\n",
       "      <td>...</td>\n",
       "      <td>...</td>\n",
       "      <td>...</td>\n",
       "    </tr>\n",
       "    <tr>\n",
       "      <th>2017-11-30 23:10:00</th>\n",
       "      <td>-1.161176</td>\n",
       "      <td>1.128871</td>\n",
       "      <td>-0.857263</td>\n",
       "      <td>-0.702883</td>\n",
       "      <td>-0.614385</td>\n",
       "      <td>-0.181582</td>\n",
       "    </tr>\n",
       "    <tr>\n",
       "      <th>2017-11-30 23:20:00</th>\n",
       "      <td>-1.166409</td>\n",
       "      <td>1.141606</td>\n",
       "      <td>-0.858525</td>\n",
       "      <td>-0.702816</td>\n",
       "      <td>-0.614729</td>\n",
       "      <td>-0.285946</td>\n",
       "    </tr>\n",
       "    <tr>\n",
       "      <th>2017-11-30 23:30:00</th>\n",
       "      <td>-1.164665</td>\n",
       "      <td>1.147973</td>\n",
       "      <td>-0.858525</td>\n",
       "      <td>-0.702827</td>\n",
       "      <td>-0.614323</td>\n",
       "      <td>-0.385997</td>\n",
       "    </tr>\n",
       "    <tr>\n",
       "      <th>2017-11-30 23:40:00</th>\n",
       "      <td>-1.176876</td>\n",
       "      <td>1.141606</td>\n",
       "      <td>-0.858525</td>\n",
       "      <td>-0.702827</td>\n",
       "      <td>-0.614526</td>\n",
       "      <td>-0.475698</td>\n",
       "    </tr>\n",
       "    <tr>\n",
       "      <th>2017-11-30 23:50:00</th>\n",
       "      <td>-1.237930</td>\n",
       "      <td>1.128871</td>\n",
       "      <td>-0.857684</td>\n",
       "      <td>-0.702964</td>\n",
       "      <td>-0.614119</td>\n",
       "      <td>-0.568849</td>\n",
       "    </tr>\n",
       "  </tbody>\n",
       "</table>\n",
       "<p>48096 rows × 6 columns</p>\n",
       "</div>"
      ],
      "text/plain": [
       "                     Temperature  Humidity  WindSpeed  GeneralDiffuseFlows   \n",
       "Datetime                                                                     \n",
       "2017-01-01 00:00:00    -2.223696  0.358399  -0.853479            -0.702883  \\\n",
       "2017-01-01 00:10:00    -2.248990  0.402972  -0.853479            -0.702812   \n",
       "2017-01-01 00:20:00    -2.266608  0.402972  -0.854741            -0.702842   \n",
       "2017-01-01 00:30:00    -2.300101  0.434809  -0.853479            -0.702735   \n",
       "2017-01-01 00:40:00    -2.334989  0.479382  -0.854320            -0.702894   \n",
       "...                          ...       ...        ...                  ...   \n",
       "2017-11-30 23:10:00    -1.161176  1.128871  -0.857263            -0.702883   \n",
       "2017-11-30 23:20:00    -1.166409  1.141606  -0.858525            -0.702816   \n",
       "2017-11-30 23:30:00    -1.164665  1.147973  -0.858525            -0.702827   \n",
       "2017-11-30 23:40:00    -1.176876  1.141606  -0.858525            -0.702827   \n",
       "2017-11-30 23:50:00    -1.237930  1.128871  -0.857684            -0.702964   \n",
       "\n",
       "                     DiffuseFlows  PowerConsumption_Zone1  \n",
       "Datetime                                                   \n",
       "2017-01-01 00:00:00     -0.614205                0.197966  \n",
       "2017-01-01 00:10:00     -0.614471               -0.396445  \n",
       "2017-01-01 00:20:00     -0.614354               -0.492675  \n",
       "2017-01-01 00:30:00     -0.614385               -0.618710  \n",
       "2017-01-01 00:40:00     -0.614471               -0.743894  \n",
       "...                           ...                     ...  \n",
       "2017-11-30 23:10:00     -0.614385               -0.181582  \n",
       "2017-11-30 23:20:00     -0.614729               -0.285946  \n",
       "2017-11-30 23:30:00     -0.614323               -0.385997  \n",
       "2017-11-30 23:40:00     -0.614526               -0.475698  \n",
       "2017-11-30 23:50:00     -0.614119               -0.568849  \n",
       "\n",
       "[48096 rows x 6 columns]"
      ]
     },
     "execution_count": 43,
     "metadata": {},
     "output_type": "execute_result"
    }
   ],
   "source": [
    "power_np = power_test[['Temperature','Humidity','WindSpeed','GeneralDiffuseFlows','DiffuseFlows','PowerConsumption_Zone1']].values\n",
    "\n",
    "scaler = StandardScaler()\n",
    "X_standardized = scaler.fit_transform(power_np)\n",
    "\n",
    "power_test = pd.DataFrame({'Datetime': power_test.index, 'Temperature': X_standardized[:, 0],'Humidity': X_standardized[:, 1],'WindSpeed': X_standardized[:, 2],'GeneralDiffuseFlows': X_standardized[:, 3],'DiffuseFlows': X_standardized[:, 4],'PowerConsumption_Zone1': X_standardized[:, 5]})\n",
    "power_test.set_index('Datetime', inplace=True)\n",
    "\n",
    "power_test"
   ]
  },
  {
   "cell_type": "code",
   "execution_count": 44,
   "metadata": {},
   "outputs": [],
   "source": [
    "power_test_X = power_test[['Temperature','Humidity','WindSpeed','GeneralDiffuseFlows','DiffuseFlows','PowerConsumption_Zone1']]\n",
    "power_test_y = power_test[['PowerConsumption_Zone1']]"
   ]
  },
  {
   "cell_type": "code",
   "execution_count": 45,
   "metadata": {},
   "outputs": [],
   "source": [
    "power_validation_X = power_validation[['Temperature','Humidity','WindSpeed','GeneralDiffuseFlows','DiffuseFlows','PowerConsumption_Zone1']]\n",
    "power_validation_y = power_validation[['PowerConsumption_Zone1']]"
   ]
  },
  {
   "cell_type": "code",
   "execution_count": 46,
   "metadata": {},
   "outputs": [],
   "source": [
    "power_test_X_chunks = []\n",
    "power_test_y_chunks = []\n",
    "\n",
    "for i in range(0, len(power_test_X) - 35):\n",
    "    power_test_X_chunks.append(np.array(power_test_X.iloc[i:i+36].values, dtype=np.float64))\n",
    "power_test_X_chunks = np.array(power_test_X_chunks, dtype=np.float64)\n",
    "\n",
    "for i in range(0, len(power_test_y) - 35):\n",
    "    power_test_y_chunks.append(np.array(power_test_y.iloc[i:i+36].values, dtype=np.float64))\n",
    "power_test_y_chunks = np.array(power_test_y_chunks, dtype=np.float64)"
   ]
  },
  {
   "cell_type": "code",
   "execution_count": 47,
   "metadata": {},
   "outputs": [],
   "source": [
    "power_validation_X_chunks = []\n",
    "power_validation_y_chunks = []\n",
    "\n",
    "for i in range(0, len(power_validation_X) - 35):\n",
    "    power_validation_X_chunks.append(np.array(power_validation_X.iloc[i:i+36].values, dtype=np.float64))\n",
    "power_validation_X_chunks = np.array(power_validation_X_chunks, dtype=np.float64)\n",
    "\n",
    "for i in range(0, len(power_validation_y) - 35):\n",
    "    power_validation_y_chunks.append(np.array(power_validation_y.iloc[i:i+36].values, dtype=np.float64))\n",
    "power_validation_y_chunks = np.array(power_validation_y_chunks, dtype=np.float64)"
   ]
  },
  {
   "cell_type": "code",
   "execution_count": 48,
   "metadata": {},
   "outputs": [
    {
     "name": "stdout",
     "output_type": "stream",
     "text": [
      "nCar: 48061 nVar: 6\n",
      "nCar: 48061 nVar: 36\n",
      "nCar: 4285 nVar: 6\n",
      "nCar: 4285 nVar: 36\n"
     ]
    }
   ],
   "source": [
    "# shape확인\n",
    "nCar = power_test_X_chunks.shape[0] # 데이터 개수\n",
    "nVar = power_test_X_chunks.shape[2] # 변수 개수\n",
    "print('nCar: %d' % nCar, 'nVar: %d' % nVar )\n",
    "\n",
    "nCar = power_test_y_chunks.shape[0] # 데이터 개수\n",
    "nVar = power_test_y_chunks.shape[1] # 변수 개수\n",
    "print('nCar: %d' % nCar, 'nVar: %d' % nVar )\n",
    "\n",
    "nCar = power_validation_X_chunks.shape[0] # 데이터 개수\n",
    "nVar = power_validation_X_chunks.shape[2] # 변수 개수\n",
    "print('nCar: %d' % nCar, 'nVar: %d' % nVar )\n",
    "\n",
    "nCar = power_validation_y_chunks.shape[0] # 데이터 개수\n",
    "nVar = power_validation_y_chunks.shape[1] # 변수 개수\n",
    "print('nCar: %d' % nCar, 'nVar: %d' % nVar )"
   ]
  },
  {
   "cell_type": "code",
   "execution_count": 49,
   "metadata": {},
   "outputs": [],
   "source": [
    "power_test_X_chunks_crop = power_test_X_chunks[:-36]\n",
    "power_test_y_chunks_crop = power_test_y_chunks[36:]\n",
    "\n",
    "power_validation_X_chunks_crop = power_validation_X_chunks[:-36]\n",
    "power_validation_y_chunks_crop = power_validation_y_chunks[36:]"
   ]
  },
  {
   "cell_type": "code",
   "execution_count": 50,
   "metadata": {},
   "outputs": [
    {
     "name": "stdout",
     "output_type": "stream",
     "text": [
      "nCar: 48025 nVar: 6\n",
      "nCar: 48025 nVar: 36\n",
      "nCar: 4249 nVar: 6\n",
      "nCar: 4249 nVar: 36\n"
     ]
    }
   ],
   "source": [
    "# shape확인\n",
    "nCar = power_test_X_chunks_crop.shape[0] # 데이터 개수\n",
    "nVar = power_test_X_chunks_crop.shape[2] # 변수 개수\n",
    "print('nCar: %d' % nCar, 'nVar: %d' % nVar )\n",
    "\n",
    "nCar = power_test_y_chunks_crop.shape[0] # 데이터 개수\n",
    "nVar = power_test_y_chunks_crop.shape[1] # 변수 개수\n",
    "print('nCar: %d' % nCar, 'nVar: %d' % nVar )\n",
    "\n",
    "nCar = power_validation_X_chunks_crop.shape[0] # 데이터 개수\n",
    "nVar = power_validation_X_chunks_crop.shape[2] # 변수 개수\n",
    "print('nCar: %d' % nCar, 'nVar: %d' % nVar )\n",
    "\n",
    "nCar = power_validation_y_chunks_crop.shape[0] # 데이터 개수\n",
    "nVar = power_validation_y_chunks_crop.shape[1] # 변수 개수\n",
    "print('nCar: %d' % nCar, 'nVar: %d' % nVar )"
   ]
  },
  {
   "cell_type": "code",
   "execution_count": 51,
   "metadata": {},
   "outputs": [],
   "source": [
    "# r_squared 평가 함수\n",
    "def r_squared(y_true, y_pred):\n",
    "    ss_res = K.sum(K.square(y_true - y_pred))\n",
    "    ss_tot = K.sum(K.square(y_true - K.mean(y_true)))\n",
    "    return (1 - ss_res/(ss_tot + K.epsilon()))"
   ]
  },
  {
   "cell_type": "code",
   "execution_count": 52,
   "metadata": {},
   "outputs": [
    {
     "name": "stdout",
     "output_type": "stream",
     "text": [
      "Model: \"sequential\"\n",
      "_________________________________________________________________\n",
      " Layer (type)                Output Shape              Param #   \n",
      "=================================================================\n",
      " lstm (LSTM)                 (None, 36, 128)           69120     \n",
      "                                                                 \n",
      " lstm_1 (LSTM)               (None, 36, 64)            49408     \n",
      "                                                                 \n",
      " lstm_2 (LSTM)               (None, 32)                12416     \n",
      "                                                                 \n",
      " dense (Dense)               (None, 36)                1188      \n",
      "                                                                 \n",
      "=================================================================\n",
      "Total params: 132,132\n",
      "Trainable params: 132,132\n",
      "Non-trainable params: 0\n",
      "_________________________________________________________________\n",
      "Epoch 1/1000\n",
      "1501/1501 [==============================] - 59s 36ms/step - loss: 0.1348 - mae: 0.2657 - r_squared: 0.8600 - val_loss: 884199488.0000 - val_mae: 29089.4004 - val_r_squared: -73.3976 - lr: 0.0010\n",
      "Epoch 2/1000\n",
      "1501/1501 [==============================] - 52s 35ms/step - loss: 0.0594 - mae: 0.1763 - r_squared: 0.9381 - val_loss: 884194176.0000 - val_mae: 29089.3145 - val_r_squared: -73.3972 - lr: 0.0010\n",
      "Epoch 3/1000\n",
      "1501/1501 [==============================] - 52s 35ms/step - loss: 0.0445 - mae: 0.1516 - r_squared: 0.9537 - val_loss: 884198912.0000 - val_mae: 29089.3926 - val_r_squared: -73.3976 - lr: 0.0010\n",
      "Epoch 4/1000\n",
      "1501/1501 [==============================] - 52s 35ms/step - loss: 0.0378 - mae: 0.1388 - r_squared: 0.9607 - val_loss: 884204160.0000 - val_mae: 29089.4805 - val_r_squared: -73.3980 - lr: 0.0010\n",
      "Epoch 5/1000\n",
      "1501/1501 [==============================] - ETA: 0s - loss: 0.0309 - mae: 0.1261 - r_squared: 0.9678\n",
      "Epoch 5: ReduceLROnPlateau reducing learning rate to 0.00010000000474974513.\n",
      "1501/1501 [==============================] - 53s 35ms/step - loss: 0.0309 - mae: 0.1261 - r_squared: 0.9678 - val_loss: 884211840.0000 - val_mae: 29089.6250 - val_r_squared: -73.3987 - lr: 0.0010\n",
      "Epoch 6/1000\n",
      "1501/1501 [==============================] - 53s 35ms/step - loss: 0.0218 - mae: 0.1052 - r_squared: 0.9773 - val_loss: 884209920.0000 - val_mae: 29089.5781 - val_r_squared: -73.3985 - lr: 1.0000e-04\n",
      "Epoch 7/1000\n",
      "1501/1501 [==============================] - 54s 36ms/step - loss: 0.0200 - mae: 0.1009 - r_squared: 0.9792 - val_loss: 884211584.0000 - val_mae: 29089.6230 - val_r_squared: -73.3987 - lr: 1.0000e-04\n",
      "Epoch 7: early stopping\n"
     ]
    }
   ],
   "source": [
    "# LSTM 모델 생성\n",
    "model = Sequential()\n",
    "model.add(LSTM(128, input_shape=(36, 6), return_sequences=True))\n",
    "model.add(LSTM(64, return_sequences=True))\n",
    "model.add(LSTM(32))\n",
    "model.add(Dense(36, activation='linear'))\n",
    " \n",
    "model.summary()\n",
    "\n",
    "# mae와 r_squared 평가함수 추가.\n",
    "model.compile(optimizer='adam', loss='mse', metrics=['mae', r_squared])\n",
    "\n",
    "\n",
    "checkpoint = ModelCheckpoint('powerTest_best.h5', monitor='val_loss', save_best_only=True)\n",
    "early_stop = EarlyStopping(monitor='val_loss', patience=5, verbose=1)\n",
    "reduce_lr = ReduceLROnPlateau(monitor='val_loss', factor=0.1, patience=3, verbose=1)\n",
    "\n",
    "    # ModelCheckpoint : 검증 손실이 낮아진 경우에 최적의 모델을 저장\n",
    "# EarlyStopping : 검증 손실이 일정 기간동안 향상되지 않으면 학습을 조기 종료\n",
    "# ReduceLROnPlateau : 검증 손실이 개선되지 않으면 학습률을 조정하는 등의 동작 수행.\n",
    "\n",
    "\n",
    "hist = model.fit(power_test_X_chunks_crop, power_test_y_chunks_crop, epochs = 1000, batch_size = 32, validation_data=(power_validation_X_chunks_crop, power_validaten_y_chunks_crop), callbacks=[checkpoint, early_stop, reduce_lr])\n",
    "model.save('powerTest2_standard.h5')"
   ]
  },
  {
   "cell_type": "code",
   "execution_count": 24,
   "metadata": {},
   "outputs": [],
   "source": [
    "model = load_model('powerTest2_standard.h5', custom_objects={'r_squared': r_squared})"
   ]
  },
  {
   "cell_type": "code",
   "execution_count": 53,
   "metadata": {},
   "outputs": [
    {
     "name": "stdout",
     "output_type": "stream",
     "text": [
      "[[ 0.13411391 -0.1723205   0.08376068 ...  0.14775902 -0.00408118\n",
      "   0.00736079]\n",
      " [-0.07619795  0.06999328  0.02466717 ... -0.22530311  0.03714304\n",
      "   0.24608162]\n",
      " [-0.05191562 -0.11673111 -0.10517608 ...  0.07230981  0.00973176\n",
      "  -0.05231636]\n",
      " [ 0.28875628  0.03413221 -0.00456207 ...  0.15437187  0.09149888\n",
      "  -0.12886217]\n",
      " [-0.06451678 -0.03437051 -0.13652164 ... -0.05767649 -0.2988064\n",
      "   0.13531397]\n",
      " [ 0.1400916   0.1420186  -0.04653416 ...  0.26541686 -0.15296279\n",
      "  -0.15716049]]\n"
     ]
    },
    {
     "data": {
      "image/png": "[encoded data removed]",
      "text/plain": [
       "<Figure size 800x400 with 1 Axes>"
      ]
     },
     "metadata": {},
     "output_type": "display_data"
    }
   ],
   "source": [
    "# 가중치를 통해 변수 중요도 획득\n",
    "weights = model.layers[0].get_weights()[0]\n",
    "print(weights)\n",
    "\n",
    "\n",
    "# 변수 중요도 시각화\n",
    "fig, ax = plt.subplots(figsize=(8, 4))\n",
    "ax.bar(range(6), weights[:, 0])\n",
    "ax.set_xticks(range(6))\n",
    "ax.set_xticklabels(['Temperature','Humidity','WindSpeed','GeneralDiffuseFlows','DiffuseFlows','PowerConsumption_Zone1'])\n",
    "ax.set_ylabel('Weight')\n",
    "ax.set_title('Tank5 Variable Importance')\n",
    "plt.show()"
   ]
  },
  {
   "cell_type": "code",
   "execution_count": 54,
   "metadata": {},
   "outputs": [],
   "source": [
    "# 모델 평가 함수\n",
    "def grapeNEva(X_test_shape, y_test, y_test_shape):\n",
    "    X_pred = model.predict(X_test_shape)\n",
    "    X_pred = scaler.inverse_transform(X_pred)\n",
    "    X_pred = np.asarray(X_pred, dtype=np.float64)\n",
    "    X_pred = X_pred.reshape((-1))\n",
    "    print(len(X_pred))\n",
    "\n",
    "\n",
    "    # 그래프 생성\n",
    "    plt.figure(figsize=(15, 7))\n",
    "    plt.plot(y_test.index, y_test, label='power')  # x축에 년월일, y축에 값\n",
    "    plt.plot(y_test.index, X_pred, label='prediction')  # x축에 년월일, y축에 시분\n",
    "    plt.xlabel('date')\n",
    "    plt.ylabel('power')\n",
    "    plt.title('test')\n",
    "    plt.legend(['power','prediction'])\n",
    "    plt.show()\n",
    "    \n",
    "    # 평가 생성\n",
    "    result = model.evaluate(X_test_shape, y_test_shape)\n",
    "    print(\"MSE // MAE // R-squared \", result)"
   ]
  },
  {
   "cell_type": "code",
   "execution_count": 55,
   "metadata": {},
   "outputs": [
    {
     "name": "stdout",
     "output_type": "stream",
     "text": [
      "nCar: 119 nVar: 36\n"
     ]
    }
   ],
   "source": [
    "X_test = power_validation_X.loc['2017-12-01 00:00':'2017-12-30 17:50']\n",
    "\n",
    "X_test_reshape = np.asarray(X_test, dtype=np.float64)\n",
    "X_test_reshape = X_test_reshape.reshape((-1, 36, 6))\n",
    "\n",
    "# shape확인\n",
    "nCar = X_test_reshape.shape[0] # 데이터 개수\n",
    "nVar = X_test_reshape.shape[1] # 변수 개수\n",
    "print('nCar: %d' % nCar, 'nVar: %d' % nVar )"
   ]
  },
  {
   "cell_type": "code",
   "execution_count": 56,
   "metadata": {},
   "outputs": [
    {
     "name": "stdout",
     "output_type": "stream",
     "text": [
      "nCar: 4284 nVar: 1\n",
      "nCar: 119 nVar: 36\n"
     ]
    }
   ],
   "source": [
    "y_test = power_validation_y.loc['2017-12-01 06:00':'2017-12-30 23:50']\n",
    "\n",
    "y_test_reshape = np.asarray(y_test, dtype=np.float64)\n",
    "y_test_reshape = y_test_reshape.reshape((-1, 36, 1))\n",
    "\n",
    "nCar = y_test.shape[0] # 데이터 개수\n",
    "nVar = y_test.shape[1] # 변수 개수\n",
    "print('nCar: %d' % nCar, 'nVar: %d' % nVar )\n",
    "\n",
    "nCar = y_test_reshape.shape[0] # 데이터 개수\n",
    "nVar = y_test_reshape.shape[1] # 변수 개수\n",
    "print('nCar: %d' % nCar, 'nVar: %d' % nVar )"
   ]
  },
  {
   "cell_type": "code",
   "execution_count": 57,
   "metadata": {},
   "outputs": [
    {
     "name": "stdout",
     "output_type": "stream",
     "text": [
      "4/4 [==============================] - 1s 14ms/step\n"
     ]
    },
    {
     "ename": "ValueError",
     "evalue": "operands could not be broadcast together with shapes (119,36) (6,) (119,36) ",
     "output_type": "error",
     "traceback": [
      "\u001b[1;31m---------------------------------------------------------------------------\u001b[0m",
      "\u001b[1;31mValueError\u001b[0m                                Traceback (most recent call last)",
      "\u001b[1;32me:\\kimwoojae\\Research\\DO Regressor\\Test231112_elect_test_noStandard.ipynb Cell 22\u001b[0m line \u001b[0;36m1\n\u001b[1;32m----> <a href='vscode-notebook-cell:/e%3A/kimwoojae/Research/DO%20Regressor/Test231112_elect_test_noStandard.ipynb#X34sZmlsZQ%3D%3D?line=0'>1</a>\u001b[0m grapeNEva(X_test_reshape, y_test, y_test_reshape)\n",
      "\u001b[1;32me:\\kimwoojae\\Research\\DO Regressor\\Test231112_elect_test_noStandard.ipynb Cell 22\u001b[0m line \u001b[0;36m4\n\u001b[0;32m      <a href='vscode-notebook-cell:/e%3A/kimwoojae/Research/DO%20Regressor/Test231112_elect_test_noStandard.ipynb#X34sZmlsZQ%3D%3D?line=1'>2</a>\u001b[0m \u001b[39mdef\u001b[39;00m \u001b[39mgrapeNEva\u001b[39m(X_test_shape, y_test, y_test_shape):\n\u001b[0;32m      <a href='vscode-notebook-cell:/e%3A/kimwoojae/Research/DO%20Regressor/Test231112_elect_test_noStandard.ipynb#X34sZmlsZQ%3D%3D?line=2'>3</a>\u001b[0m     X_pred \u001b[39m=\u001b[39m model\u001b[39m.\u001b[39mpredict(X_test_shape)\n\u001b[1;32m----> <a href='vscode-notebook-cell:/e%3A/kimwoojae/Research/DO%20Regressor/Test231112_elect_test_noStandard.ipynb#X34sZmlsZQ%3D%3D?line=3'>4</a>\u001b[0m     X_pred \u001b[39m=\u001b[39m scaler\u001b[39m.\u001b[39;49minverse_transform(X_pred)\n\u001b[0;32m      <a href='vscode-notebook-cell:/e%3A/kimwoojae/Research/DO%20Regressor/Test231112_elect_test_noStandard.ipynb#X34sZmlsZQ%3D%3D?line=4'>5</a>\u001b[0m     X_pred \u001b[39m=\u001b[39m np\u001b[39m.\u001b[39masarray(X_pred, dtype\u001b[39m=\u001b[39mnp\u001b[39m.\u001b[39mfloat64)\n\u001b[0;32m      <a href='vscode-notebook-cell:/e%3A/kimwoojae/Research/DO%20Regressor/Test231112_elect_test_noStandard.ipynb#X34sZmlsZQ%3D%3D?line=5'>6</a>\u001b[0m     X_pred \u001b[39m=\u001b[39m X_pred\u001b[39m.\u001b[39mreshape((\u001b[39m-\u001b[39m\u001b[39m1\u001b[39m))\n",
      "File \u001b[1;32mc:\\Users\\rladn\\anaconda3\\envs\\doRegressor\\Lib\\site-packages\\sklearn\\preprocessing\\_data.py:1052\u001b[0m, in \u001b[0;36mStandardScaler.inverse_transform\u001b[1;34m(self, X, copy)\u001b[0m\n\u001b[0;32m   1050\u001b[0m \u001b[39melse\u001b[39;00m:\n\u001b[0;32m   1051\u001b[0m     \u001b[39mif\u001b[39;00m \u001b[39mself\u001b[39m\u001b[39m.\u001b[39mwith_std:\n\u001b[1;32m-> 1052\u001b[0m         X \u001b[39m*\u001b[39;49m\u001b[39m=\u001b[39;49m \u001b[39mself\u001b[39;49m\u001b[39m.\u001b[39;49mscale_\n\u001b[0;32m   1053\u001b[0m     \u001b[39mif\u001b[39;00m \u001b[39mself\u001b[39m\u001b[39m.\u001b[39mwith_mean:\n\u001b[0;32m   1054\u001b[0m         X \u001b[39m+\u001b[39m\u001b[39m=\u001b[39m \u001b[39mself\u001b[39m\u001b[39m.\u001b[39mmean_\n",
      "\u001b[1;31mValueError\u001b[0m: operands could not be broadcast together with shapes (119,36) (6,) (119,36) "
     ]
    }
   ],
   "source": [
    "grapeNEva(X_test_reshape, y_test, y_test_reshape)"
   ]
  },
  {
   "cell_type": "code",
   "execution_count": 30,
   "metadata": {},
   "outputs": [
    {
     "name": "stdout",
     "output_type": "stream",
     "text": [
      "nCar: 7 nVar: 36\n",
      "nCar: 252 nVar: 1\n",
      "nCar: 7 nVar: 36\n",
      "1/1 [==============================] - 0s 31ms/step\n",
      "252\n"
     ]
    },
    {
     "data": {
      "image/png": "[encoded data removed]",
      "text/plain": [
       "<Figure size 1500x700 with 1 Axes>"
      ]
     },
     "metadata": {},
     "output_type": "display_data"
    },
    {
     "name": "stdout",
     "output_type": "stream",
     "text": [
      "1/1 [==============================] - 0s 32ms/step - loss: 813984640.0000 - mae: 27984.0215 - r_squared: -25.3611\n",
      "MSE // MAE // R-squared  [813984640.0, 27984.021484375, -25.361059188842773]\n"
     ]
    }
   ],
   "source": [
    "X_test = power_validation_X.loc['2017-12-01 00:00':'2017-12-02 17:50']\n",
    "\n",
    "X_test_reshape = np.asarray(X_test, dtype=np.float64)\n",
    "X_test_reshape = X_test_reshape.reshape((-1, 36, 6))\n",
    "\n",
    "# shape확인\n",
    "nCar = X_test_reshape.shape[0] # 데이터 개수\n",
    "nVar = X_test_reshape.shape[1] # 변수 개수\n",
    "print('nCar: %d' % nCar, 'nVar: %d' % nVar )\n",
    "\n",
    "y_test = power_validation_y.loc['2017-12-01 06:00':'2017-12-02 23:50']\n",
    "\n",
    "y_test_reshape = np.asarray(y_test, dtype=np.float64)\n",
    "y_test_reshape = y_test_reshape.reshape((-1, 36, 1))\n",
    "\n",
    "nCar = y_test.shape[0] # 데이터 개수\n",
    "nVar = y_test.shape[1] # 변수 개수\n",
    "print('nCar: %d' % nCar, 'nVar: %d' % nVar )\n",
    "\n",
    "nCar = y_test_reshape.shape[0] # 데이터 개수\n",
    "nVar = y_test_reshape.shape[1] # 변수 개수\n",
    "print('nCar: %d' % nCar, 'nVar: %d' % nVar )\n",
    "\n",
    "grapeNEva(X_test_reshape, y_test, y_test_reshape)"
   ]
  },
  {
   "cell_type": "code",
   "execution_count": null,
   "metadata": {},
   "outputs": [],
   "source": []
  }
 ],
 "metadata": {
  "kernelspec": {
   "display_name": "doRegressor",
   "language": "python",
   "name": "python3"
  },
  "language_info": {
   "codemirror_mode": {
    "name": "ipython",
    "version": 3
   },
   "file_extension": ".py",
   "mimetype": "text/x-python",
   "name": "python",
   "nbconvert_exporter": "python",
   "pygments_lexer": "ipython3",
   "version": "3.11.2"
  }
 },
 "nbformat": 4,
 "nbformat_minor": 2
}
